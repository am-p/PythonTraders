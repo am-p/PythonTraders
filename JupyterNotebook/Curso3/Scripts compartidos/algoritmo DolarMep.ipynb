{
 "cells": [
  {
   "cell_type": "code",
   "execution_count": null,
   "metadata": {},
   "outputs": [],
   "source": [
    "def precio(mercado, ticker, plazo):\n",
    "    url_base ='https://api.invertironline.com/api/v2/'\n",
    "    endpoint = mercado+'/Titulos/'+ticker+'/Cotizacion'\n",
    "    headers = {'Authorization ':'bearer ' +tk['access_token']}\n",
    "    \n",
    "    url = url_base + endpoint\n",
    "    \n",
    "    data = requests.get(url=url, headers=headers).json()\n",
    "    \n",
    "    return data\n",
    "\n",
    "\n"
   ]
  },
  {
   "cell_type": "code",
   "execution_count": null,
   "metadata": {},
   "outputs": [],
   "source": [
    "tk = actualizarToken(tk)"
   ]
  },
  {
   "cell_type": "code",
   "execution_count": null,
   "metadata": {},
   "outputs": [],
   "source": [
    "import time\n",
    "import datetime as dt\n",
    "from IPython.display import clear_output\n",
    "\n",
    "\n",
    "bonos_pesos=['AL29','AL30','AL35','AE38','AL41','GD29','GD30','GD35','GD38','GD41','GD46']\n",
    "bonos_usd =['AL29D','AL30D','AL35D','AE38D','AL41D','GD29D','GD30D','GD35D','GD38D','GD41D','GD46D']\n",
    "\n",
    "plazo = ['t0','t2']\n",
    "mep = []\n",
    "b_pesos48 = []\n",
    "b_dolares48 = []\n",
    "b_pesosCI = []\n",
    "b_dolaresCI = []\n",
    "\n",
    "for x in range(0, len(bonos_pesos)):\n",
    "    b_pesos48.append(precio('bcba',bonos_pesos[x],'t2')['ultimoPrecio'])\n",
    "    b_dolares48.append(precio('bcba',bonos_usd[x],'t2')['ultimoPrecio'])\n",
    "    b_pesosCI.append(precio('bcba',bonos_pesos[x],'t0')['ultimoPrecio'])\n",
    "    b_dolaresCI.append(precio('bcba',bonos_usd[x],'t0')['ultimoPrecio'])\n",
    "\n",
    "dolarMep = pd.DataFrame()\n",
    "dolarMep['Bono'] = bonos_pesos\n",
    "dolarMep['Cotiz.Pesos 48hs']= b_pesos48\n",
    "dolarMep['Cotiz.Pesos CI']= b_pesosCI\n",
    "dolarMep['diff $'] = dolarMep['Cotiz.Pesos 48hs'] - dolarMep['Cotiz.Pesos CI']\n",
    "dolarMep['Cotiz.Dolar 48hs'] = b_dolares48\n",
    "dolarMep['Cotiz.Dolar CI'] = b_dolaresCI\n",
    "dolarMep['diff USD'] = dolarMep['Cotiz.Dolar 48hs'] - dolarMep['Cotiz.Dolar CI']\n",
    "dolarMep['Dolar Mep 48hs'] = dolarMep['Cotiz.Pesos 48hs']/dolarMep['Cotiz.Dolar 48hs']\n",
    "dolarMep['Dolar Mep CI'] = dolarMep['Cotiz.Pesos CI']/dolarMep['Cotiz.Dolar CI']\n",
    "\n",
    "dolarMep"
   ]
  }
 ],
 "metadata": {
  "kernelspec": {
   "display_name": "Python 3",
   "language": "python",
   "name": "python3"
  },
  "language_info": {
   "codemirror_mode": {
    "name": "ipython",
    "version": 3
   },
   "file_extension": ".py",
   "mimetype": "text/x-python",
   "name": "python",
   "nbconvert_exporter": "python",
   "pygments_lexer": "ipython3",
   "version": "3.7.7"
  },
  "toc": {
   "base_numbering": 1,
   "nav_menu": {},
   "number_sections": true,
   "sideBar": true,
   "skip_h1_title": false,
   "title_cell": "Table of Contents",
   "title_sidebar": "Contents",
   "toc_cell": false,
   "toc_position": {},
   "toc_section_display": true,
   "toc_window_display": false
  },
  "varInspector": {
   "cols": {
    "lenName": 16,
    "lenType": 16,
    "lenVar": 40
   },
   "kernels_config": {
    "python": {
     "delete_cmd_postfix": "",
     "delete_cmd_prefix": "del ",
     "library": "var_list.py",
     "varRefreshCmd": "print(var_dic_list())"
    },
    "r": {
     "delete_cmd_postfix": ") ",
     "delete_cmd_prefix": "rm(",
     "library": "var_list.r",
     "varRefreshCmd": "cat(var_dic_list()) "
    }
   },
   "types_to_exclude": [
    "module",
    "function",
    "builtin_function_or_method",
    "instance",
    "_Feature"
   ],
   "window_display": false
  }
 },
 "nbformat": 4,
 "nbformat_minor": 4
}
