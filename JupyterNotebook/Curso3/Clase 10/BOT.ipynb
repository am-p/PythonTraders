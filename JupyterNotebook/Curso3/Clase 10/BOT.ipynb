{
 "cells": [
  {
   "cell_type": "markdown",
   "metadata": {},
   "source": [
    "# Importamos todas las lisbrerias y claves"
   ]
  },
  {
   "cell_type": "code",
   "execution_count": 1,
   "metadata": {},
   "outputs": [],
   "source": [
    "from iol_user_ullua import *\n",
    "\n",
    "iol_user = USER\n",
    "iol_password = PASS"
   ]
  },
  {
   "cell_type": "code",
   "execution_count": 2,
   "metadata": {},
   "outputs": [],
   "source": [
    "import datetime, requests, time\n",
    "import pandas as pd\n",
    "import numpy as np\n",
    "from IPython.display import clear_output\n",
    "import pickle"
   ]
  },
  {
   "cell_type": "code",
   "execution_count": 3,
   "metadata": {},
   "outputs": [],
   "source": [
    "from sklearn.model_selection import train_test_split\n",
    "import sklearn.metrics as skm\n",
    "\n",
    "from sklearn.tree import DecisionTreeClassifier\n",
    "from sklearn.ensemble import RandomForestClassifier"
   ]
  },
  {
   "cell_type": "markdown",
   "metadata": {},
   "source": [
    "# Entrenar Machine Learning"
   ]
  },
  {
   "cell_type": "markdown",
   "metadata": {},
   "source": [
    "## Bajamos data historica"
   ]
  },
  {
   "cell_type": "code",
   "execution_count": 4,
   "metadata": {},
   "outputs": [],
   "source": [
    "def downloadTiingo(symbol, _from, _to, interval='1min'):\n",
    "    clear_output(wait=True)\n",
    "    TOKEN = '3e63d74be68b49e14fb4c161c378b6250ad8d5c3'\n",
    "    url = f'https://api.tiingo.com/iex/{symbol}/prices'\n",
    "    headers = {'Content-Type': 'application/json'}\n",
    "    params = {'startDate':_from, 'endDate':_to, 'resampleFreq':interval, 'token':TOKEN }\n",
    "    r = requests.get(url, params=params, headers=headers)\n",
    "    df = pd.DataFrame(r.json()).set_index('date')\n",
    "    print('Datos recabados ok hasta el: ', _to)\n",
    "    return df"
   ]
  },
  {
   "cell_type": "code",
   "execution_count": 5,
   "metadata": {},
   "outputs": [
    {
     "name": "stdout",
     "output_type": "stream",
     "text": [
      "Datos recabados ok hasta el:  2021-01-10\n"
     ]
    }
   ],
   "source": [
    "desde = datetime.date(2017,1,1)\n",
    "hasta = datetime.date(2020,12,11)\n",
    "\n",
    "fechas = []\n",
    "while desde < hasta+datetime.timedelta(days=35):\n",
    "    fechas.append(desde.isoformat())\n",
    "    desde += datetime.timedelta(days=35)\n",
    "\n",
    "rangos = list(zip(fechas[:-1],fechas[1:]))\n",
    "dfs = [downloadTiingo('GGAL', _from=rango[0], _to=rango[1], interval='1min') for rango in rangos]\n",
    "data = pd.concat(dfs)"
   ]
  },
  {
   "cell_type": "markdown",
   "metadata": {},
   "source": [
    "## La guardamos"
   ]
  },
  {
   "cell_type": "code",
   "execution_count": 6,
   "metadata": {},
   "outputs": [],
   "source": [
    "with open('historicos_GGAL.dat', 'wb') as file:\n",
    "    pickle.dump(data,file)"
   ]
  },
  {
   "cell_type": "markdown",
   "metadata": {},
   "source": [
    "## La recuperamos"
   ]
  },
  {
   "cell_type": "code",
   "execution_count": 7,
   "metadata": {},
   "outputs": [
    {
     "data": {
      "text/html": [
       "<div>\n",
       "<style scoped>\n",
       "    .dataframe tbody tr th:only-of-type {\n",
       "        vertical-align: middle;\n",
       "    }\n",
       "\n",
       "    .dataframe tbody tr th {\n",
       "        vertical-align: top;\n",
       "    }\n",
       "\n",
       "    .dataframe thead th {\n",
       "        text-align: right;\n",
       "    }\n",
       "</style>\n",
       "<table border=\"1\" class=\"dataframe\">\n",
       "  <thead>\n",
       "    <tr style=\"text-align: right;\">\n",
       "      <th></th>\n",
       "      <th>close</th>\n",
       "      <th>high</th>\n",
       "      <th>low</th>\n",
       "      <th>open</th>\n",
       "    </tr>\n",
       "    <tr>\n",
       "      <th>date</th>\n",
       "      <th></th>\n",
       "      <th></th>\n",
       "      <th></th>\n",
       "      <th></th>\n",
       "    </tr>\n",
       "  </thead>\n",
       "  <tbody>\n",
       "    <tr>\n",
       "      <th>2017-01-03T14:37:00.000Z</th>\n",
       "      <td>27.720</td>\n",
       "      <td>27.720</td>\n",
       "      <td>27.720</td>\n",
       "      <td>27.720</td>\n",
       "    </tr>\n",
       "    <tr>\n",
       "      <th>2017-01-03T14:38:00.000Z</th>\n",
       "      <td>27.720</td>\n",
       "      <td>27.720</td>\n",
       "      <td>27.720</td>\n",
       "      <td>27.720</td>\n",
       "    </tr>\n",
       "    <tr>\n",
       "      <th>2017-01-03T14:39:00.000Z</th>\n",
       "      <td>27.720</td>\n",
       "      <td>27.720</td>\n",
       "      <td>27.720</td>\n",
       "      <td>27.720</td>\n",
       "    </tr>\n",
       "    <tr>\n",
       "      <th>2017-01-03T14:40:00.000Z</th>\n",
       "      <td>27.720</td>\n",
       "      <td>27.720</td>\n",
       "      <td>27.720</td>\n",
       "      <td>27.720</td>\n",
       "    </tr>\n",
       "    <tr>\n",
       "      <th>2017-01-03T14:41:00.000Z</th>\n",
       "      <td>27.720</td>\n",
       "      <td>27.720</td>\n",
       "      <td>27.720</td>\n",
       "      <td>27.720</td>\n",
       "    </tr>\n",
       "    <tr>\n",
       "      <th>...</th>\n",
       "      <td>...</td>\n",
       "      <td>...</td>\n",
       "      <td>...</td>\n",
       "      <td>...</td>\n",
       "    </tr>\n",
       "    <tr>\n",
       "      <th>2020-12-11T17:53:00.000Z</th>\n",
       "      <td>9.005</td>\n",
       "      <td>9.005</td>\n",
       "      <td>9.005</td>\n",
       "      <td>9.005</td>\n",
       "    </tr>\n",
       "    <tr>\n",
       "      <th>2020-12-11T17:54:00.000Z</th>\n",
       "      <td>9.005</td>\n",
       "      <td>9.005</td>\n",
       "      <td>9.005</td>\n",
       "      <td>9.005</td>\n",
       "    </tr>\n",
       "    <tr>\n",
       "      <th>2020-12-11T17:55:00.000Z</th>\n",
       "      <td>9.005</td>\n",
       "      <td>9.005</td>\n",
       "      <td>9.005</td>\n",
       "      <td>9.005</td>\n",
       "    </tr>\n",
       "    <tr>\n",
       "      <th>2020-12-11T17:56:00.000Z</th>\n",
       "      <td>9.020</td>\n",
       "      <td>9.045</td>\n",
       "      <td>9.005</td>\n",
       "      <td>9.035</td>\n",
       "    </tr>\n",
       "    <tr>\n",
       "      <th>2020-12-11T17:57:00.000Z</th>\n",
       "      <td>9.045</td>\n",
       "      <td>9.060</td>\n",
       "      <td>9.040</td>\n",
       "      <td>9.060</td>\n",
       "    </tr>\n",
       "  </tbody>\n",
       "</table>\n",
       "<p>388396 rows × 4 columns</p>\n",
       "</div>"
      ],
      "text/plain": [
       "                           close    high     low    open\n",
       "date                                                    \n",
       "2017-01-03T14:37:00.000Z  27.720  27.720  27.720  27.720\n",
       "2017-01-03T14:38:00.000Z  27.720  27.720  27.720  27.720\n",
       "2017-01-03T14:39:00.000Z  27.720  27.720  27.720  27.720\n",
       "2017-01-03T14:40:00.000Z  27.720  27.720  27.720  27.720\n",
       "2017-01-03T14:41:00.000Z  27.720  27.720  27.720  27.720\n",
       "...                          ...     ...     ...     ...\n",
       "2020-12-11T17:53:00.000Z   9.005   9.005   9.005   9.005\n",
       "2020-12-11T17:54:00.000Z   9.005   9.005   9.005   9.005\n",
       "2020-12-11T17:55:00.000Z   9.005   9.005   9.005   9.005\n",
       "2020-12-11T17:56:00.000Z   9.020   9.045   9.005   9.035\n",
       "2020-12-11T17:57:00.000Z   9.045   9.060   9.040   9.060\n",
       "\n",
       "[388396 rows x 4 columns]"
      ]
     },
     "execution_count": 7,
     "metadata": {},
     "output_type": "execute_result"
    }
   ],
   "source": [
    "with open('historicos_GGAL.dat', 'rb') as file:\n",
    "    data = pickle.load(file)\n",
    "\n",
    "data"
   ]
  },
  {
   "cell_type": "markdown",
   "metadata": {},
   "source": [
    "## Generamos indicadores para ML"
   ]
  },
  {
   "cell_type": "code",
   "execution_count": 8,
   "metadata": {},
   "outputs": [],
   "source": [
    "def generarIndicadores(data):\n",
    "    df = (data['close']+data['open']+data['high']+data['low'])/4\n",
    "    cruces = [(2,20),(2,40),(2,60),(2,100),(2,200),(5,20),(5,50),(5,100),(5,200),(5,400),(10,20),(10,50),(10,100),\n",
    "             (10,200),(10,500),(20,50),(20,100),(20,200),(20,500),(20,1000),(50,100),(50,200),(50,500),(50,1000),\n",
    "             (100,200),(100,400),(100,500),(100,1000),(200,500),(200,1000),(400,1000)]\n",
    "\n",
    "    df = df.to_frame().apply(pd.to_numeric)\n",
    "    df.columns = ['px']\n",
    "    for cruce in cruces:\n",
    "        clave = str(cruce[0]) + '_' + str(cruce[1])\n",
    "        df[clave] = (df.px.rolling(cruce[0]).mean() / df.px.rolling(cruce[1]).mean() -1)*100\n",
    "\n",
    "    pd.options.display.max_columns=15\n",
    "    df['fw_20'] = (df.px.shift(-20) / df.px -1)*100\n",
    "\n",
    "    df = df.dropna().round(4)\n",
    "    return df\n",
    "\n",
    "df = generarIndicadores(data)"
   ]
  },
  {
   "cell_type": "code",
   "execution_count": 9,
   "metadata": {},
   "outputs": [
    {
     "data": {
      "text/plain": [
       "0.0"
      ]
     },
     "execution_count": 9,
     "metadata": {},
     "output_type": "execute_result"
    }
   ],
   "source": [
    "valor_critico_fw = df.fw_20.quantile(0.5)\n",
    "valor_critico_fw"
   ]
  },
  {
   "cell_type": "code",
   "execution_count": 10,
   "metadata": {},
   "outputs": [
    {
     "data": {
      "text/plain": [
       "0.6152736716074294"
      ]
     },
     "execution_count": 10,
     "metadata": {},
     "output_type": "execute_result"
    }
   ],
   "source": [
    "# % medio de las que acierta\n",
    "res_medio_win = df.loc[df.fw_20 > valor_critico_fw].fw_20.mean()\n",
    "res_medio_win"
   ]
  },
  {
   "cell_type": "code",
   "execution_count": 11,
   "metadata": {},
   "outputs": [
    {
     "data": {
      "text/plain": [
       "-0.45666214538130007"
      ]
     },
     "execution_count": 11,
     "metadata": {},
     "output_type": "execute_result"
    }
   ],
   "source": [
    "# & medio de las que pifia\n",
    "res_medio_loss = df.loc[df.fw_20 <= valor_critico_fw].fw_20.mean()\n",
    "res_medio_loss"
   ]
  },
  {
   "cell_type": "code",
   "execution_count": 12,
   "metadata": {},
   "outputs": [
    {
     "data": {
      "text/html": [
       "<div>\n",
       "<style scoped>\n",
       "    .dataframe tbody tr th:only-of-type {\n",
       "        vertical-align: middle;\n",
       "    }\n",
       "\n",
       "    .dataframe tbody tr th {\n",
       "        vertical-align: top;\n",
       "    }\n",
       "\n",
       "    .dataframe thead th {\n",
       "        text-align: right;\n",
       "    }\n",
       "</style>\n",
       "<table border=\"1\" class=\"dataframe\">\n",
       "  <thead>\n",
       "    <tr style=\"text-align: right;\">\n",
       "      <th></th>\n",
       "      <th>px</th>\n",
       "      <th>2_20</th>\n",
       "      <th>2_40</th>\n",
       "      <th>2_60</th>\n",
       "      <th>2_100</th>\n",
       "      <th>2_200</th>\n",
       "      <th>5_20</th>\n",
       "      <th>...</th>\n",
       "      <th>100_500</th>\n",
       "      <th>100_1000</th>\n",
       "      <th>200_500</th>\n",
       "      <th>200_1000</th>\n",
       "      <th>400_1000</th>\n",
       "      <th>fw_20</th>\n",
       "      <th>pred</th>\n",
       "    </tr>\n",
       "    <tr>\n",
       "      <th>date</th>\n",
       "      <th></th>\n",
       "      <th></th>\n",
       "      <th></th>\n",
       "      <th></th>\n",
       "      <th></th>\n",
       "      <th></th>\n",
       "      <th></th>\n",
       "      <th></th>\n",
       "      <th></th>\n",
       "      <th></th>\n",
       "      <th></th>\n",
       "      <th></th>\n",
       "      <th></th>\n",
       "      <th></th>\n",
       "      <th></th>\n",
       "    </tr>\n",
       "  </thead>\n",
       "  <tbody>\n",
       "    <tr>\n",
       "      <th>2017-01-05T18:14:00.000Z</th>\n",
       "      <td>28.4500</td>\n",
       "      <td>0.3766</td>\n",
       "      <td>0.5420</td>\n",
       "      <td>0.5973</td>\n",
       "      <td>0.7663</td>\n",
       "      <td>1.1495</td>\n",
       "      <td>0.3766</td>\n",
       "      <td>...</td>\n",
       "      <td>0.2334</td>\n",
       "      <td>0.2087</td>\n",
       "      <td>-0.1463</td>\n",
       "      <td>-0.1709</td>\n",
       "      <td>-0.1315</td>\n",
       "      <td>0.3339</td>\n",
       "      <td>1</td>\n",
       "    </tr>\n",
       "    <tr>\n",
       "      <th>2017-01-05T18:15:00.000Z</th>\n",
       "      <td>28.4500</td>\n",
       "      <td>0.3412</td>\n",
       "      <td>0.5243</td>\n",
       "      <td>0.5854</td>\n",
       "      <td>0.7547</td>\n",
       "      <td>1.1417</td>\n",
       "      <td>0.3412</td>\n",
       "      <td>...</td>\n",
       "      <td>0.2440</td>\n",
       "      <td>0.2177</td>\n",
       "      <td>-0.1396</td>\n",
       "      <td>-0.1658</td>\n",
       "      <td>-0.1310</td>\n",
       "      <td>0.3339</td>\n",
       "      <td>1</td>\n",
       "    </tr>\n",
       "    <tr>\n",
       "      <th>2017-01-05T18:16:00.000Z</th>\n",
       "      <td>28.4500</td>\n",
       "      <td>0.3059</td>\n",
       "      <td>0.5065</td>\n",
       "      <td>0.5736</td>\n",
       "      <td>0.7431</td>\n",
       "      <td>1.1340</td>\n",
       "      <td>0.3059</td>\n",
       "      <td>...</td>\n",
       "      <td>0.2546</td>\n",
       "      <td>0.2266</td>\n",
       "      <td>-0.1329</td>\n",
       "      <td>-0.1608</td>\n",
       "      <td>-0.1304</td>\n",
       "      <td>0.3339</td>\n",
       "      <td>1</td>\n",
       "    </tr>\n",
       "    <tr>\n",
       "      <th>2017-01-05T18:17:00.000Z</th>\n",
       "      <td>28.4500</td>\n",
       "      <td>0.2705</td>\n",
       "      <td>0.4888</td>\n",
       "      <td>0.5617</td>\n",
       "      <td>0.7315</td>\n",
       "      <td>1.1263</td>\n",
       "      <td>0.2705</td>\n",
       "      <td>...</td>\n",
       "      <td>0.2652</td>\n",
       "      <td>0.2355</td>\n",
       "      <td>-0.1263</td>\n",
       "      <td>-0.1558</td>\n",
       "      <td>-0.1299</td>\n",
       "      <td>0.3339</td>\n",
       "      <td>1</td>\n",
       "    </tr>\n",
       "    <tr>\n",
       "      <th>2017-01-05T18:18:00.000Z</th>\n",
       "      <td>28.5450</td>\n",
       "      <td>0.3857</td>\n",
       "      <td>0.6303</td>\n",
       "      <td>0.7121</td>\n",
       "      <td>0.8847</td>\n",
       "      <td>1.2857</td>\n",
       "      <td>0.2853</td>\n",
       "      <td>...</td>\n",
       "      <td>0.2785</td>\n",
       "      <td>0.2475</td>\n",
       "      <td>-0.1185</td>\n",
       "      <td>-0.1494</td>\n",
       "      <td>-0.1289</td>\n",
       "      <td>0.0000</td>\n",
       "      <td>0</td>\n",
       "    </tr>\n",
       "    <tr>\n",
       "      <th>...</th>\n",
       "      <td>...</td>\n",
       "      <td>...</td>\n",
       "      <td>...</td>\n",
       "      <td>...</td>\n",
       "      <td>...</td>\n",
       "      <td>...</td>\n",
       "      <td>...</td>\n",
       "      <td>...</td>\n",
       "      <td>...</td>\n",
       "      <td>...</td>\n",
       "      <td>...</td>\n",
       "      <td>...</td>\n",
       "      <td>...</td>\n",
       "      <td>...</td>\n",
       "      <td>...</td>\n",
       "    </tr>\n",
       "    <tr>\n",
       "      <th>2020-12-11T17:33:00.000Z</th>\n",
       "      <td>8.9888</td>\n",
       "      <td>-0.4561</td>\n",
       "      <td>-0.4805</td>\n",
       "      <td>-0.6998</td>\n",
       "      <td>-1.0192</td>\n",
       "      <td>-2.1664</td>\n",
       "      <td>-0.4575</td>\n",
       "      <td>...</td>\n",
       "      <td>-1.0042</td>\n",
       "      <td>1.3014</td>\n",
       "      <td>0.1567</td>\n",
       "      <td>2.4893</td>\n",
       "      <td>2.6939</td>\n",
       "      <td>0.1808</td>\n",
       "      <td>1</td>\n",
       "    </tr>\n",
       "    <tr>\n",
       "      <th>2020-12-11T17:34:00.000Z</th>\n",
       "      <td>8.9900</td>\n",
       "      <td>-0.4313</td>\n",
       "      <td>-0.4681</td>\n",
       "      <td>-0.6770</td>\n",
       "      <td>-0.9996</td>\n",
       "      <td>-2.1483</td>\n",
       "      <td>-0.4271</td>\n",
       "      <td>...</td>\n",
       "      <td>-1.0238</td>\n",
       "      <td>1.2779</td>\n",
       "      <td>0.1382</td>\n",
       "      <td>2.4669</td>\n",
       "      <td>2.6853</td>\n",
       "      <td>0.1669</td>\n",
       "      <td>1</td>\n",
       "    </tr>\n",
       "    <tr>\n",
       "      <th>2020-12-11T17:35:00.000Z</th>\n",
       "      <td>8.9900</td>\n",
       "      <td>-0.3995</td>\n",
       "      <td>-0.4488</td>\n",
       "      <td>-0.6509</td>\n",
       "      <td>-0.9731</td>\n",
       "      <td>-2.1237</td>\n",
       "      <td>-0.4023</td>\n",
       "      <td>...</td>\n",
       "      <td>-1.0434</td>\n",
       "      <td>1.2545</td>\n",
       "      <td>0.1199</td>\n",
       "      <td>2.4448</td>\n",
       "      <td>2.6764</td>\n",
       "      <td>0.1669</td>\n",
       "      <td>1</td>\n",
       "    </tr>\n",
       "    <tr>\n",
       "      <th>2020-12-11T17:36:00.000Z</th>\n",
       "      <td>8.9900</td>\n",
       "      <td>-0.3747</td>\n",
       "      <td>-0.4364</td>\n",
       "      <td>-0.6316</td>\n",
       "      <td>-0.9534</td>\n",
       "      <td>-2.1048</td>\n",
       "      <td>-0.3775</td>\n",
       "      <td>...</td>\n",
       "      <td>-1.0622</td>\n",
       "      <td>1.2310</td>\n",
       "      <td>0.1015</td>\n",
       "      <td>2.4216</td>\n",
       "      <td>2.6680</td>\n",
       "      <td>0.4032</td>\n",
       "      <td>1</td>\n",
       "    </tr>\n",
       "    <tr>\n",
       "      <th>2020-12-11T17:37:00.000Z</th>\n",
       "      <td>8.9900</td>\n",
       "      <td>-0.3499</td>\n",
       "      <td>-0.4240</td>\n",
       "      <td>-0.6083</td>\n",
       "      <td>-0.9338</td>\n",
       "      <td>-2.0864</td>\n",
       "      <td>-0.3526</td>\n",
       "      <td>...</td>\n",
       "      <td>-1.0817</td>\n",
       "      <td>1.2075</td>\n",
       "      <td>0.0827</td>\n",
       "      <td>2.3989</td>\n",
       "      <td>2.6598</td>\n",
       "      <td>0.6813</td>\n",
       "      <td>1</td>\n",
       "    </tr>\n",
       "  </tbody>\n",
       "</table>\n",
       "<p>387377 rows × 34 columns</p>\n",
       "</div>"
      ],
      "text/plain": [
       "                               px    2_20    2_40    2_60   2_100   2_200  \\\n",
       "date                                                                        \n",
       "2017-01-05T18:14:00.000Z  28.4500  0.3766  0.5420  0.5973  0.7663  1.1495   \n",
       "2017-01-05T18:15:00.000Z  28.4500  0.3412  0.5243  0.5854  0.7547  1.1417   \n",
       "2017-01-05T18:16:00.000Z  28.4500  0.3059  0.5065  0.5736  0.7431  1.1340   \n",
       "2017-01-05T18:17:00.000Z  28.4500  0.2705  0.4888  0.5617  0.7315  1.1263   \n",
       "2017-01-05T18:18:00.000Z  28.5450  0.3857  0.6303  0.7121  0.8847  1.2857   \n",
       "...                           ...     ...     ...     ...     ...     ...   \n",
       "2020-12-11T17:33:00.000Z   8.9888 -0.4561 -0.4805 -0.6998 -1.0192 -2.1664   \n",
       "2020-12-11T17:34:00.000Z   8.9900 -0.4313 -0.4681 -0.6770 -0.9996 -2.1483   \n",
       "2020-12-11T17:35:00.000Z   8.9900 -0.3995 -0.4488 -0.6509 -0.9731 -2.1237   \n",
       "2020-12-11T17:36:00.000Z   8.9900 -0.3747 -0.4364 -0.6316 -0.9534 -2.1048   \n",
       "2020-12-11T17:37:00.000Z   8.9900 -0.3499 -0.4240 -0.6083 -0.9338 -2.0864   \n",
       "\n",
       "                            5_20  ...  100_500  100_1000  200_500  200_1000  \\\n",
       "date                              ...                                         \n",
       "2017-01-05T18:14:00.000Z  0.3766  ...   0.2334    0.2087  -0.1463   -0.1709   \n",
       "2017-01-05T18:15:00.000Z  0.3412  ...   0.2440    0.2177  -0.1396   -0.1658   \n",
       "2017-01-05T18:16:00.000Z  0.3059  ...   0.2546    0.2266  -0.1329   -0.1608   \n",
       "2017-01-05T18:17:00.000Z  0.2705  ...   0.2652    0.2355  -0.1263   -0.1558   \n",
       "2017-01-05T18:18:00.000Z  0.2853  ...   0.2785    0.2475  -0.1185   -0.1494   \n",
       "...                          ...  ...      ...       ...      ...       ...   \n",
       "2020-12-11T17:33:00.000Z -0.4575  ...  -1.0042    1.3014   0.1567    2.4893   \n",
       "2020-12-11T17:34:00.000Z -0.4271  ...  -1.0238    1.2779   0.1382    2.4669   \n",
       "2020-12-11T17:35:00.000Z -0.4023  ...  -1.0434    1.2545   0.1199    2.4448   \n",
       "2020-12-11T17:36:00.000Z -0.3775  ...  -1.0622    1.2310   0.1015    2.4216   \n",
       "2020-12-11T17:37:00.000Z -0.3526  ...  -1.0817    1.2075   0.0827    2.3989   \n",
       "\n",
       "                          400_1000   fw_20  pred  \n",
       "date                                              \n",
       "2017-01-05T18:14:00.000Z   -0.1315  0.3339     1  \n",
       "2017-01-05T18:15:00.000Z   -0.1310  0.3339     1  \n",
       "2017-01-05T18:16:00.000Z   -0.1304  0.3339     1  \n",
       "2017-01-05T18:17:00.000Z   -0.1299  0.3339     1  \n",
       "2017-01-05T18:18:00.000Z   -0.1289  0.0000     0  \n",
       "...                            ...     ...   ...  \n",
       "2020-12-11T17:33:00.000Z    2.6939  0.1808     1  \n",
       "2020-12-11T17:34:00.000Z    2.6853  0.1669     1  \n",
       "2020-12-11T17:35:00.000Z    2.6764  0.1669     1  \n",
       "2020-12-11T17:36:00.000Z    2.6680  0.4032     1  \n",
       "2020-12-11T17:37:00.000Z    2.6598  0.6813     1  \n",
       "\n",
       "[387377 rows x 34 columns]"
      ]
     },
     "execution_count": 12,
     "metadata": {},
     "output_type": "execute_result"
    }
   ],
   "source": [
    "df['pred'] = np.where(df.fw_20 > valor_critico_fw ,1 ,0)\n",
    "df"
   ]
  },
  {
   "cell_type": "code",
   "execution_count": 13,
   "metadata": {},
   "outputs": [
    {
     "data": {
      "text/plain": [
       "pred\n",
       "0    222422\n",
       "1    164955\n",
       "dtype: int64"
      ]
     },
     "execution_count": 13,
     "metadata": {},
     "output_type": "execute_result"
    }
   ],
   "source": [
    "df.groupby('pred').size()"
   ]
  },
  {
   "cell_type": "code",
   "execution_count": 14,
   "metadata": {},
   "outputs": [
    {
     "data": {
      "text/plain": [
       "pred\n",
       "0    0.574175\n",
       "1    0.425825\n",
       "dtype: float64"
      ]
     },
     "execution_count": 14,
     "metadata": {},
     "output_type": "execute_result"
    }
   ],
   "source": [
    "df.groupby('pred').size() / len(df)"
   ]
  },
  {
   "cell_type": "markdown",
   "metadata": {},
   "source": [
    "## Entrenamos un modelo"
   ]
  },
  {
   "cell_type": "code",
   "execution_count": 15,
   "metadata": {},
   "outputs": [
    {
     "name": "stdout",
     "output_type": "stream",
     "text": [
      "Wall time: 3min 8s\n"
     ]
    },
    {
     "data": {
      "text/plain": [
       "<sklearn.metrics._plot.confusion_matrix.ConfusionMatrixDisplay at 0x202978b5e50>"
      ]
     },
     "execution_count": 15,
     "metadata": {},
     "output_type": "execute_result"
    },
    {
     "data": {
      "image/png": "[encoded data removed]",
      "text/plain": [
       "<Figure size 432x288 with 2 Axes>"
      ]
     },
     "metadata": {
      "needs_background": "light"
     },
     "output_type": "display_data"
    }
   ],
   "source": [
    "%%time\n",
    "X_train, X_test, y_train, y_test = train_test_split(df.iloc[:,1:-2], df.pred, test_size=0.2)\n",
    "\n",
    "modelo_rf = RandomForestClassifier(criterion = 'entropy', max_depth=15)\n",
    "modelo_rf.fit(X_train, y_train)\n",
    "y_pred = modelo_rf.predict(X_test)\n",
    "with open('bot_rf.dat', 'wb') as file:\n",
    "    pickle.dump(modelo_rf,file)\n",
    "\n",
    "m = np.array(skm.confusion_matrix(y_test, y_pred, normalize='all'))\n",
    "skm.plot_confusion_matrix(modelo_rf, X_test, y_test, normalize='all', cmap='Blues')"
   ]
  },
  {
   "cell_type": "markdown",
   "metadata": {},
   "source": [
    "## Levantamos el modelo entrenado"
   ]
  },
  {
   "cell_type": "code",
   "execution_count": 16,
   "metadata": {},
   "outputs": [],
   "source": [
    "with open('bot_rf.dat', 'rb') as file:\n",
    "    modelo_rf = pickle.load(file)"
   ]
  },
  {
   "cell_type": "code",
   "execution_count": null,
   "metadata": {},
   "outputs": [],
   "source": []
  },
  {
   "cell_type": "markdown",
   "metadata": {},
   "source": [
    "## Calculo de la esperanza matematica:"
   ]
  },
  {
   "cell_type": "markdown",
   "metadata": {},
   "source": [
    "OBVIO HAY QUE HACER UN BACKTEST COMO LA GENTE, ES UNA SIMPLIFICACION ESTO"
   ]
  },
  {
   "cell_type": "code",
   "execution_count": 17,
   "metadata": {},
   "outputs": [
    {
     "data": {
      "text/plain": [
       "0.5236494816077658"
      ]
     },
     "execution_count": 17,
     "metadata": {},
     "output_type": "execute_result"
    }
   ],
   "source": [
    "prob_pifiar = m[0,1]/(m[0,1]+m[1,1])\n",
    "prob_acertar =  m[1,1]/(m[0,1]+m[1,1])\n",
    "E = prob_acertar * res_medio_win + prob_pifiar * res_medio_loss\n",
    "E"
   ]
  },
  {
   "cell_type": "markdown",
   "metadata": {},
   "source": [
    "# Funciones para BOT"
   ]
  },
  {
   "cell_type": "markdown",
   "metadata": {},
   "source": [
    "## Funciones ML & predicción"
   ]
  },
  {
   "cell_type": "code",
   "execution_count": 18,
   "metadata": {},
   "outputs": [],
   "source": [
    "def traerModelo(tipo='RF'):\n",
    "    if tipo=='RF':\n",
    "        with open('bot_rf.dat', 'rb') as file:\n",
    "            modelo = pickle.load(file)\n",
    "    else: \n",
    "        modelo = None\n",
    "\n",
    "    return modelo"
   ]
  },
  {
   "cell_type": "code",
   "execution_count": 23,
   "metadata": {},
   "outputs": [],
   "source": [
    "def downloadTiingo(symbol, _from, _to, interval='1min'):\n",
    "    clear_output(wait=True)\n",
    "    try:\n",
    "        TOKEN = '3e63d74be68b49e14fb4c161c378b6250ad8d5c3'\n",
    "        url = f'https://api.tiingo.com/iex/{symbol}/prices'\n",
    "        headers = {'Content-Type': 'application/json'}\n",
    "        params = {'startDate':_from, 'endDate':_to, 'resampleFreq':interval, 'token':TOKEN }\n",
    "        r = requests.get(url, params=params, headers=headers)\n",
    "        df = pd.DataFrame(r.json()).set_index('date')\n",
    "        print('Datos recabados ok hasta el: ', _to)\n",
    "        return df\n",
    "    except:\n",
    "        print(f'No se pudo descargar desde Tiingo data de {symbol}')\n",
    "        return None"
   ]
  },
  {
   "cell_type": "code",
   "execution_count": 24,
   "metadata": {},
   "outputs": [],
   "source": [
    "def generarIndicadores(data):\n",
    "    try:\n",
    "        df = (data['close']+data['open']+data['high']+data['low'])/4\n",
    "        cruces = [(2,20),(2,40),(2,60),(2,100),(2,200),(5,20),(5,50),(5,100),(5,200),(5,400),(10,20),(10,50),(10,100),\n",
    "                 (10,200),(10,500),(20,50),(20,100),(20,200),(20,500),(20,1000),(50,100),(50,200),(50,500),(50,1000),\n",
    "                 (100,200),(100,400),(100,500),(100,1000),(200,500),(200,1000),(400,1000)]\n",
    "\n",
    "        df = df.to_frame().apply(pd.to_numeric)\n",
    "        df.columns = ['px']\n",
    "        for cruce in cruces:\n",
    "            clave = str(cruce[0]) + '_' + str(cruce[1])\n",
    "            df[clave] = (df.px.rolling(cruce[0]).mean() / df.px.rolling(cruce[1]).mean() -1)*100\n",
    "\n",
    "        pd.options.display.max_columns=15\n",
    "        df['fw_20'] = (df.px.shift(-20) / df.px -1)*100\n",
    "\n",
    "        df = df.dropna().round(4)\n",
    "        return df\n",
    "    except:\n",
    "        print('No se pudieron generar indicadores')\n",
    "        return None"
   ]
  },
  {
   "cell_type": "code",
   "execution_count": 25,
   "metadata": {},
   "outputs": [],
   "source": [
    "def traerData(symbol, days=5, interval='1min'):\n",
    "    try:\n",
    "        hasta = datetime.datetime.now()\n",
    "        desde = hasta - datetime.timedelta(days=days)\n",
    "        data = downloadTiingo(symbol, desde, hasta, interval=interval)\n",
    "        return data\n",
    "    except:\n",
    "        print(f'No se pudo traer la data de {symbol} de los ultimos {days} dias')\n",
    "        return None"
   ]
  },
  {
   "cell_type": "code",
   "execution_count": 26,
   "metadata": {},
   "outputs": [],
   "source": [
    "def predecir(data, modelo):\n",
    "    try:\n",
    "        actual = generarIndicadores(data).iloc[-1,1:-1]\n",
    "        y_pred = modelo.predict((actual,))[0]\n",
    "        y_proba = modelo.predict_proba((actual,))[0]\n",
    "        return y_pred, y_proba\n",
    "    except:\n",
    "        print('No se pudo predecir')\n",
    "        return None, None"
   ]
  },
  {
   "cell_type": "code",
   "execution_count": null,
   "metadata": {},
   "outputs": [],
   "source": []
  },
  {
   "cell_type": "markdown",
   "metadata": {},
   "source": [
    "## Funciones de Ruteo"
   ]
  },
  {
   "cell_type": "code",
   "execution_count": 27,
   "metadata": {},
   "outputs": [],
   "source": [
    "def pedirToken():\n",
    "    url = 'https://api.invertironline.com/token'\n",
    "    data = {\"username\" : iol_user, \"password\": iol_password, \"grant_type\":\"password\"}\n",
    "    tk  = requests.post(url = url, data = data).json()\n",
    "    return tk"
   ]
  },
  {
   "cell_type": "code",
   "execution_count": 28,
   "metadata": {},
   "outputs": [],
   "source": [
    "def actualizarToken():\n",
    "    global tk\n",
    "    exp = datetime.datetime.strptime(tk['.expires'],'%a, %d %b %Y %H:%M:%S GMT')\n",
    "    ahora = datetime.datetime.utcnow()\n",
    "    tiempo = exp-ahora\n",
    "\n",
    "    if tiempo.days != 0:\n",
    "        print('Actualizando Token')\n",
    "        tk = pedirToken()\n",
    "\n",
    "    print('Token actualizado')"
   ]
  },
  {
   "cell_type": "code",
   "execution_count": 29,
   "metadata": {},
   "outputs": [],
   "source": [
    "def precioIOL(mercado, ticker):    \n",
    "    actualizarToken() \n",
    "    url_base= 'https://api.invertironline.com/api/v2/'\n",
    "    endpoint = mercado+'/Titulos/'+ticker+'/Cotizacion'\n",
    "    url = url_base + endpoint\n",
    "    headers = {\"Authorization\" : \"Bearer \"+ tk['access_token']}\n",
    "    data = requests.get(url = url, headers = headers).json()    \n",
    "    return data"
   ]
  },
  {
   "cell_type": "code",
   "execution_count": 30,
   "metadata": {},
   "outputs": [],
   "source": [
    "def comprar(ticker, q, precio, plazo ):\n",
    "    actualizarToken()     \n",
    "    vigencia = datetime.datetime.now() + datetime.timedelta(days=1)\n",
    "    vigencia_str =datetime.datetime.strftime(vigencia, '%Y-%m-%d')\n",
    "    params = {\n",
    "      \"mercado\": \"bCBA\",\n",
    "      \"simbolo\": ticker,\n",
    "      \"cantidad\": q,\n",
    "      \"precio\": precio,\n",
    "      \"plazo\": plazo,\n",
    "      \"validez\": vigencia_str\n",
    "    }\n",
    "    url_base= 'https://api.invertironline.com/api/v2/'\n",
    "    endpoint = 'operar/comprar/'\n",
    "    url = url_base + endpoint\n",
    "    headers = {\"Authorization\" : \"Bearer \"+ tk['access_token']}    \n",
    "    data = requests.post(url = url, headers = headers, json = params).json()\n",
    "    return data"
   ]
  },
  {
   "cell_type": "code",
   "execution_count": 31,
   "metadata": {},
   "outputs": [],
   "source": [
    "def vender(ticker, q, precio, plazo ):\n",
    "    actualizarToken()     \n",
    "    vigencia = datetime.datetime.now() + datetime.timedelta(days=1)\n",
    "    vigencia_str = datetime.datetime.strftime(vigencia, '%Y-%m-%d')\n",
    "    params = {\n",
    "      \"mercado\": \"bCBA\",\n",
    "      \"simbolo\": ticker,\n",
    "      \"cantidad\": q,\n",
    "      \"precio\": precio,\n",
    "      \"plazo\": plazo,\n",
    "      \"validez\": vigencia_str\n",
    "    }\n",
    "    url_base= 'https://api.invertironline.com/api/v2/'\n",
    "    endpoint = 'operar/vender/'\n",
    "    url = url_base + endpoint\n",
    "    headers = {\"Authorization\" : \"Bearer \"+ tk['access_token']}    \n",
    "    data = requests.post(url = url, headers = headers, json = params).json()\n",
    "    return data"
   ]
  },
  {
   "cell_type": "code",
   "execution_count": 32,
   "metadata": {},
   "outputs": [],
   "source": [
    "def compraAgresiva(symbol):\n",
    "    data = precioIOL('bcba',symbol)\n",
    "    punta_bid = data['puntas'][0]['precioCompra']\n",
    "    punta_ask = data['puntas'][0]['precioVenta']\n",
    "    id_compra = comprar(ticker=symbol, q=1, precio = punta_ask, plazo='t2')\n",
    "    return id_compra\n",
    "\n",
    "def ventaAgresiva(symbol):\n",
    "    data = precioIOL('bcba',symbol)\n",
    "    punta_bid = data['puntas'][0]['precioCompra']\n",
    "    punta_ask = data['puntas'][0]['precioVenta']\n",
    "    id_venta = vender(ticker=symbol, q=1, precio = punta_bid, plazo='t2')\n",
    "    return id_venta"
   ]
  },
  {
   "cell_type": "markdown",
   "metadata": {},
   "source": [
    "## Funciones del demonio"
   ]
  },
  {
   "cell_type": "code",
   "execution_count": 33,
   "metadata": {},
   "outputs": [],
   "source": [
    "def portafolio(pais):\n",
    "    actualizarToken()     \n",
    "    url_base= 'https://api.invertironline.com/api/v2/'\n",
    "    endpoint = 'portafolio/'+pais\n",
    "    url = url_base + endpoint\n",
    "    headers = {\"Authorization\" : \"Bearer \"+ tk['access_token']}\n",
    "    data = requests.get(url = url, headers = headers).json()    \n",
    "    return(data['activos'])"
   ]
  },
  {
   "cell_type": "code",
   "execution_count": 34,
   "metadata": {},
   "outputs": [],
   "source": [
    "def consultarTenencia(symbol):\n",
    "    port = portafolio('Argentina')\n",
    "    encontrados = sum([x['cantidad'] for x in port if x['titulo']['simbolo']==symbol])\n",
    "    tenencia = True if encontrados > 0 else False\n",
    "    return tenencia"
   ]
  },
  {
   "cell_type": "code",
   "execution_count": null,
   "metadata": {},
   "outputs": [],
   "source": []
  },
  {
   "cell_type": "code",
   "execution_count": null,
   "metadata": {},
   "outputs": [],
   "source": []
  },
  {
   "cell_type": "code",
   "execution_count": null,
   "metadata": {},
   "outputs": [],
   "source": []
  },
  {
   "cell_type": "markdown",
   "metadata": {},
   "source": [
    "## Pruebo las funciones"
   ]
  },
  {
   "cell_type": "code",
   "execution_count": null,
   "metadata": {},
   "outputs": [],
   "source": []
  },
  {
   "cell_type": "code",
   "execution_count": 35,
   "metadata": {},
   "outputs": [],
   "source": [
    "tk = pedirToken() # Solo al iniciar el bot una sola vez"
   ]
  },
  {
   "cell_type": "code",
   "execution_count": 36,
   "metadata": {},
   "outputs": [
    {
     "name": "stdout",
     "output_type": "stream",
     "text": [
      "Token actualizado\n"
     ]
    }
   ],
   "source": [
    "actualizarToken() # antes de cada request a la API (En las funciones)"
   ]
  },
  {
   "cell_type": "code",
   "execution_count": 37,
   "metadata": {
    "scrolled": true
   },
   "outputs": [
    {
     "name": "stdout",
     "output_type": "stream",
     "text": [
      "Datos recabados ok hasta el:  2020-12-11 15:15:58.712554\n"
     ]
    },
    {
     "data": {
      "text/plain": [
       "(0, array([0.55216678, 0.44783322]))"
      ]
     },
     "execution_count": 37,
     "metadata": {},
     "output_type": "execute_result"
    }
   ],
   "source": [
    "modelo = traerModelo('RF')\n",
    "data = traerData('GGAL')\n",
    "prediccion = predecir(data, modelo)\n",
    "prediccion"
   ]
  },
  {
   "cell_type": "code",
   "execution_count": 38,
   "metadata": {},
   "outputs": [],
   "source": [
    "# compraAgresiva('GGAL')"
   ]
  },
  {
   "cell_type": "markdown",
   "metadata": {},
   "source": [
    "# BOT"
   ]
  },
  {
   "cell_type": "markdown",
   "metadata": {},
   "source": [
    "## Definicion de constantes"
   ]
  },
  {
   "cell_type": "code",
   "execution_count": 39,
   "metadata": {
    "scrolled": true
   },
   "outputs": [],
   "source": [
    "# USA arranca 11:30 (hora invernal USA) pero dejamos los primeros 5min libres\n",
    "# ARG corta 17hs, dejamos por las dudas 5min para operaciones de cierre final a posteriori\n",
    "\n",
    "HORA_INICIO_BOT = 11.5833 \n",
    "HORA_FIN_BOT = 16.55"
   ]
  },
  {
   "cell_type": "markdown",
   "metadata": {},
   "source": [
    "## Funcion principal"
   ]
  },
  {
   "cell_type": "code",
   "execution_count": 40,
   "metadata": {},
   "outputs": [],
   "source": [
    "def ejecutar():\n",
    "    ahora = datetime.datetime.now()\n",
    "    hora_decimal = round(ahora.hour + ahora.minute/60 + ahora.second/3600 ,5)\n",
    "    clear_output(wait=True)\n",
    "    print(f'Ejecutando a las, {hora_decimal}, se termina a las {HORA_FIN_BOT}')\n",
    "    time.sleep(1)"
   ]
  },
  {
   "cell_type": "markdown",
   "metadata": {},
   "source": [
    "## Deamon: el demonio"
   ]
  },
  {
   "cell_type": "code",
   "execution_count": 42,
   "metadata": {},
   "outputs": [
    {
     "name": "stdout",
     "output_type": "stream",
     "text": [
      "Son las 15.3, fin de horario de operaciones: 15.3\n"
     ]
    }
   ],
   "source": [
    "HORA_INICIO_BOT = 15.29\n",
    "HORA_FIN_BOT = 15.30\n",
    "    \n",
    "while True:\n",
    "    ahora = datetime.datetime.now()\n",
    "    hora_decimal = round(ahora.hour + ahora.minute/60 + ahora.second/3600,5)\n",
    "    \n",
    "    if hora_decimal < HORA_INICIO_BOT:\n",
    "        clear_output(wait=True)\n",
    "        print(f'Esperando a las {HORA_INICIO_BOT}, Son las:',hora_decimal)\n",
    "        time.sleep(1)\n",
    "        # Aca puede ejecutar tareas de preparacion de rueda\n",
    "        \n",
    "    else:\n",
    "        if hora_decimal < HORA_FIN_BOT:\n",
    "            ejecutar()\n",
    "            \n",
    "        else:\n",
    "            clear_output(wait=True)\n",
    "            print(f'Son las {hora_decimal}, fin de horario de operaciones: {HORA_FIN_BOT}')\n",
    "\n",
    "            # Aca puede ejecutar tareas de finalizacion del dia\n",
    "            break\n"
   ]
  },
  {
   "cell_type": "code",
   "execution_count": null,
   "metadata": {},
   "outputs": [],
   "source": []
  },
  {
   "cell_type": "code",
   "execution_count": null,
   "metadata": {},
   "outputs": [],
   "source": []
  },
  {
   "cell_type": "code",
   "execution_count": null,
   "metadata": {},
   "outputs": [],
   "source": []
  },
  {
   "cell_type": "code",
   "execution_count": null,
   "metadata": {},
   "outputs": [],
   "source": []
  }
 ],
 "metadata": {
  "kernelspec": {
   "display_name": "Python 3",
   "language": "python",
   "name": "python3"
  },
  "language_info": {
   "codemirror_mode": {
    "name": "ipython",
    "version": 3
   },
   "file_extension": ".py",
   "mimetype": "text/x-python",
   "name": "python",
   "nbconvert_exporter": "python",
   "pygments_lexer": "ipython3",
   "version": "3.8.5"
  },
  "toc": {
   "base_numbering": 1,
   "nav_menu": {},
   "number_sections": true,
   "sideBar": true,
   "skip_h1_title": false,
   "title_cell": "Table of Contents",
   "title_sidebar": "Contents",
   "toc_cell": false,
   "toc_position": {},
   "toc_section_display": true,
   "toc_window_display": true
  }
 },
 "nbformat": 4,
 "nbformat_minor": 4
}
