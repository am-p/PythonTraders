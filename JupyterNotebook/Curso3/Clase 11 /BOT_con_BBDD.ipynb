{
 "cells": [
  {
   "cell_type": "markdown",
   "metadata": {},
   "source": [
    "# Funciones Previas"
   ]
  },
  {
   "cell_type": "markdown",
   "metadata": {},
   "source": [
    "## Importamos todas las lisbrerias y claves"
   ]
  },
  {
   "cell_type": "code",
   "execution_count": 1,
   "metadata": {},
   "outputs": [],
   "source": [
    "from iol_user_ullua import *\n",
    "\n",
    "iol_user = USER\n",
    "iol_password = PASS"
   ]
  },
  {
   "cell_type": "code",
   "execution_count": 2,
   "metadata": {},
   "outputs": [],
   "source": [
    "import datetime, requests, time\n",
    "import pandas as pd\n",
    "import numpy as np\n",
    "from IPython.display import clear_output\n",
    "import pickle"
   ]
  },
  {
   "cell_type": "code",
   "execution_count": 3,
   "metadata": {},
   "outputs": [],
   "source": [
    "from sqlalchemy import create_engine"
   ]
  },
  {
   "cell_type": "markdown",
   "metadata": {},
   "source": [
    "## Funciones ML y Data USA"
   ]
  },
  {
   "cell_type": "code",
   "execution_count": 4,
   "metadata": {},
   "outputs": [],
   "source": [
    "def traerModelo(tipo='RF'):\n",
    "    if tipo=='RF':\n",
    "        with open('bot_rf.dat', 'rb') as file:\n",
    "            modelo = pickle.load(file)\n",
    "    else: \n",
    "        modelo = None\n",
    "\n",
    "    return modelo"
   ]
  },
  {
   "cell_type": "code",
   "execution_count": 5,
   "metadata": {},
   "outputs": [],
   "source": [
    "def downloadTiingo(symbol, _from, _to, interval='1min'):\n",
    "    #clear_output(wait=True)\n",
    "    try:\n",
    "        TOKEN = '3e63d74be68b49e14fb4c161c378b6250ad8d5c3'\n",
    "        url = f'https://api.tiingo.com/iex/{symbol}/prices'\n",
    "        headers = {'Content-Type': 'application/json'}\n",
    "        params = {'startDate':_from, 'endDate':_to, 'resampleFreq':interval, 'token':TOKEN }\n",
    "        r = requests.get(url, params=params, headers=headers)\n",
    "        df = pd.DataFrame(r.json()).set_index('date')\n",
    "        #print('Datos recabados ok hasta el: ', _to)\n",
    "        return df\n",
    "    except:\n",
    "        print(f'No se pudo descargar desde Tiingo data de {symbol}')\n",
    "        return None"
   ]
  },
  {
   "cell_type": "code",
   "execution_count": 6,
   "metadata": {},
   "outputs": [],
   "source": [
    "def generarIndicadores(data):\n",
    "    try:\n",
    "        df = (data['close']+data['open']+data['high']+data['low'])/4\n",
    "        cruces = [(2,20),(2,40),(2,60),(2,100),(2,200),(5,20),(5,50),(5,100),(5,200),(5,400),(10,20),(10,50),(10,100),\n",
    "                 (10,200),(10,500),(20,50),(20,100),(20,200),(20,500),(20,1000),(50,100),(50,200),(50,500),(50,1000),\n",
    "                 (100,200),(100,400),(100,500),(100,1000),(200,500),(200,1000),(400,1000)]\n",
    "\n",
    "        df = df.to_frame().apply(pd.to_numeric)\n",
    "        df.columns = ['px']\n",
    "        for cruce in cruces:\n",
    "            clave = str(cruce[0]) + '_' + str(cruce[1])\n",
    "            df[clave] = (df.px.rolling(cruce[0]).mean() / df.px.rolling(cruce[1]).mean() -1)*100\n",
    "\n",
    "        pd.options.display.max_columns=15\n",
    "        df['fw_20'] = (df.px.shift(-20) / df.px -1)*100\n",
    "\n",
    "        df = df.dropna().round(4)\n",
    "        return df\n",
    "    except:\n",
    "        print('No se pudieron generar indicadores')\n",
    "        return None"
   ]
  },
  {
   "cell_type": "code",
   "execution_count": 7,
   "metadata": {},
   "outputs": [],
   "source": [
    "def traerData(symbol, days=5, interval='1min'):\n",
    "    try:\n",
    "        hasta = datetime.datetime.now()\n",
    "        desde = hasta - datetime.timedelta(days=days)\n",
    "        data = downloadTiingo(symbol, desde, hasta, interval=interval)\n",
    "        return data\n",
    "    except:\n",
    "        print(f'No se pudo traer la data de {symbol} de los ultimos {days} dias')\n",
    "        return None"
   ]
  },
  {
   "cell_type": "code",
   "execution_count": 8,
   "metadata": {},
   "outputs": [],
   "source": [
    "def predecir(data, modelo):\n",
    "    try:\n",
    "        actual = generarIndicadores(data).iloc[-1,1:-1]\n",
    "        y_pred = modelo.predict((actual,))[0]\n",
    "        y_proba = modelo.predict_proba((actual,))[0]\n",
    "        return y_pred, y_proba\n",
    "    except:\n",
    "        print('No se pudo predecir')\n",
    "        return None, None"
   ]
  },
  {
   "cell_type": "markdown",
   "metadata": {},
   "source": [
    "## Funciones de Ruteo"
   ]
  },
  {
   "cell_type": "code",
   "execution_count": 9,
   "metadata": {},
   "outputs": [],
   "source": [
    "def pedirToken():\n",
    "    url = 'https://api.invertironline.com/token'\n",
    "    data = {\"username\" : iol_user, \"password\": iol_password, \"grant_type\":\"password\"}\n",
    "    tk  = requests.post(url = url, data = data).json()\n",
    "    return tk"
   ]
  },
  {
   "cell_type": "code",
   "execution_count": 10,
   "metadata": {},
   "outputs": [],
   "source": [
    "def actualizarToken():\n",
    "    global tk\n",
    "    exp = datetime.datetime.strptime(tk['.expires'],'%a, %d %b %Y %H:%M:%S GMT')\n",
    "    ahora = datetime.datetime.utcnow()\n",
    "    tiempo = exp-ahora\n",
    "\n",
    "    if tiempo.days != 0:\n",
    "        print('Actualizando Token')\n",
    "        tk = pedirToken()\n",
    "\n",
    "    #print('Token actualizado')"
   ]
  },
  {
   "cell_type": "code",
   "execution_count": 11,
   "metadata": {},
   "outputs": [],
   "source": [
    "def precioIOL(mercado, ticker):    \n",
    "    actualizarToken() \n",
    "    url_base= 'https://api.invertironline.com/api/v2/'\n",
    "    endpoint = mercado+'/Titulos/'+ticker+'/Cotizacion'\n",
    "    url = url_base + endpoint\n",
    "    headers = {\"Authorization\" : \"Bearer \"+ tk['access_token']}\n",
    "    data = requests.get(url = url, headers = headers)\n",
    "    \n",
    "    try:\n",
    "        data = data.json()\n",
    "    except:\n",
    "        print(f'No se pudo traer precio de {ticker} mercado {mercado}')\n",
    "    return data"
   ]
  },
  {
   "cell_type": "code",
   "execution_count": 12,
   "metadata": {},
   "outputs": [],
   "source": [
    "def comprar(ticker, q, precio, plazo ):\n",
    "    actualizarToken()     \n",
    "    vigencia = datetime.datetime.now() + datetime.timedelta(days=1)\n",
    "    vigencia_str =datetime.datetime.strftime(vigencia, '%Y-%m-%d')\n",
    "    params = {\n",
    "      \"mercado\": \"bCBA\",\n",
    "      \"simbolo\": ticker,\n",
    "      \"cantidad\": q,\n",
    "      \"precio\": precio,\n",
    "      \"plazo\": plazo,\n",
    "      \"validez\": vigencia_str\n",
    "    }\n",
    "    url_base= 'https://api.invertironline.com/api/v2/'\n",
    "    endpoint = 'operar/comprar/'\n",
    "    url = url_base + endpoint\n",
    "    headers = {\"Authorization\" : \"Bearer \"+ tk['access_token']}    \n",
    "    data = requests.post(url = url, headers = headers, json = params).json()\n",
    "    return data"
   ]
  },
  {
   "cell_type": "code",
   "execution_count": 13,
   "metadata": {},
   "outputs": [],
   "source": [
    "def vender(ticker, q, precio, plazo ):\n",
    "    actualizarToken()     \n",
    "    vigencia = datetime.datetime.now() + datetime.timedelta(days=1)\n",
    "    vigencia_str = datetime.datetime.strftime(vigencia, '%Y-%m-%d')\n",
    "    params = {\n",
    "      \"mercado\": \"bCBA\",\n",
    "      \"simbolo\": ticker,\n",
    "      \"cantidad\": q,\n",
    "      \"precio\": precio,\n",
    "      \"plazo\": plazo,\n",
    "      \"validez\": vigencia_str\n",
    "    }\n",
    "    url_base= 'https://api.invertironline.com/api/v2/'\n",
    "    endpoint = 'operar/vender/'\n",
    "    url = url_base + endpoint\n",
    "    headers = {\"Authorization\" : \"Bearer \"+ tk['access_token']}    \n",
    "    data = requests.post(url = url, headers = headers, json = params).json()\n",
    "    return data"
   ]
  },
  {
   "cell_type": "code",
   "execution_count": 14,
   "metadata": {},
   "outputs": [],
   "source": [
    "def compraAgresiva(symbol):\n",
    "    data = precioIOL('bcba',symbol)\n",
    "    try:\n",
    "        punta_bid = data['puntas'][0]['precioCompra']\n",
    "        punta_ask = data['puntas'][0]['precioVenta']\n",
    "        id_compra = comprar(ticker=symbol, q=1, precio = punta_ask, plazo='t2')\n",
    "        id_iol, px = id_compra['numeroOperacion'], punta_ask\n",
    "    except:\n",
    "        id_iol, px = None, None\n",
    "        print('No se pudo enviar Orden de Compra')\n",
    "        \n",
    "    return id_iol, px\n",
    "\n",
    "def ventaAgresiva(symbol):\n",
    "    data = precioIOL('bcba',symbol)\n",
    "    try:\n",
    "        punta_bid = data['puntas'][0]['precioCompra']\n",
    "        punta_ask = data['puntas'][0]['precioVenta']\n",
    "        id_venta = vender(ticker=symbol, q=1, precio = punta_bid, plazo='t2')\n",
    "        id_iol, px = id_venta['numeroOperacion'], punta_bid\n",
    "    except:\n",
    "        id_iol, px = None, None\n",
    "        print('No se pudo enviar Orden de Venta')\n",
    "        \n",
    "    return id_iol, px"
   ]
  },
  {
   "cell_type": "markdown",
   "metadata": {},
   "source": [
    "## Funciones estado sin BBDD (API)"
   ]
  },
  {
   "cell_type": "code",
   "execution_count": 15,
   "metadata": {},
   "outputs": [],
   "source": [
    "def portafolio(pais):\n",
    "    actualizarToken()     \n",
    "    url_base= 'https://api.invertironline.com/api/v2/'\n",
    "    endpoint = 'portafolio/'+pais\n",
    "    url = url_base + endpoint\n",
    "    headers = {\"Authorization\" : \"Bearer \"+ tk['access_token']}\n",
    "    data = requests.get(url = url, headers = headers).json()    \n",
    "    return(data['activos'])"
   ]
  },
  {
   "cell_type": "code",
   "execution_count": 16,
   "metadata": {},
   "outputs": [],
   "source": [
    "def consultarTenencia(symbol):\n",
    "    port = portafolio('Argentina')\n",
    "    encontrados = sum([x['cantidad'] for x in port if x['titulo']['simbolo']==symbol])\n",
    "    tenencia = True if encontrados > 0 else False\n",
    "    return tenencia"
   ]
  },
  {
   "cell_type": "markdown",
   "metadata": {},
   "source": [
    "## Funciones de Base de Datos"
   ]
  },
  {
   "cell_type": "code",
   "execution_count": 17,
   "metadata": {},
   "outputs": [],
   "source": [
    "def conectarBBDD():\n",
    "    sqlite_engine = create_engine('sqlite:///bot.db', echo=False)\n",
    "    conn = sqlite_engine.connect()\n",
    "    crear_tabla_trades = '''CREATE TABLE IF NOT EXISTS trades (\n",
    "        id INTEGER PRIMARY KEY AUTOINCREMENT,\n",
    "        ticker TEXT NOT NULL,\n",
    "        px REAL NOT NULL,\n",
    "        q INTEGER NOT NULL,\n",
    "        hora_decimal REAL NOT NULL,\n",
    "        tipo TEXT,\n",
    "        id_iol TEXT\n",
    "    );'''\n",
    "\n",
    "    crear_tabla_predicciones = '''CREATE TABLE IF NOT EXISTS predicciones (\n",
    "        id INTEGER PRIMARY KEY AUTOINCREMENT,\n",
    "        ticker TEXT NOT NULL,\n",
    "        proba_suba REAL NOT NULL,\n",
    "        created_at datetime default current_timestamp\n",
    "    );'''\n",
    "\n",
    "    conn.execute(crear_tabla_trades)\n",
    "    conn.execute(crear_tabla_predicciones)\n",
    "    return conn"
   ]
  },
  {
   "cell_type": "code",
   "execution_count": 18,
   "metadata": {},
   "outputs": [],
   "source": [
    "def addTrade(symbol, px, q, hora_decimal, tipo, id_iol):\n",
    "    if id_iol:\n",
    "        insertar = f'INSERT INTO trades VALUES(null, \"{symbol}\", {px}, {q}, {hora_decimal}, \"{tipo}\", \"{id_iol}\")'\n",
    "    else:\n",
    "        insertar = f'INSERT INTO trades VALUES(null, \"{symbol}\", {px}, {q}, {hora_decimal}, \"{tipo}\", null)'\n",
    "        \n",
    "    conn.execute(insertar)\n",
    "    \n",
    "def getLastTrade(symbol):\n",
    "    ultimo_trade = f'SELECT * FROM trades WHERE ticker=\"{symbol}\" ORDER BY id DESC LIMIT 1'\n",
    "    trade = conn.execute(ultimo_trade).fetchone()\n",
    "    return trade"
   ]
  },
  {
   "cell_type": "code",
   "execution_count": 19,
   "metadata": {},
   "outputs": [],
   "source": [
    "def consultarTenenciaBBDD(symbol):\n",
    "    trade = getLastTrade(symbol)\n",
    "    tenencia = False\n",
    "    if (trade):\n",
    "        if trade[5] == 'Compra':\n",
    "            tenencia = True\n",
    "            \n",
    "    return tenencia"
   ]
  },
  {
   "cell_type": "code",
   "execution_count": 20,
   "metadata": {},
   "outputs": [],
   "source": [
    "def addPredict(symbol, proba_suba):\n",
    "    insertar = f'INSERT INTO predicciones VALUES(null, \"{symbol}\", {proba_suba} , datetime(\"now\",\"localtime\"))'\n",
    "    conn.execute(insertar)"
   ]
  },
  {
   "cell_type": "markdown",
   "metadata": {},
   "source": [
    "# BOT"
   ]
  },
  {
   "cell_type": "markdown",
   "metadata": {},
   "source": [
    "## Funcion principal"
   ]
  },
  {
   "cell_type": "code",
   "execution_count": 21,
   "metadata": {},
   "outputs": [],
   "source": [
    "def ejecutar(modeloCompra):\n",
    "    ahora = datetime.datetime.now()\n",
    "    hora_decimal = round(ahora.hour + ahora.minute/60 + ahora.second/3600 + ahora.microsecond/(3.6*10**9) ,5)\n",
    "    tenencia = consultarTenenciaBBDD('GGAL')\n",
    "    if tenencia:\n",
    "        hora_compra = getLastTrade('GGAL')[4]\n",
    "        tiempo_tenencia = hora_decimal - hora_compra\n",
    "        \n",
    "        if tiempo_tenencia > 20/60:\n",
    "            id_venta, px = ventaAgresiva('GGAL')\n",
    "            addTrade('GGAL', px, 1, hora_decimal, 'Venta', id_venta)\n",
    "            print(f'Vendido GGAL a {px} hora {hora_decimal}')\n",
    "            time.sleep(60)            \n",
    "        else:\n",
    "            print(f'Esperando para vender a las {hora_compra+20/60} son las {hora_decimal}')\n",
    "            time.sleep(60)\n",
    "    \n",
    "    else:\n",
    "        data = traerData('GGAL')\n",
    "        prediccion = predecir(data, modeloCompra)\n",
    "        addPredict('GGAL', prediccion[1][1])\n",
    "        if prediccion[0] == 1:\n",
    "            id_compra, px = compraAgresiva('GGAL')\n",
    "            addTrade('GGAL', px, 1, hora_decimal, 'Compra', id_compra)\n",
    "            print(f'Comprado GGAL a {px} hora {hora_decimal}')\n",
    "            time.sleep(60)\n",
    "        else:\n",
    "            print(f'Proba actual suba: {prediccion[1][1]:.2%} Esperando comprar, a las {hora_decimal}')\n",
    "            time.sleep(60)     \n"
   ]
  },
  {
   "cell_type": "markdown",
   "metadata": {},
   "source": [
    "## Deamon: el demonio"
   ]
  },
  {
   "cell_type": "code",
   "execution_count": 23,
   "metadata": {},
   "outputs": [
    {
     "name": "stdout",
     "output_type": "stream",
     "text": [
      "Son las 17.00778, fin de horario de operaciones: 17.0\n"
     ]
    }
   ],
   "source": [
    "HORA_INICIO_BOT = 11.55\n",
    "HORA_FIN_BOT = 17.0\n",
    "\n",
    "tk = pedirToken()\n",
    "modeloCompra = traerModelo('RF')\n",
    "conn = conectarBBDD()\n",
    "\n",
    "while True:\n",
    "    ahora = datetime.datetime.now()\n",
    "    hora_decimal = round(ahora.hour + ahora.minute/60 + ahora.second/3600,5)\n",
    "    \n",
    "    if hora_decimal < HORA_INICIO_BOT:\n",
    "        clear_output(wait=True)\n",
    "        print(f'Esperando a las {HORA_INICIO_BOT}, Son las:',hora_decimal)\n",
    "        time.sleep(1)\n",
    "        # Aca puede ejecutar tareas de preparacion de rueda\n",
    "        \n",
    "    else:\n",
    "        if hora_decimal < HORA_FIN_BOT:\n",
    "            ejecutar(modeloCompra)\n",
    "            \n",
    "        else:\n",
    "            clear_output(wait=True)\n",
    "            print(f'Son las {hora_decimal}, fin de horario de operaciones: {HORA_FIN_BOT}')\n",
    "\n",
    "            # Aca puede ejecutar tareas de finalizacion del dia\n",
    "            break\n"
   ]
  },
  {
   "cell_type": "code",
   "execution_count": null,
   "metadata": {},
   "outputs": [],
   "source": []
  },
  {
   "cell_type": "code",
   "execution_count": null,
   "metadata": {},
   "outputs": [],
   "source": []
  },
  {
   "cell_type": "code",
   "execution_count": null,
   "metadata": {},
   "outputs": [],
   "source": []
  }
 ],
 "metadata": {
  "kernelspec": {
   "display_name": "Python 3",
   "language": "python",
   "name": "python3"
  },
  "language_info": {
   "codemirror_mode": {
    "name": "ipython",
    "version": 3
   },
   "file_extension": ".py",
   "mimetype": "text/x-python",
   "name": "python",
   "nbconvert_exporter": "python",
   "pygments_lexer": "ipython3",
   "version": "3.8.5"
  },
  "toc": {
   "base_numbering": 1,
   "nav_menu": {},
   "number_sections": true,
   "sideBar": true,
   "skip_h1_title": false,
   "title_cell": "Table of Contents",
   "title_sidebar": "Contents",
   "toc_cell": false,
   "toc_position": {},
   "toc_section_display": true,
   "toc_window_display": true
  }
 },
 "nbformat": 4,
 "nbformat_minor": 4
}
