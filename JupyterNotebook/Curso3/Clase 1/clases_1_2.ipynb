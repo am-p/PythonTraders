{
 "cells": [
  {
   "cell_type": "markdown",
   "metadata": {},
   "source": [
    "# Tipos de BOTS"
   ]
  },
  {
   "cell_type": "markdown",
   "metadata": {},
   "source": [
    "BOTs de DataFeed / Screeners"
   ]
  },
  {
   "cell_type": "markdown",
   "metadata": {},
   "source": [
    "BOTs de Trading\n",
    "\n",
    "* Bots de Colocación de grandes órdenes, para no alterar precio\n",
    "* Bots de Colocación de órdenes, para obtener el mejor precio\n",
    "* Bots de Market Making\n",
    "* Bots de Arbitrajes en un mercado\n",
    "* Bots de Arbitrajes entre mercados\n",
    "* Bots de Arbitrajes estadísticos (en un mercado o entre mercados)\n",
    "* Bots de Hedging\n",
    "* Bots de Balanceo de carteras (optimización, riesgo, etc)\n",
    "* Bots de ruteo para seguimiento de índices (fondos, etfs)\n",
    "* Bots de scalping\n",
    "* Bots de swing trading\n",
    "\n",
    "\n",
    "BOTs estratégicos\n",
    "\n",
    "* Bots de detección de otros bots"
   ]
  },
  {
   "cell_type": "markdown",
   "metadata": {},
   "source": [
    "# API IOL"
   ]
  },
  {
   "cell_type": "markdown",
   "metadata": {},
   "source": [
    "## Pedir Token por primera vez"
   ]
  },
  {
   "cell_type": "code",
   "execution_count": 2,
   "metadata": {},
   "outputs": [],
   "source": [
    "from iol_user import *\n",
    "\n",
    "iol_user = USER\n",
    "iol_password = PASS"
   ]
  },
  {
   "cell_type": "code",
   "execution_count": 3,
   "metadata": {},
   "outputs": [],
   "source": [
    "import requests\n",
    "\n",
    "def pedirToken():\n",
    "    url = 'https://api.invertironline.com/token'\n",
    "    data = {\"username\" : iol_user, \"password\": iol_password, \"grant_type\":\"password\"}\n",
    "    r = requests.post(url = url, data = data).json()\n",
    "    return r\n",
    "\n",
    "tk = pedirToken()"
   ]
  },
  {
   "cell_type": "code",
   "execution_count": 10,
   "metadata": {},
   "outputs": [
    {
     "data": {
      "text/plain": [
       "{'access_token': '_agkGceQofNqUMCjEqf7U1NtUiu3RXxQlLG8I9tvGeaC2XWAgdnf6A-Z7r3eeZeV15iYZXttnAXa0hfR2qqXeh-bLc1gbMpqZMy_9-DNVak22O81zL1gEs0tpMqBbETnEvMOwbBqUtIpQVyM6rZGMewxYT3EPoc-CaEmjZCsH6QiePoZXGxrfiMFHUa1qC78HCqX3-VNxAO5V6NJ_urZHv6_gQQBIbynDazdgMQBpVUjkhO-PyrIsuuG_nGJRvW5R9wO5M6St-2MXZCg8DyuFY4plnNjsdpv3VbOEbUZWRi6aML8rqV8B3NAnts5LR2OqLFH9ZZhvKlpTCQW0u45rIr7cCjbZsUVPDjptQvqNLClyvbtps0DXl5az0DQ0yh_OAO-zXKLoGQzdutL1dSgFA',\n",
       " 'token_type': 'bearer',\n",
       " 'expires_in': 899,\n",
       " 'refresh_token': 'k1JPUqiE9C6lwOFqdjoGqDy-4_bmbhs9jVP8qYkwFNTOrXh96EwR5jpPOMdKJfwctssthNXuus9xf42TJoxpLaQueEOFj8a0Qx6Yp0ULIAS0-HtQq2Wx4udHuZjh-lB2ljy6S4V-wRD1wa4icj7fruaYWIgtydcSHqGDGU3y5raFerUxh2mNKKlWBin_dN95GOs1gX4jyDgD8Oh8CaCYdm9uObmQNgFSVwrleO9oVykpoZHXVkVXywne6z_-bCsSm62d9ehVhdyN4lujqSzihXi-lQ814htY-CKHRmgWq2JDGZPtGU2ArcAU-dwEYwCQX7uj3b9L0LoDDMWyD-AVWbUTZ0xGkQ373ZI4Au3wnAQmxG7S-SqPV0Fjh-OLjt5YIIkNfDzHdjFF8rqGaYJjIg',\n",
       " '.issued': 'Wed, 11 Nov 2020 02:23:23 GMT',\n",
       " '.expires': 'Wed, 11 Nov 2020 02:38:23 GMT',\n",
       " '.refreshexpires': 'Wed, 11 Nov 2020 03:23:23 GMT'}"
      ]
     },
     "execution_count": 10,
     "metadata": {},
     "output_type": "execute_result"
    }
   ],
   "source": [
    "tk"
   ]
  },
  {
   "cell_type": "code",
   "execution_count": 5,
   "metadata": {},
   "outputs": [
    {
     "data": {
      "text/plain": [
       "'_agkGceQofNqUMCjEqf7U1NtUiu3RXxQlLG8I9tvGeaC2XWAgdnf6A-Z7r3eeZeV15iYZXttnAXa0hfR2qqXeh-bLc1gbMpqZMy_9-DNVak22O81zL1gEs0tpMqBbETnEvMOwbBqUtIpQVyM6rZGMewxYT3EPoc-CaEmjZCsH6QiePoZXGxrfiMFHUa1qC78HCqX3-VNxAO5V6NJ_urZHv6_gQQBIbynDazdgMQBpVUjkhO-PyrIsuuG_nGJRvW5R9wO5M6St-2MXZCg8DyuFY4plnNjsdpv3VbOEbUZWRi6aML8rqV8B3NAnts5LR2OqLFH9ZZhvKlpTCQW0u45rIr7cCjbZsUVPDjptQvqNLClyvbtps0DXl5az0DQ0yh_OAO-zXKLoGQzdutL1dSgFA'"
      ]
     },
     "execution_count": 5,
     "metadata": {},
     "output_type": "execute_result"
    }
   ],
   "source": [
    "tk['access_token']"
   ]
  },
  {
   "cell_type": "markdown",
   "metadata": {},
   "source": [
    "## Saber la exporacion del Token"
   ]
  },
  {
   "cell_type": "code",
   "execution_count": 6,
   "metadata": {},
   "outputs": [
    {
     "data": {
      "text/plain": [
       "'Wed, 11 Nov 2020 02:38:23 GMT'"
      ]
     },
     "execution_count": 6,
     "metadata": {},
     "output_type": "execute_result"
    }
   ],
   "source": [
    "tk['.expires']"
   ]
  },
  {
   "cell_type": "code",
   "execution_count": 11,
   "metadata": {},
   "outputs": [],
   "source": [
    "import datetime as dt"
   ]
  },
  {
   "cell_type": "code",
   "execution_count": 12,
   "metadata": {},
   "outputs": [
    {
     "data": {
      "text/plain": [
       "datetime.datetime(2020, 11, 11, 2, 38, 23)"
      ]
     },
     "execution_count": 12,
     "metadata": {},
     "output_type": "execute_result"
    }
   ],
   "source": [
    "dt.datetime.strptime(tk['.expires'],'%a, %d %b %Y %H:%M:%S GMT')"
   ]
  },
  {
   "cell_type": "code",
   "execution_count": 13,
   "metadata": {},
   "outputs": [
    {
     "data": {
      "text/plain": [
       "datetime.datetime(2020, 11, 11, 2, 25, 4, 486047)"
      ]
     },
     "execution_count": 13,
     "metadata": {},
     "output_type": "execute_result"
    }
   ],
   "source": [
    "dt.datetime.utcnow()"
   ]
  },
  {
   "cell_type": "code",
   "execution_count": 15,
   "metadata": {},
   "outputs": [
    {
     "data": {
      "text/plain": [
       "datetime.timedelta(seconds=760, microseconds=254055)"
      ]
     },
     "execution_count": 15,
     "metadata": {},
     "output_type": "execute_result"
    }
   ],
   "source": [
    "dt.datetime.strptime(tk['.expires'],'%a, %d %b %Y %H:%M:%S GMT') - dt.datetime.utcnow()"
   ]
  },
  {
   "cell_type": "code",
   "execution_count": null,
   "metadata": {},
   "outputs": [],
   "source": []
  },
  {
   "cell_type": "markdown",
   "metadata": {},
   "source": [
    "Con ambas cosas puedo calcular la diferencia"
   ]
  },
  {
   "cell_type": "code",
   "execution_count": 16,
   "metadata": {},
   "outputs": [
    {
     "data": {
      "text/plain": [
       "datetime.timedelta(seconds=732, microseconds=751677)"
      ]
     },
     "execution_count": 16,
     "metadata": {},
     "output_type": "execute_result"
    }
   ],
   "source": [
    "def checkToken(tk):\n",
    "    exp = dt.datetime.strptime(tk['.expires'],'%a, %d %b %Y %H:%M:%S GMT')\n",
    "    ahora = dt.datetime.utcnow()\n",
    "    tiempo = exp-ahora\n",
    "    return tiempo\n",
    "\n",
    "checkToken(tk)"
   ]
  },
  {
   "cell_type": "markdown",
   "metadata": {},
   "source": [
    "Bien, el punto acá es que como la diferencia es positiva los días estan en 0, veamos:"
   ]
  },
  {
   "cell_type": "code",
   "execution_count": 22,
   "metadata": {},
   "outputs": [
    {
     "data": {
      "text/plain": [
       "(0, 613)"
      ]
     },
     "execution_count": 22,
     "metadata": {},
     "output_type": "execute_result"
    }
   ],
   "source": [
    "checkToken(tk).days, checkToken(tk).seconds"
   ]
  },
  {
   "cell_type": "markdown",
   "metadata": {},
   "source": [
    "Como vemos en ese ejemplo me quedan aun o dias, 716 segundos, así que podría seguir usando mi access_token"
   ]
  },
  {
   "cell_type": "markdown",
   "metadata": {},
   "source": [
    "Pero si se me expira el token no me quedan segundos negativos sino que queda days=-1 y los segundos comienzan cuenta regresiva desde 86400 que son 24 x 60 x 60 "
   ]
  },
  {
   "cell_type": "markdown",
   "metadata": {},
   "source": [
    "## Actualizar Token (En caso que esté expirado)"
   ]
  },
  {
   "cell_type": "markdown",
   "metadata": {},
   "source": [
    "Entonces armemos la función para que solo vuelva a pedir el access_token en caso de que el actual esté expirado:"
   ]
  },
  {
   "cell_type": "code",
   "execution_count": 21,
   "metadata": {
    "scrolled": true
   },
   "outputs": [
    {
     "data": {
      "text/plain": [
       "{'access_token': '_agkGceQofNqUMCjEqf7U1NtUiu3RXxQlLG8I9tvGeaC2XWAgdnf6A-Z7r3eeZeV15iYZXttnAXa0hfR2qqXeh-bLc1gbMpqZMy_9-DNVak22O81zL1gEs0tpMqBbETnEvMOwbBqUtIpQVyM6rZGMewxYT3EPoc-CaEmjZCsH6QiePoZXGxrfiMFHUa1qC78HCqX3-VNxAO5V6NJ_urZHv6_gQQBIbynDazdgMQBpVUjkhO-PyrIsuuG_nGJRvW5R9wO5M6St-2MXZCg8DyuFY4plnNjsdpv3VbOEbUZWRi6aML8rqV8B3NAnts5LR2OqLFH9ZZhvKlpTCQW0u45rIr7cCjbZsUVPDjptQvqNLClyvbtps0DXl5az0DQ0yh_OAO-zXKLoGQzdutL1dSgFA',\n",
       " 'token_type': 'bearer',\n",
       " 'expires_in': 899,\n",
       " 'refresh_token': 'k1JPUqiE9C6lwOFqdjoGqDy-4_bmbhs9jVP8qYkwFNTOrXh96EwR5jpPOMdKJfwctssthNXuus9xf42TJoxpLaQueEOFj8a0Qx6Yp0ULIAS0-HtQq2Wx4udHuZjh-lB2ljy6S4V-wRD1wa4icj7fruaYWIgtydcSHqGDGU3y5raFerUxh2mNKKlWBin_dN95GOs1gX4jyDgD8Oh8CaCYdm9uObmQNgFSVwrleO9oVykpoZHXVkVXywne6z_-bCsSm62d9ehVhdyN4lujqSzihXi-lQ814htY-CKHRmgWq2JDGZPtGU2ArcAU-dwEYwCQX7uj3b9L0LoDDMWyD-AVWbUTZ0xGkQ373ZI4Au3wnAQmxG7S-SqPV0Fjh-OLjt5YIIkNfDzHdjFF8rqGaYJjIg',\n",
       " '.issued': 'Wed, 11 Nov 2020 02:23:23 GMT',\n",
       " '.expires': 'Wed, 11 Nov 2020 02:38:23 GMT',\n",
       " '.refreshexpires': 'Wed, 11 Nov 2020 03:23:23 GMT'}"
      ]
     },
     "execution_count": 21,
     "metadata": {},
     "output_type": "execute_result"
    }
   ],
   "source": [
    "def actualizarToken(tk):\n",
    "    \n",
    "    # Calculo el tiempo que le queda al tk\n",
    "    import datetime as dt\n",
    "    exp = dt.datetime.strptime(tk['.expires'],'%a, %d %b %Y %H:%M:%S GMT')\n",
    "    ahora = dt.datetime.utcnow()\n",
    "    tiempo = exp-ahora    \n",
    "    dias = tiempo.days\n",
    "    \n",
    "    # Me fijo si está expirado\n",
    "    if checkToken(tk).days == 0:\n",
    "        tokenOk = tk\n",
    "    else:\n",
    "        tokenOk = pedirToken()\n",
    "        \n",
    "    # Devuelvo el token actualizado\n",
    "    return tokenOk\n",
    "    \n",
    "actualizarToken(tk)"
   ]
  },
  {
   "cell_type": "markdown",
   "metadata": {},
   "source": [
    "## Uso de las funciones de Token"
   ]
  },
  {
   "cell_type": "markdown",
   "metadata": {},
   "source": [
    "Ya con esas funciones puedo hacer lo siguiente:\n",
    "    \n",
    "* Si recien arranco a usar la API pongo tk=pedirToken() y ya me guardo en memoria mi token\n",
    "* Luego una vez que use la API lo que hago es es usar tk = token(tk) (esto no va a volver a pedir un token a menos que el que tenga como parámetro esté expirado, en ese caso lo sobreescribirá, caso contrario quedará el mismo que estaba"
   ]
  },
  {
   "cell_type": "markdown",
   "metadata": {},
   "source": [
    "Es decir solo cuando comience nuestro script usaremos:"
   ]
  },
  {
   "cell_type": "code",
   "execution_count": 66,
   "metadata": {},
   "outputs": [],
   "source": [
    "tk = pedirToken()"
   ]
  },
  {
   "cell_type": "markdown",
   "metadata": {},
   "source": [
    "y a partir de allí antes de cada request usaremos:"
   ]
  },
  {
   "cell_type": "code",
   "execution_count": 63,
   "metadata": {},
   "outputs": [],
   "source": [
    "tk = actualizarToken(tk)"
   ]
  },
  {
   "cell_type": "markdown",
   "metadata": {},
   "source": [
    "# MarketData"
   ]
  },
  {
   "cell_type": "markdown",
   "metadata": {},
   "source": [
    "## Precios históricos"
   ]
  },
  {
   "cell_type": "code",
   "execution_count": 27,
   "metadata": {},
   "outputs": [],
   "source": [
    "import pandas as pd"
   ]
  },
  {
   "cell_type": "markdown",
   "metadata": {},
   "source": [
    "Empecemos con consultas de precios históricos, para ello tenemos los siguientes endpoints:\n",
    "\n",
    "    * url_base = https://api.invertironline.com/api/v2/\n",
    "    * endpoint = bCBA/Titulos/'+ticker+'/Cotizacion/seriehistorica/'+FROM+'/'+TO+'/sinAjustar\n",
    "    * endpoint = bCBA/Titulos/'+ticker+'/Cotizacion/seriehistorica/'+FROM+'/'+TO+'/ajustada    "
   ]
  },
  {
   "cell_type": "markdown",
   "metadata": {},
   "source": [
    "Como vemos los parámetros debemos pasarlos en la URL así que vamos a armar la función con ese criterio"
   ]
  },
  {
   "cell_type": "markdown",
   "metadata": {},
   "source": [
    "La línea del resample es necesaria porque en una rueda hábil en horario de mercado me devuelve la serie de tiempo en dias pero la ultima rueda me devuelve todas las operaciones del día\n"
   ]
  },
  {
   "cell_type": "code",
   "execution_count": 25,
   "metadata": {},
   "outputs": [
    {
     "data": {
      "text/plain": [
       "Index(['ultimoPrecio', 'variacion', 'apertura', 'maximo', 'minimo',\n",
       "       'tendencia', 'cierreAnterior', 'montoOperado', 'volumenNominal',\n",
       "       'precioPromedio', 'precioAjuste', 'cantidadOperaciones'],\n",
       "      dtype='object')"
      ]
     },
     "execution_count": 25,
     "metadata": {},
     "output_type": "execute_result"
    }
   ],
   "source": [
    "def getHist(ticker,FROM,TO):\n",
    "    \n",
    "    # Configuración del llamado a la API\n",
    "    url_base= 'https://api.invertironline.com/api/v2/'\n",
    "    endpoint = 'bCBA/Titulos/'+ticker+'/Cotizacion/seriehistorica/'+FROM+'/'+TO+'/sinAjustar'\n",
    "    url = url_base + endpoint\n",
    "    headers = {\"Authorization\" : \"Bearer \"+ tk['access_token']}\n",
    "    \n",
    "    # Llamado a la API\n",
    "    data = requests.get(url = url, headers = headers).json()\n",
    "    \n",
    "    # Acomodamos la tabla\n",
    "    tabla = pd.DataFrame(data).set_index('fechaHora')\n",
    "    tabla.index = pd.to_datetime(tabla.index)\n",
    "    tabla = tabla.resample('d').last()       \n",
    "    tabla = tabla.drop(['moneda','interesesAbiertos','puntas'], axis=1)\n",
    "\n",
    "    return(tabla.dropna())\n",
    "\n",
    "# Antes de pedir los precios actualizamos el token\n",
    "tk = actualizarToken(tk)\n",
    "\n",
    "# Pedimos los precios\n",
    "data = getHist('GGAL',FROM='2015-01-01',TO='2019-05-05')\n",
    "\n",
    "# mostramos las columnas de lo que trajimos\n",
    "data.columns"
   ]
  },
  {
   "cell_type": "markdown",
   "metadata": {},
   "source": [
    "Y mostramos el primer dato todo lo que nos trae, no imprimo toda la tabla porque es inmensa"
   ]
  },
  {
   "cell_type": "code",
   "execution_count": 26,
   "metadata": {
    "scrolled": true
   },
   "outputs": [
    {
     "data": {
      "text/plain": [
       "ultimoPrecio                18.65\n",
       "variacion                    0.81\n",
       "apertura                    18.75\n",
       "maximo                       19.1\n",
       "minimo                      18.45\n",
       "tendencia                    sube\n",
       "cierreAnterior               18.5\n",
       "montoOperado           7.7874e+06\n",
       "volumenNominal             413569\n",
       "precioPromedio             18.829\n",
       "precioAjuste                    0\n",
       "cantidadOperaciones           205\n",
       "Name: 2015-01-02 00:00:00, dtype: object"
      ]
     },
     "execution_count": 26,
     "metadata": {},
     "output_type": "execute_result"
    }
   ],
   "source": [
    "data.iloc[0]"
   ]
  },
  {
   "cell_type": "markdown",
   "metadata": {},
   "source": [
    "## Precios históricos ajustados"
   ]
  },
  {
   "cell_type": "code",
   "execution_count": 28,
   "metadata": {},
   "outputs": [
    {
     "data": {
      "text/plain": [
       "ultimoPrecio              18.4885\n",
       "variacion                       0\n",
       "apertura                  18.5877\n",
       "maximo                    18.9346\n",
       "minimo                    18.2903\n",
       "tendencia                    sube\n",
       "cierreAnterior                  0\n",
       "montoOperado           7.7874e+06\n",
       "volumenNominal             413569\n",
       "precioPromedio                  0\n",
       "precioAjuste                    0\n",
       "cantidadOperaciones           205\n",
       "Name: 2015-01-02 00:00:00, dtype: object"
      ]
     },
     "execution_count": 28,
     "metadata": {},
     "output_type": "execute_result"
    }
   ],
   "source": [
    "def getHist(ticker,FROM,TO, Aj=False):\n",
    "    \n",
    "    # Configuración del llamado a la API\n",
    "    url_base= 'https://api.invertironline.com/api/v2/'    \n",
    "\n",
    "    if Aj:\n",
    "        endpoint = 'bCBA/Titulos/'+ticker+'/Cotizacion/seriehistorica/'+FROM+'/'+TO+'/ajustada'\n",
    "    else:\n",
    "        endpoint = 'bCBA/Titulos/'+ticker+'/Cotizacion/seriehistorica/'+FROM+'/'+TO+'/sinAjustar'\n",
    "\n",
    "    url = url_base + endpoint\n",
    "    headers = {\"Authorization\" : \"Bearer \"+ tk['access_token']}\n",
    "    \n",
    "    # Llamado a la API\n",
    "    data = requests.get(url = url, headers = headers).json()\n",
    "    \n",
    "    # Acomodamos la tabla\n",
    "    tabla = pd.DataFrame(data).set_index('fechaHora')\n",
    "    tabla.index = pd.to_datetime(tabla.index)\n",
    "    tabla = tabla.resample('d').last()       \n",
    "    tabla = tabla.drop(['moneda','interesesAbiertos','puntas'], axis=1)\n",
    "\n",
    "    return(tabla.dropna())\n",
    "\n",
    "# Antes de pedir los precios actualizamos el token\n",
    "tk = actualizarToken(tk)\n",
    "\n",
    "# Pedimos los precios, esta vez ajustados\n",
    "data = getHist('GGAL',FROM='2015-01-01',TO='2019-05-05', Aj=True)\n",
    "\n",
    "# mostramos las columnas de lo que trajimos\n",
    "data.iloc[0]"
   ]
  },
  {
   "cell_type": "markdown",
   "metadata": {},
   "source": [
    "## Listado de FCIs"
   ]
  },
  {
   "cell_type": "code",
   "execution_count": 29,
   "metadata": {},
   "outputs": [
    {
     "data": {
      "text/plain": [
       "Index(['variacion', 'ultimoOperado', 'horizonteInversion', 'rescate',\n",
       "       'invierte', 'tipoFondo', 'avisoHorarioEjecucion',\n",
       "       'tipoAdministradoraTituloFCI', 'fechaCorte', 'codigoBloomberg',\n",
       "       'perfilInversor', 'informeMensual', 'reglamentoGestion', 'simbolo',\n",
       "       'descripcion', 'pais', 'mercado', 'tipo', 'plazo', 'moneda'],\n",
       "      dtype='object')"
      ]
     },
     "execution_count": 29,
     "metadata": {},
     "output_type": "execute_result"
    }
   ],
   "source": [
    "def getFCI():\n",
    "    \n",
    "    # Configuración del llamado a la API\n",
    "    url_base= 'https://api.invertironline.com/api/v2/'\n",
    "    endpoint = 'Titulos/FCI'\n",
    "    url = url_base + endpoint\n",
    "    headers = {\"Authorization\" : \"Bearer \"+ tk['access_token']}\n",
    "    \n",
    "    # Llamado a la API\n",
    "    data = requests.get(url = url, headers = headers).json()\n",
    "    \n",
    "    # Acomodamos la tabla\n",
    "    tabla = pd.DataFrame(data)\n",
    "    return(tabla)\n",
    "\n",
    "tk = actualizarToken(tk) \n",
    "fcis = getFCI()\n",
    "\n",
    "# Listemos las columnas para ver todo lo que trae\n",
    "fcis.columns"
   ]
  },
  {
   "cell_type": "markdown",
   "metadata": {},
   "source": [
    "Agrupamos por tipo de fondo como para tener un pantallazo de la variedad:"
   ]
  },
  {
   "cell_type": "code",
   "execution_count": 30,
   "metadata": {
    "scrolled": true
   },
   "outputs": [
    {
     "data": {
      "text/plain": [
       "tipoFondo\n",
       "plazo_fijo_pesos        2\n",
       "renta_fija_dolares      1\n",
       "renta_fija_pesos        4\n",
       "renta_mixta_dolares     1\n",
       "renta_mixta_pesos       1\n",
       "renta_variable_pesos    4\n",
       "dtype: int64"
      ]
     },
     "execution_count": 30,
     "metadata": {},
     "output_type": "execute_result"
    }
   ],
   "source": [
    "fcis.groupby('tipoFondo').size()"
   ]
  },
  {
   "cell_type": "markdown",
   "metadata": {},
   "source": [
    "Iteramos como para acceder a los links web de los reportes:"
   ]
  },
  {
   "cell_type": "code",
   "execution_count": 33,
   "metadata": {},
   "outputs": [
    {
     "name": "stdout",
     "output_type": "stream",
     "text": [
      "PRTAVAB \n",
      " https://s3.us-east-1.amazonaws.com/resources.invertironline.com/AssetManagement/FCI/Datasheets/SAM/Premier%20Renta%20Variable.pdf \n",
      "\n",
      "\n",
      "PCOMAGB \n",
      " https://s3.us-east-1.amazonaws.com/resources.invertironline.com/AssetManagement/FCI/Datasheets/SAM/Premier%20Commodities.pdf \n",
      "\n",
      "\n",
      "CONRETO:AR \n",
      " https://s3.us-east-1.amazonaws.com/resources.invertironline.com/AssetManagement/FCI/Datasheets/Adcap/Retorno%20Total.pdf \n",
      "\n",
      "\n",
      "COIOLAC:AR \n",
      " https://s3.us-east-1.amazonaws.com/resources.invertironline.com/AssetManagement/FCI/Datasheets/Adcap/IOL%20Acciones.pdf \n",
      "\n",
      "\n"
     ]
    }
   ],
   "source": [
    "for idx, fci in fcis.iterrows():\n",
    "    if fci.tipoFondo == 'renta_variable_pesos':\n",
    "        print(fci.codigoBloomberg, '\\n', fci.informeMensual,'\\n\\n')"
   ]
  },
  {
   "cell_type": "code",
   "execution_count": 34,
   "metadata": {
    "scrolled": false
   },
   "outputs": [
    {
     "data": {
      "text/plain": [
       "variacion                                                                   3.22\n",
       "ultimoOperado                                                             26.293\n",
       "horizonteInversion                                                   Largo Plazo\n",
       "rescate                                                                       t2\n",
       "invierte                       Acciones cotizantes en la Bolsa de Comercio de...\n",
       "tipoFondo                                                   renta_variable_pesos\n",
       "avisoHorarioEjecucion          siguiente dia hábil, debido a que fue ingresad...\n",
       "tipoAdministradoraTituloFCI                                          supervielle\n",
       "fechaCorte                                                   1900-01-01T15:00:00\n",
       "codigoBloomberg                                                          PRTAVAB\n",
       "perfilInversor                 Para inversores agresivos que deseen un increm...\n",
       "informeMensual                 https://s3.us-east-1.amazonaws.com/resources.i...\n",
       "reglamentoGestion              https://s3.amazonaws.com/resources.invertironl...\n",
       "simbolo                                                                  PRTAVAB\n",
       "descripcion                                     Premier Renta Variable - Clase B\n",
       "pais                                                                   argentina\n",
       "mercado                                                                     bcba\n",
       "tipo                                                       FondoComundeInversion\n",
       "plazo                                                                         t0\n",
       "moneda                                                            peso_Argentino\n",
       "Name: 0, dtype: object"
      ]
     },
     "execution_count": 34,
     "metadata": {},
     "output_type": "execute_result"
    }
   ],
   "source": [
    "fcis.loc[0]"
   ]
  },
  {
   "cell_type": "markdown",
   "metadata": {},
   "source": [
    "### FCIs Tipos de Fondos / Administradoras"
   ]
  },
  {
   "cell_type": "markdown",
   "metadata": {},
   "source": [
    "También podemos consultar a la API los tipos de fondos y las administradoras con los siguientes endpoints:"
   ]
  },
  {
   "cell_type": "code",
   "execution_count": 35,
   "metadata": {},
   "outputs": [
    {
     "data": {
      "text/plain": [
       "[{'identificador': 'plazo_fijo_pesos', 'nombre': 'Plazos Fijos Pesos'},\n",
       " {'identificador': 'renta_fija_pesos', 'nombre': 'Renta Fija Pesos'},\n",
       " {'identificador': 'renta_fija_dolares', 'nombre': 'Renta Fija Dólares'},\n",
       " {'identificador': 'renta_mixta_pesos', 'nombre': 'Renta Mixta Pesos'},\n",
       " {'identificador': 'renta_variable_pesos', 'nombre': 'Renta Variable Pesos'}]"
      ]
     },
     "execution_count": 35,
     "metadata": {},
     "output_type": "execute_result"
    }
   ],
   "source": [
    "def getFCI_TipoFondos():\n",
    "    \n",
    "    # Configuración del llamado a la API\n",
    "    url_base= 'https://api.invertironline.com/api/v2/'\n",
    "    endpoint = 'Titulos/FCI/TipoFondos'\n",
    "    url = url_base + endpoint\n",
    "    headers = {\"Authorization\" : \"Bearer \"+ tk['access_token']}\n",
    "    \n",
    "    # Llamado a la API\n",
    "    data = requests.get(url = url, headers = headers).json()\n",
    "    \n",
    "    return(data)\n",
    "\n",
    "tk = actualizarToken(tk) \n",
    "getFCI_TipoFondos()"
   ]
  },
  {
   "cell_type": "code",
   "execution_count": 36,
   "metadata": {},
   "outputs": [
    {
     "data": {
      "text/plain": [
       "[{'nombre': 'CONVEXITY',\n",
       "  'descripcion': 'Administradora FCI para suscripcion y rescates'},\n",
       " {'nombre': 'SUPERVIELLE',\n",
       "  'descripcion': 'Administradora FCI para suscripcion y rescates'},\n",
       " {'nombre': 'Allaria',\n",
       "  'descripcion': 'Administradora FCI para suscripcion y rescates'}]"
      ]
     },
     "execution_count": 36,
     "metadata": {},
     "output_type": "execute_result"
    }
   ],
   "source": [
    "def getFCI_Administradoras():\n",
    "    \n",
    "    # Configuración del llamado a la API\n",
    "    url_base= 'https://api.invertironline.com/api/v2/'\n",
    "    endpoint = 'Titulos/FCI/Administradoras'\n",
    "    url = url_base + endpoint\n",
    "    headers = {\"Authorization\" : \"Bearer \"+ tk['access_token']}\n",
    "    \n",
    "    # Llamado a la API\n",
    "    data = requests.get(url = url, headers = headers).json()\n",
    "    \n",
    "    return(data)\n",
    "\n",
    "tk = actualizarToken(tk) \n",
    "getFCI_Administradoras()"
   ]
  },
  {
   "cell_type": "markdown",
   "metadata": {},
   "source": [
    "## Consulta de títulos"
   ]
  },
  {
   "cell_type": "markdown",
   "metadata": {},
   "source": [
    "Tenemos un endpoint genérico que nos devuelve info general de un título o ticker"
   ]
  },
  {
   "cell_type": "code",
   "execution_count": 39,
   "metadata": {},
   "outputs": [
    {
     "data": {
      "text/plain": [
       "{'simbolo': 'AL30D',\n",
       " 'descripcion': 'Bono Rep. Argentina Usd Step Up 2030',\n",
       " 'pais': 'argentina',\n",
       " 'mercado': 'bcba',\n",
       " 'tipo': 'TITULOSPUBLICOS',\n",
       " 'plazo': 't2',\n",
       " 'moneda': 'dolar_Estadounidense'}"
      ]
     },
     "execution_count": 39,
     "metadata": {},
     "output_type": "execute_result"
    }
   ],
   "source": [
    "def titulo(ticker):\n",
    "    \n",
    "    # Configuración del llamado a la API\n",
    "    url_base= 'https://api.invertironline.com/api/v2/'\n",
    "    endpoint = 'bcba/Titulos/'+ticker\n",
    "    url = url_base + endpoint\n",
    "    headers = {\"Authorization\" : \"Bearer \"+ tk['access_token']}\n",
    "    \n",
    "    # Llamado a la API\n",
    "    data = requests.get(url = url, headers = headers).json()\n",
    "    \n",
    "    return(data)\n",
    "\n",
    "tk = actualizarToken(tk) \n",
    "titulo('AL30D')"
   ]
  },
  {
   "cell_type": "markdown",
   "metadata": {},
   "source": [
    "El mismo endpoint sirve para CEDEARs, Acciones, Bonos, FCIs, etc"
   ]
  },
  {
   "cell_type": "markdown",
   "metadata": {},
   "source": [
    "Ejemplo con un CEDEAR"
   ]
  },
  {
   "cell_type": "code",
   "execution_count": 41,
   "metadata": {},
   "outputs": [
    {
     "data": {
      "text/plain": [
       "{'simbolo': 'AAPL',\n",
       " 'descripcion': 'Apple',\n",
       " 'pais': 'argentina',\n",
       " 'mercado': 'bcba',\n",
       " 'tipo': 'CEDEARS',\n",
       " 'plazo': 't2',\n",
       " 'moneda': 'peso_Argentino'}"
      ]
     },
     "execution_count": 41,
     "metadata": {},
     "output_type": "execute_result"
    }
   ],
   "source": [
    "tk = actualizarToken(tk) \n",
    "titulo('AAPL')"
   ]
  },
  {
   "cell_type": "markdown",
   "metadata": {},
   "source": [
    "Ejemplo con una acción del panel general"
   ]
  },
  {
   "cell_type": "code",
   "execution_count": 42,
   "metadata": {},
   "outputs": [
    {
     "data": {
      "text/plain": [
       "{'simbolo': 'CELU',\n",
       " 'descripcion': 'Celulosa',\n",
       " 'pais': 'argentina',\n",
       " 'mercado': 'bcba',\n",
       " 'tipo': 'ACCIONES',\n",
       " 'plazo': 't2',\n",
       " 'moneda': 'peso_Argentino'}"
      ]
     },
     "execution_count": 42,
     "metadata": {},
     "output_type": "execute_result"
    }
   ],
   "source": [
    "tk = actualizarToken(tk) \n",
    "titulo('CELU')"
   ]
  },
  {
   "cell_type": "markdown",
   "metadata": {},
   "source": [
    "Ejemplo con un FCI"
   ]
  },
  {
   "cell_type": "code",
   "execution_count": 43,
   "metadata": {},
   "outputs": [
    {
     "data": {
      "text/plain": [
       "{'simbolo': 'PRTAVAB',\n",
       " 'descripcion': 'Premier Renta Variable - Clase B',\n",
       " 'pais': 'argentina',\n",
       " 'mercado': 'bcba',\n",
       " 'tipo': 'FondoComundeInversion',\n",
       " 'plazo': 't0',\n",
       " 'moneda': 'peso_Argentino'}"
      ]
     },
     "execution_count": 43,
     "metadata": {},
     "output_type": "execute_result"
    }
   ],
   "source": [
    "tk = actualizarToken(tk) \n",
    "titulo('PRTAVAB')"
   ]
  },
  {
   "cell_type": "markdown",
   "metadata": {},
   "source": [
    "## Instrumentos por pais"
   ]
  },
  {
   "cell_type": "code",
   "execution_count": 44,
   "metadata": {},
   "outputs": [
    {
     "data": {
      "text/plain": [
       "[{'instrumento': 'Acciones', 'pais': 'argentina'},\n",
       " {'instrumento': 'Bonos', 'pais': 'argentina'},\n",
       " {'instrumento': 'Opciones', 'pais': 'argentina'},\n",
       " {'instrumento': 'Cauciones', 'pais': 'argentina'},\n",
       " {'instrumento': 'Futuros', 'pais': 'argentina'}]"
      ]
     },
     "execution_count": 44,
     "metadata": {},
     "output_type": "execute_result"
    }
   ],
   "source": [
    "def instrumentos(pais):\n",
    "    \n",
    "    # Configuración del llamado a la API\n",
    "    url_base= 'https://api.invertironline.com/api/v2/'\n",
    "    endpoint = pais+'/Titulos/Cotizacion/Instrumentos'\n",
    "    url = url_base + endpoint\n",
    "    headers = {\"Authorization\" : \"Bearer \"+ tk['access_token']}\n",
    "    \n",
    "    # Llamado a la API\n",
    "    data = requests.get(url = url, headers = headers).json()\n",
    "    \n",
    "    return(data)\n",
    "\n",
    "tk = actualizarToken(tk) \n",
    "instrumentos('argentina')"
   ]
  },
  {
   "cell_type": "markdown",
   "metadata": {},
   "source": [
    "Consultamos ahora los instrumentos disponibles para Estados Unidos"
   ]
  },
  {
   "cell_type": "code",
   "execution_count": 45,
   "metadata": {},
   "outputs": [
    {
     "data": {
      "text/plain": [
       "[{'instrumento': 'Acciones', 'pais': 'estados_Unidos'},\n",
       " {'instrumento': 'Bonos', 'pais': 'estados_Unidos'},\n",
       " {'instrumento': 'Etfs', 'pais': 'estados_Unidos'},\n",
       " {'instrumento': 'Monedas', 'pais': 'estados_Unidos'}]"
      ]
     },
     "execution_count": 45,
     "metadata": {},
     "output_type": "execute_result"
    }
   ],
   "source": [
    "instrumentos('estados_unidos')"
   ]
  },
  {
   "cell_type": "markdown",
   "metadata": {},
   "source": [
    "## Paneles de un instrumento"
   ]
  },
  {
   "cell_type": "code",
   "execution_count": 46,
   "metadata": {},
   "outputs": [
    {
     "data": {
      "text/plain": [
       "[{'panel': 'Merval'},\n",
       " {'panel': 'Panel General'},\n",
       " {'panel': 'Merval 25'},\n",
       " {'panel': 'Merval Argentina'},\n",
       " {'panel': 'Burcap'},\n",
       " {'panel': 'CEDEARs'}]"
      ]
     },
     "execution_count": 46,
     "metadata": {},
     "output_type": "execute_result"
    }
   ],
   "source": [
    "def paneles(pais, instrumento):\n",
    "    \n",
    "    # Configuración del llamado a la API\n",
    "    url_base= 'https://api.invertironline.com/api/v2/'\n",
    "    endpoint = pais+'/Titulos/Cotizacion/Paneles/'+instrumento\n",
    "    url = url_base + endpoint\n",
    "    headers = {\"Authorization\" : \"Bearer \"+ tk['access_token']}\n",
    "    \n",
    "    # Llamado a la API\n",
    "    data = requests.get(url = url, headers = headers).json()\n",
    "    \n",
    "    return(data)\n",
    "\n",
    "tk = actualizarToken(tk) \n",
    "paneles(pais='argentina', instrumento='Acciones')"
   ]
  },
  {
   "cell_type": "markdown",
   "metadata": {},
   "source": [
    "Consultemos los paneles para acciones de EEUU"
   ]
  },
  {
   "cell_type": "code",
   "execution_count": 47,
   "metadata": {},
   "outputs": [
    {
     "data": {
      "text/plain": [
       "[{'panel': 'Dow Jones Industrial'},\n",
       " {'panel': 'Dow Jones Transportation'},\n",
       " {'panel': 'Dow Jones Utilities'},\n",
       " {'panel': 'Nasdaq 100'},\n",
       " {'panel': 'SP100'},\n",
       " {'panel': 'SP500'},\n",
       " {'panel': 'SP500 Value'},\n",
       " {'panel': 'SP500 Growth'},\n",
       " {'panel': 'SP400 MidCap'},\n",
       " {'panel': 'SP400 MidCap Value'},\n",
       " {'panel': 'S400 MidCap Growth'},\n",
       " {'panel': 'SP600 SmallCap'},\n",
       " {'panel': 'SP600 SmallCap Value'},\n",
       " {'panel': 'SP600 SmallCap Growth'},\n",
       " {'panel': 'SP500 Dividendos'},\n",
       " {'panel': 'ADRs'}]"
      ]
     },
     "execution_count": 47,
     "metadata": {},
     "output_type": "execute_result"
    }
   ],
   "source": [
    "tk = actualizarToken(tk) \n",
    "paneles(pais='estados_unidos', instrumento='Acciones')"
   ]
  },
  {
   "cell_type": "code",
   "execution_count": 48,
   "metadata": {},
   "outputs": [
    {
     "data": {
      "text/plain": [
       "[{'panel': 'Todos'},\n",
       " {'panel': 'Acciones Desarrollados'},\n",
       " {'panel': 'Acciones Emergentes'},\n",
       " {'panel': 'Acciones Financieras'},\n",
       " {'panel': 'Acciones Energéticas'},\n",
       " {'panel': 'Acciones Tecnológicas'},\n",
       " {'panel': 'Acciones Consumo Básico'},\n",
       " {'panel': 'Acciones Consumo Durable'},\n",
       " {'panel': 'Acciones Salud'},\n",
       " {'panel': 'Acciones Industriales'},\n",
       " {'panel': 'Acciones Materiales'},\n",
       " {'panel': 'Acciones Servicios Básicos'},\n",
       " {'panel': 'Bonos'},\n",
       " {'panel': 'Commodities'},\n",
       " {'panel': 'Monedas'},\n",
       " {'panel': 'Inmuebles'},\n",
       " {'panel': 'Estrategias Avanzadas'},\n",
       " {'panel': 'Apalancados Alcistas'},\n",
       " {'panel': 'Apalancados Bajistas'}]"
      ]
     },
     "execution_count": 48,
     "metadata": {},
     "output_type": "execute_result"
    }
   ],
   "source": [
    "tk = actualizarToken(tk) \n",
    "paneles(pais='estados_unidos', instrumento='Etfs')"
   ]
  },
  {
   "cell_type": "code",
   "execution_count": 49,
   "metadata": {},
   "outputs": [
    {
     "data": {
      "text/plain": [
       "[{'panel': 'De Acciones'},\n",
       " {'panel': 'De Bonos'},\n",
       " {'panel': 'De Cedears'},\n",
       " {'panel': 'In-the-Money'},\n",
       " {'panel': 'Out-the-Money'},\n",
       " {'panel': 'Calls'},\n",
       " {'panel': 'Puts'}]"
      ]
     },
     "execution_count": 49,
     "metadata": {},
     "output_type": "execute_result"
    }
   ],
   "source": [
    "tk = actualizarToken(tk) \n",
    "paneles(pais='argentina', instrumento='Opciones')"
   ]
  },
  {
   "cell_type": "markdown",
   "metadata": {},
   "source": [
    "## Paneles de precios"
   ]
  },
  {
   "cell_type": "markdown",
   "metadata": {},
   "source": [
    "Este es el endpoint mas poderoso de la API"
   ]
  },
  {
   "cell_type": "code",
   "execution_count": 50,
   "metadata": {},
   "outputs": [
    {
     "data": {
      "text/plain": [
       "Index(['puntas', 'ultimoPrecio', 'variacionPorcentual', 'apertura', 'maximo',\n",
       "       'minimo', 'ultimoCierre', 'volumen', 'cantidadOperaciones', 'fecha',\n",
       "       'tipoOpcion', 'precioEjercicio', 'fechaVencimiento', 'mercado',\n",
       "       'moneda'],\n",
       "      dtype='object')"
      ]
     },
     "execution_count": 50,
     "metadata": {},
     "output_type": "execute_result"
    }
   ],
   "source": [
    "def panel(instrumento, panel,pais):\n",
    "    \n",
    "    # Configuración del llamado a la API\n",
    "    url_base= 'https://api.invertironline.com/api/v2/'\n",
    "    endpoint = 'Cotizaciones/'+instrumento+'/'+panel+'/'+pais\n",
    "    url = url_base + endpoint\n",
    "    headers = {\"Authorization\" : \"Bearer \"+ tk['access_token']}\n",
    "    \n",
    "    # Llamado a la API\n",
    "    data = requests.get(url = url, headers = headers).json()['titulos']\n",
    "\n",
    "    tabla = pd.DataFrame(data).set_index('simbolo')\n",
    "    return(tabla)\n",
    "\n",
    "\n",
    "tk = actualizarToken(tk) \n",
    "p = panel(instrumento='Acciones', panel='SP500', pais='estados_unidos')\n",
    "p.columns"
   ]
  },
  {
   "cell_type": "markdown",
   "metadata": {},
   "source": [
    "Veamos una acción cualquiera del panel:"
   ]
  },
  {
   "cell_type": "code",
   "execution_count": 51,
   "metadata": {},
   "outputs": [
    {
     "data": {
      "text/plain": [
       "puntas                 {'cantidadCompra': 1.0, 'precioCompra': 116.02...\n",
       "ultimoPrecio                                                         116\n",
       "variacionPorcentual                                                -0.28\n",
       "apertura                                                          115.55\n",
       "maximo                                                            117.59\n",
       "minimo                                                            114.13\n",
       "ultimoCierre                                                      116.32\n",
       "volumen                                                      2.81124e+08\n",
       "cantidadOperaciones                                                    0\n",
       "fecha                                                2020-11-10T19:57:03\n",
       "tipoOpcion                                                          None\n",
       "precioEjercicio                                                     None\n",
       "fechaVencimiento                                                    None\n",
       "mercado                                                           NASDAQ\n",
       "moneda                                                               US$\n",
       "Name: AAPL, dtype: object"
      ]
     },
     "execution_count": 51,
     "metadata": {},
     "output_type": "execute_result"
    }
   ],
   "source": [
    "p.loc['AAPL']"
   ]
  },
  {
   "cell_type": "markdown",
   "metadata": {},
   "source": [
    "O bien sus puntas de compra y venta:"
   ]
  },
  {
   "cell_type": "code",
   "execution_count": 52,
   "metadata": {},
   "outputs": [
    {
     "data": {
      "text/plain": [
       "{'cantidadCompra': 1.0,\n",
       " 'precioCompra': 116.02,\n",
       " 'precioVenta': 116.12,\n",
       " 'cantidadVenta': 100.0}"
      ]
     },
     "execution_count": 52,
     "metadata": {},
     "output_type": "execute_result"
    }
   ],
   "source": [
    "p.loc['AAPL']['puntas']"
   ]
  },
  {
   "cell_type": "markdown",
   "metadata": {},
   "source": [
    "## Precio de UN instrumento"
   ]
  },
  {
   "cell_type": "markdown",
   "metadata": {},
   "source": [
    "Ingresando el mercado y el ticker podemos obtener el precio de dicho ticker"
   ]
  },
  {
   "cell_type": "code",
   "execution_count": 53,
   "metadata": {},
   "outputs": [
    {
     "data": {
      "text/plain": [
       "{'ultimoPrecio': 128.75,\n",
       " 'variacion': 5.27,\n",
       " 'apertura': 124.0,\n",
       " 'maximo': 132.3,\n",
       " 'minimo': 122.3,\n",
       " 'fechaHora': '2020-11-10T17:14:06.640721-03:00',\n",
       " 'tendencia': 'sube',\n",
       " 'cierreAnterior': 122.3,\n",
       " 'montoOperado': 729048703.1499981,\n",
       " 'volumenNominal': 5685205,\n",
       " 'precioPromedio': 0.0,\n",
       " 'moneda': 'peso_Argentino',\n",
       " 'precioAjuste': 0.0,\n",
       " 'interesesAbiertos': 0.0,\n",
       " 'puntas': [{'cantidadCompra': 17.0,\n",
       "   'precioCompra': 126.0,\n",
       "   'precioVenta': 130.0,\n",
       "   'cantidadVenta': 476.0},\n",
       "  {'cantidadCompra': 564.0,\n",
       "   'precioCompra': 127.5,\n",
       "   'precioVenta': 129.75,\n",
       "   'cantidadVenta': 2558.0},\n",
       "  {'cantidadCompra': 180.0,\n",
       "   'precioCompra': 127.55,\n",
       "   'precioVenta': 129.8,\n",
       "   'cantidadVenta': 12877.0},\n",
       "  {'cantidadCompra': 34.0,\n",
       "   'precioCompra': 125.5,\n",
       "   'precioVenta': 129.85,\n",
       "   'cantidadVenta': 385.0},\n",
       "  {'cantidadCompra': 1000.0,\n",
       "   'precioCompra': 127.6,\n",
       "   'precioVenta': 129.9,\n",
       "   'cantidadVenta': 210.0}],\n",
       " 'cantidadOperaciones': 7742}"
      ]
     },
     "execution_count": 53,
     "metadata": {},
     "output_type": "execute_result"
    }
   ],
   "source": [
    "def precio(mercado, ticker):\n",
    "    \n",
    "    # Configuración del llamado a la API\n",
    "    url_base= 'https://api.invertironline.com/api/v2/'\n",
    "    endpoint = mercado+'/Titulos/'+ticker+'/Cotizacion'\n",
    "    url = url_base + endpoint\n",
    "    headers = {\"Authorization\" : \"Bearer \"+ tk['access_token']}\n",
    "    \n",
    "    # Llamado a la API\n",
    "    data = requests.get(url = url, headers = headers).json()\n",
    "    \n",
    "    return data\n",
    "\n",
    "tk = actualizarToken(tk) \n",
    "data = precio('bcba','GGAL')\n",
    "data"
   ]
  },
  {
   "cell_type": "markdown",
   "metadata": {},
   "source": [
    "### Precios RealTime de acciones en EEUU"
   ]
  },
  {
   "cell_type": "markdown",
   "metadata": {},
   "source": [
    "Probamos con GGAL, tanto en nyse como en nasdaq y obtenemos su precio en ambos mercados"
   ]
  },
  {
   "cell_type": "code",
   "execution_count": 54,
   "metadata": {},
   "outputs": [
    {
     "data": {
      "text/plain": [
       "{'ultimoPrecio': 8.8,\n",
       " 'variacion': 8.77626699629172,\n",
       " 'apertura': 8.26,\n",
       " 'maximo': 8.9,\n",
       " 'minimo': 8.02,\n",
       " 'fechaHora': '2020-11-10T17:58:13',\n",
       " 'tendencia': 'sube',\n",
       " 'cierreAnterior': 8.09,\n",
       " 'montoOperado': 37092.0,\n",
       " 'volumenNominal': 0,\n",
       " 'precioPromedio': 0.0,\n",
       " 'moneda': 'dolar_Estadounidense',\n",
       " 'precioAjuste': 0.0,\n",
       " 'interesesAbiertos': 0.0,\n",
       " 'puntas': [{'cantidadCompra': 100.0,\n",
       "   'precioCompra': 8.11,\n",
       "   'precioVenta': 9.46,\n",
       "   'cantidadVenta': 100.0}],\n",
       " 'cantidadOperaciones': 0}"
      ]
     },
     "execution_count": 54,
     "metadata": {},
     "output_type": "execute_result"
    }
   ],
   "source": [
    "tk = actualizarToken(tk) \n",
    "data = precio('nyse','GGAL')\n",
    "data"
   ]
  },
  {
   "cell_type": "code",
   "execution_count": 55,
   "metadata": {},
   "outputs": [
    {
     "data": {
      "text/plain": [
       "{'ultimoPrecio': 8.8,\n",
       " 'variacion': 8.77626699629172,\n",
       " 'apertura': 8.26,\n",
       " 'maximo': 8.9,\n",
       " 'minimo': 8.02,\n",
       " 'fechaHora': '2020-11-10T17:58:13',\n",
       " 'tendencia': 'sube',\n",
       " 'cierreAnterior': 8.09,\n",
       " 'montoOperado': 37092.0,\n",
       " 'volumenNominal': 0,\n",
       " 'precioPromedio': 0.0,\n",
       " 'moneda': 'dolar_Estadounidense',\n",
       " 'precioAjuste': 0.0,\n",
       " 'interesesAbiertos': 0.0,\n",
       " 'puntas': [{'cantidadCompra': 100.0,\n",
       "   'precioCompra': 8.11,\n",
       "   'precioVenta': 9.46,\n",
       "   'cantidadVenta': 100.0}],\n",
       " 'cantidadOperaciones': 0}"
      ]
     },
     "execution_count": 55,
     "metadata": {},
     "output_type": "execute_result"
    }
   ],
   "source": [
    "tk = actualizarToken(tk) \n",
    "data = precio('nasdaq','GGAL')\n",
    "data"
   ]
  },
  {
   "cell_type": "markdown",
   "metadata": {},
   "source": [
    "### Precios Real Time de una opción:"
   ]
  },
  {
   "cell_type": "code",
   "execution_count": 56,
   "metadata": {},
   "outputs": [
    {
     "data": {
      "text/plain": [
       "{'ultimoPrecio': 20.343,\n",
       " 'variacion': 0.0,\n",
       " 'apertura': 18.0,\n",
       " 'maximo': 21.5,\n",
       " 'minimo': 18.0,\n",
       " 'fechaHora': '2020-11-04T03:00:15.113',\n",
       " 'tendencia': 'mantiene',\n",
       " 'cierreAnterior': 20.343,\n",
       " 'montoOperado': 0.0,\n",
       " 'volumenNominal': 0,\n",
       " 'precioPromedio': 0.0,\n",
       " 'moneda': 'peso_Argentino',\n",
       " 'precioAjuste': 0.0,\n",
       " 'interesesAbiertos': 0.0,\n",
       " 'puntas': [{'cantidadCompra': 0.0,\n",
       "   'precioCompra': 0.0,\n",
       "   'precioVenta': 0.0,\n",
       "   'cantidadVenta': 0.0}],\n",
       " 'cantidadOperaciones': 0}"
      ]
     },
     "execution_count": 56,
     "metadata": {},
     "output_type": "execute_result"
    }
   ],
   "source": [
    "tk = actualizarToken(tk) \n",
    "data = precio('bcba','GFGC117.AG')\n",
    "data"
   ]
  },
  {
   "cell_type": "markdown",
   "metadata": {},
   "source": [
    "### Precios Real Time de bonos"
   ]
  },
  {
   "cell_type": "code",
   "execution_count": 57,
   "metadata": {},
   "outputs": [
    {
     "data": {
      "text/plain": [
       "{'ultimoPrecio': 38.4,\n",
       " 'variacion': 0.13,\n",
       " 'apertura': 38.25,\n",
       " 'maximo': 38.49,\n",
       " 'minimo': 38.1,\n",
       " 'fechaHora': '2020-11-10T17:00:50.1987307-03:00',\n",
       " 'tendencia': 'sube',\n",
       " 'cierreAnterior': 38.35,\n",
       " 'montoOperado': 7624949.04,\n",
       " 'volumenNominal': 19927985,\n",
       " 'precioPromedio': 0.0,\n",
       " 'moneda': 'dolar_Estadounidense',\n",
       " 'precioAjuste': 0.0,\n",
       " 'interesesAbiertos': 0.0,\n",
       " 'puntas': [{'cantidadCompra': 1147.0,\n",
       "   'precioCompra': 38.0,\n",
       "   'precioVenta': 38.7,\n",
       "   'cantidadVenta': 2000.0},\n",
       "  {'cantidadCompra': 4000.0,\n",
       "   'precioCompra': 25.0,\n",
       "   'precioVenta': 38.97,\n",
       "   'cantidadVenta': 154.0},\n",
       "  {'cantidadCompra': 1.0,\n",
       "   'precioCompra': 5.0,\n",
       "   'precioVenta': 39.0,\n",
       "   'cantidadVenta': 23391.0},\n",
       "  {'cantidadCompra': 0.0,\n",
       "   'precioCompra': 0.0,\n",
       "   'precioVenta': 39.45,\n",
       "   'cantidadVenta': 1000.0},\n",
       "  {'cantidadCompra': 0.0,\n",
       "   'precioCompra': 0.0,\n",
       "   'precioVenta': 39.5,\n",
       "   'cantidadVenta': 110.0}],\n",
       " 'cantidadOperaciones': 3321}"
      ]
     },
     "execution_count": 57,
     "metadata": {},
     "output_type": "execute_result"
    }
   ],
   "source": [
    "tk = actualizarToken(tk) \n",
    "data = precio('bcba','AL30D')\n",
    "data"
   ]
  },
  {
   "cell_type": "markdown",
   "metadata": {},
   "source": [
    "### Precios de FCIs\n",
    "\n",
    "Con un FCI también funciona, aunque al no tener mercado secundario, solo tenemos precios EOD (fin del dia), que es valor de cuotaparte en realidad al cierre"
   ]
  },
  {
   "cell_type": "code",
   "execution_count": 58,
   "metadata": {},
   "outputs": [
    {
     "data": {
      "text/plain": [
       "{'ultimoPrecio': 25.472421,\n",
       " 'variacion': 2.86,\n",
       " 'apertura': 0.0,\n",
       " 'maximo': 0.0,\n",
       " 'minimo': 0.0,\n",
       " 'fechaHora': '2020-11-09T18:00:00',\n",
       " 'tendencia': 'sube',\n",
       " 'cierreAnterior': 0.0,\n",
       " 'montoOperado': 0.0,\n",
       " 'volumenNominal': 0,\n",
       " 'precioPromedio': 0.0,\n",
       " 'moneda': 'peso_Argentino',\n",
       " 'precioAjuste': 0.0,\n",
       " 'interesesAbiertos': 0.0,\n",
       " 'puntas': [{'cantidadCompra': 0.0,\n",
       "   'precioCompra': 0.0,\n",
       "   'precioVenta': 0.0,\n",
       "   'cantidadVenta': 0.0}],\n",
       " 'cantidadOperaciones': 0}"
      ]
     },
     "execution_count": 58,
     "metadata": {},
     "output_type": "execute_result"
    }
   ],
   "source": [
    "tk = actualizarToken(tk) \n",
    "data = precio('bcba','PRTAVAB')\n",
    "data"
   ]
  },
  {
   "cell_type": "markdown",
   "metadata": {},
   "source": [
    "### También funciona con un ETF"
   ]
  },
  {
   "cell_type": "code",
   "execution_count": 59,
   "metadata": {},
   "outputs": [
    {
     "data": {
      "text/plain": [
       "{'ultimoPrecio': 47.73,\n",
       " 'variacion': -1.1,\n",
       " 'apertura': 48.07,\n",
       " 'maximo': 48.19,\n",
       " 'minimo': 47.5,\n",
       " 'fechaHora': '2020-11-10T20:20:17',\n",
       " 'tendencia': 'baja',\n",
       " 'cierreAnterior': 48.26,\n",
       " 'montoOperado': 2426115.9,\n",
       " 'volumenNominal': 0,\n",
       " 'precioPromedio': 0.0,\n",
       " 'moneda': 'dolar_Estadounidense',\n",
       " 'precioAjuste': 0.0,\n",
       " 'interesesAbiertos': 0.0,\n",
       " 'puntas': [{'cantidadCompra': 100.0,\n",
       "   'precioCompra': 47.73,\n",
       "   'precioVenta': 47.85,\n",
       "   'cantidadVenta': 800.0}],\n",
       " 'cantidadOperaciones': 0}"
      ]
     },
     "execution_count": 59,
     "metadata": {},
     "output_type": "execute_result"
    }
   ],
   "source": [
    "tk = actualizarToken(tk) \n",
    "data = precio('nyse','EEM')\n",
    "data"
   ]
  },
  {
   "cell_type": "markdown",
   "metadata": {},
   "source": [
    "## Opciones de un determinado subyacente"
   ]
  },
  {
   "cell_type": "code",
   "execution_count": 60,
   "metadata": {},
   "outputs": [
    {
     "data": {
      "text/plain": [
       "Index(['ultimoPrecio', 'variacion', 'apertura', 'maximo', 'minimo',\n",
       "       'fechaHora', 'tendencia', 'cierreAnterior', 'montoOperado',\n",
       "       'volumenNominal', 'precioPromedio', 'moneda', 'precioAjuste',\n",
       "       'interesesAbiertos', 'puntas', 'cantidadOperaciones', 'tipo',\n",
       "       'vencimiento', 'descripcion'],\n",
       "      dtype='object')"
      ]
     },
     "execution_count": 60,
     "metadata": {},
     "output_type": "execute_result"
    }
   ],
   "source": [
    "def opcionesDe(ticker):\n",
    "    \n",
    "    # Configuración del llamado a la API\n",
    "    url_base= 'https://api.invertironline.com/api/v2/'\n",
    "    endpoint = 'bcba/Titulos/'+ticker+'/Opciones'\n",
    "    url = url_base + endpoint\n",
    "    headers = {\"Authorization\" : \"Bearer \"+ tk['access_token']}\n",
    "    \n",
    "    # Llamado a la API\n",
    "    data = requests.get(url = url, headers = headers).json()\n",
    "    \n",
    "    opciones = []\n",
    "    for i in range(len(data)):\n",
    "        opcion = data[i]['cotizacion']\n",
    "        opcion['simbolo'] = data[i]['simbolo']\n",
    "        opcion['tipo'] = data[i]['tipoOpcion']\n",
    "        opcion['vencimiento'] = data[i]['fechaVencimiento']\n",
    "        opcion['descripcion'] = data[i]['descripcion']\n",
    "        opciones.append(opcion)\n",
    "    tabla = pd.DataFrame(opciones).set_index('simbolo')\n",
    "    return(tabla)\n",
    "\n",
    "tk = actualizarToken(tk) \n",
    "data = opcionesDe('GGAL')\n",
    "data.columns"
   ]
  },
  {
   "cell_type": "markdown",
   "metadata": {},
   "source": [
    "Como ven en las columnas tenemos de todo, veamos por ejemplo como ver la cantidad de contratos tanto de calls como de puts por cada vencimiento:"
   ]
  },
  {
   "cell_type": "code",
   "execution_count": 61,
   "metadata": {},
   "outputs": [
    {
     "data": {
      "text/plain": [
       "tipo  vencimiento        \n",
       "Call  2020-11-20T00:00:00     3\n",
       "      2020-12-18T00:00:00    27\n",
       "      2021-02-19T00:00:00    14\n",
       "      2021-04-16T00:00:00     1\n",
       "Put   2020-12-18T00:00:00    26\n",
       "      2021-02-19T00:00:00     4\n",
       "      2021-04-16T00:00:00     1\n",
       "dtype: int64"
      ]
     },
     "execution_count": 61,
     "metadata": {},
     "output_type": "execute_result"
    }
   ],
   "source": [
    "data.groupby(['tipo','vencimiento']).size()"
   ]
  },
  {
   "cell_type": "markdown",
   "metadata": {},
   "source": [
    "Asimismo puedo traer data concreta de una opción determinada:"
   ]
  },
  {
   "cell_type": "code",
   "execution_count": 63,
   "metadata": {},
   "outputs": [
    {
     "data": {
      "text/plain": [
       "array(['GFGC123.NO', 'GFGC135.NO', 'GFGC140.NO', 'GFGC49808D',\n",
       "       'GFGC52808D', 'GFGC63.0DI', 'GFGV63.0DI', 'GFGV75.0DI',\n",
       "       'GFGV79808D', 'GFGV85808D', 'GFGC88808D', 'GFGV88808D',\n",
       "       'GFGV93.0DI', 'GFGV96.0DI', 'GFGC96.0DI', 'GFGC97808D',\n",
       "       'GFGV97808D', 'GFGC10081D', 'GFGV10081D', 'GFGC105.DI',\n",
       "       'GFGV105.DI', 'GFGC108.DI', 'GFGV108.DI', 'GFGC10981D',\n",
       "       'GFGV10981D', 'GFGC11281D', 'GFGV11281D', 'GFGC11581D',\n",
       "       'GFGV11581D', 'GFGC11881D', 'GFGV11881D', 'GFGC12181D',\n",
       "       'GFGV12181D', 'GFGC12481D', 'GFGV12481D', 'GFGC12781D',\n",
       "       'GFGV12781D', 'GFGV13081D', 'GFGC13081D', 'GFGC13381D',\n",
       "       'GFGV13381D', 'GFGC13881D', 'GFGV13881D', 'GFGC145.DI',\n",
       "       'GFGV145.DI', 'GFGV14881D', 'GFGC14881D', 'GFGC155.DI',\n",
       "       'GFGC15881D', 'GFGV15881D', 'GFGC16381D', 'GFGV16381D',\n",
       "       'GFGC170.DI', 'GFGC175.DI', 'GFGV19881D', 'GFGC19881D',\n",
       "       'GFGV82808F', 'GFGC87.0FE', 'GFGC96.0FE', 'GFGC97808F',\n",
       "       'GFGV97808F', 'GFGC114.FE', 'GFGV11881F', 'GFGC11881F',\n",
       "       'GFGC123.FE', 'GFGV12481F', 'GFGC12481F', 'GFGC132.FE',\n",
       "       'GFGC135.FE', 'GFGC140.FE', 'GFGC15881F', 'GFGC16381F',\n",
       "       'GFGC16881F', 'GFGC19881F', 'GFGV105.AB', 'GFGC120.AB'],\n",
       "      dtype=object)"
      ]
     },
     "execution_count": 63,
     "metadata": {},
     "output_type": "execute_result"
    }
   ],
   "source": [
    "data.index.values"
   ]
  },
  {
   "cell_type": "code",
   "execution_count": 66,
   "metadata": {
    "scrolled": true
   },
   "outputs": [
    {
     "data": {
      "text/plain": [
       "ultimoPrecio                                               6.05\n",
       "variacion                                                 27.87\n",
       "apertura                                                      0\n",
       "maximo                                                        0\n",
       "minimo                                                        0\n",
       "fechaHora                                   0001-01-01T00:00:00\n",
       "tendencia                                                  sube\n",
       "cierreAnterior                                                0\n",
       "montoOperado                                                  0\n",
       "volumenNominal                                                0\n",
       "precioPromedio                                                0\n",
       "moneda                                                        0\n",
       "precioAjuste                                                  0\n",
       "interesesAbiertos                                             0\n",
       "puntas                                                     None\n",
       "cantidadOperaciones                                           0\n",
       "tipo                                                       Call\n",
       "vencimiento                                 2020-12-18T00:00:00\n",
       "descripcion            Call GGAL 133.81 Vencimiento: 18/12/2020\n",
       "Name: GFGC13381D, dtype: object"
      ]
     },
     "execution_count": 66,
     "metadata": {},
     "output_type": "execute_result"
    }
   ],
   "source": [
    "data.loc['GFGC13381D']"
   ]
  },
  {
   "cell_type": "markdown",
   "metadata": {},
   "source": [
    "# Endpoints de Cuenta"
   ]
  },
  {
   "cell_type": "markdown",
   "metadata": {},
   "source": [
    "## Estado de Cuenta"
   ]
  },
  {
   "cell_type": "code",
   "execution_count": 67,
   "metadata": {},
   "outputs": [
    {
     "data": {
      "text/plain": [
       "dict_keys(['cuentas', 'estadisticas', 'totalEnPesos'])"
      ]
     },
     "execution_count": 67,
     "metadata": {},
     "output_type": "execute_result"
    }
   ],
   "source": [
    "def cuenta():\n",
    "    \n",
    "    # Configuración del llamado a la API\n",
    "    url_base= 'https://api.invertironline.com/api/v2/'\n",
    "    endpoint = 'estadocuenta'\n",
    "    url = url_base + endpoint\n",
    "    headers = {\"Authorization\" : \"Bearer \"+ tk['access_token']}\n",
    "    \n",
    "    # Llamado a la API\n",
    "    data = requests.get(url = url, headers = headers).json()\n",
    "    \n",
    "    return(data)\n",
    "\n",
    "tk = actualizarToken(tk) \n",
    "data = cuenta()\n",
    "data.keys()"
   ]
  },
  {
   "cell_type": "code",
   "execution_count": 72,
   "metadata": {},
   "outputs": [
    {
     "data": {
      "text/plain": [
       "{'numero': '200487',\n",
       " 'tipo': 'inversion_Argentina_Pesos',\n",
       " 'moneda': 'peso_Argentino',\n",
       " 'disponible': 1016.98,\n",
       " 'comprometido': 0.0,\n",
       " 'saldo': 1016.98,\n",
       " 'titulosValorizados': 0.0,\n",
       " 'total': 1016.98,\n",
       " 'margenDescubierto': 0.0,\n",
       " 'saldos': [{'liquidacion': 'inmediato',\n",
       "   'saldo': 1016.98,\n",
       "   'comprometido': 0.0,\n",
       "   'disponible': 1016.98,\n",
       "   'disponibleOperar': 1016.98},\n",
       "  {'liquidacion': 'hrs24',\n",
       "   'saldo': 0.0,\n",
       "   'comprometido': 0.0,\n",
       "   'disponible': 0.0,\n",
       "   'disponibleOperar': 1016.98},\n",
       "  {'liquidacion': 'hrs48',\n",
       "   'saldo': 0.0,\n",
       "   'comprometido': 0.0,\n",
       "   'disponible': 0.0,\n",
       "   'disponibleOperar': 1016.98},\n",
       "  {'liquidacion': 'hrs72',\n",
       "   'saldo': 0.0,\n",
       "   'comprometido': 0.0,\n",
       "   'disponible': 0.0,\n",
       "   'disponibleOperar': 1016.98},\n",
       "  {'liquidacion': 'masHrs72',\n",
       "   'saldo': 0.0,\n",
       "   'comprometido': 0.0,\n",
       "   'disponible': 0.0,\n",
       "   'disponibleOperar': 0.0}],\n",
       " 'estado': 'operable'}"
      ]
     },
     "execution_count": 72,
     "metadata": {},
     "output_type": "execute_result"
    }
   ],
   "source": [
    "data['cuentas'][0]"
   ]
  },
  {
   "cell_type": "code",
   "execution_count": 75,
   "metadata": {},
   "outputs": [
    {
     "data": {
      "text/plain": [
       "[{'descripcion': 'Anterior', 'cantidad': 0, 'volumen': 0.0},\n",
       " {'descripcion': 'Actual', 'cantidad': 0, 'volumen': 0.0}]"
      ]
     },
     "execution_count": 75,
     "metadata": {},
     "output_type": "execute_result"
    }
   ],
   "source": [
    "data['estadisticas']"
   ]
  },
  {
   "cell_type": "code",
   "execution_count": null,
   "metadata": {},
   "outputs": [],
   "source": []
  },
  {
   "cell_type": "markdown",
   "metadata": {},
   "source": [
    "## Portafolio"
   ]
  },
  {
   "cell_type": "code",
   "execution_count": 78,
   "metadata": {},
   "outputs": [
    {
     "data": {
      "text/plain": [
       "{'pais': 'argentina', 'activos': []}"
      ]
     },
     "execution_count": 78,
     "metadata": {},
     "output_type": "execute_result"
    }
   ],
   "source": [
    "def portafolio(pais):\n",
    "    \n",
    "    # Configuración del llamado a la API\n",
    "    url_base= 'https://api.invertironline.com/api/v2/'\n",
    "    endpoint = 'portafolio/'+pais\n",
    "    url = url_base + endpoint\n",
    "    headers = {\"Authorization\" : \"Bearer \"+ tk['access_token']}\n",
    "    \n",
    "    # Llamado a la API\n",
    "    data = requests.get(url = url, headers = headers).json()\n",
    "    \n",
    "    return(data)\n",
    "\n",
    "tk = actualizarToken(tk) \n",
    "data = portafolio('Argentina')\n",
    "data"
   ]
  },
  {
   "cell_type": "markdown",
   "metadata": {},
   "source": [
    "## Operaciones vigentes"
   ]
  },
  {
   "cell_type": "code",
   "execution_count": 91,
   "metadata": {},
   "outputs": [
    {
     "ename": "ValueError",
     "evalue": "If using all scalar values, you must pass an index",
     "output_type": "error",
     "traceback": [
      "\u001b[1;31m---------------------------------------------------------------------------\u001b[0m",
      "\u001b[1;31mValueError\u001b[0m                                Traceback (most recent call last)",
      "\u001b[1;32m<ipython-input-91-8f274cd4dae1>\u001b[0m in \u001b[0;36m<module>\u001b[1;34m\u001b[0m\n\u001b[0;32m     13\u001b[0m \u001b[1;33m\u001b[0m\u001b[0m\n\u001b[0;32m     14\u001b[0m \u001b[0mtk\u001b[0m \u001b[1;33m=\u001b[0m \u001b[0mactualizarToken\u001b[0m\u001b[1;33m(\u001b[0m\u001b[0mtk\u001b[0m\u001b[1;33m)\u001b[0m\u001b[1;33m\u001b[0m\u001b[1;33m\u001b[0m\u001b[0m\n\u001b[1;32m---> 15\u001b[1;33m \u001b[0mdata\u001b[0m \u001b[1;33m=\u001b[0m \u001b[0moperaciones\u001b[0m\u001b[1;33m(\u001b[0m\u001b[1;33m)\u001b[0m\u001b[1;33m\u001b[0m\u001b[1;33m\u001b[0m\u001b[0m\n\u001b[0m\u001b[0;32m     16\u001b[0m \u001b[0mdata\u001b[0m\u001b[1;33m.\u001b[0m\u001b[0mcolumns\u001b[0m\u001b[1;33m\u001b[0m\u001b[1;33m\u001b[0m\u001b[0m\n",
      "\u001b[1;32m<ipython-input-91-8f274cd4dae1>\u001b[0m in \u001b[0;36moperaciones\u001b[1;34m()\u001b[0m\n\u001b[0;32m      9\u001b[0m     \u001b[1;31m# Llamado a la API\u001b[0m\u001b[1;33m\u001b[0m\u001b[1;33m\u001b[0m\u001b[1;33m\u001b[0m\u001b[0m\n\u001b[0;32m     10\u001b[0m     \u001b[0mdata\u001b[0m \u001b[1;33m=\u001b[0m \u001b[0mrequests\u001b[0m\u001b[1;33m.\u001b[0m\u001b[0mget\u001b[0m\u001b[1;33m(\u001b[0m\u001b[0murl\u001b[0m \u001b[1;33m=\u001b[0m \u001b[0murl\u001b[0m\u001b[1;33m,\u001b[0m \u001b[0mheaders\u001b[0m \u001b[1;33m=\u001b[0m \u001b[0mheaders\u001b[0m\u001b[1;33m)\u001b[0m\u001b[1;33m.\u001b[0m\u001b[0mjson\u001b[0m\u001b[1;33m(\u001b[0m\u001b[1;33m)\u001b[0m\u001b[1;33m\u001b[0m\u001b[1;33m\u001b[0m\u001b[0m\n\u001b[1;32m---> 11\u001b[1;33m     \u001b[0mdf\u001b[0m \u001b[1;33m=\u001b[0m \u001b[0mpd\u001b[0m\u001b[1;33m.\u001b[0m\u001b[0mDataFrame\u001b[0m\u001b[1;33m(\u001b[0m\u001b[0mdata\u001b[0m\u001b[1;33m)\u001b[0m\u001b[1;33m\u001b[0m\u001b[1;33m\u001b[0m\u001b[0m\n\u001b[0m\u001b[0;32m     12\u001b[0m     \u001b[1;32mreturn\u001b[0m \u001b[0mdf\u001b[0m\u001b[1;33m\u001b[0m\u001b[1;33m\u001b[0m\u001b[0m\n\u001b[0;32m     13\u001b[0m \u001b[1;33m\u001b[0m\u001b[0m\n",
      "\u001b[1;32m~\\anaconda3\\lib\\site-packages\\pandas\\core\\frame.py\u001b[0m in \u001b[0;36m__init__\u001b[1;34m(self, data, index, columns, dtype, copy)\u001b[0m\n\u001b[0;32m    466\u001b[0m \u001b[1;33m\u001b[0m\u001b[0m\n\u001b[0;32m    467\u001b[0m         \u001b[1;32melif\u001b[0m \u001b[0misinstance\u001b[0m\u001b[1;33m(\u001b[0m\u001b[0mdata\u001b[0m\u001b[1;33m,\u001b[0m \u001b[0mdict\u001b[0m\u001b[1;33m)\u001b[0m\u001b[1;33m:\u001b[0m\u001b[1;33m\u001b[0m\u001b[1;33m\u001b[0m\u001b[0m\n\u001b[1;32m--> 468\u001b[1;33m             \u001b[0mmgr\u001b[0m \u001b[1;33m=\u001b[0m \u001b[0minit_dict\u001b[0m\u001b[1;33m(\u001b[0m\u001b[0mdata\u001b[0m\u001b[1;33m,\u001b[0m \u001b[0mindex\u001b[0m\u001b[1;33m,\u001b[0m \u001b[0mcolumns\u001b[0m\u001b[1;33m,\u001b[0m \u001b[0mdtype\u001b[0m\u001b[1;33m=\u001b[0m\u001b[0mdtype\u001b[0m\u001b[1;33m)\u001b[0m\u001b[1;33m\u001b[0m\u001b[1;33m\u001b[0m\u001b[0m\n\u001b[0m\u001b[0;32m    469\u001b[0m         \u001b[1;32melif\u001b[0m \u001b[0misinstance\u001b[0m\u001b[1;33m(\u001b[0m\u001b[0mdata\u001b[0m\u001b[1;33m,\u001b[0m \u001b[0mma\u001b[0m\u001b[1;33m.\u001b[0m\u001b[0mMaskedArray\u001b[0m\u001b[1;33m)\u001b[0m\u001b[1;33m:\u001b[0m\u001b[1;33m\u001b[0m\u001b[1;33m\u001b[0m\u001b[0m\n\u001b[0;32m    470\u001b[0m             \u001b[1;32mimport\u001b[0m \u001b[0mnumpy\u001b[0m\u001b[1;33m.\u001b[0m\u001b[0mma\u001b[0m\u001b[1;33m.\u001b[0m\u001b[0mmrecords\u001b[0m \u001b[1;32mas\u001b[0m \u001b[0mmrecords\u001b[0m\u001b[1;33m\u001b[0m\u001b[1;33m\u001b[0m\u001b[0m\n",
      "\u001b[1;32m~\\anaconda3\\lib\\site-packages\\pandas\\core\\internals\\construction.py\u001b[0m in \u001b[0;36minit_dict\u001b[1;34m(data, index, columns, dtype)\u001b[0m\n\u001b[0;32m    281\u001b[0m             \u001b[0marr\u001b[0m \u001b[1;32mif\u001b[0m \u001b[1;32mnot\u001b[0m \u001b[0mis_datetime64tz_dtype\u001b[0m\u001b[1;33m(\u001b[0m\u001b[0marr\u001b[0m\u001b[1;33m)\u001b[0m \u001b[1;32melse\u001b[0m \u001b[0marr\u001b[0m\u001b[1;33m.\u001b[0m\u001b[0mcopy\u001b[0m\u001b[1;33m(\u001b[0m\u001b[1;33m)\u001b[0m \u001b[1;32mfor\u001b[0m \u001b[0marr\u001b[0m \u001b[1;32min\u001b[0m \u001b[0marrays\u001b[0m\u001b[1;33m\u001b[0m\u001b[1;33m\u001b[0m\u001b[0m\n\u001b[0;32m    282\u001b[0m         ]\n\u001b[1;32m--> 283\u001b[1;33m     \u001b[1;32mreturn\u001b[0m \u001b[0marrays_to_mgr\u001b[0m\u001b[1;33m(\u001b[0m\u001b[0marrays\u001b[0m\u001b[1;33m,\u001b[0m \u001b[0mdata_names\u001b[0m\u001b[1;33m,\u001b[0m \u001b[0mindex\u001b[0m\u001b[1;33m,\u001b[0m \u001b[0mcolumns\u001b[0m\u001b[1;33m,\u001b[0m \u001b[0mdtype\u001b[0m\u001b[1;33m=\u001b[0m\u001b[0mdtype\u001b[0m\u001b[1;33m)\u001b[0m\u001b[1;33m\u001b[0m\u001b[1;33m\u001b[0m\u001b[0m\n\u001b[0m\u001b[0;32m    284\u001b[0m \u001b[1;33m\u001b[0m\u001b[0m\n\u001b[0;32m    285\u001b[0m \u001b[1;33m\u001b[0m\u001b[0m\n",
      "\u001b[1;32m~\\anaconda3\\lib\\site-packages\\pandas\\core\\internals\\construction.py\u001b[0m in \u001b[0;36marrays_to_mgr\u001b[1;34m(arrays, arr_names, index, columns, dtype, verify_integrity)\u001b[0m\n\u001b[0;32m     76\u001b[0m         \u001b[1;31m# figure out the index, if necessary\u001b[0m\u001b[1;33m\u001b[0m\u001b[1;33m\u001b[0m\u001b[1;33m\u001b[0m\u001b[0m\n\u001b[0;32m     77\u001b[0m         \u001b[1;32mif\u001b[0m \u001b[0mindex\u001b[0m \u001b[1;32mis\u001b[0m \u001b[1;32mNone\u001b[0m\u001b[1;33m:\u001b[0m\u001b[1;33m\u001b[0m\u001b[1;33m\u001b[0m\u001b[0m\n\u001b[1;32m---> 78\u001b[1;33m             \u001b[0mindex\u001b[0m \u001b[1;33m=\u001b[0m \u001b[0mextract_index\u001b[0m\u001b[1;33m(\u001b[0m\u001b[0marrays\u001b[0m\u001b[1;33m)\u001b[0m\u001b[1;33m\u001b[0m\u001b[1;33m\u001b[0m\u001b[0m\n\u001b[0m\u001b[0;32m     79\u001b[0m         \u001b[1;32melse\u001b[0m\u001b[1;33m:\u001b[0m\u001b[1;33m\u001b[0m\u001b[1;33m\u001b[0m\u001b[0m\n\u001b[0;32m     80\u001b[0m             \u001b[0mindex\u001b[0m \u001b[1;33m=\u001b[0m \u001b[0mensure_index\u001b[0m\u001b[1;33m(\u001b[0m\u001b[0mindex\u001b[0m\u001b[1;33m)\u001b[0m\u001b[1;33m\u001b[0m\u001b[1;33m\u001b[0m\u001b[0m\n",
      "\u001b[1;32m~\\anaconda3\\lib\\site-packages\\pandas\\core\\internals\\construction.py\u001b[0m in \u001b[0;36mextract_index\u001b[1;34m(data)\u001b[0m\n\u001b[0;32m    385\u001b[0m \u001b[1;33m\u001b[0m\u001b[0m\n\u001b[0;32m    386\u001b[0m         \u001b[1;32mif\u001b[0m \u001b[1;32mnot\u001b[0m \u001b[0mindexes\u001b[0m \u001b[1;32mand\u001b[0m \u001b[1;32mnot\u001b[0m \u001b[0mraw_lengths\u001b[0m\u001b[1;33m:\u001b[0m\u001b[1;33m\u001b[0m\u001b[1;33m\u001b[0m\u001b[0m\n\u001b[1;32m--> 387\u001b[1;33m             \u001b[1;32mraise\u001b[0m \u001b[0mValueError\u001b[0m\u001b[1;33m(\u001b[0m\u001b[1;34m\"If using all scalar values, you must pass an index\"\u001b[0m\u001b[1;33m)\u001b[0m\u001b[1;33m\u001b[0m\u001b[1;33m\u001b[0m\u001b[0m\n\u001b[0m\u001b[0;32m    388\u001b[0m \u001b[1;33m\u001b[0m\u001b[0m\n\u001b[0;32m    389\u001b[0m         \u001b[1;32mif\u001b[0m \u001b[0mhave_series\u001b[0m\u001b[1;33m:\u001b[0m\u001b[1;33m\u001b[0m\u001b[1;33m\u001b[0m\u001b[0m\n",
      "\u001b[1;31mValueError\u001b[0m: If using all scalar values, you must pass an index"
     ]
    }
   ],
   "source": [
    "def operaciones():\n",
    "    \n",
    "    # Configuración del llamado a la API\n",
    "    url_base= 'https://api.invertironline.com/api/v2/'\n",
    "    endpoint = 'operaciones/'\n",
    "    url = url_base + endpoint\n",
    "    headers = {\"Authorization\" : \"Bearer \"+ tk['access_token']}\n",
    "    \n",
    "    # Llamado a la API\n",
    "    data = requests.get(url = url, headers = headers).json()\n",
    "    df = pd.DataFrame(data)\n",
    "    return df\n",
    "\n",
    "tk = actualizarToken(tk) \n",
    "data = operaciones()\n",
    "data.columns"
   ]
  },
  {
   "cell_type": "markdown",
   "metadata": {},
   "source": [
    "# Endpoints de Ruteo"
   ]
  },
  {
   "cell_type": "markdown",
   "metadata": {},
   "source": [
    "## Operar: Compra"
   ]
  },
  {
   "cell_type": "code",
   "execution_count": 82,
   "metadata": {},
   "outputs": [],
   "source": [
    "def comprar(ticker, q, precio, plazo ):\n",
    "    import datetime as dt\n",
    "    vigencia = dt.datetime.now() + dt.timedelta(days=1)\n",
    "    vigencia_str = dt.datetime.strftime(vigencia, '%Y-%m-%d')\n",
    "    params = {\n",
    "      \"mercado\": \"bCBA\",\n",
    "      \"simbolo\": ticker,\n",
    "      \"cantidad\": q,\n",
    "      \"precio\": precio,\n",
    "      \"plazo\": plazo,\n",
    "      \"validez\": vigencia_str\n",
    "    }\n",
    "    # Configuración del llamado a la API\n",
    "    url_base= 'https://api.invertironline.com/api/v2/'\n",
    "    endpoint = 'operar/comprar/'\n",
    "    url = url_base + endpoint\n",
    "    headers = {\"Authorization\" : \"Bearer \"+ tk['access_token']}\n",
    "    \n",
    "    # Llamado a la API\n",
    "    data = requests.post(url = url, headers = headers, json = params).json()\n",
    "    return data"
   ]
  },
  {
   "cell_type": "code",
   "execution_count": null,
   "metadata": {},
   "outputs": [],
   "source": []
  },
  {
   "cell_type": "markdown",
   "metadata": {},
   "source": [
    "¿Que voy a ahacer antes de comprar?"
   ]
  },
  {
   "cell_type": "code",
   "execution_count": 87,
   "metadata": {},
   "outputs": [
    {
     "data": {
      "text/plain": [
       "{'ultimoPrecio': 2.8,\n",
       " 'variacion': 1.81,\n",
       " 'apertura': 2.78,\n",
       " 'maximo': 2.82,\n",
       " 'minimo': 2.7,\n",
       " 'fechaHora': '2020-11-10T17:00:06.2643252-03:00',\n",
       " 'tendencia': 'sube',\n",
       " 'cierreAnterior': 2.75,\n",
       " 'montoOperado': 9213685.75,\n",
       " 'volumenNominal': 3317536,\n",
       " 'precioPromedio': 0.0,\n",
       " 'moneda': 'peso_Argentino',\n",
       " 'precioAjuste': 0.0,\n",
       " 'interesesAbiertos': 0.0,\n",
       " 'puntas': [{'cantidadCompra': 270.0,\n",
       "   'precioCompra': 2.75,\n",
       "   'precioVenta': 2.85,\n",
       "   'cantidadVenta': 4807.0},\n",
       "  {'cantidadCompra': 10100.0,\n",
       "   'precioCompra': 2.74,\n",
       "   'precioVenta': 2.87,\n",
       "   'cantidadVenta': 13530.0},\n",
       "  {'cantidadCompra': 20294.0,\n",
       "   'precioCompra': 2.73,\n",
       "   'precioVenta': 2.9,\n",
       "   'cantidadVenta': 14247.0},\n",
       "  {'cantidadCompra': 21963.0,\n",
       "   'precioCompra': 2.72,\n",
       "   'precioVenta': 2.98,\n",
       "   'cantidadVenta': 25439.0},\n",
       "  {'cantidadCompra': 50117.0,\n",
       "   'precioCompra': 2.71,\n",
       "   'precioVenta': 3.0,\n",
       "   'cantidadVenta': 904.0}],\n",
       " 'cantidadOperaciones': 892}"
      ]
     },
     "execution_count": 87,
     "metadata": {},
     "output_type": "execute_result"
    }
   ],
   "source": [
    "tk = actualizarToken(tk) \n",
    "data = precio('bcba','COME')\n",
    "data"
   ]
  },
  {
   "cell_type": "code",
   "execution_count": 88,
   "metadata": {},
   "outputs": [
    {
     "data": {
      "text/plain": [
       "{'cantidadCompra': 270.0,\n",
       " 'precioCompra': 2.75,\n",
       " 'precioVenta': 2.85,\n",
       " 'cantidadVenta': 4807.0}"
      ]
     },
     "execution_count": 88,
     "metadata": {},
     "output_type": "execute_result"
    }
   ],
   "source": [
    "data['puntas'][0]"
   ]
  },
  {
   "cell_type": "code",
   "execution_count": 89,
   "metadata": {},
   "outputs": [],
   "source": [
    "pta_bid = data['puntas'][0]['precioCompra']"
   ]
  },
  {
   "cell_type": "code",
   "execution_count": 90,
   "metadata": {},
   "outputs": [
    {
     "data": {
      "text/plain": [
       "{'message': 'En estos momentos estamos trabajando en la actualización de la información solicitada.'}"
      ]
     },
     "execution_count": 90,
     "metadata": {},
     "output_type": "execute_result"
    }
   ],
   "source": [
    "tk = actualizarToken(tk) \n",
    "comprar(ticker='COME', q=1, precio = pta_bid+0.01, plazo='t2')"
   ]
  },
  {
   "cell_type": "markdown",
   "metadata": {},
   "source": [
    "## Ver estado de Operación"
   ]
  },
  {
   "cell_type": "code",
   "execution_count": 83,
   "metadata": {},
   "outputs": [],
   "source": [
    "def operacion(numero):\n",
    "    \n",
    "    # Configuración del llamado a la API\n",
    "    url_base= 'https://api.invertironline.com/api/v2/'\n",
    "    endpoint = 'operaciones/'+str(numero)\n",
    "    url = url_base + endpoint\n",
    "    headers = {\"Authorization\" : \"Bearer \"+ tk['access_token']}\n",
    "    \n",
    "    # Llamado a la API\n",
    "    data = requests.get(url = url, headers = headers).json()\n",
    "    return data"
   ]
  },
  {
   "cell_type": "code",
   "execution_count": null,
   "metadata": {},
   "outputs": [],
   "source": [
    "tk = actualizarToken(tk) \n",
    "data = operacion(24166668)\n",
    "data"
   ]
  },
  {
   "cell_type": "markdown",
   "metadata": {},
   "source": [
    "## Operar Venta"
   ]
  },
  {
   "cell_type": "code",
   "execution_count": 84,
   "metadata": {},
   "outputs": [],
   "source": [
    "def vender(ticker, q, precio, plazo ):\n",
    "    import datetime as dt\n",
    "    vigencia = dt.datetime.now() + dt.timedelta(days=1)\n",
    "    vigencia_str = dt.datetime.strftime(vigencia, '%Y-%m-%d')\n",
    "    params = {\n",
    "      \"mercado\": \"bCBA\",\n",
    "      \"simbolo\": ticker,\n",
    "      \"cantidad\": q,\n",
    "      \"precio\": precio,\n",
    "      \"plazo\": plazo,\n",
    "      \"validez\": vigencia_str\n",
    "    }\n",
    "    # Configuración del llamado a la API\n",
    "    url_base= 'https://api.invertironline.com/api/v2/'\n",
    "    endpoint = 'operar/vender/'\n",
    "    url = url_base + endpoint\n",
    "    headers = {\"Authorization\" : \"Bearer \"+ tk['access_token']}\n",
    "    \n",
    "    # Llamado a la API\n",
    "    data = requests.post(url = url, headers = headers, json = params).json()\n",
    "    return data\n"
   ]
  },
  {
   "cell_type": "code",
   "execution_count": null,
   "metadata": {},
   "outputs": [],
   "source": [
    "tk = actualizarToken(tk) \n",
    "vender(ticker='COME', q=10, precio=2.4, plazo='t2')"
   ]
  },
  {
   "cell_type": "code",
   "execution_count": 333,
   "metadata": {},
   "outputs": [
    {
     "data": {
      "text/html": [
       "<div>\n",
       "<style scoped>\n",
       "    .dataframe tbody tr th:only-of-type {\n",
       "        vertical-align: middle;\n",
       "    }\n",
       "\n",
       "    .dataframe tbody tr th {\n",
       "        vertical-align: top;\n",
       "    }\n",
       "\n",
       "    .dataframe thead th {\n",
       "        text-align: right;\n",
       "    }\n",
       "</style>\n",
       "<table border=\"1\" class=\"dataframe\">\n",
       "  <thead>\n",
       "    <tr style=\"text-align: right;\">\n",
       "      <th></th>\n",
       "      <th>numero</th>\n",
       "      <th>tipo</th>\n",
       "      <th>simbolo</th>\n",
       "      <th>cantidad</th>\n",
       "      <th>precio</th>\n",
       "      <th>cantidadOperada</th>\n",
       "    </tr>\n",
       "  </thead>\n",
       "  <tbody>\n",
       "    <tr>\n",
       "      <th>0</th>\n",
       "      <td>24166670</td>\n",
       "      <td>Venta</td>\n",
       "      <td>COME</td>\n",
       "      <td>10.0</td>\n",
       "      <td>2.4</td>\n",
       "      <td>NaN</td>\n",
       "    </tr>\n",
       "    <tr>\n",
       "      <th>1</th>\n",
       "      <td>24166668</td>\n",
       "      <td>Compra</td>\n",
       "      <td>ALUA</td>\n",
       "      <td>1.0</td>\n",
       "      <td>40.1</td>\n",
       "      <td>NaN</td>\n",
       "    </tr>\n",
       "  </tbody>\n",
       "</table>\n",
       "</div>"
      ],
      "text/plain": [
       "     numero    tipo simbolo  cantidad  precio  cantidadOperada\n",
       "0  24166670   Venta    COME      10.0     2.4              NaN\n",
       "1  24166668  Compra    ALUA       1.0    40.1              NaN"
      ]
     },
     "execution_count": 333,
     "metadata": {},
     "output_type": "execute_result"
    }
   ],
   "source": [
    "tk = actualizarToken(tk) \n",
    "data = operaciones()\n",
    "\n",
    "cols = ['numero','tipo','simbolo','cantidad','precio','cantidadOperada']\n",
    "data.loc[data.estado=='iniciada', cols]"
   ]
  },
  {
   "cell_type": "markdown",
   "metadata": {},
   "source": [
    "## Operar, Cancelar Orden"
   ]
  },
  {
   "cell_type": "code",
   "execution_count": 85,
   "metadata": {},
   "outputs": [],
   "source": [
    "def cancelar(numero):\n",
    "    \n",
    "    # Configuración del llamado a la API\n",
    "    url_base= 'https://api.invertironline.com/api/v2/'\n",
    "    endpoint = 'operaciones/'+str(numero)\n",
    "    url = url_base + endpoint\n",
    "    headers = {\"Authorization\" : \"Bearer \"+ tk['access_token']}\n",
    "    \n",
    "    # Llamado a la API\n",
    "    data = requests.delete(url = url, headers = headers).json()\n",
    "    return data\n"
   ]
  },
  {
   "cell_type": "code",
   "execution_count": null,
   "metadata": {},
   "outputs": [],
   "source": [
    "tk = actualizarToken(tk) \n",
    "\n",
    "# Cancelamos primero la compra de ALUA\n",
    "data = cancelar(24166668)\n",
    "data"
   ]
  },
  {
   "cell_type": "code",
   "execution_count": 335,
   "metadata": {},
   "outputs": [
    {
     "data": {
      "text/html": [
       "<div>\n",
       "<style scoped>\n",
       "    .dataframe tbody tr th:only-of-type {\n",
       "        vertical-align: middle;\n",
       "    }\n",
       "\n",
       "    .dataframe tbody tr th {\n",
       "        vertical-align: top;\n",
       "    }\n",
       "\n",
       "    .dataframe thead th {\n",
       "        text-align: right;\n",
       "    }\n",
       "</style>\n",
       "<table border=\"1\" class=\"dataframe\">\n",
       "  <thead>\n",
       "    <tr style=\"text-align: right;\">\n",
       "      <th></th>\n",
       "      <th>numero</th>\n",
       "      <th>tipo</th>\n",
       "      <th>simbolo</th>\n",
       "      <th>cantidad</th>\n",
       "      <th>precio</th>\n",
       "      <th>cantidadOperada</th>\n",
       "    </tr>\n",
       "  </thead>\n",
       "  <tbody>\n",
       "    <tr>\n",
       "      <th>0</th>\n",
       "      <td>24166670</td>\n",
       "      <td>Venta</td>\n",
       "      <td>COME</td>\n",
       "      <td>10.0</td>\n",
       "      <td>2.4</td>\n",
       "      <td>NaN</td>\n",
       "    </tr>\n",
       "  </tbody>\n",
       "</table>\n",
       "</div>"
      ],
      "text/plain": [
       "     numero   tipo simbolo  cantidad  precio  cantidadOperada\n",
       "0  24166670  Venta    COME      10.0     2.4              NaN"
      ]
     },
     "execution_count": 335,
     "metadata": {},
     "output_type": "execute_result"
    }
   ],
   "source": [
    "tk = actualizarToken(tk) \n",
    "data = operaciones()\n",
    "\n",
    "cols = ['numero','tipo','simbolo','cantidad','precio','cantidadOperada']\n",
    "data.loc[data.estado=='iniciada', cols]"
   ]
  },
  {
   "cell_type": "code",
   "execution_count": null,
   "metadata": {},
   "outputs": [],
   "source": []
  }
 ],
 "metadata": {
  "kernelspec": {
   "display_name": "Python 3",
   "language": "python",
   "name": "python3"
  },
  "language_info": {
   "codemirror_mode": {
    "name": "ipython",
    "version": 3
   },
   "file_extension": ".py",
   "mimetype": "text/x-python",
   "name": "python",
   "nbconvert_exporter": "python",
   "pygments_lexer": "ipython3",
   "version": "3.8.5"
  },
  "toc": {
   "base_numbering": 1,
   "nav_menu": {},
   "number_sections": true,
   "sideBar": true,
   "skip_h1_title": false,
   "title_cell": "Table of Contents",
   "title_sidebar": "Contents",
   "toc_cell": false,
   "toc_position": {},
   "toc_section_display": true,
   "toc_window_display": true
  }
 },
 "nbformat": 4,
 "nbformat_minor": 4
}
