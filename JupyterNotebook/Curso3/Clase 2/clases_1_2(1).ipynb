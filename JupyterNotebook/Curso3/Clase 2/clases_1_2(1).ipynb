{
 "cells": [
  {
   "cell_type": "markdown",
   "metadata": {},
   "source": [
    "# Tipos de BOTS"
   ]
  },
  {
   "cell_type": "markdown",
   "metadata": {},
   "source": [
    "BOTs de DataFeed / Screeners"
   ]
  },
  {
   "cell_type": "markdown",
   "metadata": {},
   "source": [
    "BOTs de Trading\n",
    "\n",
    "* Bots de Colocación de grandes órdenes, para no alterar precio\n",
    "* Bots de Colocación de órdenes, para obtener el mejor precio\n",
    "* Bots de Market Making\n",
    "* Bots de Arbitrajes en un mercado\n",
    "* Bots de Arbitrajes entre mercados\n",
    "* Bots de Arbitrajes estadísticos (en un mercado o entre mercados)\n",
    "* Bots de Hedging\n",
    "* Bots de Balanceo de carteras (optimización, riesgo, etc)\n",
    "* Bots de ruteo para seguimiento de índices (fondos, etfs)\n",
    "* Bots de scalping\n",
    "* Bots de swing trading\n",
    "\n",
    "\n",
    "BOTs estratégicos\n",
    "\n",
    "* Bots de detección de otros bots"
   ]
  },
  {
   "cell_type": "code",
   "execution_count": null,
   "metadata": {},
   "outputs": [],
   "source": [
    "mercado 1: 99 \n",
    "mercado 2: 101\n",
    "mercado 3: \n",
    "mercado 4:\n",
    "mercado 5:\n",
    "\n",
    "    \n",
    "Situacion A\n",
    "mercado 1: 99 \n",
    "mercado 2: 101\n",
    "mercado 3: 99\n",
    "mercado 4: 99\n",
    "mercado 5: 99\n",
    "\n",
    "    \n",
    "Situacion B\n",
    "mercado 1: 99 \n",
    "mercado 2: 101\n",
    "mercado 3: 101\n",
    "mercado 4: 101\n",
    "mercado 5: 101\n"
   ]
  },
  {
   "cell_type": "code",
   "execution_count": null,
   "metadata": {},
   "outputs": [],
   "source": []
  },
  {
   "cell_type": "code",
   "execution_count": null,
   "metadata": {},
   "outputs": [],
   "source": []
  },
  {
   "cell_type": "code",
   "execution_count": null,
   "metadata": {},
   "outputs": [],
   "source": [
    "puntas 2.7 - 2.8\n",
    "\n",
    "MM compra 2.71 >> Me boy a vender eso mismo que me dieron a 2.79"
   ]
  },
  {
   "cell_type": "code",
   "execution_count": null,
   "metadata": {},
   "outputs": [],
   "source": [
    "fondo x quiere comprar una cantidad muy grande de activo Y que vale 100\n",
    "\n",
    "- fondo x va a querer que ese precio no suba\n",
    "- juanpy va a querer saber cual es el precio maximo que va a pagar el fondo x\n",
    "\n"
   ]
  },
  {
   "cell_type": "code",
   "execution_count": null,
   "metadata": {},
   "outputs": [],
   "source": []
  },
  {
   "cell_type": "markdown",
   "metadata": {},
   "source": [
    "# API IOL"
   ]
  },
  {
   "cell_type": "markdown",
   "metadata": {},
   "source": [
    "## Pedir Token por primera vez"
   ]
  },
  {
   "cell_type": "code",
   "execution_count": 1,
   "metadata": {},
   "outputs": [],
   "source": [
    "from iol_user import *\n",
    "\n",
    "iol_user = USER\n",
    "iol_password = PASS"
   ]
  },
  {
   "cell_type": "code",
   "execution_count": 2,
   "metadata": {},
   "outputs": [],
   "source": [
    "import requests\n",
    "\n",
    "def pedirToken():\n",
    "    url = 'https://api.invertironline.com/token'\n",
    "    data = {\"username\" : iol_user, \"password\": iol_password, \"grant_type\":\"password\"}\n",
    "    r = requests.post(url = url, data = data).json()\n",
    "    return r\n",
    "\n",
    "tk = pedirToken()"
   ]
  },
  {
   "cell_type": "code",
   "execution_count": 3,
   "metadata": {},
   "outputs": [
    {
     "data": {
      "text/plain": [
       "{'access_token': 'xopMCwYAqEKpi2W920vVGADO9KIlmqbnR-x2yTKJg5Ql8IAkPCOQjP_uBr7hEH41HFbIZxArjSLOVCWFOiGKGLzp0nJY8PEzajWrXX0ZRXfQ15jyPO_gTs-ciAqkVOR06C-XOo5uY0XtZxa8msmOtrvMdqCChsHZ_LVJNdOKhG5DuprcM9VLSDj6u2Kk7sU-c20Tw0wdmTTT0U_Rmb2u0LSP5os9-GxIvhb9CDzaoe3bMLXGei-OGZU1YmtkVoWHTpaBEEqhVjvB3TTUL7rDMe42lxHWTpRv6kWJF0js9SGD2PhcTvZcBP2lkeWLHfqzIvr70S-BuihFQZlnzDwqXBH2di1XR8X6Jfybi9xM6U05Ep5OWF1s-aDQXzVC4oBpez8lN4Qpiboj5U_TroIEPQ',\n",
       " 'token_type': 'bearer',\n",
       " 'expires_in': 899,\n",
       " 'refresh_token': 'W0dWMajS1JKiNcYuv-luBh_c3x2PVp-slM6ApTGjGjzayCuu-lhIc8wllT82oduZ4ZGxdcMzBZTomtQ5Yi1mEquScoj-VAwgL0HQFsBqCAmdD9NQRosc10YZ2MPWu-Cqj2Nc4y8kEyAV-heRSyqEb-Ztf9znTNsCVF8pOyltE_zic2BSnfXWEZZZfTIItLE3ftAgmPG1M7PgXBKmLRyWUvuBQewgpttSswFyqcKqXmFNJ4zlnoWDI_rD7p8Y5ENbFH4a8cIOUEpjPquP7kyskAqPrQy7b0HKITHzbmtpwCBQyXjTOu8ongsGJlgjW_eJFETTD_Ogkuwp2VxP_JHfXTg6rQoZ8jb27pa4imLKu3UxqpsLxxcHnY-LFODioKtJMcJ6bLiB97sDp5NRfPMRVA',\n",
       " '.issued': 'Fri, 13 Nov 2020 21:27:50 GMT',\n",
       " '.expires': 'Fri, 13 Nov 2020 21:42:50 GMT',\n",
       " '.refreshexpires': 'Fri, 13 Nov 2020 22:27:50 GMT'}"
      ]
     },
     "execution_count": 3,
     "metadata": {},
     "output_type": "execute_result"
    }
   ],
   "source": [
    "tk"
   ]
  },
  {
   "cell_type": "code",
   "execution_count": 4,
   "metadata": {},
   "outputs": [
    {
     "data": {
      "text/plain": [
       "'xTe-oZlIebH-ooqnxL2W8dH59WeN8GS1Ygt1uiwNgrTYjkVStA5hd7fO1N-qAIQ3YH7uP2uE7AXEThOZMCMrF9TmcZR5zLQjWGXB20OoaQZvYMzqZVOEbukaWCEWtFuukkzjZzlmj5Uza-ZhjQffj-w_PDNpMxwSS7x2cTVCa0ir1CXD0pRjoT-gs_mK-Fb1dCF9SAKhJj2EEUYQk5pnyggI-rlLF34yzY4Z2LbV8VclLxUea9FlgzsmOofNq71Wo3aQbAYKbvCkmiojy6BtUbCOCpEYmdYuzdUQ0lMx3uktj5d6x47ZeZ67PbA7u8Hmyd2DWHtCwZfJuAoF0fVh8NPynu6LenHnRuKIl_P76gRWGgKaAyY8P7Xh3doRnMFhNX1gRNXtG4TmqlhBt3xf5Q'"
      ]
     },
     "execution_count": 4,
     "metadata": {},
     "output_type": "execute_result"
    }
   ],
   "source": [
    "tk['access_token']"
   ]
  },
  {
   "cell_type": "markdown",
   "metadata": {},
   "source": [
    "## Saber la exporacion del Token"
   ]
  },
  {
   "cell_type": "code",
   "execution_count": 4,
   "metadata": {},
   "outputs": [
    {
     "data": {
      "text/plain": [
       "'Fri, 13 Nov 2020 21:42:50 GMT'"
      ]
     },
     "execution_count": 4,
     "metadata": {},
     "output_type": "execute_result"
    }
   ],
   "source": [
    "tk['.expires']"
   ]
  },
  {
   "cell_type": "code",
   "execution_count": 5,
   "metadata": {},
   "outputs": [],
   "source": [
    "import datetime as dt"
   ]
  },
  {
   "cell_type": "code",
   "execution_count": 7,
   "metadata": {},
   "outputs": [
    {
     "data": {
      "text/plain": [
       "datetime.datetime(2020, 11, 13, 21, 42, 50)"
      ]
     },
     "execution_count": 7,
     "metadata": {},
     "output_type": "execute_result"
    }
   ],
   "source": [
    "dt.datetime.strptime(tk['.expires'],'%a, %d %b %Y %H:%M:%S GMT')"
   ]
  },
  {
   "cell_type": "code",
   "execution_count": 8,
   "metadata": {},
   "outputs": [
    {
     "data": {
      "text/plain": [
       "datetime.datetime(2020, 11, 13, 21, 32, 3, 93024)"
      ]
     },
     "execution_count": 8,
     "metadata": {},
     "output_type": "execute_result"
    }
   ],
   "source": [
    "dt.datetime.utcnow()"
   ]
  },
  {
   "cell_type": "code",
   "execution_count": 9,
   "metadata": {},
   "outputs": [
    {
     "data": {
      "text/plain": [
       "datetime.timedelta(seconds=636, microseconds=439086)"
      ]
     },
     "execution_count": 9,
     "metadata": {},
     "output_type": "execute_result"
    }
   ],
   "source": [
    "dt.datetime.strptime(tk['.expires'],'%a, %d %b %Y %H:%M:%S GMT') - dt.datetime.utcnow()"
   ]
  },
  {
   "cell_type": "code",
   "execution_count": null,
   "metadata": {},
   "outputs": [],
   "source": []
  },
  {
   "cell_type": "markdown",
   "metadata": {},
   "source": [
    "Con ambas cosas puedo calcular la diferencia"
   ]
  },
  {
   "cell_type": "code",
   "execution_count": 11,
   "metadata": {},
   "outputs": [
    {
     "data": {
      "text/plain": [
       "datetime.timedelta(seconds=386, microseconds=31914)"
      ]
     },
     "execution_count": 11,
     "metadata": {},
     "output_type": "execute_result"
    }
   ],
   "source": [
    "def checkToken(tk):\n",
    "    exp = dt.datetime.strptime(tk['.expires'],'%a, %d %b %Y %H:%M:%S GMT')\n",
    "    ahora = dt.datetime.utcnow()\n",
    "    tiempo = exp-ahora\n",
    "    return tiempo\n",
    "\n",
    "checkToken(tk)"
   ]
  },
  {
   "cell_type": "markdown",
   "metadata": {},
   "source": [
    "Bien, el punto acá es que como la diferencia es positiva los días estan en 0, veamos:"
   ]
  },
  {
   "cell_type": "code",
   "execution_count": 20,
   "metadata": {},
   "outputs": [
    {
     "data": {
      "text/plain": [
       "(-1, 86373)"
      ]
     },
     "execution_count": 20,
     "metadata": {},
     "output_type": "execute_result"
    }
   ],
   "source": [
    "checkToken(tk).days, checkToken(tk).seconds"
   ]
  },
  {
   "cell_type": "markdown",
   "metadata": {},
   "source": [
    "Como vemos en ese ejemplo me quedan aun o dias, 716 segundos, así que podría seguir usando mi access_token"
   ]
  },
  {
   "cell_type": "markdown",
   "metadata": {},
   "source": [
    "Pero si se me expira el token no me quedan segundos negativos sino que queda days=-1 y los segundos comienzan cuenta regresiva desde 86400 que son 24 x 60 x 60 "
   ]
  },
  {
   "cell_type": "markdown",
   "metadata": {},
   "source": [
    "## Actualizar Token (En caso que esté expirado)"
   ]
  },
  {
   "cell_type": "markdown",
   "metadata": {},
   "source": [
    "Entonces armemos la función para que solo vuelva a pedir el access_token en caso de que el actual esté expirado:"
   ]
  },
  {
   "cell_type": "code",
   "execution_count": 39,
   "metadata": {
    "scrolled": true
   },
   "outputs": [
    {
     "name": "stdout",
     "output_type": "stream",
     "text": [
      "Wall time: 736 ms\n"
     ]
    },
    {
     "data": {
      "text/plain": [
       "{'access_token': 'NlfYwaIhIXfRqQBdb-nCpKDt7jrlo5AMVpjRkGyLx1VUx0-3bsfcvY1hvirsm4IUUT7WQgLw0rT4YVcHwtkKr4fnTJGVRkiYdt3ocmDEqWOSfkVjRSyStvTgK3PUf_UWrgVjYWpKH6XCiqL5-sC1q7sgCsPpmUAi7B-NpFpRNL3E_Zqk3CTlFS-AyxmS5ZkyAPQG9-5LbXJIfNPmLsf-FQ8MoaOussBaOrFTXrmoKaSe5_zev4av26aCqClk4lXCFt6r_VxGJ_r0QT8CVNYWjK2cR8-9Nl3YaOD9CaRjxT0q_dsU5bX0knYXOO75JWwFxzy2nMmbPo-rInqn9XucF4M1-sBBHgL42eef1_moA8EX4LvFX37MOFnJ7eP-rOe0Y4drOPLq3HETO7pK3fFLjw',\n",
       " 'token_type': 'bearer',\n",
       " 'expires_in': 899,\n",
       " 'refresh_token': '-4LsORs3f-tsvi-OvIFNrHBnbcnwWrmThw4aRebcvI1xeycweCQmN_R2IyNnI-DPXK3dcPyNLcYZ8Ts1aOMeDudu1MH63UPgKepkehOY31afjuJFaiszZtAL9ap3Afk7ht0ztUh0OGrzB6ZhFNWQ-0cKYkv4oMwzmtvsJR3Ev9ujRR94f2Cahp-JLLQ9OlfDnYQ-tP0pvfWzuYT9z0yQAti1zLymh7OLCOrxTNc1SHd3QJdficqNHqSXVa2Ht0b9jvG4m8YntxWdDPwXT2TH8-Dyw_GA2kZZtrj0Ogqu-7dpTWMovHjlZD1r1N8WCv7VWYFGc1hk7eisPsovisoRXWKrJoPjyFpWWMemISFwHB1yftO3RnfFBixHp2q_FxvL-laqITSzy6WnekIvqfLU_A',\n",
       " '.issued': 'Fri, 13 Nov 2020 22:15:00 GMT',\n",
       " '.expires': 'Fri, 13 Nov 2020 22:30:00 GMT',\n",
       " '.refreshexpires': 'Fri, 13 Nov 2020 23:15:00 GMT'}"
      ]
     },
     "execution_count": 39,
     "metadata": {},
     "output_type": "execute_result"
    }
   ],
   "source": [
    "%%time\n",
    "\n",
    "def actualizarToken(tk):\n",
    "    \n",
    "    # Me fijo si está expirado\n",
    "    if checkToken(tk).days == 0:\n",
    "        tokenOk = tk\n",
    "    else:\n",
    "        tokenOk = pedirToken()\n",
    "        \n",
    "    # Devuelvo el token actualizado\n",
    "    return tokenOk\n",
    "    \n",
    "tk = actualizarToken(tk)\n",
    "tk"
   ]
  },
  {
   "cell_type": "markdown",
   "metadata": {},
   "source": [
    "## Uso de las funciones de Token"
   ]
  },
  {
   "cell_type": "markdown",
   "metadata": {},
   "source": [
    "Ya con esas funciones puedo hacer lo siguiente:\n",
    "    \n",
    "* Si recien arranco a usar la API pongo tk=pedirToken() y ya me guardo en memoria mi token\n",
    "* Luego una vez que use la API lo que hago es es usar tk = token(tk) (esto no va a volver a pedir un token a menos que el que tenga como parámetro esté expirado, en ese caso lo sobreescribirá, caso contrario quedará el mismo que estaba"
   ]
  },
  {
   "cell_type": "markdown",
   "metadata": {},
   "source": [
    "Es decir solo cuando comience nuestro script usaremos:"
   ]
  },
  {
   "cell_type": "code",
   "execution_count": 13,
   "metadata": {},
   "outputs": [],
   "source": [
    "tk = pedirToken()"
   ]
  },
  {
   "cell_type": "markdown",
   "metadata": {},
   "source": [
    "y a partir de allí antes de cada request usaremos:"
   ]
  },
  {
   "cell_type": "code",
   "execution_count": 14,
   "metadata": {},
   "outputs": [],
   "source": [
    "tk = actualizarToken(tk)"
   ]
  },
  {
   "cell_type": "markdown",
   "metadata": {},
   "source": [
    "# MarketData"
   ]
  },
  {
   "cell_type": "markdown",
   "metadata": {},
   "source": [
    "## Precios históricos"
   ]
  },
  {
   "cell_type": "code",
   "execution_count": 22,
   "metadata": {},
   "outputs": [],
   "source": [
    "import pandas as pd"
   ]
  },
  {
   "cell_type": "markdown",
   "metadata": {},
   "source": [
    "Empecemos con consultas de precios históricos, para ello tenemos los siguientes endpoints:\n",
    "\n",
    "    * url_base = https://api.invertironline.com/api/v2/\n",
    "    * endpoint = bCBA/Titulos/'+ticker+'/Cotizacion/seriehistorica/'+FROM+'/'+TO+'/sinAjustar\n",
    "    * endpoint = bCBA/Titulos/'+ticker+'/Cotizacion/seriehistorica/'+FROM+'/'+TO+'/ajustada    "
   ]
  },
  {
   "cell_type": "markdown",
   "metadata": {},
   "source": [
    "Como vemos los parámetros debemos pasarlos en la URL así que vamos a armar la función con ese criterio"
   ]
  },
  {
   "cell_type": "markdown",
   "metadata": {},
   "source": [
    "La línea del resample es necesaria porque en una rueda hábil en horario de mercado me devuelve la serie de tiempo en dias pero la ultima rueda me devuelve todas las operaciones del día\n"
   ]
  },
  {
   "cell_type": "code",
   "execution_count": 23,
   "metadata": {},
   "outputs": [
    {
     "data": {
      "text/plain": [
       "Index(['ultimoPrecio', 'variacion', 'apertura', 'maximo', 'minimo',\n",
       "       'tendencia', 'cierreAnterior', 'montoOperado', 'volumenNominal',\n",
       "       'precioPromedio', 'precioAjuste', 'cantidadOperaciones'],\n",
       "      dtype='object')"
      ]
     },
     "execution_count": 23,
     "metadata": {},
     "output_type": "execute_result"
    }
   ],
   "source": [
    "def getHist(ticker,FROM,TO):\n",
    "    \n",
    "    # Configuración del llamado a la API\n",
    "    url_base= 'https://api.invertironline.com/api/v2/'    \n",
    "    endpoint = 'bCBA/Titulos/'+ticker+'/Cotizacion/seriehistorica/'+FROM+'/'+TO+'/sinAjustar'\n",
    "    url = url_base + endpoint\n",
    "    headers = {\"Authorization\" : \"Bearer \"+ tk['access_token']}\n",
    "    \n",
    "    # Llamado a la API\n",
    "    data = requests.get(url = url, headers = headers).json()\n",
    "    \n",
    "    # Acomodamos la tabla\n",
    "    tabla = pd.DataFrame(data).set_index('fechaHora')\n",
    "    tabla.index = pd.to_datetime(tabla.index)\n",
    "    tabla = tabla.resample('d').last()       \n",
    "    tabla = tabla.drop(['moneda','interesesAbiertos','puntas'], axis=1)\n",
    "\n",
    "    return(tabla.dropna())\n",
    "\n",
    "# Antes de pedir los precios actualizamos el token\n",
    "tk = actualizarToken(tk)\n",
    "\n",
    "# Pedimos los precios\n",
    "data = getHist('GGAL',FROM='2015-01-01',TO='2019-05-05')\n",
    "\n",
    "# mostramos las columnas de lo que trajimos\n",
    "data.columns"
   ]
  },
  {
   "cell_type": "markdown",
   "metadata": {},
   "source": [
    "Y mostramos el primer dato todo lo que nos trae, no imprimo toda la tabla porque es inmensa"
   ]
  },
  {
   "cell_type": "code",
   "execution_count": 25,
   "metadata": {
    "scrolled": true
   },
   "outputs": [
    {
     "data": {
      "text/html": [
       "<div>\n",
       "<style scoped>\n",
       "    .dataframe tbody tr th:only-of-type {\n",
       "        vertical-align: middle;\n",
       "    }\n",
       "\n",
       "    .dataframe tbody tr th {\n",
       "        vertical-align: top;\n",
       "    }\n",
       "\n",
       "    .dataframe thead th {\n",
       "        text-align: right;\n",
       "    }\n",
       "</style>\n",
       "<table border=\"1\" class=\"dataframe\">\n",
       "  <thead>\n",
       "    <tr style=\"text-align: right;\">\n",
       "      <th></th>\n",
       "      <th>ultimoPrecio</th>\n",
       "      <th>variacion</th>\n",
       "      <th>apertura</th>\n",
       "      <th>maximo</th>\n",
       "      <th>minimo</th>\n",
       "      <th>tendencia</th>\n",
       "      <th>cierreAnterior</th>\n",
       "      <th>montoOperado</th>\n",
       "      <th>volumenNominal</th>\n",
       "      <th>precioPromedio</th>\n",
       "      <th>precioAjuste</th>\n",
       "      <th>cantidadOperaciones</th>\n",
       "    </tr>\n",
       "    <tr>\n",
       "      <th>fechaHora</th>\n",
       "      <th></th>\n",
       "      <th></th>\n",
       "      <th></th>\n",
       "      <th></th>\n",
       "      <th></th>\n",
       "      <th></th>\n",
       "      <th></th>\n",
       "      <th></th>\n",
       "      <th></th>\n",
       "      <th></th>\n",
       "      <th></th>\n",
       "      <th></th>\n",
       "    </tr>\n",
       "  </thead>\n",
       "  <tbody>\n",
       "    <tr>\n",
       "      <th>2015-01-02</th>\n",
       "      <td>18.65</td>\n",
       "      <td>0.81</td>\n",
       "      <td>18.75</td>\n",
       "      <td>19.10</td>\n",
       "      <td>18.45</td>\n",
       "      <td>sube</td>\n",
       "      <td>18.50</td>\n",
       "      <td>7.787395e+06</td>\n",
       "      <td>413569.0</td>\n",
       "      <td>18.829</td>\n",
       "      <td>0.0</td>\n",
       "      <td>205.0</td>\n",
       "    </tr>\n",
       "    <tr>\n",
       "      <th>2015-01-05</th>\n",
       "      <td>17.90</td>\n",
       "      <td>-4.02</td>\n",
       "      <td>18.65</td>\n",
       "      <td>18.65</td>\n",
       "      <td>17.60</td>\n",
       "      <td>baja</td>\n",
       "      <td>18.65</td>\n",
       "      <td>1.338920e+07</td>\n",
       "      <td>742557.0</td>\n",
       "      <td>18.031</td>\n",
       "      <td>0.0</td>\n",
       "      <td>239.0</td>\n",
       "    </tr>\n",
       "    <tr>\n",
       "      <th>2015-01-06</th>\n",
       "      <td>18.10</td>\n",
       "      <td>1.12</td>\n",
       "      <td>18.35</td>\n",
       "      <td>18.35</td>\n",
       "      <td>17.85</td>\n",
       "      <td>sube</td>\n",
       "      <td>17.90</td>\n",
       "      <td>1.039780e+07</td>\n",
       "      <td>578121.0</td>\n",
       "      <td>17.985</td>\n",
       "      <td>0.0</td>\n",
       "      <td>246.0</td>\n",
       "    </tr>\n",
       "    <tr>\n",
       "      <th>2015-01-07</th>\n",
       "      <td>18.50</td>\n",
       "      <td>2.21</td>\n",
       "      <td>18.20</td>\n",
       "      <td>18.60</td>\n",
       "      <td>18.20</td>\n",
       "      <td>sube</td>\n",
       "      <td>18.10</td>\n",
       "      <td>7.898091e+06</td>\n",
       "      <td>427092.0</td>\n",
       "      <td>18.492</td>\n",
       "      <td>0.0</td>\n",
       "      <td>212.0</td>\n",
       "    </tr>\n",
       "    <tr>\n",
       "      <th>2015-01-08</th>\n",
       "      <td>18.45</td>\n",
       "      <td>-0.27</td>\n",
       "      <td>18.90</td>\n",
       "      <td>18.90</td>\n",
       "      <td>18.40</td>\n",
       "      <td>baja</td>\n",
       "      <td>18.50</td>\n",
       "      <td>1.102111e+07</td>\n",
       "      <td>590705.0</td>\n",
       "      <td>18.657</td>\n",
       "      <td>0.0</td>\n",
       "      <td>190.0</td>\n",
       "    </tr>\n",
       "    <tr>\n",
       "      <th>...</th>\n",
       "      <td>...</td>\n",
       "      <td>...</td>\n",
       "      <td>...</td>\n",
       "      <td>...</td>\n",
       "      <td>...</td>\n",
       "      <td>...</td>\n",
       "      <td>...</td>\n",
       "      <td>...</td>\n",
       "      <td>...</td>\n",
       "      <td>...</td>\n",
       "      <td>...</td>\n",
       "      <td>...</td>\n",
       "    </tr>\n",
       "    <tr>\n",
       "      <th>2019-04-26</th>\n",
       "      <td>97.60</td>\n",
       "      <td>2.36</td>\n",
       "      <td>98.50</td>\n",
       "      <td>98.50</td>\n",
       "      <td>93.10</td>\n",
       "      <td>mantiene</td>\n",
       "      <td>97.60</td>\n",
       "      <td>1.114448e+08</td>\n",
       "      <td>1150947.0</td>\n",
       "      <td>0.000</td>\n",
       "      <td>0.0</td>\n",
       "      <td>1139.0</td>\n",
       "    </tr>\n",
       "    <tr>\n",
       "      <th>2019-04-29</th>\n",
       "      <td>95.20</td>\n",
       "      <td>-2.66</td>\n",
       "      <td>96.80</td>\n",
       "      <td>97.90</td>\n",
       "      <td>94.00</td>\n",
       "      <td>mantiene</td>\n",
       "      <td>95.20</td>\n",
       "      <td>8.673412e+07</td>\n",
       "      <td>906851.0</td>\n",
       "      <td>0.000</td>\n",
       "      <td>0.0</td>\n",
       "      <td>775.0</td>\n",
       "    </tr>\n",
       "    <tr>\n",
       "      <th>2019-04-30</th>\n",
       "      <td>96.95</td>\n",
       "      <td>1.89</td>\n",
       "      <td>94.85</td>\n",
       "      <td>98.00</td>\n",
       "      <td>93.25</td>\n",
       "      <td>mantiene</td>\n",
       "      <td>96.95</td>\n",
       "      <td>7.269156e+07</td>\n",
       "      <td>754762.0</td>\n",
       "      <td>0.000</td>\n",
       "      <td>0.0</td>\n",
       "      <td>775.0</td>\n",
       "    </tr>\n",
       "    <tr>\n",
       "      <th>2019-05-02</th>\n",
       "      <td>104.00</td>\n",
       "      <td>7.42</td>\n",
       "      <td>101.10</td>\n",
       "      <td>104.15</td>\n",
       "      <td>99.00</td>\n",
       "      <td>mantiene</td>\n",
       "      <td>104.00</td>\n",
       "      <td>9.845329e+07</td>\n",
       "      <td>963515.0</td>\n",
       "      <td>0.000</td>\n",
       "      <td>0.0</td>\n",
       "      <td>1123.0</td>\n",
       "    </tr>\n",
       "    <tr>\n",
       "      <th>2019-05-03</th>\n",
       "      <td>109.20</td>\n",
       "      <td>5.28</td>\n",
       "      <td>106.50</td>\n",
       "      <td>109.85</td>\n",
       "      <td>106.50</td>\n",
       "      <td>mantiene</td>\n",
       "      <td>109.20</td>\n",
       "      <td>2.167262e+08</td>\n",
       "      <td>1991046.0</td>\n",
       "      <td>0.000</td>\n",
       "      <td>0.0</td>\n",
       "      <td>1587.0</td>\n",
       "    </tr>\n",
       "  </tbody>\n",
       "</table>\n",
       "<p>1059 rows × 12 columns</p>\n",
       "</div>"
      ],
      "text/plain": [
       "            ultimoPrecio  variacion  apertura  maximo  minimo tendencia  \\\n",
       "fechaHora                                                                 \n",
       "2015-01-02         18.65       0.81     18.75   19.10   18.45      sube   \n",
       "2015-01-05         17.90      -4.02     18.65   18.65   17.60      baja   \n",
       "2015-01-06         18.10       1.12     18.35   18.35   17.85      sube   \n",
       "2015-01-07         18.50       2.21     18.20   18.60   18.20      sube   \n",
       "2015-01-08         18.45      -0.27     18.90   18.90   18.40      baja   \n",
       "...                  ...        ...       ...     ...     ...       ...   \n",
       "2019-04-26         97.60       2.36     98.50   98.50   93.10  mantiene   \n",
       "2019-04-29         95.20      -2.66     96.80   97.90   94.00  mantiene   \n",
       "2019-04-30         96.95       1.89     94.85   98.00   93.25  mantiene   \n",
       "2019-05-02        104.00       7.42    101.10  104.15   99.00  mantiene   \n",
       "2019-05-03        109.20       5.28    106.50  109.85  106.50  mantiene   \n",
       "\n",
       "            cierreAnterior  montoOperado  volumenNominal  precioPromedio  \\\n",
       "fechaHora                                                                  \n",
       "2015-01-02           18.50  7.787395e+06        413569.0          18.829   \n",
       "2015-01-05           18.65  1.338920e+07        742557.0          18.031   \n",
       "2015-01-06           17.90  1.039780e+07        578121.0          17.985   \n",
       "2015-01-07           18.10  7.898091e+06        427092.0          18.492   \n",
       "2015-01-08           18.50  1.102111e+07        590705.0          18.657   \n",
       "...                    ...           ...             ...             ...   \n",
       "2019-04-26           97.60  1.114448e+08       1150947.0           0.000   \n",
       "2019-04-29           95.20  8.673412e+07        906851.0           0.000   \n",
       "2019-04-30           96.95  7.269156e+07        754762.0           0.000   \n",
       "2019-05-02          104.00  9.845329e+07        963515.0           0.000   \n",
       "2019-05-03          109.20  2.167262e+08       1991046.0           0.000   \n",
       "\n",
       "            precioAjuste  cantidadOperaciones  \n",
       "fechaHora                                      \n",
       "2015-01-02           0.0                205.0  \n",
       "2015-01-05           0.0                239.0  \n",
       "2015-01-06           0.0                246.0  \n",
       "2015-01-07           0.0                212.0  \n",
       "2015-01-08           0.0                190.0  \n",
       "...                  ...                  ...  \n",
       "2019-04-26           0.0               1139.0  \n",
       "2019-04-29           0.0                775.0  \n",
       "2019-04-30           0.0                775.0  \n",
       "2019-05-02           0.0               1123.0  \n",
       "2019-05-03           0.0               1587.0  \n",
       "\n",
       "[1059 rows x 12 columns]"
      ]
     },
     "execution_count": 25,
     "metadata": {},
     "output_type": "execute_result"
    }
   ],
   "source": [
    "data"
   ]
  },
  {
   "cell_type": "markdown",
   "metadata": {},
   "source": [
    "## Precios históricos ajustados"
   ]
  },
  {
   "cell_type": "code",
   "execution_count": 26,
   "metadata": {},
   "outputs": [
    {
     "data": {
      "text/plain": [
       "ultimoPrecio              18.4885\n",
       "variacion                       0\n",
       "apertura                  18.5877\n",
       "maximo                    18.9346\n",
       "minimo                    18.2903\n",
       "tendencia                    sube\n",
       "cierreAnterior                  0\n",
       "montoOperado           7.7874e+06\n",
       "volumenNominal             413569\n",
       "precioPromedio                  0\n",
       "precioAjuste                    0\n",
       "cantidadOperaciones           205\n",
       "Name: 2015-01-02 00:00:00, dtype: object"
      ]
     },
     "execution_count": 26,
     "metadata": {},
     "output_type": "execute_result"
    }
   ],
   "source": [
    "def getHist(ticker,FROM,TO, auto_adjust=False):\n",
    "    \n",
    "    # Configuración del llamado a la API\n",
    "    url_base= 'https://api.invertironline.com/api/v2/'    \n",
    "\n",
    "    if auto_adjust:\n",
    "        endpoint = 'bCBA/Titulos/'+ticker+'/Cotizacion/seriehistorica/'+FROM+'/'+TO+'/ajustada'\n",
    "    else:\n",
    "        endpoint = 'bCBA/Titulos/'+ticker+'/Cotizacion/seriehistorica/'+FROM+'/'+TO+'/sinAjustar'\n",
    "\n",
    "    url = url_base + endpoint\n",
    "    headers = {\"Authorization\" : \"Bearer \"+ tk['access_token']}\n",
    "    \n",
    "    # Llamado a la API\n",
    "    data = requests.get(url = url, headers = headers).json()\n",
    "    \n",
    "    # Acomodamos la tabla\n",
    "    tabla = pd.DataFrame(data).set_index('fechaHora')\n",
    "    tabla.index = pd.to_datetime(tabla.index)\n",
    "    tabla = tabla.resample('d').last()       \n",
    "    tabla = tabla.drop(['moneda','interesesAbiertos','puntas'], axis=1)\n",
    "\n",
    "    return(tabla.dropna())\n",
    "\n",
    "# Antes de pedir los precios actualizamos el token\n",
    "tk = actualizarToken(tk)\n",
    "\n",
    "# Pedimos los precios, esta vez ajustados\n",
    "data = getHist('GGAL',FROM='2015-01-01',TO='2019-05-05', auto_adjust=True)\n",
    "\n",
    "# mostramos las columnas de lo que trajimos\n",
    "data.iloc[0]"
   ]
  },
  {
   "cell_type": "markdown",
   "metadata": {},
   "source": [
    "## Listado de FCIs"
   ]
  },
  {
   "cell_type": "code",
   "execution_count": 27,
   "metadata": {},
   "outputs": [
    {
     "data": {
      "text/plain": [
       "Index(['variacion', 'ultimoOperado', 'horizonteInversion', 'rescate',\n",
       "       'invierte', 'tipoFondo', 'avisoHorarioEjecucion',\n",
       "       'tipoAdministradoraTituloFCI', 'fechaCorte', 'codigoBloomberg',\n",
       "       'perfilInversor', 'informeMensual', 'reglamentoGestion', 'simbolo',\n",
       "       'descripcion', 'pais', 'mercado', 'tipo', 'plazo', 'moneda'],\n",
       "      dtype='object')"
      ]
     },
     "execution_count": 27,
     "metadata": {},
     "output_type": "execute_result"
    }
   ],
   "source": [
    "def getFCI():\n",
    "    \n",
    "    # Configuración del llamado a la API\n",
    "    url_base= 'https://api.invertironline.com/api/v2/'\n",
    "    endpoint = 'Titulos/FCI'\n",
    "    url = url_base + endpoint\n",
    "    headers = {\"Authorization\" : \"Bearer \"+ tk['access_token']}\n",
    "    \n",
    "    # Llamado a la API\n",
    "    data = requests.get(url = url, headers = headers).json()\n",
    "    \n",
    "    # Acomodamos la tabla\n",
    "    tabla = pd.DataFrame(data)\n",
    "    return(tabla)\n",
    "\n",
    "tk = actualizarToken(tk) \n",
    "fcis = getFCI()\n",
    "\n",
    "# Listemos las columnas para ver todo lo que trae\n",
    "fcis.columns"
   ]
  },
  {
   "cell_type": "markdown",
   "metadata": {},
   "source": [
    "Agrupamos por tipo de fondo como para tener un pantallazo de la variedad:"
   ]
  },
  {
   "cell_type": "code",
   "execution_count": 28,
   "metadata": {
    "scrolled": true
   },
   "outputs": [
    {
     "data": {
      "text/plain": [
       "tipoFondo\n",
       "plazo_fijo_pesos        2\n",
       "renta_fija_dolares      2\n",
       "renta_fija_pesos        4\n",
       "renta_mixta_dolares     1\n",
       "renta_mixta_pesos       1\n",
       "renta_variable_pesos    4\n",
       "dtype: int64"
      ]
     },
     "execution_count": 28,
     "metadata": {},
     "output_type": "execute_result"
    }
   ],
   "source": [
    "fcis.groupby('tipoFondo').size()"
   ]
  },
  {
   "cell_type": "markdown",
   "metadata": {},
   "source": [
    "Iteramos como para acceder a los links web de los reportes:"
   ]
  },
  {
   "cell_type": "code",
   "execution_count": 29,
   "metadata": {},
   "outputs": [
    {
     "name": "stdout",
     "output_type": "stream",
     "text": [
      "PRTAVAB \n",
      " https://s3.us-east-1.amazonaws.com/resources.invertironline.com/AssetManagement/FCI/Datasheets/SAM/Premier%20Renta%20Variable.pdf \n",
      "\n",
      "\n",
      "PCOMAGB \n",
      " https://s3.us-east-1.amazonaws.com/resources.invertironline.com/AssetManagement/FCI/Datasheets/SAM/Premier%20Commodities.pdf \n",
      "\n",
      "\n",
      "CONRETO:AR \n",
      " https://s3.us-east-1.amazonaws.com/resources.invertironline.com/AssetManagement/FCI/Datasheets/Adcap/Retorno%20Total.pdf \n",
      "\n",
      "\n",
      "COIOLAC:AR \n",
      " https://s3.us-east-1.amazonaws.com/resources.invertironline.com/AssetManagement/FCI/Datasheets/Adcap/IOL%20Acciones.pdf \n",
      "\n",
      "\n"
     ]
    }
   ],
   "source": [
    "for idx, fci in fcis.iterrows():\n",
    "    if fci.tipoFondo == 'renta_variable_pesos':\n",
    "        print(fci.codigoBloomberg, '\\n', fci.informeMensual,'\\n\\n')"
   ]
  },
  {
   "cell_type": "code",
   "execution_count": 22,
   "metadata": {},
   "outputs": [
    {
     "data": {
      "text/plain": [
       "variacion                                                                  -3.58\n",
       "ultimoOperado                                                            25.3701\n",
       "horizonteInversion                                                   Largo Plazo\n",
       "rescate                                                                       t2\n",
       "invierte                       Acciones cotizantes en la Bolsa de Comercio de...\n",
       "tipoFondo                                                   renta_variable_pesos\n",
       "avisoHorarioEjecucion          siguiente dia hábil, debido a que fue ingresad...\n",
       "tipoAdministradoraTituloFCI                                          supervielle\n",
       "fechaCorte                                                   1900-01-01T15:00:00\n",
       "codigoBloomberg                                                          PRTAVAB\n",
       "perfilInversor                 Para inversores agresivos que deseen un increm...\n",
       "informeMensual                 https://s3.us-east-1.amazonaws.com/resources.i...\n",
       "reglamentoGestion              https://s3.amazonaws.com/resources.invertironl...\n",
       "simbolo                                                                  PRTAVAB\n",
       "descripcion                                     Premier Renta Variable - Clase B\n",
       "pais                                                                   argentina\n",
       "mercado                                                                     bcba\n",
       "tipo                                                       FondoComundeInversion\n",
       "plazo                                                                         t0\n",
       "moneda                                                            peso_Argentino\n",
       "Name: 0, dtype: object"
      ]
     },
     "execution_count": 22,
     "metadata": {},
     "output_type": "execute_result"
    }
   ],
   "source": [
    "fcis.loc[0]"
   ]
  },
  {
   "cell_type": "markdown",
   "metadata": {},
   "source": [
    "### FCIs Tipos de Fondos / Administradoras"
   ]
  },
  {
   "cell_type": "markdown",
   "metadata": {},
   "source": [
    "También podemos consultar a la API los tipos de fondos y las administradoras con los siguientes endpoints:"
   ]
  },
  {
   "cell_type": "code",
   "execution_count": 30,
   "metadata": {},
   "outputs": [
    {
     "data": {
      "text/plain": [
       "[{'identificador': 'plazo_fijo_pesos', 'nombre': 'Plazos Fijos Pesos'},\n",
       " {'identificador': 'renta_fija_pesos', 'nombre': 'Renta Fija Pesos'},\n",
       " {'identificador': 'renta_fija_dolares', 'nombre': 'Renta Fija Dólares'},\n",
       " {'identificador': 'renta_mixta_pesos', 'nombre': 'Renta Mixta Pesos'},\n",
       " {'identificador': 'renta_variable_pesos', 'nombre': 'Renta Variable Pesos'}]"
      ]
     },
     "execution_count": 30,
     "metadata": {},
     "output_type": "execute_result"
    }
   ],
   "source": [
    "def getFCI_TipoFondos():\n",
    "    \n",
    "    # Configuración del llamado a la API\n",
    "    url_base= 'https://api.invertironline.com/api/v2/'\n",
    "    endpoint = 'Titulos/FCI/TipoFondos'\n",
    "    url = url_base + endpoint\n",
    "    headers = {\"Authorization\" : \"Bearer \"+ tk['access_token']}\n",
    "    \n",
    "    # Llamado a la API\n",
    "    data = requests.get(url = url, headers = headers).json()\n",
    "    \n",
    "    return(data)\n",
    "\n",
    "tk = actualizarToken(tk) \n",
    "getFCI_TipoFondos()"
   ]
  },
  {
   "cell_type": "code",
   "execution_count": 31,
   "metadata": {},
   "outputs": [
    {
     "data": {
      "text/plain": [
       "[{'nombre': 'CONVEXITY',\n",
       "  'descripcion': 'Administradora FCI para suscripcion y rescates'},\n",
       " {'nombre': 'SUPERVIELLE',\n",
       "  'descripcion': 'Administradora FCI para suscripcion y rescates'},\n",
       " {'nombre': 'Allaria',\n",
       "  'descripcion': 'Administradora FCI para suscripcion y rescates'}]"
      ]
     },
     "execution_count": 31,
     "metadata": {},
     "output_type": "execute_result"
    }
   ],
   "source": [
    "def getFCI_Administradoras():\n",
    "    \n",
    "    # Configuración del llamado a la API\n",
    "    url_base= 'https://api.invertironline.com/api/v2/'\n",
    "    endpoint = 'Titulos/FCI/Administradoras'\n",
    "    url = url_base + endpoint\n",
    "    headers = {\"Authorization\" : \"Bearer \"+ tk['access_token']}\n",
    "    \n",
    "    # Llamado a la API\n",
    "    data = requests.get(url = url, headers = headers).json()\n",
    "    \n",
    "    return(data)\n",
    "\n",
    "tk = actualizarToken(tk) \n",
    "getFCI_Administradoras()"
   ]
  },
  {
   "cell_type": "markdown",
   "metadata": {},
   "source": [
    "## Consulta de títulos"
   ]
  },
  {
   "cell_type": "markdown",
   "metadata": {},
   "source": [
    "Tenemos un endpoint genérico que nos devuelve info general de un título o ticker"
   ]
  },
  {
   "cell_type": "code",
   "execution_count": 34,
   "metadata": {},
   "outputs": [
    {
     "data": {
      "text/plain": [
       "{'simbolo': 'AL30D',\n",
       " 'descripcion': 'Bono Rep. Argentina Usd Step Up 2030',\n",
       " 'pais': 'argentina',\n",
       " 'mercado': 'bcba',\n",
       " 'tipo': 'TITULOSPUBLICOS',\n",
       " 'plazo': 't2',\n",
       " 'moneda': 'dolar_Estadounidense'}"
      ]
     },
     "execution_count": 34,
     "metadata": {},
     "output_type": "execute_result"
    }
   ],
   "source": [
    "def titulo(ticker):\n",
    "    \n",
    "    # Configuración del llamado a la API\n",
    "    url_base= 'https://api.invertironline.com/api/v2/'\n",
    "    endpoint = 'bcba/Titulos/'+ticker\n",
    "    url = url_base + endpoint\n",
    "    headers = {\"Authorization\" : \"Bearer \"+ tk['access_token']}\n",
    "    \n",
    "    # Llamado a la API\n",
    "    data = requests.get(url = url, headers = headers).json()\n",
    "    \n",
    "    return(data)\n",
    "\n",
    "tk = actualizarToken(tk) \n",
    "titulo('AL30D')"
   ]
  },
  {
   "cell_type": "markdown",
   "metadata": {},
   "source": [
    "El mismo endpoint sirve para CEDEARs, Acciones, Bonos, FCIs, etc"
   ]
  },
  {
   "cell_type": "markdown",
   "metadata": {},
   "source": [
    "Ejemplo con un CEDEAR"
   ]
  },
  {
   "cell_type": "code",
   "execution_count": 35,
   "metadata": {},
   "outputs": [
    {
     "data": {
      "text/plain": [
       "{'simbolo': 'AAPL',\n",
       " 'descripcion': 'Apple',\n",
       " 'pais': 'argentina',\n",
       " 'mercado': 'bcba',\n",
       " 'tipo': 'CEDEARS',\n",
       " 'plazo': 't2',\n",
       " 'moneda': 'peso_Argentino'}"
      ]
     },
     "execution_count": 35,
     "metadata": {},
     "output_type": "execute_result"
    }
   ],
   "source": [
    "tk = actualizarToken(tk) \n",
    "titulo('AAPL')"
   ]
  },
  {
   "cell_type": "markdown",
   "metadata": {},
   "source": [
    "Ejemplo con una acción del panel general"
   ]
  },
  {
   "cell_type": "code",
   "execution_count": 36,
   "metadata": {},
   "outputs": [
    {
     "data": {
      "text/plain": [
       "{'simbolo': 'CELU',\n",
       " 'descripcion': 'Celulosa',\n",
       " 'pais': 'argentina',\n",
       " 'mercado': 'bcba',\n",
       " 'tipo': 'ACCIONES',\n",
       " 'plazo': 't2',\n",
       " 'moneda': 'peso_Argentino'}"
      ]
     },
     "execution_count": 36,
     "metadata": {},
     "output_type": "execute_result"
    }
   ],
   "source": [
    "tk = actualizarToken(tk) \n",
    "titulo('CELU')"
   ]
  },
  {
   "cell_type": "markdown",
   "metadata": {},
   "source": [
    "Ejemplo con un FCI"
   ]
  },
  {
   "cell_type": "code",
   "execution_count": 37,
   "metadata": {},
   "outputs": [
    {
     "data": {
      "text/plain": [
       "{'simbolo': 'PRTAVAB',\n",
       " 'descripcion': 'Premier Renta Variable - Clase B',\n",
       " 'pais': 'argentina',\n",
       " 'mercado': 'bcba',\n",
       " 'tipo': 'FondoComundeInversion',\n",
       " 'plazo': 't0',\n",
       " 'moneda': 'peso_Argentino'}"
      ]
     },
     "execution_count": 37,
     "metadata": {},
     "output_type": "execute_result"
    }
   ],
   "source": [
    "tk = actualizarToken(tk) \n",
    "titulo('PRTAVAB')"
   ]
  },
  {
   "cell_type": "code",
   "execution_count": 41,
   "metadata": {},
   "outputs": [
    {
     "data": {
      "text/plain": [
       "{'simbolo': 'GFGC13881D',\n",
       " 'descripcion': 'Call GGAL 138.81 Vencimiento: 18/12/2020',\n",
       " 'pais': 'argentina',\n",
       " 'mercado': 'bcba',\n",
       " 'tipo': 'OPCIONES',\n",
       " 'plazo': 't1',\n",
       " 'moneda': 'peso_Argentino'}"
      ]
     },
     "execution_count": 41,
     "metadata": {},
     "output_type": "execute_result"
    }
   ],
   "source": [
    "tk = actualizarToken(tk) \n",
    "titulo('GFGC13881D')"
   ]
  },
  {
   "cell_type": "markdown",
   "metadata": {},
   "source": [
    "## Instrumentos por pais"
   ]
  },
  {
   "cell_type": "code",
   "execution_count": 43,
   "metadata": {},
   "outputs": [
    {
     "data": {
      "text/plain": [
       "[{'instrumento': 'Acciones', 'pais': 'argentina'},\n",
       " {'instrumento': 'Bonos', 'pais': 'argentina'},\n",
       " {'instrumento': 'Opciones', 'pais': 'argentina'},\n",
       " {'instrumento': 'Cauciones', 'pais': 'argentina'},\n",
       " {'instrumento': 'Futuros', 'pais': 'argentina'}]"
      ]
     },
     "execution_count": 43,
     "metadata": {},
     "output_type": "execute_result"
    }
   ],
   "source": [
    "def instrumentos(pais):\n",
    "    \n",
    "    # Configuración del llamado a la API\n",
    "    url_base= 'https://api.invertironline.com/api/v2/'\n",
    "    endpoint = pais+'/Titulos/Cotizacion/Instrumentos'\n",
    "    url = url_base + endpoint\n",
    "    headers = {\"Authorization\" : \"Bearer \"+ tk['access_token']}\n",
    "    \n",
    "    # Llamado a la API\n",
    "    data = requests.get(url = url, headers = headers).json()\n",
    "    \n",
    "    return(data)\n",
    "\n",
    "tk = actualizarToken(tk) \n",
    "instrumentos('argentina')"
   ]
  },
  {
   "cell_type": "markdown",
   "metadata": {},
   "source": [
    "Consultamos ahora los instrumentos disponibles para Estados Unidos"
   ]
  },
  {
   "cell_type": "code",
   "execution_count": 44,
   "metadata": {},
   "outputs": [
    {
     "data": {
      "text/plain": [
       "[{'instrumento': 'Acciones', 'pais': 'estados_Unidos'},\n",
       " {'instrumento': 'Bonos', 'pais': 'estados_Unidos'},\n",
       " {'instrumento': 'Etfs', 'pais': 'estados_Unidos'},\n",
       " {'instrumento': 'Monedas', 'pais': 'estados_Unidos'}]"
      ]
     },
     "execution_count": 44,
     "metadata": {},
     "output_type": "execute_result"
    }
   ],
   "source": [
    "instrumentos('estados_unidos')"
   ]
  },
  {
   "cell_type": "markdown",
   "metadata": {},
   "source": [
    "## Paneles de un instrumento"
   ]
  },
  {
   "cell_type": "code",
   "execution_count": 45,
   "metadata": {},
   "outputs": [
    {
     "data": {
      "text/plain": [
       "[{'panel': 'Merval'},\n",
       " {'panel': 'Panel General'},\n",
       " {'panel': 'Merval 25'},\n",
       " {'panel': 'Merval Argentina'},\n",
       " {'panel': 'Burcap'},\n",
       " {'panel': 'CEDEARs'}]"
      ]
     },
     "execution_count": 45,
     "metadata": {},
     "output_type": "execute_result"
    }
   ],
   "source": [
    "def paneles(pais, instrumento):\n",
    "    \n",
    "    # Configuración del llamado a la API\n",
    "    url_base= 'https://api.invertironline.com/api/v2/'\n",
    "    endpoint = pais+'/Titulos/Cotizacion/Paneles/'+instrumento\n",
    "    url = url_base + endpoint\n",
    "    headers = {\"Authorization\" : \"Bearer \"+ tk['access_token']}\n",
    "    \n",
    "    # Llamado a la API\n",
    "    data = requests.get(url = url, headers = headers).json()\n",
    "    \n",
    "    return(data)\n",
    "\n",
    "tk = actualizarToken(tk) \n",
    "paneles(pais='argentina', instrumento='Acciones')"
   ]
  },
  {
   "cell_type": "markdown",
   "metadata": {},
   "source": [
    "Consultemos los paneles para acciones de EEUU"
   ]
  },
  {
   "cell_type": "code",
   "execution_count": 46,
   "metadata": {},
   "outputs": [
    {
     "data": {
      "text/plain": [
       "[{'panel': 'Dow Jones Industrial'},\n",
       " {'panel': 'Dow Jones Transportation'},\n",
       " {'panel': 'Dow Jones Utilities'},\n",
       " {'panel': 'Nasdaq 100'},\n",
       " {'panel': 'SP100'},\n",
       " {'panel': 'SP500'},\n",
       " {'panel': 'SP500 Value'},\n",
       " {'panel': 'SP500 Growth'},\n",
       " {'panel': 'SP400 MidCap'},\n",
       " {'panel': 'SP400 MidCap Value'},\n",
       " {'panel': 'S400 MidCap Growth'},\n",
       " {'panel': 'SP600 SmallCap'},\n",
       " {'panel': 'SP600 SmallCap Value'},\n",
       " {'panel': 'SP600 SmallCap Growth'},\n",
       " {'panel': 'SP500 Dividendos'},\n",
       " {'panel': 'ADRs'}]"
      ]
     },
     "execution_count": 46,
     "metadata": {},
     "output_type": "execute_result"
    }
   ],
   "source": [
    "tk = actualizarToken(tk) \n",
    "paneles(pais='estados_unidos', instrumento='Acciones')"
   ]
  },
  {
   "cell_type": "code",
   "execution_count": 47,
   "metadata": {},
   "outputs": [
    {
     "data": {
      "text/plain": [
       "[{'panel': 'Todos'},\n",
       " {'panel': 'Acciones Desarrollados'},\n",
       " {'panel': 'Acciones Emergentes'},\n",
       " {'panel': 'Acciones Financieras'},\n",
       " {'panel': 'Acciones Energéticas'},\n",
       " {'panel': 'Acciones Tecnológicas'},\n",
       " {'panel': 'Acciones Consumo Básico'},\n",
       " {'panel': 'Acciones Consumo Durable'},\n",
       " {'panel': 'Acciones Salud'},\n",
       " {'panel': 'Acciones Industriales'},\n",
       " {'panel': 'Acciones Materiales'},\n",
       " {'panel': 'Acciones Servicios Básicos'},\n",
       " {'panel': 'Bonos'},\n",
       " {'panel': 'Commodities'},\n",
       " {'panel': 'Monedas'},\n",
       " {'panel': 'Inmuebles'},\n",
       " {'panel': 'Estrategias Avanzadas'},\n",
       " {'panel': 'Apalancados Alcistas'},\n",
       " {'panel': 'Apalancados Bajistas'}]"
      ]
     },
     "execution_count": 47,
     "metadata": {},
     "output_type": "execute_result"
    }
   ],
   "source": [
    "tk = actualizarToken(tk) \n",
    "paneles(pais='estados_unidos', instrumento='Etfs')"
   ]
  },
  {
   "cell_type": "code",
   "execution_count": 48,
   "metadata": {},
   "outputs": [
    {
     "data": {
      "text/plain": [
       "[{'panel': 'De Acciones'},\n",
       " {'panel': 'De Bonos'},\n",
       " {'panel': 'De Cedears'},\n",
       " {'panel': 'In-the-Money'},\n",
       " {'panel': 'Out-the-Money'},\n",
       " {'panel': 'Calls'},\n",
       " {'panel': 'Puts'}]"
      ]
     },
     "execution_count": 48,
     "metadata": {},
     "output_type": "execute_result"
    }
   ],
   "source": [
    "tk = actualizarToken(tk) \n",
    "paneles(pais='argentina', instrumento='Opciones')"
   ]
  },
  {
   "cell_type": "markdown",
   "metadata": {},
   "source": [
    "## Paneles de precios"
   ]
  },
  {
   "cell_type": "markdown",
   "metadata": {},
   "source": [
    "Este es el endpoint mas poderoso de la API"
   ]
  },
  {
   "cell_type": "code",
   "execution_count": 49,
   "metadata": {},
   "outputs": [
    {
     "data": {
      "text/plain": [
       "Index(['puntas', 'ultimoPrecio', 'variacionPorcentual', 'apertura', 'maximo',\n",
       "       'minimo', 'ultimoCierre', 'volumen', 'cantidadOperaciones', 'fecha',\n",
       "       'tipoOpcion', 'precioEjercicio', 'fechaVencimiento', 'mercado',\n",
       "       'moneda'],\n",
       "      dtype='object')"
      ]
     },
     "execution_count": 49,
     "metadata": {},
     "output_type": "execute_result"
    }
   ],
   "source": [
    "def panel(instrumento, panel,pais):\n",
    "    \n",
    "    # Configuración del llamado a la API\n",
    "    url_base= 'https://api.invertironline.com/api/v2/'\n",
    "    endpoint = 'Cotizaciones/'+instrumento+'/'+panel+'/'+pais\n",
    "    url = url_base + endpoint\n",
    "    headers = {\"Authorization\" : \"Bearer \"+ tk['access_token']}\n",
    "    \n",
    "    # Llamado a la API\n",
    "    data = requests.get(url = url, headers = headers).json()['titulos']\n",
    "\n",
    "    tabla = pd.DataFrame(data).set_index('simbolo')\n",
    "    return(tabla)\n",
    "\n",
    "\n",
    "tk = actualizarToken(tk) \n",
    "p = panel(instrumento='Acciones', panel='SP500', pais='estados_unidos')\n",
    "p.columns"
   ]
  },
  {
   "cell_type": "markdown",
   "metadata": {},
   "source": [
    "Veamos una acción cualquiera del panel:"
   ]
  },
  {
   "cell_type": "code",
   "execution_count": 51,
   "metadata": {},
   "outputs": [
    {
     "data": {
      "text/html": [
       "<div>\n",
       "<style scoped>\n",
       "    .dataframe tbody tr th:only-of-type {\n",
       "        vertical-align: middle;\n",
       "    }\n",
       "\n",
       "    .dataframe tbody tr th {\n",
       "        vertical-align: top;\n",
       "    }\n",
       "\n",
       "    .dataframe thead th {\n",
       "        text-align: right;\n",
       "    }\n",
       "</style>\n",
       "<table border=\"1\" class=\"dataframe\">\n",
       "  <thead>\n",
       "    <tr style=\"text-align: right;\">\n",
       "      <th></th>\n",
       "      <th>puntas</th>\n",
       "      <th>ultimoPrecio</th>\n",
       "      <th>variacionPorcentual</th>\n",
       "      <th>apertura</th>\n",
       "      <th>maximo</th>\n",
       "      <th>minimo</th>\n",
       "      <th>ultimoCierre</th>\n",
       "      <th>volumen</th>\n",
       "      <th>cantidadOperaciones</th>\n",
       "      <th>fecha</th>\n",
       "      <th>tipoOpcion</th>\n",
       "      <th>precioEjercicio</th>\n",
       "      <th>fechaVencimiento</th>\n",
       "      <th>mercado</th>\n",
       "      <th>moneda</th>\n",
       "    </tr>\n",
       "    <tr>\n",
       "      <th>simbolo</th>\n",
       "      <th></th>\n",
       "      <th></th>\n",
       "      <th></th>\n",
       "      <th></th>\n",
       "      <th></th>\n",
       "      <th></th>\n",
       "      <th></th>\n",
       "      <th></th>\n",
       "      <th></th>\n",
       "      <th></th>\n",
       "      <th></th>\n",
       "      <th></th>\n",
       "      <th></th>\n",
       "      <th></th>\n",
       "      <th></th>\n",
       "    </tr>\n",
       "  </thead>\n",
       "  <tbody>\n",
       "    <tr>\n",
       "      <th>A</th>\n",
       "      <td>{'cantidadCompra': 100.0, 'precioCompra': 104....</td>\n",
       "      <td>110.16</td>\n",
       "      <td>0.66</td>\n",
       "      <td>110.46</td>\n",
       "      <td>111.52</td>\n",
       "      <td>109.78</td>\n",
       "      <td>109.44</td>\n",
       "      <td>12033763.0</td>\n",
       "      <td>440.0</td>\n",
       "      <td>2020-11-13T18:00:01</td>\n",
       "      <td>None</td>\n",
       "      <td>None</td>\n",
       "      <td>None</td>\n",
       "      <td>NYSE</td>\n",
       "      <td>US$</td>\n",
       "    </tr>\n",
       "    <tr>\n",
       "      <th>AAL</th>\n",
       "      <td>{'cantidadCompra': 1000.0, 'precioCompra': 12....</td>\n",
       "      <td>12.37</td>\n",
       "      <td>5.37</td>\n",
       "      <td>11.91</td>\n",
       "      <td>12.55</td>\n",
       "      <td>11.87</td>\n",
       "      <td>11.74</td>\n",
       "      <td>37807129.0</td>\n",
       "      <td>1393.0</td>\n",
       "      <td>2020-11-13T19:20:07</td>\n",
       "      <td>None</td>\n",
       "      <td>None</td>\n",
       "      <td>None</td>\n",
       "      <td>NASDAQ</td>\n",
       "      <td>US$</td>\n",
       "    </tr>\n",
       "    <tr>\n",
       "      <th>AAP</th>\n",
       "      <td>{'cantidadCompra': 100.0, 'precioCompra': 140....</td>\n",
       "      <td>154.00</td>\n",
       "      <td>0.61</td>\n",
       "      <td>152.99</td>\n",
       "      <td>154.54</td>\n",
       "      <td>152.13</td>\n",
       "      <td>153.06</td>\n",
       "      <td>7388570.0</td>\n",
       "      <td>470.0</td>\n",
       "      <td>2020-11-13T18:00:01</td>\n",
       "      <td>None</td>\n",
       "      <td>None</td>\n",
       "      <td>None</td>\n",
       "      <td>NYSE</td>\n",
       "      <td>US$</td>\n",
       "    </tr>\n",
       "    <tr>\n",
       "      <th>AAPL</th>\n",
       "      <td>{'cantidadCompra': 1.0, 'precioCompra': 119.24...</td>\n",
       "      <td>119.13</td>\n",
       "      <td>-0.07</td>\n",
       "      <td>119.44</td>\n",
       "      <td>119.67</td>\n",
       "      <td>117.88</td>\n",
       "      <td>119.21</td>\n",
       "      <td>194689407.0</td>\n",
       "      <td>8800.0</td>\n",
       "      <td>2020-11-13T19:17:41</td>\n",
       "      <td>None</td>\n",
       "      <td>None</td>\n",
       "      <td>None</td>\n",
       "      <td>NASDAQ</td>\n",
       "      <td>US$</td>\n",
       "    </tr>\n",
       "    <tr>\n",
       "      <th>ABBV</th>\n",
       "      <td>{'cantidadCompra': 100.0, 'precioCompra': 94.0...</td>\n",
       "      <td>99.00</td>\n",
       "      <td>1.43</td>\n",
       "      <td>97.41</td>\n",
       "      <td>99.54</td>\n",
       "      <td>97.40</td>\n",
       "      <td>97.60</td>\n",
       "      <td>49024426.0</td>\n",
       "      <td>1946.0</td>\n",
       "      <td>2020-11-13T18:00:02</td>\n",
       "      <td>None</td>\n",
       "      <td>None</td>\n",
       "      <td>None</td>\n",
       "      <td>NYSE</td>\n",
       "      <td>US$</td>\n",
       "    </tr>\n",
       "    <tr>\n",
       "      <th>...</th>\n",
       "      <td>...</td>\n",
       "      <td>...</td>\n",
       "      <td>...</td>\n",
       "      <td>...</td>\n",
       "      <td>...</td>\n",
       "      <td>...</td>\n",
       "      <td>...</td>\n",
       "      <td>...</td>\n",
       "      <td>...</td>\n",
       "      <td>...</td>\n",
       "      <td>...</td>\n",
       "      <td>...</td>\n",
       "      <td>...</td>\n",
       "      <td>...</td>\n",
       "      <td>...</td>\n",
       "    </tr>\n",
       "    <tr>\n",
       "      <th>XYL</th>\n",
       "      <td>{'cantidadCompra': 100.0, 'precioCompra': 90.1...</td>\n",
       "      <td>95.02</td>\n",
       "      <td>2.88</td>\n",
       "      <td>92.51</td>\n",
       "      <td>95.20</td>\n",
       "      <td>92.51</td>\n",
       "      <td>92.36</td>\n",
       "      <td>4637565.0</td>\n",
       "      <td>281.0</td>\n",
       "      <td>2020-11-13T18:00:01</td>\n",
       "      <td>None</td>\n",
       "      <td>None</td>\n",
       "      <td>None</td>\n",
       "      <td>NYSE</td>\n",
       "      <td>US$</td>\n",
       "    </tr>\n",
       "    <tr>\n",
       "      <th>YUM</th>\n",
       "      <td>{'cantidadCompra': 100.0, 'precioCompra': 93.6...</td>\n",
       "      <td>102.89</td>\n",
       "      <td>2.46</td>\n",
       "      <td>101.13</td>\n",
       "      <td>102.97</td>\n",
       "      <td>100.96</td>\n",
       "      <td>100.42</td>\n",
       "      <td>12947876.0</td>\n",
       "      <td>455.0</td>\n",
       "      <td>2020-11-13T18:00:01</td>\n",
       "      <td>None</td>\n",
       "      <td>None</td>\n",
       "      <td>None</td>\n",
       "      <td>NYSE</td>\n",
       "      <td>US$</td>\n",
       "    </tr>\n",
       "    <tr>\n",
       "      <th>ZBH</th>\n",
       "      <td>{'cantidadCompra': 100.0, 'precioCompra': 136....</td>\n",
       "      <td>151.50</td>\n",
       "      <td>2.07</td>\n",
       "      <td>148.43</td>\n",
       "      <td>151.93</td>\n",
       "      <td>0.00</td>\n",
       "      <td>148.43</td>\n",
       "      <td>9756255.0</td>\n",
       "      <td>422.0</td>\n",
       "      <td>2020-11-13T18:00:01</td>\n",
       "      <td>None</td>\n",
       "      <td>None</td>\n",
       "      <td>None</td>\n",
       "      <td>NYSE</td>\n",
       "      <td>US$</td>\n",
       "    </tr>\n",
       "    <tr>\n",
       "      <th>ZION</th>\n",
       "      <td>{'cantidadCompra': 100.0, 'precioCompra': 35.6...</td>\n",
       "      <td>37.51</td>\n",
       "      <td>3.25</td>\n",
       "      <td>36.75</td>\n",
       "      <td>37.79</td>\n",
       "      <td>36.35</td>\n",
       "      <td>36.33</td>\n",
       "      <td>12431866.0</td>\n",
       "      <td>463.0</td>\n",
       "      <td>2020-11-13T17:59:51</td>\n",
       "      <td>None</td>\n",
       "      <td>None</td>\n",
       "      <td>None</td>\n",
       "      <td>NASDAQ</td>\n",
       "      <td>US$</td>\n",
       "    </tr>\n",
       "    <tr>\n",
       "      <th>ZTS</th>\n",
       "      <td>{'cantidadCompra': 100.0, 'precioCompra': 156....</td>\n",
       "      <td>165.88</td>\n",
       "      <td>0.42</td>\n",
       "      <td>165.46</td>\n",
       "      <td>167.00</td>\n",
       "      <td>164.54</td>\n",
       "      <td>165.19</td>\n",
       "      <td>18510726.0</td>\n",
       "      <td>672.0</td>\n",
       "      <td>2020-11-13T18:00:01</td>\n",
       "      <td>None</td>\n",
       "      <td>None</td>\n",
       "      <td>None</td>\n",
       "      <td>NYSE</td>\n",
       "      <td>US$</td>\n",
       "    </tr>\n",
       "  </tbody>\n",
       "</table>\n",
       "<p>479 rows × 15 columns</p>\n",
       "</div>"
      ],
      "text/plain": [
       "                                                    puntas  ultimoPrecio  \\\n",
       "simbolo                                                                    \n",
       "A        {'cantidadCompra': 100.0, 'precioCompra': 104....        110.16   \n",
       "AAL      {'cantidadCompra': 1000.0, 'precioCompra': 12....         12.37   \n",
       "AAP      {'cantidadCompra': 100.0, 'precioCompra': 140....        154.00   \n",
       "AAPL     {'cantidadCompra': 1.0, 'precioCompra': 119.24...        119.13   \n",
       "ABBV     {'cantidadCompra': 100.0, 'precioCompra': 94.0...         99.00   \n",
       "...                                                    ...           ...   \n",
       "XYL      {'cantidadCompra': 100.0, 'precioCompra': 90.1...         95.02   \n",
       "YUM      {'cantidadCompra': 100.0, 'precioCompra': 93.6...        102.89   \n",
       "ZBH      {'cantidadCompra': 100.0, 'precioCompra': 136....        151.50   \n",
       "ZION     {'cantidadCompra': 100.0, 'precioCompra': 35.6...         37.51   \n",
       "ZTS      {'cantidadCompra': 100.0, 'precioCompra': 156....        165.88   \n",
       "\n",
       "         variacionPorcentual  apertura  maximo  minimo  ultimoCierre  \\\n",
       "simbolo                                                                \n",
       "A                       0.66    110.46  111.52  109.78        109.44   \n",
       "AAL                     5.37     11.91   12.55   11.87         11.74   \n",
       "AAP                     0.61    152.99  154.54  152.13        153.06   \n",
       "AAPL                   -0.07    119.44  119.67  117.88        119.21   \n",
       "ABBV                    1.43     97.41   99.54   97.40         97.60   \n",
       "...                      ...       ...     ...     ...           ...   \n",
       "XYL                     2.88     92.51   95.20   92.51         92.36   \n",
       "YUM                     2.46    101.13  102.97  100.96        100.42   \n",
       "ZBH                     2.07    148.43  151.93    0.00        148.43   \n",
       "ZION                    3.25     36.75   37.79   36.35         36.33   \n",
       "ZTS                     0.42    165.46  167.00  164.54        165.19   \n",
       "\n",
       "             volumen  cantidadOperaciones                fecha tipoOpcion  \\\n",
       "simbolo                                                                     \n",
       "A         12033763.0                440.0  2020-11-13T18:00:01       None   \n",
       "AAL       37807129.0               1393.0  2020-11-13T19:20:07       None   \n",
       "AAP        7388570.0                470.0  2020-11-13T18:00:01       None   \n",
       "AAPL     194689407.0               8800.0  2020-11-13T19:17:41       None   \n",
       "ABBV      49024426.0               1946.0  2020-11-13T18:00:02       None   \n",
       "...              ...                  ...                  ...        ...   \n",
       "XYL        4637565.0                281.0  2020-11-13T18:00:01       None   \n",
       "YUM       12947876.0                455.0  2020-11-13T18:00:01       None   \n",
       "ZBH        9756255.0                422.0  2020-11-13T18:00:01       None   \n",
       "ZION      12431866.0                463.0  2020-11-13T17:59:51       None   \n",
       "ZTS       18510726.0                672.0  2020-11-13T18:00:01       None   \n",
       "\n",
       "        precioEjercicio fechaVencimiento mercado moneda  \n",
       "simbolo                                                  \n",
       "A                  None             None    NYSE    US$  \n",
       "AAL                None             None  NASDAQ    US$  \n",
       "AAP                None             None    NYSE    US$  \n",
       "AAPL               None             None  NASDAQ    US$  \n",
       "ABBV               None             None    NYSE    US$  \n",
       "...                 ...              ...     ...    ...  \n",
       "XYL                None             None    NYSE    US$  \n",
       "YUM                None             None    NYSE    US$  \n",
       "ZBH                None             None    NYSE    US$  \n",
       "ZION               None             None  NASDAQ    US$  \n",
       "ZTS                None             None    NYSE    US$  \n",
       "\n",
       "[479 rows x 15 columns]"
      ]
     },
     "execution_count": 51,
     "metadata": {},
     "output_type": "execute_result"
    }
   ],
   "source": [
    "p"
   ]
  },
  {
   "cell_type": "code",
   "execution_count": 50,
   "metadata": {},
   "outputs": [
    {
     "data": {
      "text/plain": [
       "puntas                 {'cantidadCompra': 1.0, 'precioCompra': 119.24...\n",
       "ultimoPrecio                                                      119.13\n",
       "variacionPorcentual                                                -0.07\n",
       "apertura                                                          119.44\n",
       "maximo                                                            119.67\n",
       "minimo                                                            117.88\n",
       "ultimoCierre                                                      119.21\n",
       "volumen                                                      1.94689e+08\n",
       "cantidadOperaciones                                                 8800\n",
       "fecha                                                2020-11-13T19:17:41\n",
       "tipoOpcion                                                          None\n",
       "precioEjercicio                                                     None\n",
       "fechaVencimiento                                                    None\n",
       "mercado                                                           NASDAQ\n",
       "moneda                                                               US$\n",
       "Name: AAPL, dtype: object"
      ]
     },
     "execution_count": 50,
     "metadata": {},
     "output_type": "execute_result"
    }
   ],
   "source": [
    "p.loc['AAPL']"
   ]
  },
  {
   "cell_type": "markdown",
   "metadata": {},
   "source": [
    "O bien sus puntas de compra y venta:"
   ]
  },
  {
   "cell_type": "code",
   "execution_count": 37,
   "metadata": {},
   "outputs": [
    {
     "data": {
      "text/plain": [
       "{'cantidadCompra': 510.0,\n",
       " 'precioCompra': 119.39,\n",
       " 'precioVenta': 119.4,\n",
       " 'cantidadVenta': 734.0}"
      ]
     },
     "execution_count": 37,
     "metadata": {},
     "output_type": "execute_result"
    }
   ],
   "source": [
    "p.loc['AAPL']['puntas']"
   ]
  },
  {
   "cell_type": "markdown",
   "metadata": {},
   "source": [
    "## Precio de UN instrumento"
   ]
  },
  {
   "cell_type": "markdown",
   "metadata": {},
   "source": [
    "Ingresando el mercado y el ticker podemos obtener el precio de dicho ticker"
   ]
  },
  {
   "cell_type": "code",
   "execution_count": 52,
   "metadata": {},
   "outputs": [],
   "source": [
    "def precio(mercado, ticker):\n",
    "    \n",
    "    # Configuración del llamado a la API\n",
    "    \n",
    "    url_base= 'https://api.invertironline.com/api/v2/'\n",
    "    endpoint = mercado+'/Titulos/'+ticker+'/Cotizacion'\n",
    "    url = url_base + endpoint\n",
    "    headers = {\"Authorization\" : \"Bearer \"+ tk['access_token']}\n",
    "    \n",
    "    # Llamado a la API\n",
    "    data = requests.get(url = url, headers = headers).json()\n",
    "    \n",
    "    return data"
   ]
  },
  {
   "cell_type": "code",
   "execution_count": 53,
   "metadata": {},
   "outputs": [
    {
     "data": {
      "text/plain": [
       "{'ultimoPrecio': 120.4,\n",
       " 'variacion': 1.09,\n",
       " 'apertura': 118.95,\n",
       " 'maximo': 123.5,\n",
       " 'minimo': 118.05,\n",
       " 'fechaHora': '2020-11-13T17:00:06.3984458-03:00',\n",
       " 'tendencia': 'sube',\n",
       " 'cierreAnterior': 119.1,\n",
       " 'montoOperado': 161592635.25,\n",
       " 'volumenNominal': 1333988,\n",
       " 'precioPromedio': 0.0,\n",
       " 'moneda': 'peso_Argentino',\n",
       " 'precioAjuste': 0.0,\n",
       " 'interesesAbiertos': 0.0,\n",
       " 'puntas': [{'cantidadCompra': 20.0,\n",
       "   'precioCompra': 119.4,\n",
       "   'precioVenta': 124.0,\n",
       "   'cantidadVenta': 362.0},\n",
       "  {'cantidadCompra': 10.0,\n",
       "   'precioCompra': 119.0,\n",
       "   'precioVenta': 125.0,\n",
       "   'cantidadVenta': 20.0},\n",
       "  {'cantidadCompra': 100.0,\n",
       "   'precioCompra': 118.0,\n",
       "   'precioVenta': 128.0,\n",
       "   'cantidadVenta': 25.0},\n",
       "  {'cantidadCompra': 200.0,\n",
       "   'precioCompra': 117.0,\n",
       "   'precioVenta': 129.4,\n",
       "   'cantidadVenta': 25.0},\n",
       "  {'cantidadCompra': 125.0,\n",
       "   'precioCompra': 116.5,\n",
       "   'precioVenta': 130.0,\n",
       "   'cantidadVenta': 1061.0}],\n",
       " 'cantidadOperaciones': 2269}"
      ]
     },
     "execution_count": 53,
     "metadata": {},
     "output_type": "execute_result"
    }
   ],
   "source": [
    "tk = actualizarToken(tk) \n",
    "data = precio('bcba','GGAL')\n",
    "data"
   ]
  },
  {
   "cell_type": "markdown",
   "metadata": {},
   "source": [
    "### Precios RealTime de acciones en EEUU"
   ]
  },
  {
   "cell_type": "markdown",
   "metadata": {},
   "source": [
    "Probamos con GGAL, tanto en nyse como en nasdaq y obtenemos su precio en ambos mercados"
   ]
  },
  {
   "cell_type": "code",
   "execution_count": 54,
   "metadata": {},
   "outputs": [
    {
     "data": {
      "text/plain": [
       "{'ultimoPrecio': 8.28,\n",
       " 'variacion': 4.67762326169408,\n",
       " 'apertura': 7.87,\n",
       " 'maximo': 8.28,\n",
       " 'minimo': 7.87,\n",
       " 'fechaHora': '2020-11-13T17:59:13',\n",
       " 'tendencia': 'sube',\n",
       " 'cierreAnterior': 7.91,\n",
       " 'montoOperado': 226474.56,\n",
       " 'volumenNominal': 0,\n",
       " 'precioPromedio': 0.0,\n",
       " 'moneda': 'dolar_Estadounidense',\n",
       " 'precioAjuste': 0.0,\n",
       " 'interesesAbiertos': 0.0,\n",
       " 'puntas': [{'cantidadCompra': 100.0,\n",
       "   'precioCompra': 7.45,\n",
       "   'precioVenta': 8.76,\n",
       "   'cantidadVenta': 100.0}],\n",
       " 'cantidadOperaciones': 47}"
      ]
     },
     "execution_count": 54,
     "metadata": {},
     "output_type": "execute_result"
    }
   ],
   "source": [
    "tk = actualizarToken(tk) \n",
    "data = precio('nyse','GGAL')\n",
    "data"
   ]
  },
  {
   "cell_type": "code",
   "execution_count": 55,
   "metadata": {},
   "outputs": [
    {
     "data": {
      "text/plain": [
       "{'ultimoPrecio': 8.28,\n",
       " 'variacion': 4.67762326169408,\n",
       " 'apertura': 7.87,\n",
       " 'maximo': 8.28,\n",
       " 'minimo': 7.87,\n",
       " 'fechaHora': '2020-11-13T17:59:13',\n",
       " 'tendencia': 'sube',\n",
       " 'cierreAnterior': 7.91,\n",
       " 'montoOperado': 226474.56,\n",
       " 'volumenNominal': 0,\n",
       " 'precioPromedio': 0.0,\n",
       " 'moneda': 'dolar_Estadounidense',\n",
       " 'precioAjuste': 0.0,\n",
       " 'interesesAbiertos': 0.0,\n",
       " 'puntas': [{'cantidadCompra': 100.0,\n",
       "   'precioCompra': 7.45,\n",
       "   'precioVenta': 8.76,\n",
       "   'cantidadVenta': 100.0}],\n",
       " 'cantidadOperaciones': 47}"
      ]
     },
     "execution_count": 55,
     "metadata": {},
     "output_type": "execute_result"
    }
   ],
   "source": [
    "tk = actualizarToken(tk) \n",
    "data = precio('nasdaq','GGAL')\n",
    "data"
   ]
  },
  {
   "cell_type": "markdown",
   "metadata": {},
   "source": [
    "### Precios Real Time de una opción:"
   ]
  },
  {
   "cell_type": "code",
   "execution_count": 56,
   "metadata": {},
   "outputs": [
    {
     "data": {
      "text/plain": [
       "{'ultimoPrecio': 10.0,\n",
       " 'variacion': 8.54,\n",
       " 'apertura': 9.1,\n",
       " 'maximo': 11.61,\n",
       " 'minimo': 8.91,\n",
       " 'fechaHora': '2020-11-13T17:00:22.9355125-03:00',\n",
       " 'tendencia': 'sube',\n",
       " 'cierreAnterior': 9.213,\n",
       " 'montoOperado': 14697824.5,\n",
       " 'volumenNominal': 14160,\n",
       " 'precioPromedio': 0.0,\n",
       " 'moneda': 'peso_Argentino',\n",
       " 'precioAjuste': 0.0,\n",
       " 'interesesAbiertos': 0.0,\n",
       " 'puntas': [{'cantidadCompra': 1.0,\n",
       "   'precioCompra': 9.0,\n",
       "   'precioVenta': 10.65,\n",
       "   'cantidadVenta': 42.0},\n",
       "  {'cantidadCompra': 4.0,\n",
       "   'precioCompra': 8.6,\n",
       "   'precioVenta': 0.0,\n",
       "   'cantidadVenta': 0.0},\n",
       "  {'cantidadCompra': 5.0,\n",
       "   'precioCompra': 7.6,\n",
       "   'precioVenta': 0.0,\n",
       "   'cantidadVenta': 0.0},\n",
       "  {'cantidadCompra': 6.0,\n",
       "   'precioCompra': 6.5,\n",
       "   'precioVenta': 0.0,\n",
       "   'cantidadVenta': 0.0},\n",
       "  {'cantidadCompra': 7.0,\n",
       "   'precioCompra': 5.5,\n",
       "   'precioVenta': 0.0,\n",
       "   'cantidadVenta': 0.0}],\n",
       " 'cantidadOperaciones': 936}"
      ]
     },
     "execution_count": 56,
     "metadata": {},
     "output_type": "execute_result"
    }
   ],
   "source": [
    "tk = actualizarToken(tk) \n",
    "data = precio('bcba','GFGC11881D')\n",
    "data"
   ]
  },
  {
   "cell_type": "markdown",
   "metadata": {},
   "source": [
    "### Precios Real Time de bonos"
   ]
  },
  {
   "cell_type": "code",
   "execution_count": 59,
   "metadata": {},
   "outputs": [
    {
     "data": {
      "text/plain": [
       "{'ultimoPrecio': 49.9,\n",
       " 'variacion': 0.7,\n",
       " 'apertura': 49.55,\n",
       " 'maximo': 50.3,\n",
       " 'minimo': 48.9,\n",
       " 'fechaHora': '2020-11-13T17:00:06.3984458-03:00',\n",
       " 'tendencia': 'sube',\n",
       " 'cierreAnterior': 49.55,\n",
       " 'montoOperado': 20862690.25,\n",
       " 'volumenNominal': 418687,\n",
       " 'precioPromedio': 0.0,\n",
       " 'moneda': 'peso_Argentino',\n",
       " 'precioAjuste': 0.0,\n",
       " 'interesesAbiertos': 0.0,\n",
       " 'puntas': [{'cantidadCompra': 50.0,\n",
       "   'precioCompra': 48.85,\n",
       "   'precioVenta': 51.0,\n",
       "   'cantidadVenta': 864.0},\n",
       "  {'cantidadCompra': 3.0,\n",
       "   'precioCompra': 48.5,\n",
       "   'precioVenta': 52.0,\n",
       "   'cantidadVenta': 809.0},\n",
       "  {'cantidadCompra': 231.0,\n",
       "   'precioCompra': 47.5,\n",
       "   'precioVenta': 52.2,\n",
       "   'cantidadVenta': 251.0},\n",
       "  {'cantidadCompra': 1200.0,\n",
       "   'precioCompra': 44.9,\n",
       "   'precioVenta': 52.8,\n",
       "   'cantidadVenta': 2281.0},\n",
       "  {'cantidadCompra': 704.0,\n",
       "   'precioCompra': 42.6,\n",
       "   'precioVenta': 53.0,\n",
       "   'cantidadVenta': 1640.0}],\n",
       " 'cantidadOperaciones': 840}"
      ]
     },
     "execution_count": 59,
     "metadata": {},
     "output_type": "execute_result"
    }
   ],
   "source": [
    "tk = actualizarToken(tk) \n",
    "data = precio('bcba','ALUA')\n",
    "data"
   ]
  },
  {
   "cell_type": "markdown",
   "metadata": {},
   "source": [
    "### Precios de FCIs\n",
    "\n",
    "Con un FCI también funciona, aunque al no tener mercado secundario, solo tenemos precios EOD (fin del dia), que es valor de cuotaparte en realidad al cierre"
   ]
  },
  {
   "cell_type": "code",
   "execution_count": 43,
   "metadata": {},
   "outputs": [
    {
     "data": {
      "text/plain": [
       "{'ultimoPrecio': 25.370133,\n",
       " 'variacion': -3.58,\n",
       " 'apertura': 0.0,\n",
       " 'maximo': 0.0,\n",
       " 'minimo': 0.0,\n",
       " 'fechaHora': '2020-11-12T18:00:00',\n",
       " 'tendencia': 'sube',\n",
       " 'cierreAnterior': 0.0,\n",
       " 'montoOperado': 0.0,\n",
       " 'volumenNominal': 0,\n",
       " 'precioPromedio': 0.0,\n",
       " 'moneda': 'peso_Argentino',\n",
       " 'precioAjuste': 0.0,\n",
       " 'interesesAbiertos': 0.0,\n",
       " 'puntas': [{'cantidadCompra': 0.0,\n",
       "   'precioCompra': 0.0,\n",
       "   'precioVenta': 0.0,\n",
       "   'cantidadVenta': 0.0}],\n",
       " 'cantidadOperaciones': 0}"
      ]
     },
     "execution_count": 43,
     "metadata": {},
     "output_type": "execute_result"
    }
   ],
   "source": [
    "tk = actualizarToken(tk) \n",
    "data = precio('bcba','PRTAVAB')\n",
    "data"
   ]
  },
  {
   "cell_type": "markdown",
   "metadata": {},
   "source": [
    "### También funciona con un ETF"
   ]
  },
  {
   "cell_type": "code",
   "execution_count": 58,
   "metadata": {},
   "outputs": [
    {
     "data": {
      "text/plain": [
       "{'ultimoPrecio': 48.34,\n",
       " 'variacion': 1.42677297524129,\n",
       " 'apertura': 48.24,\n",
       " 'maximo': 48.35,\n",
       " 'minimo': 47.99,\n",
       " 'fechaHora': '2020-11-13T18:04:05',\n",
       " 'tendencia': 'sube',\n",
       " 'cierreAnterior': 47.66,\n",
       " 'montoOperado': 2208896.3,\n",
       " 'volumenNominal': 0,\n",
       " 'precioPromedio': 0.0,\n",
       " 'moneda': 'dolar_Estadounidense',\n",
       " 'precioAjuste': 0.0,\n",
       " 'interesesAbiertos': 0.0,\n",
       " 'puntas': [{'cantidadCompra': 800.0,\n",
       "   'precioCompra': 48.22,\n",
       "   'precioVenta': 48.37,\n",
       "   'cantidadVenta': 800.0}],\n",
       " 'cantidadOperaciones': 1307}"
      ]
     },
     "execution_count": 58,
     "metadata": {},
     "output_type": "execute_result"
    }
   ],
   "source": [
    "tk = actualizarToken(tk) \n",
    "data = precio('nyse','EEM')\n",
    "data"
   ]
  },
  {
   "cell_type": "markdown",
   "metadata": {},
   "source": [
    "## Opciones de un determinado subyacente"
   ]
  },
  {
   "cell_type": "code",
   "execution_count": 61,
   "metadata": {},
   "outputs": [
    {
     "data": {
      "text/plain": [
       "Index(['ultimoPrecio', 'variacion', 'apertura', 'maximo', 'minimo',\n",
       "       'fechaHora', 'tendencia', 'cierreAnterior', 'montoOperado',\n",
       "       'volumenNominal', 'precioPromedio', 'moneda', 'precioAjuste',\n",
       "       'interesesAbiertos', 'puntas', 'cantidadOperaciones', 'tipo',\n",
       "       'vencimiento', 'descripcion'],\n",
       "      dtype='object')"
      ]
     },
     "execution_count": 61,
     "metadata": {},
     "output_type": "execute_result"
    }
   ],
   "source": [
    "def opcionesDe(ticker):\n",
    "    \n",
    "    # Configuración del llamado a la API\n",
    "    url_base= 'https://api.invertironline.com/api/v2/'\n",
    "    endpoint = 'bcba/Titulos/'+ticker+'/Opciones'\n",
    "    url = url_base + endpoint\n",
    "    headers = {\"Authorization\" : \"Bearer \"+ tk['access_token']}\n",
    "    \n",
    "    # Llamado a la API\n",
    "    data = requests.get(url = url, headers = headers).json()\n",
    "    \n",
    "    opciones = []\n",
    "    for i in range(len(data)):\n",
    "        opcion = data[i]['cotizacion']\n",
    "        opcion['simbolo'] = data[i]['simbolo']\n",
    "        opcion['tipo'] = data[i]['tipoOpcion']\n",
    "        opcion['vencimiento'] = data[i]['fechaVencimiento']\n",
    "        opcion['descripcion'] = data[i]['descripcion']\n",
    "        opciones.append(opcion)\n",
    "    tabla = pd.DataFrame(opciones).set_index('simbolo')\n",
    "    return(tabla)\n",
    "\n",
    "tk = actualizarToken(tk) \n",
    "data = opcionesDe('GGAL')\n",
    "data.columns"
   ]
  },
  {
   "cell_type": "markdown",
   "metadata": {},
   "source": [
    "Como ven en las columnas tenemos de todo, veamos por ejemplo como ver la cantidad de contratos tanto de calls como de puts por cada vencimiento:"
   ]
  },
  {
   "cell_type": "code",
   "execution_count": 65,
   "metadata": {},
   "outputs": [
    {
     "data": {
      "text/html": [
       "<div>\n",
       "<style scoped>\n",
       "    .dataframe tbody tr th:only-of-type {\n",
       "        vertical-align: middle;\n",
       "    }\n",
       "\n",
       "    .dataframe tbody tr th {\n",
       "        vertical-align: top;\n",
       "    }\n",
       "\n",
       "    .dataframe thead th {\n",
       "        text-align: right;\n",
       "    }\n",
       "</style>\n",
       "<table border=\"1\" class=\"dataframe\">\n",
       "  <thead>\n",
       "    <tr style=\"text-align: right;\">\n",
       "      <th></th>\n",
       "      <th>ultimoPrecio</th>\n",
       "      <th>variacion</th>\n",
       "      <th>apertura</th>\n",
       "      <th>maximo</th>\n",
       "      <th>minimo</th>\n",
       "      <th>fechaHora</th>\n",
       "      <th>tendencia</th>\n",
       "      <th>cierreAnterior</th>\n",
       "      <th>montoOperado</th>\n",
       "      <th>volumenNominal</th>\n",
       "      <th>precioPromedio</th>\n",
       "      <th>moneda</th>\n",
       "      <th>precioAjuste</th>\n",
       "      <th>interesesAbiertos</th>\n",
       "      <th>puntas</th>\n",
       "      <th>cantidadOperaciones</th>\n",
       "      <th>tipo</th>\n",
       "      <th>vencimiento</th>\n",
       "      <th>descripcion</th>\n",
       "    </tr>\n",
       "    <tr>\n",
       "      <th>simbolo</th>\n",
       "      <th></th>\n",
       "      <th></th>\n",
       "      <th></th>\n",
       "      <th></th>\n",
       "      <th></th>\n",
       "      <th></th>\n",
       "      <th></th>\n",
       "      <th></th>\n",
       "      <th></th>\n",
       "      <th></th>\n",
       "      <th></th>\n",
       "      <th></th>\n",
       "      <th></th>\n",
       "      <th></th>\n",
       "      <th></th>\n",
       "      <th></th>\n",
       "      <th></th>\n",
       "      <th></th>\n",
       "      <th></th>\n",
       "    </tr>\n",
       "  </thead>\n",
       "  <tbody>\n",
       "    <tr>\n",
       "      <th>GFGC123.NO</th>\n",
       "      <td>2.99</td>\n",
       "      <td>-25.24</td>\n",
       "      <td>0.0</td>\n",
       "      <td>0.0</td>\n",
       "      <td>0.0</td>\n",
       "      <td>0001-01-01T00:00:00</td>\n",
       "      <td>sube</td>\n",
       "      <td>0.0</td>\n",
       "      <td>0.0</td>\n",
       "      <td>0</td>\n",
       "      <td>0.0</td>\n",
       "      <td>0</td>\n",
       "      <td>0.0</td>\n",
       "      <td>0.0</td>\n",
       "      <td>None</td>\n",
       "      <td>0</td>\n",
       "      <td>Call</td>\n",
       "      <td>2020-11-20T00:00:00</td>\n",
       "      <td>Call GGAL 123.00 Vencimiento: 20/11/2020</td>\n",
       "    </tr>\n",
       "    <tr>\n",
       "      <th>GFGC135.NO</th>\n",
       "      <td>0.70</td>\n",
       "      <td>0.00</td>\n",
       "      <td>0.0</td>\n",
       "      <td>0.0</td>\n",
       "      <td>0.0</td>\n",
       "      <td>0001-01-01T00:00:00</td>\n",
       "      <td>sube</td>\n",
       "      <td>0.0</td>\n",
       "      <td>0.0</td>\n",
       "      <td>0</td>\n",
       "      <td>0.0</td>\n",
       "      <td>0</td>\n",
       "      <td>0.0</td>\n",
       "      <td>0.0</td>\n",
       "      <td>None</td>\n",
       "      <td>0</td>\n",
       "      <td>Call</td>\n",
       "      <td>2020-11-20T00:00:00</td>\n",
       "      <td>Call GGAL 135.00 Vencimiento: 20/11/2020</td>\n",
       "    </tr>\n",
       "    <tr>\n",
       "      <th>GFGC140.NO</th>\n",
       "      <td>0.00</td>\n",
       "      <td>0.00</td>\n",
       "      <td>0.0</td>\n",
       "      <td>0.0</td>\n",
       "      <td>0.0</td>\n",
       "      <td>0001-01-01T00:00:00</td>\n",
       "      <td>sube</td>\n",
       "      <td>0.0</td>\n",
       "      <td>0.0</td>\n",
       "      <td>0</td>\n",
       "      <td>0.0</td>\n",
       "      <td>0</td>\n",
       "      <td>0.0</td>\n",
       "      <td>0.0</td>\n",
       "      <td>None</td>\n",
       "      <td>0</td>\n",
       "      <td>Call</td>\n",
       "      <td>2020-11-20T00:00:00</td>\n",
       "      <td>Call GGAL 140.00 Vencimiento: 20/11/2020</td>\n",
       "    </tr>\n",
       "    <tr>\n",
       "      <th>GFGC49808D</th>\n",
       "      <td>68.10</td>\n",
       "      <td>0.00</td>\n",
       "      <td>0.0</td>\n",
       "      <td>0.0</td>\n",
       "      <td>0.0</td>\n",
       "      <td>0001-01-01T00:00:00</td>\n",
       "      <td>sube</td>\n",
       "      <td>0.0</td>\n",
       "      <td>0.0</td>\n",
       "      <td>0</td>\n",
       "      <td>0.0</td>\n",
       "      <td>0</td>\n",
       "      <td>0.0</td>\n",
       "      <td>0.0</td>\n",
       "      <td>None</td>\n",
       "      <td>0</td>\n",
       "      <td>Call</td>\n",
       "      <td>2020-12-18T00:00:00</td>\n",
       "      <td>Call GGAL 49.81 Vencimiento: 18/12/2020</td>\n",
       "    </tr>\n",
       "    <tr>\n",
       "      <th>GFGC52808D</th>\n",
       "      <td>70.00</td>\n",
       "      <td>0.00</td>\n",
       "      <td>0.0</td>\n",
       "      <td>0.0</td>\n",
       "      <td>0.0</td>\n",
       "      <td>0001-01-01T00:00:00</td>\n",
       "      <td>sube</td>\n",
       "      <td>0.0</td>\n",
       "      <td>0.0</td>\n",
       "      <td>0</td>\n",
       "      <td>0.0</td>\n",
       "      <td>0</td>\n",
       "      <td>0.0</td>\n",
       "      <td>0.0</td>\n",
       "      <td>None</td>\n",
       "      <td>0</td>\n",
       "      <td>Call</td>\n",
       "      <td>2020-12-18T00:00:00</td>\n",
       "      <td>Call GGAL 52.81 Vencimiento: 18/12/2020</td>\n",
       "    </tr>\n",
       "    <tr>\n",
       "      <th>...</th>\n",
       "      <td>...</td>\n",
       "      <td>...</td>\n",
       "      <td>...</td>\n",
       "      <td>...</td>\n",
       "      <td>...</td>\n",
       "      <td>...</td>\n",
       "      <td>...</td>\n",
       "      <td>...</td>\n",
       "      <td>...</td>\n",
       "      <td>...</td>\n",
       "      <td>...</td>\n",
       "      <td>...</td>\n",
       "      <td>...</td>\n",
       "      <td>...</td>\n",
       "      <td>...</td>\n",
       "      <td>...</td>\n",
       "      <td>...</td>\n",
       "      <td>...</td>\n",
       "      <td>...</td>\n",
       "    </tr>\n",
       "    <tr>\n",
       "      <th>GFGC19881F</th>\n",
       "      <td>2.00</td>\n",
       "      <td>-11.50</td>\n",
       "      <td>0.0</td>\n",
       "      <td>0.0</td>\n",
       "      <td>0.0</td>\n",
       "      <td>0001-01-01T00:00:00</td>\n",
       "      <td>sube</td>\n",
       "      <td>0.0</td>\n",
       "      <td>0.0</td>\n",
       "      <td>0</td>\n",
       "      <td>0.0</td>\n",
       "      <td>0</td>\n",
       "      <td>0.0</td>\n",
       "      <td>0.0</td>\n",
       "      <td>None</td>\n",
       "      <td>0</td>\n",
       "      <td>Call</td>\n",
       "      <td>2021-02-19T00:00:00</td>\n",
       "      <td>Call GGAL 198.81 Vencimiento: 19/02/2021</td>\n",
       "    </tr>\n",
       "    <tr>\n",
       "      <th>GFGV105.AB</th>\n",
       "      <td>0.00</td>\n",
       "      <td>0.00</td>\n",
       "      <td>0.0</td>\n",
       "      <td>0.0</td>\n",
       "      <td>0.0</td>\n",
       "      <td>0001-01-01T00:00:00</td>\n",
       "      <td>sube</td>\n",
       "      <td>0.0</td>\n",
       "      <td>0.0</td>\n",
       "      <td>0</td>\n",
       "      <td>0.0</td>\n",
       "      <td>0</td>\n",
       "      <td>0.0</td>\n",
       "      <td>0.0</td>\n",
       "      <td>None</td>\n",
       "      <td>0</td>\n",
       "      <td>Put</td>\n",
       "      <td>2021-04-16T00:00:00</td>\n",
       "      <td>Put GGAL 105.00 Vencimiento: 16/04/2021</td>\n",
       "    </tr>\n",
       "    <tr>\n",
       "      <th>GFGV111.AB</th>\n",
       "      <td>0.00</td>\n",
       "      <td>0.00</td>\n",
       "      <td>0.0</td>\n",
       "      <td>0.0</td>\n",
       "      <td>0.0</td>\n",
       "      <td>0001-01-01T00:00:00</td>\n",
       "      <td>sube</td>\n",
       "      <td>0.0</td>\n",
       "      <td>0.0</td>\n",
       "      <td>0</td>\n",
       "      <td>0.0</td>\n",
       "      <td>0</td>\n",
       "      <td>0.0</td>\n",
       "      <td>0.0</td>\n",
       "      <td>None</td>\n",
       "      <td>0</td>\n",
       "      <td>Put</td>\n",
       "      <td>2021-04-16T00:00:00</td>\n",
       "      <td>Put GGAL 111.00 Vencimiento: 16/04/2021</td>\n",
       "    </tr>\n",
       "    <tr>\n",
       "      <th>GFGV120.AB</th>\n",
       "      <td>0.00</td>\n",
       "      <td>0.00</td>\n",
       "      <td>0.0</td>\n",
       "      <td>0.0</td>\n",
       "      <td>0.0</td>\n",
       "      <td>0001-01-01T00:00:00</td>\n",
       "      <td>sube</td>\n",
       "      <td>0.0</td>\n",
       "      <td>0.0</td>\n",
       "      <td>0</td>\n",
       "      <td>0.0</td>\n",
       "      <td>0</td>\n",
       "      <td>0.0</td>\n",
       "      <td>0.0</td>\n",
       "      <td>None</td>\n",
       "      <td>0</td>\n",
       "      <td>Put</td>\n",
       "      <td>2021-04-16T00:00:00</td>\n",
       "      <td>Put GGAL 120.00 Vencimiento: 16/04/2021</td>\n",
       "    </tr>\n",
       "    <tr>\n",
       "      <th>GFGC120.AB</th>\n",
       "      <td>30.00</td>\n",
       "      <td>7.14</td>\n",
       "      <td>0.0</td>\n",
       "      <td>0.0</td>\n",
       "      <td>0.0</td>\n",
       "      <td>0001-01-01T00:00:00</td>\n",
       "      <td>sube</td>\n",
       "      <td>0.0</td>\n",
       "      <td>0.0</td>\n",
       "      <td>0</td>\n",
       "      <td>0.0</td>\n",
       "      <td>0</td>\n",
       "      <td>0.0</td>\n",
       "      <td>0.0</td>\n",
       "      <td>None</td>\n",
       "      <td>0</td>\n",
       "      <td>Call</td>\n",
       "      <td>2021-04-16T00:00:00</td>\n",
       "      <td>Call GGAL 120.00 Vencimiento: 16/04/2021</td>\n",
       "    </tr>\n",
       "  </tbody>\n",
       "</table>\n",
       "<p>79 rows × 19 columns</p>\n",
       "</div>"
      ],
      "text/plain": [
       "            ultimoPrecio  variacion  apertura  maximo  minimo  \\\n",
       "simbolo                                                         \n",
       "GFGC123.NO          2.99     -25.24       0.0     0.0     0.0   \n",
       "GFGC135.NO          0.70       0.00       0.0     0.0     0.0   \n",
       "GFGC140.NO          0.00       0.00       0.0     0.0     0.0   \n",
       "GFGC49808D         68.10       0.00       0.0     0.0     0.0   \n",
       "GFGC52808D         70.00       0.00       0.0     0.0     0.0   \n",
       "...                  ...        ...       ...     ...     ...   \n",
       "GFGC19881F          2.00     -11.50       0.0     0.0     0.0   \n",
       "GFGV105.AB          0.00       0.00       0.0     0.0     0.0   \n",
       "GFGV111.AB          0.00       0.00       0.0     0.0     0.0   \n",
       "GFGV120.AB          0.00       0.00       0.0     0.0     0.0   \n",
       "GFGC120.AB         30.00       7.14       0.0     0.0     0.0   \n",
       "\n",
       "                      fechaHora tendencia  cierreAnterior  montoOperado  \\\n",
       "simbolo                                                                   \n",
       "GFGC123.NO  0001-01-01T00:00:00      sube             0.0           0.0   \n",
       "GFGC135.NO  0001-01-01T00:00:00      sube             0.0           0.0   \n",
       "GFGC140.NO  0001-01-01T00:00:00      sube             0.0           0.0   \n",
       "GFGC49808D  0001-01-01T00:00:00      sube             0.0           0.0   \n",
       "GFGC52808D  0001-01-01T00:00:00      sube             0.0           0.0   \n",
       "...                         ...       ...             ...           ...   \n",
       "GFGC19881F  0001-01-01T00:00:00      sube             0.0           0.0   \n",
       "GFGV105.AB  0001-01-01T00:00:00      sube             0.0           0.0   \n",
       "GFGV111.AB  0001-01-01T00:00:00      sube             0.0           0.0   \n",
       "GFGV120.AB  0001-01-01T00:00:00      sube             0.0           0.0   \n",
       "GFGC120.AB  0001-01-01T00:00:00      sube             0.0           0.0   \n",
       "\n",
       "            volumenNominal  precioPromedio  moneda  precioAjuste  \\\n",
       "simbolo                                                            \n",
       "GFGC123.NO               0             0.0       0           0.0   \n",
       "GFGC135.NO               0             0.0       0           0.0   \n",
       "GFGC140.NO               0             0.0       0           0.0   \n",
       "GFGC49808D               0             0.0       0           0.0   \n",
       "GFGC52808D               0             0.0       0           0.0   \n",
       "...                    ...             ...     ...           ...   \n",
       "GFGC19881F               0             0.0       0           0.0   \n",
       "GFGV105.AB               0             0.0       0           0.0   \n",
       "GFGV111.AB               0             0.0       0           0.0   \n",
       "GFGV120.AB               0             0.0       0           0.0   \n",
       "GFGC120.AB               0             0.0       0           0.0   \n",
       "\n",
       "            interesesAbiertos puntas  cantidadOperaciones  tipo  \\\n",
       "simbolo                                                           \n",
       "GFGC123.NO                0.0   None                    0  Call   \n",
       "GFGC135.NO                0.0   None                    0  Call   \n",
       "GFGC140.NO                0.0   None                    0  Call   \n",
       "GFGC49808D                0.0   None                    0  Call   \n",
       "GFGC52808D                0.0   None                    0  Call   \n",
       "...                       ...    ...                  ...   ...   \n",
       "GFGC19881F                0.0   None                    0  Call   \n",
       "GFGV105.AB                0.0   None                    0   Put   \n",
       "GFGV111.AB                0.0   None                    0   Put   \n",
       "GFGV120.AB                0.0   None                    0   Put   \n",
       "GFGC120.AB                0.0   None                    0  Call   \n",
       "\n",
       "                    vencimiento                               descripcion  \n",
       "simbolo                                                                    \n",
       "GFGC123.NO  2020-11-20T00:00:00  Call GGAL 123.00 Vencimiento: 20/11/2020  \n",
       "GFGC135.NO  2020-11-20T00:00:00  Call GGAL 135.00 Vencimiento: 20/11/2020  \n",
       "GFGC140.NO  2020-11-20T00:00:00  Call GGAL 140.00 Vencimiento: 20/11/2020  \n",
       "GFGC49808D  2020-12-18T00:00:00   Call GGAL 49.81 Vencimiento: 18/12/2020  \n",
       "GFGC52808D  2020-12-18T00:00:00   Call GGAL 52.81 Vencimiento: 18/12/2020  \n",
       "...                         ...                                       ...  \n",
       "GFGC19881F  2021-02-19T00:00:00  Call GGAL 198.81 Vencimiento: 19/02/2021  \n",
       "GFGV105.AB  2021-04-16T00:00:00   Put GGAL 105.00 Vencimiento: 16/04/2021  \n",
       "GFGV111.AB  2021-04-16T00:00:00   Put GGAL 111.00 Vencimiento: 16/04/2021  \n",
       "GFGV120.AB  2021-04-16T00:00:00   Put GGAL 120.00 Vencimiento: 16/04/2021  \n",
       "GFGC120.AB  2021-04-16T00:00:00  Call GGAL 120.00 Vencimiento: 16/04/2021  \n",
       "\n",
       "[79 rows x 19 columns]"
      ]
     },
     "execution_count": 65,
     "metadata": {},
     "output_type": "execute_result"
    }
   ],
   "source": [
    "data"
   ]
  },
  {
   "cell_type": "code",
   "execution_count": 64,
   "metadata": {},
   "outputs": [
    {
     "data": {
      "text/plain": [
       "tipo  vencimiento        \n",
       "Call  2020-11-20T00:00:00     3\n",
       "      2020-12-18T00:00:00    27\n",
       "      2021-02-19T00:00:00    14\n",
       "      2021-04-16T00:00:00     1\n",
       "Put   2020-12-18T00:00:00    26\n",
       "      2021-02-19T00:00:00     5\n",
       "      2021-04-16T00:00:00     3\n",
       "dtype: int64"
      ]
     },
     "execution_count": 64,
     "metadata": {},
     "output_type": "execute_result"
    }
   ],
   "source": [
    "data.groupby(['tipo','vencimiento']).size()"
   ]
  },
  {
   "cell_type": "markdown",
   "metadata": {},
   "source": [
    "Asimismo puedo traer data concreta de una opción determinada:"
   ]
  },
  {
   "cell_type": "code",
   "execution_count": 67,
   "metadata": {},
   "outputs": [
    {
     "data": {
      "text/plain": [
       "array(['GFGC123.NO', 'GFGC135.NO', 'GFGC140.NO', 'GFGC49808D',\n",
       "       'GFGC52808D', 'GFGC63.0DI', 'GFGV63.0DI', 'GFGV75.0DI',\n",
       "       'GFGV79808D', 'GFGV85808D', 'GFGC88808D', 'GFGV88808D',\n",
       "       'GFGV93.0DI', 'GFGV96.0DI', 'GFGC96.0DI', 'GFGC97808D',\n",
       "       'GFGV97808D', 'GFGC10081D', 'GFGV10081D', 'GFGC105.DI',\n",
       "       'GFGV105.DI', 'GFGC108.DI', 'GFGV108.DI', 'GFGC10981D',\n",
       "       'GFGV10981D', 'GFGC11281D', 'GFGV11281D', 'GFGC11581D',\n",
       "       'GFGV11581D', 'GFGC11881D', 'GFGV11881D', 'GFGC12181D',\n",
       "       'GFGV12181D', 'GFGC12481D', 'GFGV12481D', 'GFGC12781D',\n",
       "       'GFGV12781D', 'GFGV13081D', 'GFGC13081D', 'GFGC13381D',\n",
       "       'GFGV13381D', 'GFGC13881D', 'GFGV13881D', 'GFGC145.DI',\n",
       "       'GFGV145.DI', 'GFGV14881D', 'GFGC14881D', 'GFGC155.DI',\n",
       "       'GFGC15881D', 'GFGV15881D', 'GFGC16381D', 'GFGV16381D',\n",
       "       'GFGC170.DI', 'GFGC175.DI', 'GFGV19881D', 'GFGC19881D',\n",
       "       'GFGV82808F', 'GFGC87.0FE', 'GFGC96.0FE', 'GFGC97808F',\n",
       "       'GFGV97808F', 'GFGV111.FE', 'GFGC114.FE', 'GFGV11881F',\n",
       "       'GFGC11881F', 'GFGC123.FE', 'GFGV12481F', 'GFGC12481F',\n",
       "       'GFGC132.FE', 'GFGC135.FE', 'GFGC140.FE', 'GFGC15881F',\n",
       "       'GFGC16381F', 'GFGC16881F', 'GFGC19881F', 'GFGV105.AB',\n",
       "       'GFGV111.AB', 'GFGV120.AB', 'GFGC120.AB'], dtype=object)"
      ]
     },
     "execution_count": 67,
     "metadata": {},
     "output_type": "execute_result"
    }
   ],
   "source": [
    "data.index.values"
   ]
  },
  {
   "cell_type": "code",
   "execution_count": 48,
   "metadata": {
    "scrolled": true
   },
   "outputs": [
    {
     "data": {
      "text/plain": [
       "ultimoPrecio                                                4.2\n",
       "variacion                                                   5.6\n",
       "apertura                                                      0\n",
       "maximo                                                        0\n",
       "minimo                                                        0\n",
       "fechaHora                                   0001-01-01T00:00:00\n",
       "tendencia                                                  sube\n",
       "cierreAnterior                                                0\n",
       "montoOperado                                                  0\n",
       "volumenNominal                                                0\n",
       "precioPromedio                                                0\n",
       "moneda                                                        0\n",
       "precioAjuste                                                  0\n",
       "interesesAbiertos                                             0\n",
       "puntas                                                     None\n",
       "cantidadOperaciones                                           0\n",
       "tipo                                                       Call\n",
       "vencimiento                                 2020-12-18T00:00:00\n",
       "descripcion            Call GGAL 133.81 Vencimiento: 18/12/2020\n",
       "Name: GFGC13381D, dtype: object"
      ]
     },
     "execution_count": 48,
     "metadata": {},
     "output_type": "execute_result"
    }
   ],
   "source": [
    "data.loc['GFGC13381D']"
   ]
  },
  {
   "cell_type": "markdown",
   "metadata": {},
   "source": [
    "# Endpoints de Cuenta"
   ]
  },
  {
   "cell_type": "markdown",
   "metadata": {},
   "source": [
    "## Estado de Cuenta"
   ]
  },
  {
   "cell_type": "code",
   "execution_count": 68,
   "metadata": {},
   "outputs": [
    {
     "data": {
      "text/plain": [
       "dict_keys(['cuentas', 'estadisticas', 'totalEnPesos'])"
      ]
     },
     "execution_count": 68,
     "metadata": {},
     "output_type": "execute_result"
    }
   ],
   "source": [
    "def cuenta():\n",
    "    \n",
    "    # Configuración del llamado a la API\n",
    "    url_base= 'https://api.invertironline.com/api/v2/'\n",
    "    endpoint = 'estadocuenta'\n",
    "    url = url_base + endpoint\n",
    "    headers = {\"Authorization\" : \"Bearer \"+ tk['access_token']}\n",
    "    \n",
    "    # Llamado a la API\n",
    "    data = requests.get(url = url, headers = headers).json()\n",
    "    \n",
    "    return(data)\n",
    "\n",
    "tk = actualizarToken(tk) \n",
    "data = cuenta()\n",
    "data.keys()"
   ]
  },
  {
   "cell_type": "code",
   "execution_count": 69,
   "metadata": {},
   "outputs": [
    {
     "data": {
      "text/plain": [
       "{'numero': '200487',\n",
       " 'tipo': 'inversion_Argentina_Pesos',\n",
       " 'moneda': 'peso_Argentino',\n",
       " 'disponible': 1014.38,\n",
       " 'comprometido': 2.6,\n",
       " 'saldo': 1016.98,\n",
       " 'titulosValorizados': 0.0,\n",
       " 'total': 1016.98,\n",
       " 'margenDescubierto': 0.0,\n",
       " 'saldos': [{'liquidacion': 'inmediato',\n",
       "   'saldo': 1016.98,\n",
       "   'comprometido': 2.6,\n",
       "   'disponible': 1014.38,\n",
       "   'disponibleOperar': 1014.38},\n",
       "  {'liquidacion': 'hrs24',\n",
       "   'saldo': 0.0,\n",
       "   'comprometido': 0.0,\n",
       "   'disponible': 0.0,\n",
       "   'disponibleOperar': 1014.38},\n",
       "  {'liquidacion': 'hrs48',\n",
       "   'saldo': 0.0,\n",
       "   'comprometido': 0.0,\n",
       "   'disponible': 0.0,\n",
       "   'disponibleOperar': 1014.38},\n",
       "  {'liquidacion': 'hrs72',\n",
       "   'saldo': 0.0,\n",
       "   'comprometido': 0.0,\n",
       "   'disponible': 0.0,\n",
       "   'disponibleOperar': 1014.38},\n",
       "  {'liquidacion': 'masHrs72',\n",
       "   'saldo': 0.0,\n",
       "   'comprometido': 0.0,\n",
       "   'disponible': 0.0,\n",
       "   'disponibleOperar': 0.0}],\n",
       " 'estado': 'operable'}"
      ]
     },
     "execution_count": 69,
     "metadata": {},
     "output_type": "execute_result"
    }
   ],
   "source": [
    "data['cuentas'][0]"
   ]
  },
  {
   "cell_type": "code",
   "execution_count": 70,
   "metadata": {},
   "outputs": [
    {
     "data": {
      "text/plain": [
       "[{'descripcion': 'Anterior', 'cantidad': 0, 'volumen': 0.0},\n",
       " {'descripcion': 'Actual', 'cantidad': 0, 'volumen': 0.0}]"
      ]
     },
     "execution_count": 70,
     "metadata": {},
     "output_type": "execute_result"
    }
   ],
   "source": [
    "data['estadisticas']"
   ]
  },
  {
   "cell_type": "code",
   "execution_count": null,
   "metadata": {},
   "outputs": [],
   "source": []
  },
  {
   "cell_type": "markdown",
   "metadata": {},
   "source": [
    "## Portafolio"
   ]
  },
  {
   "cell_type": "code",
   "execution_count": 71,
   "metadata": {},
   "outputs": [
    {
     "data": {
      "text/plain": [
       "{'pais': 'argentina', 'activos': []}"
      ]
     },
     "execution_count": 71,
     "metadata": {},
     "output_type": "execute_result"
    }
   ],
   "source": [
    "def portafolio(pais):\n",
    "    \n",
    "    # Configuración del llamado a la API\n",
    "    url_base= 'https://api.invertironline.com/api/v2/'\n",
    "    endpoint = 'portafolio/'+pais\n",
    "    url = url_base + endpoint\n",
    "    headers = {\"Authorization\" : \"Bearer \"+ tk['access_token']}\n",
    "    \n",
    "    # Llamado a la API\n",
    "    data = requests.get(url = url, headers = headers).json()\n",
    "    \n",
    "    return(data)\n",
    "\n",
    "tk = actualizarToken(tk) \n",
    "data = portafolio('Argentina')\n",
    "data"
   ]
  },
  {
   "cell_type": "markdown",
   "metadata": {},
   "source": [
    "## Operaciones vigentes"
   ]
  },
  {
   "cell_type": "code",
   "execution_count": 73,
   "metadata": {},
   "outputs": [
    {
     "data": {
      "text/html": [
       "<div>\n",
       "<style scoped>\n",
       "    .dataframe tbody tr th:only-of-type {\n",
       "        vertical-align: middle;\n",
       "    }\n",
       "\n",
       "    .dataframe tbody tr th {\n",
       "        vertical-align: top;\n",
       "    }\n",
       "\n",
       "    .dataframe thead th {\n",
       "        text-align: right;\n",
       "    }\n",
       "</style>\n",
       "<table border=\"1\" class=\"dataframe\">\n",
       "  <thead>\n",
       "    <tr style=\"text-align: right;\">\n",
       "      <th></th>\n",
       "      <th>numero</th>\n",
       "      <th>fechaOrden</th>\n",
       "      <th>tipo</th>\n",
       "      <th>estado</th>\n",
       "      <th>mercado</th>\n",
       "      <th>simbolo</th>\n",
       "      <th>cantidad</th>\n",
       "      <th>monto</th>\n",
       "      <th>modalidad</th>\n",
       "      <th>precio</th>\n",
       "      <th>fechaOperada</th>\n",
       "      <th>cantidadOperada</th>\n",
       "      <th>precioOperado</th>\n",
       "      <th>montoOperado</th>\n",
       "    </tr>\n",
       "  </thead>\n",
       "  <tbody>\n",
       "    <tr>\n",
       "      <th>0</th>\n",
       "      <td>28462574</td>\n",
       "      <td>2020-11-13T17:43:20.673</td>\n",
       "      <td>Compra</td>\n",
       "      <td>iniciada</td>\n",
       "      <td>BCBA</td>\n",
       "      <td>COME</td>\n",
       "      <td>1.0</td>\n",
       "      <td>2.59</td>\n",
       "      <td>precio_Limite</td>\n",
       "      <td>2.59</td>\n",
       "      <td>None</td>\n",
       "      <td>None</td>\n",
       "      <td>None</td>\n",
       "      <td>None</td>\n",
       "    </tr>\n",
       "  </tbody>\n",
       "</table>\n",
       "</div>"
      ],
      "text/plain": [
       "     numero               fechaOrden    tipo    estado mercado simbolo  \\\n",
       "0  28462574  2020-11-13T17:43:20.673  Compra  iniciada    BCBA    COME   \n",
       "\n",
       "   cantidad  monto      modalidad  precio fechaOperada cantidadOperada  \\\n",
       "0       1.0   2.59  precio_Limite    2.59         None            None   \n",
       "\n",
       "  precioOperado montoOperado  \n",
       "0          None         None  "
      ]
     },
     "execution_count": 73,
     "metadata": {},
     "output_type": "execute_result"
    }
   ],
   "source": [
    "def operaciones():\n",
    "    \n",
    "    # Configuración del llamado a la API\n",
    "    url_base= 'https://api.invertironline.com/api/v2/'\n",
    "    endpoint = 'operaciones/'\n",
    "    url = url_base + endpoint\n",
    "    headers = {\"Authorization\" : \"Bearer \"+ tk['access_token']}\n",
    "    \n",
    "    # Llamado a la API\n",
    "    data = requests.get(url = url, headers = headers).json()\n",
    "    df = pd.DataFrame(data)\n",
    "    return df\n",
    "\n",
    "tk = actualizarToken(tk) \n",
    "data = operaciones()\n",
    "data"
   ]
  },
  {
   "cell_type": "markdown",
   "metadata": {},
   "source": [
    "# Endpoints de Ruteo"
   ]
  },
  {
   "cell_type": "markdown",
   "metadata": {},
   "source": [
    "## Operar: Compra"
   ]
  },
  {
   "cell_type": "code",
   "execution_count": 84,
   "metadata": {},
   "outputs": [],
   "source": [
    "def comprar(ticker, q, precio, plazo ):\n",
    "    import datetime as dt\n",
    "    vigencia = dt.datetime.now() + dt.timedelta(days=1)\n",
    "    vigencia_str = dt.datetime.strftime(vigencia, '%Y-%m-%d')\n",
    "    params = {\n",
    "      \"mercado\": \"bCBA\",\n",
    "      \"simbolo\": ticker,\n",
    "      \"cantidad\": q,\n",
    "      \"precio\": precio,\n",
    "      \"plazo\": plazo,\n",
    "      \"validez\": vigencia_str\n",
    "    }\n",
    "    # Configuración del llamado a la API\n",
    "    url_base= 'https://api.invertironline.com/api/v2/'\n",
    "    endpoint = 'operar/comprar/'\n",
    "    url = url_base + endpoint\n",
    "    headers = {\"Authorization\" : \"Bearer \"+ tk['access_token']}\n",
    "    \n",
    "    # Llamado a la API\n",
    "    data = requests.post(url = url, headers = headers, json = params).json()\n",
    "    return data"
   ]
  },
  {
   "cell_type": "code",
   "execution_count": null,
   "metadata": {},
   "outputs": [],
   "source": []
  },
  {
   "cell_type": "markdown",
   "metadata": {},
   "source": [
    "¿Que voy a ahacer antes de comprar?"
   ]
  },
  {
   "cell_type": "code",
   "execution_count": 79,
   "metadata": {},
   "outputs": [
    {
     "data": {
      "text/plain": [
       "{'ultimoPrecio': 2.71,\n",
       " 'variacion': 1.49,\n",
       " 'apertura': 2.7,\n",
       " 'maximo': 2.72,\n",
       " 'minimo': 2.64,\n",
       " 'fechaHora': '2020-11-13T17:00:06.3984458-03:00',\n",
       " 'tendencia': 'sube',\n",
       " 'cierreAnterior': 2.67,\n",
       " 'montoOperado': 5443581.1,\n",
       " 'volumenNominal': 2033932,\n",
       " 'precioPromedio': 0.0,\n",
       " 'moneda': 'peso_Argentino',\n",
       " 'precioAjuste': 0.0,\n",
       " 'interesesAbiertos': 0.0,\n",
       " 'puntas': [{'cantidadCompra': 37.0,\n",
       "   'precioCompra': 2.58,\n",
       "   'precioVenta': 2.75,\n",
       "   'cantidadVenta': 350.0},\n",
       "  {'cantidadCompra': 15.0,\n",
       "   'precioCompra': 2.56,\n",
       "   'precioVenta': 2.8,\n",
       "   'cantidadVenta': 1200.0},\n",
       "  {'cantidadCompra': 20028.0,\n",
       "   'precioCompra': 2.5,\n",
       "   'precioVenta': 2.82,\n",
       "   'cantidadVenta': 1555.0},\n",
       "  {'cantidadCompra': 4.0,\n",
       "   'precioCompra': 2.41,\n",
       "   'precioVenta': 2.85,\n",
       "   'cantidadVenta': 6007.0},\n",
       "  {'cantidadCompra': 41555.0,\n",
       "   'precioCompra': 2.4,\n",
       "   'precioVenta': 2.87,\n",
       "   'cantidadVenta': 13530.0}],\n",
       " 'cantidadOperaciones': 460}"
      ]
     },
     "execution_count": 79,
     "metadata": {},
     "output_type": "execute_result"
    }
   ],
   "source": [
    "tk = actualizarToken(tk) \n",
    "data = precio('bcba','COME')\n",
    "data"
   ]
  },
  {
   "cell_type": "code",
   "execution_count": 81,
   "metadata": {},
   "outputs": [
    {
     "data": {
      "text/plain": [
       "{'cantidadCompra': 37.0,\n",
       " 'precioCompra': 2.58,\n",
       " 'precioVenta': 2.75,\n",
       " 'cantidadVenta': 350.0}"
      ]
     },
     "execution_count": 81,
     "metadata": {},
     "output_type": "execute_result"
    }
   ],
   "source": [
    "data['puntas'][0]"
   ]
  },
  {
   "cell_type": "code",
   "execution_count": 82,
   "metadata": {},
   "outputs": [
    {
     "data": {
      "text/plain": [
       "2.58"
      ]
     },
     "execution_count": 82,
     "metadata": {},
     "output_type": "execute_result"
    }
   ],
   "source": [
    "pta_bid = data['puntas'][0]['precioCompra']\n",
    "pta_bid"
   ]
  },
  {
   "cell_type": "code",
   "execution_count": 85,
   "metadata": {},
   "outputs": [
    {
     "data": {
      "text/plain": [
       "{'numeroOperacion': 28464344}"
      ]
     },
     "execution_count": 85,
     "metadata": {},
     "output_type": "execute_result"
    }
   ],
   "source": [
    "tk = actualizarToken(tk) \n",
    "comprar(ticker='COME', q=1, precio = pta_bid+0.01, plazo='t2')"
   ]
  },
  {
   "cell_type": "code",
   "execution_count": null,
   "metadata": {},
   "outputs": [],
   "source": []
  },
  {
   "cell_type": "code",
   "execution_count": null,
   "metadata": {},
   "outputs": [],
   "source": [
    "Suposicion de compra\n",
    "\n",
    "- Comprar  (yo ya tengo mi precio y la mejor punta anterior, y mi numero de operacion)\n",
    "\n",
    "Hacer varias veces (FOR/WHILE)\n",
    "\n",
    "- Ver las puntas\n",
    "        \n",
    "    - Saber estado actual\n",
    "    \n",
    "        Si el estado actual es \"Iniciado\", \"En Proceso\"\n",
    "            - Si la punta mejor de compra es mayor a mi precio (IF)\n",
    "                Me taparon:\n",
    "                    Cancelar la orden enviada (reescribir mi numero de operacion)\n",
    "                    Enviar una nueva con mejor precio\n",
    "                        (Condicional tope)\n",
    "                        (Condicional de posicion)\n",
    "                        \n",
    "            - Si la anterior mejor punta se fue para abajo\n",
    "                \n",
    "            \n",
    "        \n",
    "        Si el estado actual es \"Parcialmente terminada\"\n",
    "        \n",
    "        \n",
    "        Si el estado actual es \"Finalizada\"\n",
    "        \n",
    "        \n",
    "        \n"
   ]
  },
  {
   "cell_type": "code",
   "execution_count": null,
   "metadata": {},
   "outputs": [],
   "source": []
  },
  {
   "cell_type": "markdown",
   "metadata": {},
   "source": [
    "## Ver estado de Operación"
   ]
  },
  {
   "cell_type": "code",
   "execution_count": 86,
   "metadata": {},
   "outputs": [],
   "source": [
    "def operacion(numero):\n",
    "    \n",
    "    # Configuración del llamado a la API\n",
    "    url_base= 'https://api.invertironline.com/api/v2/'\n",
    "    endpoint = 'operaciones/'+str(numero)\n",
    "    url = url_base + endpoint\n",
    "    headers = {\"Authorization\" : \"Bearer \"+ tk['access_token']}\n",
    "    \n",
    "    # Llamado a la API\n",
    "    data = requests.get(url = url, headers = headers).json()\n",
    "    return data"
   ]
  },
  {
   "cell_type": "code",
   "execution_count": 88,
   "metadata": {},
   "outputs": [
    {
     "data": {
      "text/plain": [
       "{'numero': 28464344,\n",
       " 'mercado': 'bcba',\n",
       " 'simbolo': 'COME',\n",
       " 'moneda': 'peso_Argentino',\n",
       " 'tipo': 'compra',\n",
       " 'fechaAlta': '2020-11-13T19:56:35.727',\n",
       " 'validez': '2020-11-14T00:00:00',\n",
       " 'fechaOperado': None,\n",
       " 'estadoActual': 'iniciada',\n",
       " 'estados': [{'detalle': 'Iniciada', 'fecha': '2020-11-13T19:56:35.727'}],\n",
       " 'aranceles': [],\n",
       " 'operaciones': [],\n",
       " 'precio': 2.59,\n",
       " 'cantidad': 1.0,\n",
       " 'monto': 2.59,\n",
       " 'modalidad': 'precio_Limite'}"
      ]
     },
     "execution_count": 88,
     "metadata": {},
     "output_type": "execute_result"
    }
   ],
   "source": [
    "tk = actualizarToken(tk) \n",
    "data = operacion(28464344)\n",
    "data"
   ]
  },
  {
   "cell_type": "markdown",
   "metadata": {},
   "source": [
    "## Operar Venta"
   ]
  },
  {
   "cell_type": "code",
   "execution_count": 62,
   "metadata": {},
   "outputs": [],
   "source": [
    "def vender(ticker, q, precio, plazo ):\n",
    "    import datetime as dt\n",
    "    vigencia = dt.datetime.now() + dt.timedelta(days=1)\n",
    "    vigencia_str = dt.datetime.strftime(vigencia, '%Y-%m-%d')\n",
    "    params = {\n",
    "      \"mercado\": \"bCBA\",\n",
    "      \"simbolo\": ticker,\n",
    "      \"cantidad\": q,\n",
    "      \"precio\": precio,\n",
    "      \"plazo\": plazo,\n",
    "      \"validez\": vigencia_str\n",
    "    }\n",
    "    # Configuración del llamado a la API\n",
    "    url_base= 'https://api.invertironline.com/api/v2/'\n",
    "    endpoint = 'operar/vender/'\n",
    "    url = url_base + endpoint\n",
    "    headers = {\"Authorization\" : \"Bearer \"+ tk['access_token']}\n",
    "    \n",
    "    # Llamado a la API\n",
    "    data = requests.post(url = url, headers = headers, json = params).json()\n",
    "    return data\n"
   ]
  },
  {
   "cell_type": "code",
   "execution_count": 76,
   "metadata": {},
   "outputs": [
    {
     "data": {
      "text/html": [
       "<div>\n",
       "<style scoped>\n",
       "    .dataframe tbody tr th:only-of-type {\n",
       "        vertical-align: middle;\n",
       "    }\n",
       "\n",
       "    .dataframe tbody tr th {\n",
       "        vertical-align: top;\n",
       "    }\n",
       "\n",
       "    .dataframe thead th {\n",
       "        text-align: right;\n",
       "    }\n",
       "</style>\n",
       "<table border=\"1\" class=\"dataframe\">\n",
       "  <thead>\n",
       "    <tr style=\"text-align: right;\">\n",
       "      <th></th>\n",
       "      <th>numero</th>\n",
       "      <th>tipo</th>\n",
       "      <th>simbolo</th>\n",
       "      <th>cantidad</th>\n",
       "      <th>precio</th>\n",
       "      <th>cantidadOperada</th>\n",
       "    </tr>\n",
       "  </thead>\n",
       "  <tbody>\n",
       "    <tr>\n",
       "      <th>0</th>\n",
       "      <td>28462574</td>\n",
       "      <td>Compra</td>\n",
       "      <td>COME</td>\n",
       "      <td>1.0</td>\n",
       "      <td>2.59</td>\n",
       "      <td>None</td>\n",
       "    </tr>\n",
       "  </tbody>\n",
       "</table>\n",
       "</div>"
      ],
      "text/plain": [
       "     numero    tipo simbolo  cantidad  precio cantidadOperada\n",
       "0  28462574  Compra    COME       1.0    2.59            None"
      ]
     },
     "execution_count": 76,
     "metadata": {},
     "output_type": "execute_result"
    }
   ],
   "source": [
    "tk = actualizarToken(tk) \n",
    "data = operaciones()\n",
    "\n",
    "cols = ['numero','tipo','simbolo','cantidad','precio','cantidadOperada']\n",
    "data.loc[data.estado=='iniciada', cols]"
   ]
  },
  {
   "cell_type": "markdown",
   "metadata": {},
   "source": [
    "## Operar, Cancelar Orden"
   ]
  },
  {
   "cell_type": "code",
   "execution_count": 77,
   "metadata": {},
   "outputs": [],
   "source": [
    "def cancelar(numero):\n",
    "    \n",
    "    # Configuración del llamado a la API\n",
    "    url_base= 'https://api.invertironline.com/api/v2/'\n",
    "    endpoint = 'operaciones/'+str(numero)\n",
    "    url = url_base + endpoint\n",
    "    headers = {\"Authorization\" : \"Bearer \"+ tk['access_token']}\n",
    "    \n",
    "    # Llamado a la API\n",
    "    data = requests.delete(url = url, headers = headers).json()\n",
    "    return data\n"
   ]
  },
  {
   "cell_type": "code",
   "execution_count": 78,
   "metadata": {},
   "outputs": [
    {
     "data": {
      "text/plain": [
       "{'ok': True, 'messages': [{'title': '', 'description': 'OK'}]}"
      ]
     },
     "execution_count": 78,
     "metadata": {},
     "output_type": "execute_result"
    }
   ],
   "source": [
    "tk = actualizarToken(tk) \n",
    "\n",
    "# Cancelamos primero la compra de ALUA\n",
    "data = cancelar(28462574)\n",
    "data"
   ]
  },
  {
   "cell_type": "code",
   "execution_count": 65,
   "metadata": {},
   "outputs": [],
   "source": [
    "tk = actualizarToken(tk) \n",
    "data = operaciones()\n",
    "\n",
    "cols = ['numero','tipo','simbolo','cantidad','precio','cantidadOperada']\n",
    "data.loc[data.estado=='iniciada', cols]"
   ]
  },
  {
   "cell_type": "code",
   "execution_count": null,
   "metadata": {},
   "outputs": [],
   "source": []
  }
 ],
 "metadata": {
  "kernelspec": {
   "display_name": "Python 3",
   "language": "python",
   "name": "python3"
  },
  "language_info": {
   "codemirror_mode": {
    "name": "ipython",
    "version": 3
   },
   "file_extension": ".py",
   "mimetype": "text/x-python",
   "name": "python",
   "nbconvert_exporter": "python",
   "pygments_lexer": "ipython3",
   "version": "3.8.5"
  },
  "toc": {
   "base_numbering": 1,
   "nav_menu": {},
   "number_sections": true,
   "sideBar": true,
   "skip_h1_title": false,
   "title_cell": "Table of Contents",
   "title_sidebar": "Contents",
   "toc_cell": false,
   "toc_position": {},
   "toc_section_display": true,
   "toc_window_display": true
  }
 },
 "nbformat": 4,
 "nbformat_minor": 4
}
