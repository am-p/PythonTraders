{
 "cells": [
  {
   "cell_type": "markdown",
   "metadata": {},
   "source": [
    "# Importacion de librerias"
   ]
  },
  {
   "cell_type": "code",
   "execution_count": 1,
   "metadata": {},
   "outputs": [],
   "source": [
    "import requests\n",
    "import pandas as pd\n",
    "import tqdm, sys, os\n",
    "import numpy as np\n",
    "import sqlite3\n",
    "import datetime as dt\n",
    "\n",
    "pd.options.display.max_columns = 6"
   ]
  },
  {
   "cell_type": "markdown",
   "metadata": {},
   "source": [
    "# Creamos la BBDD"
   ]
  },
  {
   "cell_type": "code",
   "execution_count": 21,
   "metadata": {},
   "outputs": [],
   "source": [
    "conn = sqlite3.connect('screener.db') "
   ]
  },
  {
   "cell_type": "markdown",
   "metadata": {},
   "source": [
    "# Mini CRUD en SQLite"
   ]
  },
  {
   "cell_type": "markdown",
   "metadata": {},
   "source": [
    "## Crear una Tabla"
   ]
  },
  {
   "cell_type": "code",
   "execution_count": 3,
   "metadata": {},
   "outputs": [],
   "source": [
    "q = 'CREATE TABLE IF NOT EXISTS \"arg_params\" ( \\\n",
    "        \"id\" INTEGER, \\\n",
    "        \"ticker_accion\" TEXT, \\\n",
    "        \"ticker_opcion\" TEXT, \\\n",
    "        \"ticker_usa\" TEXT, \\\n",
    "        PRIMARY KEY(\"id\" AUTOINCREMENT))'"
   ]
  },
  {
   "cell_type": "code",
   "execution_count": 4,
   "metadata": {},
   "outputs": [
    {
     "data": {
      "text/plain": [
       "<sqlite3.Cursor at 0x1660734bf80>"
      ]
     },
     "execution_count": 4,
     "metadata": {},
     "output_type": "execute_result"
    }
   ],
   "source": [
    "conn.execute(q)"
   ]
  },
  {
   "cell_type": "markdown",
   "metadata": {},
   "source": [
    "## Crear Registros"
   ]
  },
  {
   "cell_type": "code",
   "execution_count": 5,
   "metadata": {},
   "outputs": [],
   "source": [
    "q = 'INSERT INTO arg_params (ticker_accion, ticker_opcion, ticker_usa) VALUES (\"GGAL\", \"GFG\", \"GGAL\")'"
   ]
  },
  {
   "cell_type": "code",
   "execution_count": 6,
   "metadata": {},
   "outputs": [
    {
     "data": {
      "text/plain": [
       "<sqlite3.Cursor at 0x16607375030>"
      ]
     },
     "execution_count": 6,
     "metadata": {},
     "output_type": "execute_result"
    }
   ],
   "source": [
    "conn.execute(q)"
   ]
  },
  {
   "cell_type": "code",
   "execution_count": 7,
   "metadata": {},
   "outputs": [],
   "source": [
    "conn.commit()"
   ]
  },
  {
   "cell_type": "code",
   "execution_count": 8,
   "metadata": {},
   "outputs": [],
   "source": [
    "q = 'INSERT INTO arg_params (ticker_accion, ticker_opcion) VALUES (\"TGSU2\", \"TGS\")'"
   ]
  },
  {
   "cell_type": "code",
   "execution_count": 9,
   "metadata": {},
   "outputs": [],
   "source": [
    "conn.execute(q)\n",
    "conn.commit()"
   ]
  },
  {
   "cell_type": "markdown",
   "metadata": {},
   "source": [
    "## Leer registros"
   ]
  },
  {
   "cell_type": "code",
   "execution_count": 10,
   "metadata": {},
   "outputs": [
    {
     "data": {
      "text/plain": [
       "[(1, 'GGAL', 'GFG', 'GGAL'), (2, 'TGSU2', 'TGS', None)]"
      ]
     },
     "execution_count": 10,
     "metadata": {},
     "output_type": "execute_result"
    }
   ],
   "source": [
    "q = 'SELECT * FROM arg_params'\n",
    "conn.execute(q).fetchall()"
   ]
  },
  {
   "cell_type": "markdown",
   "metadata": {},
   "source": [
    "## Modificar Registros"
   ]
  },
  {
   "cell_type": "code",
   "execution_count": 11,
   "metadata": {},
   "outputs": [
    {
     "data": {
      "text/plain": [
       "<sqlite3.Cursor at 0x16607375960>"
      ]
     },
     "execution_count": 11,
     "metadata": {},
     "output_type": "execute_result"
    }
   ],
   "source": [
    "q = 'UPDATE arg_params SET ticker_usa = \"TGS\" WHERE id=2 '\n",
    "conn.execute(q)"
   ]
  },
  {
   "cell_type": "code",
   "execution_count": 12,
   "metadata": {},
   "outputs": [
    {
     "data": {
      "text/plain": [
       "[(1, 'GGAL', 'GFG', 'GGAL'), (2, 'TGSU2', 'TGS', 'TGS')]"
      ]
     },
     "execution_count": 12,
     "metadata": {},
     "output_type": "execute_result"
    }
   ],
   "source": [
    "q = 'SELECT * FROM arg_params'\n",
    "conn.execute(q).fetchall()"
   ]
  },
  {
   "cell_type": "markdown",
   "metadata": {},
   "source": [
    "## Agregar en forma masiva"
   ]
  },
  {
   "cell_type": "code",
   "execution_count": 13,
   "metadata": {},
   "outputs": [],
   "source": [
    "tickers = [('YPFD','YPF','YPF'),('COME','COM',None),('PAM','PAM','PAM')]"
   ]
  },
  {
   "cell_type": "code",
   "execution_count": 14,
   "metadata": {},
   "outputs": [],
   "source": [
    "for ticker in tickers:\n",
    "    q = f'INSERT INTO arg_params (ticker_accion, ticker_opcion, ticker_usa)  \\\n",
    "        VALUES (\"{ticker[0]}\", \"{ticker[1]}\", \"{ticker[2]}\")'\n",
    "    conn.execute(q)"
   ]
  },
  {
   "cell_type": "code",
   "execution_count": 15,
   "metadata": {},
   "outputs": [
    {
     "data": {
      "text/plain": [
       "[(1, 'GGAL', 'GFG', 'GGAL'),\n",
       " (2, 'TGSU2', 'TGS', 'TGS'),\n",
       " (3, 'YPFD', 'YPF', 'YPF'),\n",
       " (4, 'COME', 'COM', 'None'),\n",
       " (5, 'PAM', 'PAM', 'PAM')]"
      ]
     },
     "execution_count": 15,
     "metadata": {},
     "output_type": "execute_result"
    }
   ],
   "source": [
    "q = 'SELECT * FROM arg_params'\n",
    "conn.execute(q).fetchall()"
   ]
  },
  {
   "cell_type": "code",
   "execution_count": 16,
   "metadata": {},
   "outputs": [],
   "source": [
    "conn.commit()"
   ]
  },
  {
   "cell_type": "markdown",
   "metadata": {},
   "source": [
    "## Borrar un registro"
   ]
  },
  {
   "cell_type": "code",
   "execution_count": 17,
   "metadata": {},
   "outputs": [
    {
     "data": {
      "text/plain": [
       "<sqlite3.Cursor at 0x166073805e0>"
      ]
     },
     "execution_count": 17,
     "metadata": {},
     "output_type": "execute_result"
    }
   ],
   "source": [
    "q = 'DELETE FROM arg_params WHERE id=3'\n",
    "conn.execute(q)"
   ]
  },
  {
   "cell_type": "code",
   "execution_count": 18,
   "metadata": {},
   "outputs": [
    {
     "data": {
      "text/plain": [
       "[(1, 'GGAL', 'GFG', 'GGAL'),\n",
       " (2, 'TGSU2', 'TGS', 'TGS'),\n",
       " (4, 'COME', 'COM', 'None'),\n",
       " (5, 'PAM', 'PAM', 'PAM')]"
      ]
     },
     "execution_count": 18,
     "metadata": {},
     "output_type": "execute_result"
    }
   ],
   "source": [
    "q = 'SELECT * FROM arg_params'\n",
    "conn.execute(q).fetchall()"
   ]
  },
  {
   "cell_type": "code",
   "execution_count": 19,
   "metadata": {},
   "outputs": [],
   "source": [
    "conn.commit()"
   ]
  },
  {
   "cell_type": "markdown",
   "metadata": {},
   "source": [
    "## Cierre de conexion a la base de datos"
   ]
  },
  {
   "cell_type": "code",
   "execution_count": 20,
   "metadata": {},
   "outputs": [],
   "source": [
    "conn.close()"
   ]
  },
  {
   "cell_type": "code",
   "execution_count": null,
   "metadata": {},
   "outputs": [],
   "source": []
  },
  {
   "cell_type": "markdown",
   "metadata": {},
   "source": [
    "# Finviz"
   ]
  },
  {
   "cell_type": "markdown",
   "metadata": {},
   "source": [
    "## Traemos los datos de la WEB"
   ]
  },
  {
   "cell_type": "code",
   "execution_count": 22,
   "metadata": {},
   "outputs": [],
   "source": [
    "def scrapear(pags=range(1,3)):\n",
    "    agents = 'Mozilla/5.0 (X11; Linux x86_64) AppleWebKit/537.36 (KHTML, like Gecko) '\n",
    "    agents += 'Chrome/50.0.2661.75 Safari/537.36'\n",
    "    header = {\"User-Agent\": agents, \"X-Requested-With\": \"XMLHttpRequest\"}\n",
    "    vista_simple = '111'\n",
    "    vista_full = '152&c='+','.join([str(s) for s in list(range(0,71))])\n",
    "\n",
    "    df = pd.DataFrame()\n",
    "\n",
    "    paginas = 1000\n",
    "    with tqdm.tqdm(total=len(pags), file=sys.stdout) as pbar:\n",
    "        for pagina in pags:\n",
    "            pbar.update()\n",
    "\n",
    "            r = str((pagina)*20 + 1)\n",
    "            url = f'https://finviz.com/screener.ashx?v={vista_full}&r={r}'\n",
    "            r = requests.get(url, headers=header)\n",
    "            tablas = pd.read_html(r.text)\n",
    "\n",
    "            for tabla in tablas:\n",
    "                valor = tabla[0].values[0]\n",
    "                if valor == 'No.':\n",
    "                    data = tabla\n",
    "\n",
    "                try:\n",
    "                    if valor.find('Total: ') == 0:\n",
    "                        paginas = int(valor[7:valor.find('#')-1])//20 +1\n",
    "                except:\n",
    "                    pass\n",
    "\n",
    "            if pagina == paginas:\n",
    "                break\n",
    "\n",
    "            data.columns=data.loc[0]\n",
    "            data = data.drop(0).drop('No.', axis=1).set_index('Ticker')\n",
    "            df = pd.concat([df,data])\n",
    "\n",
    "    return df"
   ]
  },
  {
   "cell_type": "code",
   "execution_count": 23,
   "metadata": {},
   "outputs": [
    {
     "name": "stdout",
     "output_type": "stream",
     "text": [
      " 98%|██████████████████████████████████████████████████████████████████████████████▌ | 383/390 [02:40<00:02,  2.39it/s]\n"
     ]
    }
   ],
   "source": [
    "finviz = scrapear(pags=range(390))"
   ]
  },
  {
   "cell_type": "markdown",
   "metadata": {},
   "source": [
    "## Arreglamos datos"
   ]
  },
  {
   "cell_type": "markdown",
   "metadata": {},
   "source": [
    "### Eliminamos símbolos no numéricos"
   ]
  },
  {
   "cell_type": "code",
   "execution_count": 24,
   "metadata": {},
   "outputs": [],
   "source": [
    "finviz.replace('-',np.nan, inplace=True)\n",
    "finviz.replace({'%': ''}, regex=True, inplace=True)"
   ]
  },
  {
   "cell_type": "markdown",
   "metadata": {},
   "source": [
    "### Arreglamos los numericos hibridos"
   ]
  },
  {
   "cell_type": "code",
   "execution_count": 25,
   "metadata": {},
   "outputs": [],
   "source": [
    "def aNumerico(df, columnas):\n",
    "\n",
    "    for columna in columnas:\n",
    "        count_T, count_B, count_M, count_K = 0,0,0,0\n",
    "        \n",
    "        for idx, row in finviz.iterrows():\n",
    "            try:\n",
    "                trillones = (row[columna]).find('T') \n",
    "                billones = (row[columna]).find('B') \n",
    "                millones = (row[columna]).find('M')\n",
    "                miles = (row[columna]).find('K')\n",
    "\n",
    "                if  trillones > 0:\n",
    "                    count_T += 1\n",
    "                    row[columna] = int(round(float(row[columna][:trillones]),2) * 10**12)\n",
    "                elif  billones > 0:\n",
    "                    count_B += 1\n",
    "                    row[columna] = int(round(float(row[columna][:billones]),2) * 10**9)\n",
    "                elif  millones > 0:\n",
    "                    count_M += 1\n",
    "                    row[columna] = int(round(float(row[columna][:millones]),2) * 10**6)\n",
    "                elif  miles > 0:\n",
    "                    count_K += 1\n",
    "                    row[columna] = int(round(float(row[columna][:miles]),2) * 10**3)\n",
    "                else:\n",
    "                    row[columna] = int(row[columna])\n",
    "                    \n",
    "            except:\n",
    "                pass\n",
    "            \n",
    "        print(f'Columna: {columna}, T->{count_T}, B->{count_B}, M->{count_M}, K->{count_K}')"
   ]
  },
  {
   "cell_type": "code",
   "execution_count": 26,
   "metadata": {},
   "outputs": [
    {
     "name": "stdout",
     "output_type": "stream",
     "text": [
      "Columna: Market Cap, T->0, B->2337, M->3062, K->0\n",
      "Columna: Avg Volume, T->0, B->0, M->1699, K->5923\n",
      "Columna: Outstanding, T->0, B->189, M->5212, K->0\n",
      "Columna: Float, T->0, B->149, M->4690, K->0\n"
     ]
    }
   ],
   "source": [
    "columnas = ['Market Cap', 'Avg Volume','Outstanding','Float',]\n",
    "\n",
    "aNumerico(finviz, columnas)"
   ]
  },
  {
   "cell_type": "markdown",
   "metadata": {},
   "source": [
    "### Pasamos a Flotante lo que sea flotante"
   ]
  },
  {
   "cell_type": "code",
   "execution_count": 27,
   "metadata": {},
   "outputs": [],
   "source": [
    "def aFlotante(df, columnas):\n",
    "    for columna in columnas:\n",
    "        try:\n",
    "            df[columna] = df[columna].astype(float)\n",
    "        except:\n",
    "            try:\n",
    "                df[columna] = pd.to_numeric(df[columna])\n",
    "            except:\n",
    "                print (f'No se pudo trnasformar la columna {columna}')"
   ]
  },
  {
   "cell_type": "code",
   "execution_count": 28,
   "metadata": {},
   "outputs": [],
   "source": [
    "columnas_no_float = ['Ticker', 'Company', 'Sector', 'Industry', 'Country', 'Market Cap',\n",
    "                     'Outstanding','Float','Avg Volume','Volume', 'Earnings', 'IPO Date']\n",
    "\n",
    "columnas_float = [col for col in list(finviz.columns) if col not in columnas_no_float]\n",
    "aFlotante(finviz,columnas_float)"
   ]
  },
  {
   "cell_type": "markdown",
   "metadata": {},
   "source": [
    "### Pasamos a Entero lo que es entero"
   ]
  },
  {
   "cell_type": "code",
   "execution_count": 29,
   "metadata": {},
   "outputs": [],
   "source": [
    "def aEntero(df, columnas):\n",
    "    for columna in columnas:\n",
    "        df[columna] = pd.to_numeric(df[columna])"
   ]
  },
  {
   "cell_type": "code",
   "execution_count": 30,
   "metadata": {},
   "outputs": [],
   "source": [
    "columnas_int = ['Market Cap', 'Outstanding','Float','Avg Volume','Volume']\n",
    "aEntero(finviz, columnas_int)"
   ]
  },
  {
   "cell_type": "markdown",
   "metadata": {},
   "source": [
    "### Pasamos a Fecha lo que se pueda pasar a fecha"
   ]
  },
  {
   "cell_type": "code",
   "execution_count": 31,
   "metadata": {},
   "outputs": [],
   "source": [
    "finviz['IPO Date'] = pd.to_datetime(finviz['IPO Date'], format='%m/%d/%Y')"
   ]
  },
  {
   "cell_type": "markdown",
   "metadata": {},
   "source": [
    "### Arreglamos nombres de columnas"
   ]
  },
  {
   "cell_type": "code",
   "execution_count": 32,
   "metadata": {},
   "outputs": [],
   "source": [
    "columnas_nombres = [c.replace(' ','_') for c in list(finviz.columns)]\n",
    "finviz.columns = columnas_nombres"
   ]
  },
  {
   "cell_type": "code",
   "execution_count": 33,
   "metadata": {},
   "outputs": [],
   "source": [
    "columnas_nombres = [c.replace('/','_') for c in list(finviz.columns)]\n",
    "finviz.columns = columnas_nombres"
   ]
  },
  {
   "cell_type": "code",
   "execution_count": 34,
   "metadata": {},
   "outputs": [],
   "source": [
    "finviz.index.name = 'Symbol'"
   ]
  },
  {
   "cell_type": "markdown",
   "metadata": {},
   "source": [
    "## Guardamos la Tabla"
   ]
  },
  {
   "cell_type": "code",
   "execution_count": 35,
   "metadata": {},
   "outputs": [],
   "source": [
    "finviz.to_sql(con=conn, name='finviz', if_exists='replace')"
   ]
  },
  {
   "cell_type": "markdown",
   "metadata": {},
   "source": [
    "## Levantamos la tabla"
   ]
  },
  {
   "cell_type": "code",
   "execution_count": 36,
   "metadata": {},
   "outputs": [
    {
     "name": "stdout",
     "output_type": "stream",
     "text": [
      "150 ms ± 6.08 ms per loop (mean ± std. dev. of 7 runs, 10 loops each)\n"
     ]
    }
   ],
   "source": [
    "%%timeit\n",
    "q = 'SELECT * FROM finviz'\n",
    "pd.read_sql(q, conn)"
   ]
  },
  {
   "cell_type": "code",
   "execution_count": 37,
   "metadata": {},
   "outputs": [
    {
     "data": {
      "text/html": [
       "<div>\n",
       "<style scoped>\n",
       "    .dataframe tbody tr th:only-of-type {\n",
       "        vertical-align: middle;\n",
       "    }\n",
       "\n",
       "    .dataframe tbody tr th {\n",
       "        vertical-align: top;\n",
       "    }\n",
       "\n",
       "    .dataframe thead th {\n",
       "        text-align: right;\n",
       "    }\n",
       "</style>\n",
       "<table border=\"1\" class=\"dataframe\">\n",
       "  <thead>\n",
       "    <tr style=\"text-align: right;\">\n",
       "      <th></th>\n",
       "      <th>Symbol</th>\n",
       "      <th>Company</th>\n",
       "      <th>Sector</th>\n",
       "      <th>...</th>\n",
       "      <th>Earnings</th>\n",
       "      <th>Target_Price</th>\n",
       "      <th>IPO_Date</th>\n",
       "    </tr>\n",
       "  </thead>\n",
       "  <tbody>\n",
       "    <tr>\n",
       "      <th>0</th>\n",
       "      <td>A</td>\n",
       "      <td>Agilent Technologies, Inc.</td>\n",
       "      <td>Healthcare</td>\n",
       "      <td>...</td>\n",
       "      <td>Aug 18/a</td>\n",
       "      <td>103.64</td>\n",
       "      <td>1999-11-18 00:00:00</td>\n",
       "    </tr>\n",
       "    <tr>\n",
       "      <th>1</th>\n",
       "      <td>AA</td>\n",
       "      <td>Alcoa Corporation</td>\n",
       "      <td>Basic Materials</td>\n",
       "      <td>...</td>\n",
       "      <td>Oct 14/a</td>\n",
       "      <td>14.32</td>\n",
       "      <td>2016-10-18 00:00:00</td>\n",
       "    </tr>\n",
       "    <tr>\n",
       "      <th>2</th>\n",
       "      <td>AAAU</td>\n",
       "      <td>Perth Mint Physical Gold ETF</td>\n",
       "      <td>Financial</td>\n",
       "      <td>...</td>\n",
       "      <td>None</td>\n",
       "      <td>NaN</td>\n",
       "      <td>2018-08-15 00:00:00</td>\n",
       "    </tr>\n",
       "    <tr>\n",
       "      <th>3</th>\n",
       "      <td>AACG</td>\n",
       "      <td>ATA Creativity Global</td>\n",
       "      <td>Consumer Defensive</td>\n",
       "      <td>...</td>\n",
       "      <td>Aug 12/a</td>\n",
       "      <td>NaN</td>\n",
       "      <td>2008-01-29 00:00:00</td>\n",
       "    </tr>\n",
       "    <tr>\n",
       "      <th>4</th>\n",
       "      <td>AACQ</td>\n",
       "      <td>Artius Acquisition Inc.</td>\n",
       "      <td>Financial</td>\n",
       "      <td>...</td>\n",
       "      <td>None</td>\n",
       "      <td>NaN</td>\n",
       "      <td>2020-09-04 00:00:00</td>\n",
       "    </tr>\n",
       "    <tr>\n",
       "      <th>...</th>\n",
       "      <td>...</td>\n",
       "      <td>...</td>\n",
       "      <td>...</td>\n",
       "      <td>...</td>\n",
       "      <td>...</td>\n",
       "      <td>...</td>\n",
       "      <td>...</td>\n",
       "    </tr>\n",
       "    <tr>\n",
       "      <th>7617</th>\n",
       "      <td>ZUO</td>\n",
       "      <td>Zuora, Inc.</td>\n",
       "      <td>Technology</td>\n",
       "      <td>...</td>\n",
       "      <td>Sep 02/a</td>\n",
       "      <td>13.58</td>\n",
       "      <td>2018-04-12 00:00:00</td>\n",
       "    </tr>\n",
       "    <tr>\n",
       "      <th>7618</th>\n",
       "      <td>ZVO</td>\n",
       "      <td>Zovio Inc</td>\n",
       "      <td>Consumer Defensive</td>\n",
       "      <td>...</td>\n",
       "      <td>Oct 28/a</td>\n",
       "      <td>NaN</td>\n",
       "      <td>2009-04-15 00:00:00</td>\n",
       "    </tr>\n",
       "    <tr>\n",
       "      <th>7619</th>\n",
       "      <td>ZYME</td>\n",
       "      <td>Zymeworks Inc.</td>\n",
       "      <td>Healthcare</td>\n",
       "      <td>...</td>\n",
       "      <td>None</td>\n",
       "      <td>24.88</td>\n",
       "      <td>2017-04-28 00:00:00</td>\n",
       "    </tr>\n",
       "    <tr>\n",
       "      <th>7620</th>\n",
       "      <td>ZYNE</td>\n",
       "      <td>Zynerba Pharmaceuticals, Inc.</td>\n",
       "      <td>Healthcare</td>\n",
       "      <td>...</td>\n",
       "      <td>None</td>\n",
       "      <td>NaN</td>\n",
       "      <td>2015-08-05 00:00:00</td>\n",
       "    </tr>\n",
       "    <tr>\n",
       "      <th>7621</th>\n",
       "      <td>ZYXI</td>\n",
       "      <td>Zynex, Inc.</td>\n",
       "      <td>Healthcare</td>\n",
       "      <td>...</td>\n",
       "      <td>Oct 27/a</td>\n",
       "      <td>NaN</td>\n",
       "      <td>2002-12-05 00:00:00</td>\n",
       "    </tr>\n",
       "  </tbody>\n",
       "</table>\n",
       "<p>7622 rows × 70 columns</p>\n",
       "</div>"
      ],
      "text/plain": [
       "     Symbol                        Company              Sector  ...  Earnings  \\\n",
       "0         A     Agilent Technologies, Inc.          Healthcare  ...  Aug 18/a   \n",
       "1        AA              Alcoa Corporation     Basic Materials  ...  Oct 14/a   \n",
       "2      AAAU   Perth Mint Physical Gold ETF           Financial  ...      None   \n",
       "3      AACG          ATA Creativity Global  Consumer Defensive  ...  Aug 12/a   \n",
       "4      AACQ        Artius Acquisition Inc.           Financial  ...      None   \n",
       "...     ...                            ...                 ...  ...       ...   \n",
       "7617    ZUO                    Zuora, Inc.          Technology  ...  Sep 02/a   \n",
       "7618    ZVO                      Zovio Inc  Consumer Defensive  ...  Oct 28/a   \n",
       "7619   ZYME                 Zymeworks Inc.          Healthcare  ...      None   \n",
       "7620   ZYNE  Zynerba Pharmaceuticals, Inc.          Healthcare  ...      None   \n",
       "7621   ZYXI                    Zynex, Inc.          Healthcare  ...  Oct 27/a   \n",
       "\n",
       "     Target_Price             IPO_Date  \n",
       "0          103.64  1999-11-18 00:00:00  \n",
       "1           14.32  2016-10-18 00:00:00  \n",
       "2             NaN  2018-08-15 00:00:00  \n",
       "3             NaN  2008-01-29 00:00:00  \n",
       "4             NaN  2020-09-04 00:00:00  \n",
       "...           ...                  ...  \n",
       "7617        13.58  2018-04-12 00:00:00  \n",
       "7618          NaN  2009-04-15 00:00:00  \n",
       "7619        24.88  2017-04-28 00:00:00  \n",
       "7620          NaN  2015-08-05 00:00:00  \n",
       "7621          NaN  2002-12-05 00:00:00  \n",
       "\n",
       "[7622 rows x 70 columns]"
      ]
     },
     "execution_count": 37,
     "metadata": {},
     "output_type": "execute_result"
    }
   ],
   "source": [
    "q = 'SELECT * FROM finviz'\n",
    "pd.read_sql(q, conn)"
   ]
  },
  {
   "cell_type": "markdown",
   "metadata": {},
   "source": [
    "## Consultas fuera del método de pandas"
   ]
  },
  {
   "cell_type": "code",
   "execution_count": 38,
   "metadata": {},
   "outputs": [
    {
     "name": "stdout",
     "output_type": "stream",
     "text": [
      "126 ms ± 2.02 ms per loop (mean ± std. dev. of 7 runs, 10 loops each)\n"
     ]
    }
   ],
   "source": [
    "%%timeit\n",
    "q = 'SELECT * FROM finviz'\n",
    "data = conn.execute(q).fetchall()"
   ]
  },
  {
   "cell_type": "code",
   "execution_count": 39,
   "metadata": {},
   "outputs": [
    {
     "data": {
      "text/plain": [
       "('A',\n",
       " 'Agilent Technologies, Inc.',\n",
       " 'Healthcare',\n",
       " 'Diagnostics & Research',\n",
       " 'USA',\n",
       " 32880000000.0,\n",
       " 47.92,\n",
       " 28.9,\n",
       " 5.1,\n",
       " 6.29)"
      ]
     },
     "execution_count": 39,
     "metadata": {},
     "output_type": "execute_result"
    }
   ],
   "source": [
    "q = 'SELECT * FROM finviz'\n",
    "data = conn.execute(q).fetchall()\n",
    "data[0][:10]"
   ]
  },
  {
   "cell_type": "markdown",
   "metadata": {},
   "source": [
    "## Consultas de INFO de la tabla"
   ]
  },
  {
   "cell_type": "code",
   "execution_count": 40,
   "metadata": {},
   "outputs": [
    {
     "data": {
      "text/plain": [
       "[(0, 'Symbol', 'TEXT', 0, None, 0),\n",
       " (1, 'Company', 'TEXT', 0, None, 0),\n",
       " (2, 'Sector', 'TEXT', 0, None, 0),\n",
       " (3, 'Industry', 'TEXT', 0, None, 0),\n",
       " (4, 'Country', 'TEXT', 0, None, 0),\n",
       " (5, 'Market_Cap', 'REAL', 0, None, 0),\n",
       " (6, 'P_E', 'REAL', 0, None, 0),\n",
       " (7, 'Fwd_P_E', 'REAL', 0, None, 0),\n",
       " (8, 'PEG', 'REAL', 0, None, 0),\n",
       " (9, 'P_S', 'REAL', 0, None, 0)]"
      ]
     },
     "execution_count": 40,
     "metadata": {},
     "output_type": "execute_result"
    }
   ],
   "source": [
    "q  = 'PRAGMA TABLE_INFO(finviz)'\n",
    "columnas = conn.execute(q).fetchall()\n",
    "columnas[:10]"
   ]
  },
  {
   "cell_type": "markdown",
   "metadata": {},
   "source": [
    "* column_name\n",
    "* type (the datatype, like integer or text),\n",
    "* notnull (1 if the column has a NOT NULL constraint)\n",
    "* dflt_value (NULL if no default value)\n",
    "* pk (1 if the column is the table's primary key, else 0)"
   ]
  },
  {
   "cell_type": "markdown",
   "metadata": {},
   "source": [
    "## \"Desempaquetado\" de listas"
   ]
  },
  {
   "cell_type": "code",
   "execution_count": 47,
   "metadata": {},
   "outputs": [],
   "source": [
    "ids, cols, tipo, nn, dflt, pk = zip(*columnas)"
   ]
  },
  {
   "cell_type": "code",
   "execution_count": 49,
   "metadata": {},
   "outputs": [
    {
     "data": {
      "text/plain": [
       "('Symbol',\n",
       " 'Company',\n",
       " 'Sector',\n",
       " 'Industry',\n",
       " 'Country',\n",
       " 'Market_Cap',\n",
       " 'P_E',\n",
       " 'Fwd_P_E',\n",
       " 'PEG',\n",
       " 'P_S')"
      ]
     },
     "execution_count": 49,
     "metadata": {},
     "output_type": "execute_result"
    }
   ],
   "source": [
    "cols[:10]"
   ]
  },
  {
   "cell_type": "markdown",
   "metadata": {},
   "source": [
    "# FMP"
   ]
  },
  {
   "cell_type": "code",
   "execution_count": 50,
   "metadata": {},
   "outputs": [],
   "source": [
    "apikey = '66c44b016256f8b9e507838f32434ece'\n",
    "apikey = '7bcec62b64a5ccd1f35fc2036c768593'\n",
    "apikey = '2f08561fe33be29429d696aed288539e'\n",
    "apikey = '938c4b4dece598e20a115db9b9d3d5e9'\n",
    "apikey = 'f0bdfc9adbb9cad589dadedfd786d499'"
   ]
  },
  {
   "cell_type": "code",
   "execution_count": 51,
   "metadata": {},
   "outputs": [],
   "source": [
    "def getPanel(exchange):\n",
    "    url = 'https://fmpcloud.io/api/v3/quotes/'+exchange\n",
    "    p = {'apikey': apikey}\n",
    "    r = requests.get(url, params = p)\n",
    "    js = r.json()\n",
    "    df = pd.DataFrame(js)\n",
    "    df.set_index('symbol', inplace=True)\n",
    "    return df"
   ]
  },
  {
   "cell_type": "markdown",
   "metadata": {},
   "source": [
    "## Bajamos la data"
   ]
  },
  {
   "cell_type": "code",
   "execution_count": 52,
   "metadata": {},
   "outputs": [
    {
     "name": "stdout",
     "output_type": "stream",
     "text": [
      "etf, commodity, euronext, nyse, amex, nasdaq, tsx, index, mutual_fund, "
     ]
    }
   ],
   "source": [
    "paneles = ['etf','commodity','euronext','nyse','amex','nasdaq','tsx','index','mutual_fund']\n",
    "\n",
    "data_fmp = pd.DataFrame()\n",
    "for panel in paneles:\n",
    "    print(panel, end=', ')\n",
    "    df = getPanel(panel)\n",
    "    df['panel'] = panel\n",
    "    data_fmp = pd.concat([data_fmp, df])"
   ]
  },
  {
   "cell_type": "code",
   "execution_count": 53,
   "metadata": {},
   "outputs": [
    {
     "data": {
      "text/html": [
       "<div>\n",
       "<style scoped>\n",
       "    .dataframe tbody tr th:only-of-type {\n",
       "        vertical-align: middle;\n",
       "    }\n",
       "\n",
       "    .dataframe tbody tr th {\n",
       "        vertical-align: top;\n",
       "    }\n",
       "\n",
       "    .dataframe thead th {\n",
       "        text-align: right;\n",
       "    }\n",
       "</style>\n",
       "<table border=\"1\" class=\"dataframe\">\n",
       "  <thead>\n",
       "    <tr style=\"text-align: right;\">\n",
       "      <th></th>\n",
       "      <th>name</th>\n",
       "      <th>price</th>\n",
       "      <th>changesPercentage</th>\n",
       "      <th>...</th>\n",
       "      <th>sharesOutstanding</th>\n",
       "      <th>timestamp</th>\n",
       "      <th>panel</th>\n",
       "    </tr>\n",
       "    <tr>\n",
       "      <th>symbol</th>\n",
       "      <th></th>\n",
       "      <th></th>\n",
       "      <th></th>\n",
       "      <th></th>\n",
       "      <th></th>\n",
       "      <th></th>\n",
       "      <th></th>\n",
       "    </tr>\n",
       "  </thead>\n",
       "  <tbody>\n",
       "    <tr>\n",
       "      <th>EAOA</th>\n",
       "      <td>iShares ESG Aware Aggressive Allocation ETF</td>\n",
       "      <td>26.9300</td>\n",
       "      <td>-2.36</td>\n",
       "      <td>...</td>\n",
       "      <td>NaN</td>\n",
       "      <td>1603914817</td>\n",
       "      <td>etf</td>\n",
       "    </tr>\n",
       "    <tr>\n",
       "      <th>WIL</th>\n",
       "      <td>Barclays Women in Leadership ETN</td>\n",
       "      <td>72.3813</td>\n",
       "      <td>0.00</td>\n",
       "      <td>...</td>\n",
       "      <td>NaN</td>\n",
       "      <td>1603914817</td>\n",
       "      <td>etf</td>\n",
       "    </tr>\n",
       "    <tr>\n",
       "      <th>NULC</th>\n",
       "      <td>Nuveen ESG Large-Cap ETF</td>\n",
       "      <td>32.0875</td>\n",
       "      <td>0.00</td>\n",
       "      <td>...</td>\n",
       "      <td>NaN</td>\n",
       "      <td>1603914817</td>\n",
       "      <td>etf</td>\n",
       "    </tr>\n",
       "    <tr>\n",
       "      <th>HYDB</th>\n",
       "      <td>iShares Edge High Yield Defensive Bond ETF</td>\n",
       "      <td>48.9644</td>\n",
       "      <td>-0.50</td>\n",
       "      <td>...</td>\n",
       "      <td>NaN</td>\n",
       "      <td>1603914817</td>\n",
       "      <td>etf</td>\n",
       "    </tr>\n",
       "    <tr>\n",
       "      <th>GOVZ</th>\n",
       "      <td>iShares Trust - iShares 25+ Year Treasury Stri...</td>\n",
       "      <td>24.1900</td>\n",
       "      <td>0.00</td>\n",
       "      <td>...</td>\n",
       "      <td>NaN</td>\n",
       "      <td>1603914817</td>\n",
       "      <td>etf</td>\n",
       "    </tr>\n",
       "    <tr>\n",
       "      <th>...</th>\n",
       "      <td>...</td>\n",
       "      <td>...</td>\n",
       "      <td>...</td>\n",
       "      <td>...</td>\n",
       "      <td>...</td>\n",
       "      <td>...</td>\n",
       "      <td>...</td>\n",
       "    </tr>\n",
       "    <tr>\n",
       "      <th>NCTWX</th>\n",
       "      <td>Nicholas II Fund Class I</td>\n",
       "      <td>29.0600</td>\n",
       "      <td>-0.82</td>\n",
       "      <td>...</td>\n",
       "      <td>NaN</td>\n",
       "      <td>1603914826</td>\n",
       "      <td>mutual_fund</td>\n",
       "    </tr>\n",
       "    <tr>\n",
       "      <th>FHCCX</th>\n",
       "      <td>Fidelity Advisor Health Care Fund Class C</td>\n",
       "      <td>49.5200</td>\n",
       "      <td>-0.30</td>\n",
       "      <td>...</td>\n",
       "      <td>NaN</td>\n",
       "      <td>1603914826</td>\n",
       "      <td>mutual_fund</td>\n",
       "    </tr>\n",
       "    <tr>\n",
       "      <th>FSIMX</th>\n",
       "      <td>Salient Select Income Advisor</td>\n",
       "      <td>23.5700</td>\n",
       "      <td>0.13</td>\n",
       "      <td>...</td>\n",
       "      <td>NaN</td>\n",
       "      <td>1603914826</td>\n",
       "      <td>mutual_fund</td>\n",
       "    </tr>\n",
       "    <tr>\n",
       "      <th>RYHOX</th>\n",
       "      <td>Rydex NASDAQ-100 Fund Class H</td>\n",
       "      <td>53.6500</td>\n",
       "      <td>0.83</td>\n",
       "      <td>...</td>\n",
       "      <td>NaN</td>\n",
       "      <td>1603914826</td>\n",
       "      <td>mutual_fund</td>\n",
       "    </tr>\n",
       "    <tr>\n",
       "      <th>GEQZX</th>\n",
       "      <td>GuideStone Funds Equity Index Fund Investor Class</td>\n",
       "      <td>37.3100</td>\n",
       "      <td>-0.27</td>\n",
       "      <td>...</td>\n",
       "      <td>NaN</td>\n",
       "      <td>1603914826</td>\n",
       "      <td>mutual_fund</td>\n",
       "    </tr>\n",
       "  </tbody>\n",
       "</table>\n",
       "<p>14807 rows × 22 columns</p>\n",
       "</div>"
      ],
      "text/plain": [
       "                                                     name    price  \\\n",
       "symbol                                                               \n",
       "EAOA          iShares ESG Aware Aggressive Allocation ETF  26.9300   \n",
       "WIL                      Barclays Women in Leadership ETN  72.3813   \n",
       "NULC                             Nuveen ESG Large-Cap ETF  32.0875   \n",
       "HYDB           iShares Edge High Yield Defensive Bond ETF  48.9644   \n",
       "GOVZ    iShares Trust - iShares 25+ Year Treasury Stri...  24.1900   \n",
       "...                                                   ...      ...   \n",
       "NCTWX                            Nicholas II Fund Class I  29.0600   \n",
       "FHCCX           Fidelity Advisor Health Care Fund Class C  49.5200   \n",
       "FSIMX                       Salient Select Income Advisor  23.5700   \n",
       "RYHOX                       Rydex NASDAQ-100 Fund Class H  53.6500   \n",
       "GEQZX   GuideStone Funds Equity Index Fund Investor Class  37.3100   \n",
       "\n",
       "        changesPercentage  ...  sharesOutstanding   timestamp        panel  \n",
       "symbol                     ...                                              \n",
       "EAOA                -2.36  ...                NaN  1603914817          etf  \n",
       "WIL                  0.00  ...                NaN  1603914817          etf  \n",
       "NULC                 0.00  ...                NaN  1603914817          etf  \n",
       "HYDB                -0.50  ...                NaN  1603914817          etf  \n",
       "GOVZ                 0.00  ...                NaN  1603914817          etf  \n",
       "...                   ...  ...                ...         ...          ...  \n",
       "NCTWX               -0.82  ...                NaN  1603914826  mutual_fund  \n",
       "FHCCX               -0.30  ...                NaN  1603914826  mutual_fund  \n",
       "FSIMX                0.13  ...                NaN  1603914826  mutual_fund  \n",
       "RYHOX                0.83  ...                NaN  1603914826  mutual_fund  \n",
       "GEQZX               -0.27  ...                NaN  1603914826  mutual_fund  \n",
       "\n",
       "[14807 rows x 22 columns]"
      ]
     },
     "execution_count": 53,
     "metadata": {},
     "output_type": "execute_result"
    }
   ],
   "source": [
    "data_fmp"
   ]
  },
  {
   "cell_type": "markdown",
   "metadata": {},
   "source": [
    "## Verificamos tipos de datos"
   ]
  },
  {
   "cell_type": "code",
   "execution_count": 54,
   "metadata": {},
   "outputs": [
    {
     "data": {
      "text/plain": [
       "name                     object\n",
       "price                   float64\n",
       "changesPercentage       float64\n",
       "change                  float64\n",
       "dayLow                  float64\n",
       "dayHigh                 float64\n",
       "yearHigh                float64\n",
       "yearLow                 float64\n",
       "marketCap                object\n",
       "priceAvg50              float64\n",
       "priceAvg200             float64\n",
       "volume                  float64\n",
       "avgVolume               float64\n",
       "exchange                 object\n",
       "open                    float64\n",
       "previousClose           float64\n",
       "eps                      object\n",
       "pe                       object\n",
       "earningsAnnouncement     object\n",
       "sharesOutstanding        object\n",
       "timestamp                 int64\n",
       "panel                    object\n",
       "dtype: object"
      ]
     },
     "execution_count": 54,
     "metadata": {},
     "output_type": "execute_result"
    }
   ],
   "source": [
    "data_fmp.dtypes"
   ]
  },
  {
   "cell_type": "markdown",
   "metadata": {},
   "source": [
    "## Transformamos a numérico"
   ]
  },
  {
   "cell_type": "code",
   "execution_count": 55,
   "metadata": {},
   "outputs": [
    {
     "name": "stdout",
     "output_type": "stream",
     "text": [
      "No se pudo trnasformar la columna earningsAnnouncement\n"
     ]
    }
   ],
   "source": [
    "aFlotante(data_fmp, ['marketCap','eps','pe','earningsAnnouncement','sharesOutstanding'])"
   ]
  },
  {
   "cell_type": "markdown",
   "metadata": {},
   "source": [
    "## Transformamos fechas"
   ]
  },
  {
   "cell_type": "code",
   "execution_count": 56,
   "metadata": {},
   "outputs": [],
   "source": [
    "data_fmp['timestamp'] = pd.to_datetime(data_fmp['timestamp'], unit='s')"
   ]
  },
  {
   "cell_type": "code",
   "execution_count": 57,
   "metadata": {},
   "outputs": [
    {
     "data": {
      "text/html": [
       "<div>\n",
       "<style scoped>\n",
       "    .dataframe tbody tr th:only-of-type {\n",
       "        vertical-align: middle;\n",
       "    }\n",
       "\n",
       "    .dataframe tbody tr th {\n",
       "        vertical-align: top;\n",
       "    }\n",
       "\n",
       "    .dataframe thead th {\n",
       "        text-align: right;\n",
       "    }\n",
       "</style>\n",
       "<table border=\"1\" class=\"dataframe\">\n",
       "  <thead>\n",
       "    <tr style=\"text-align: right;\">\n",
       "      <th></th>\n",
       "      <th>name</th>\n",
       "      <th>price</th>\n",
       "      <th>changesPercentage</th>\n",
       "      <th>...</th>\n",
       "      <th>sharesOutstanding</th>\n",
       "      <th>timestamp</th>\n",
       "      <th>panel</th>\n",
       "    </tr>\n",
       "    <tr>\n",
       "      <th>symbol</th>\n",
       "      <th></th>\n",
       "      <th></th>\n",
       "      <th></th>\n",
       "      <th></th>\n",
       "      <th></th>\n",
       "      <th></th>\n",
       "      <th></th>\n",
       "    </tr>\n",
       "  </thead>\n",
       "  <tbody>\n",
       "    <tr>\n",
       "      <th>EAOA</th>\n",
       "      <td>iShares ESG Aware Aggressive Allocation ETF</td>\n",
       "      <td>26.9300</td>\n",
       "      <td>-2.36</td>\n",
       "      <td>...</td>\n",
       "      <td>NaN</td>\n",
       "      <td>2020-10-28 19:53:37</td>\n",
       "      <td>etf</td>\n",
       "    </tr>\n",
       "    <tr>\n",
       "      <th>WIL</th>\n",
       "      <td>Barclays Women in Leadership ETN</td>\n",
       "      <td>72.3813</td>\n",
       "      <td>0.00</td>\n",
       "      <td>...</td>\n",
       "      <td>NaN</td>\n",
       "      <td>2020-10-28 19:53:37</td>\n",
       "      <td>etf</td>\n",
       "    </tr>\n",
       "    <tr>\n",
       "      <th>NULC</th>\n",
       "      <td>Nuveen ESG Large-Cap ETF</td>\n",
       "      <td>32.0875</td>\n",
       "      <td>0.00</td>\n",
       "      <td>...</td>\n",
       "      <td>NaN</td>\n",
       "      <td>2020-10-28 19:53:37</td>\n",
       "      <td>etf</td>\n",
       "    </tr>\n",
       "    <tr>\n",
       "      <th>HYDB</th>\n",
       "      <td>iShares Edge High Yield Defensive Bond ETF</td>\n",
       "      <td>48.9644</td>\n",
       "      <td>-0.50</td>\n",
       "      <td>...</td>\n",
       "      <td>NaN</td>\n",
       "      <td>2020-10-28 19:53:37</td>\n",
       "      <td>etf</td>\n",
       "    </tr>\n",
       "    <tr>\n",
       "      <th>GOVZ</th>\n",
       "      <td>iShares Trust - iShares 25+ Year Treasury Stri...</td>\n",
       "      <td>24.1900</td>\n",
       "      <td>0.00</td>\n",
       "      <td>...</td>\n",
       "      <td>NaN</td>\n",
       "      <td>2020-10-28 19:53:37</td>\n",
       "      <td>etf</td>\n",
       "    </tr>\n",
       "    <tr>\n",
       "      <th>...</th>\n",
       "      <td>...</td>\n",
       "      <td>...</td>\n",
       "      <td>...</td>\n",
       "      <td>...</td>\n",
       "      <td>...</td>\n",
       "      <td>...</td>\n",
       "      <td>...</td>\n",
       "    </tr>\n",
       "    <tr>\n",
       "      <th>NCTWX</th>\n",
       "      <td>Nicholas II Fund Class I</td>\n",
       "      <td>29.0600</td>\n",
       "      <td>-0.82</td>\n",
       "      <td>...</td>\n",
       "      <td>NaN</td>\n",
       "      <td>2020-10-28 19:53:46</td>\n",
       "      <td>mutual_fund</td>\n",
       "    </tr>\n",
       "    <tr>\n",
       "      <th>FHCCX</th>\n",
       "      <td>Fidelity Advisor Health Care Fund Class C</td>\n",
       "      <td>49.5200</td>\n",
       "      <td>-0.30</td>\n",
       "      <td>...</td>\n",
       "      <td>NaN</td>\n",
       "      <td>2020-10-28 19:53:46</td>\n",
       "      <td>mutual_fund</td>\n",
       "    </tr>\n",
       "    <tr>\n",
       "      <th>FSIMX</th>\n",
       "      <td>Salient Select Income Advisor</td>\n",
       "      <td>23.5700</td>\n",
       "      <td>0.13</td>\n",
       "      <td>...</td>\n",
       "      <td>NaN</td>\n",
       "      <td>2020-10-28 19:53:46</td>\n",
       "      <td>mutual_fund</td>\n",
       "    </tr>\n",
       "    <tr>\n",
       "      <th>RYHOX</th>\n",
       "      <td>Rydex NASDAQ-100 Fund Class H</td>\n",
       "      <td>53.6500</td>\n",
       "      <td>0.83</td>\n",
       "      <td>...</td>\n",
       "      <td>NaN</td>\n",
       "      <td>2020-10-28 19:53:46</td>\n",
       "      <td>mutual_fund</td>\n",
       "    </tr>\n",
       "    <tr>\n",
       "      <th>GEQZX</th>\n",
       "      <td>GuideStone Funds Equity Index Fund Investor Class</td>\n",
       "      <td>37.3100</td>\n",
       "      <td>-0.27</td>\n",
       "      <td>...</td>\n",
       "      <td>NaN</td>\n",
       "      <td>2020-10-28 19:53:46</td>\n",
       "      <td>mutual_fund</td>\n",
       "    </tr>\n",
       "  </tbody>\n",
       "</table>\n",
       "<p>14807 rows × 22 columns</p>\n",
       "</div>"
      ],
      "text/plain": [
       "                                                     name    price  \\\n",
       "symbol                                                               \n",
       "EAOA          iShares ESG Aware Aggressive Allocation ETF  26.9300   \n",
       "WIL                      Barclays Women in Leadership ETN  72.3813   \n",
       "NULC                             Nuveen ESG Large-Cap ETF  32.0875   \n",
       "HYDB           iShares Edge High Yield Defensive Bond ETF  48.9644   \n",
       "GOVZ    iShares Trust - iShares 25+ Year Treasury Stri...  24.1900   \n",
       "...                                                   ...      ...   \n",
       "NCTWX                            Nicholas II Fund Class I  29.0600   \n",
       "FHCCX           Fidelity Advisor Health Care Fund Class C  49.5200   \n",
       "FSIMX                       Salient Select Income Advisor  23.5700   \n",
       "RYHOX                       Rydex NASDAQ-100 Fund Class H  53.6500   \n",
       "GEQZX   GuideStone Funds Equity Index Fund Investor Class  37.3100   \n",
       "\n",
       "        changesPercentage  ...  sharesOutstanding           timestamp  \\\n",
       "symbol                     ...                                          \n",
       "EAOA                -2.36  ...                NaN 2020-10-28 19:53:37   \n",
       "WIL                  0.00  ...                NaN 2020-10-28 19:53:37   \n",
       "NULC                 0.00  ...                NaN 2020-10-28 19:53:37   \n",
       "HYDB                -0.50  ...                NaN 2020-10-28 19:53:37   \n",
       "GOVZ                 0.00  ...                NaN 2020-10-28 19:53:37   \n",
       "...                   ...  ...                ...                 ...   \n",
       "NCTWX               -0.82  ...                NaN 2020-10-28 19:53:46   \n",
       "FHCCX               -0.30  ...                NaN 2020-10-28 19:53:46   \n",
       "FSIMX                0.13  ...                NaN 2020-10-28 19:53:46   \n",
       "RYHOX                0.83  ...                NaN 2020-10-28 19:53:46   \n",
       "GEQZX               -0.27  ...                NaN 2020-10-28 19:53:46   \n",
       "\n",
       "              panel  \n",
       "symbol               \n",
       "EAOA            etf  \n",
       "WIL             etf  \n",
       "NULC            etf  \n",
       "HYDB            etf  \n",
       "GOVZ            etf  \n",
       "...             ...  \n",
       "NCTWX   mutual_fund  \n",
       "FHCCX   mutual_fund  \n",
       "FSIMX   mutual_fund  \n",
       "RYHOX   mutual_fund  \n",
       "GEQZX   mutual_fund  \n",
       "\n",
       "[14807 rows x 22 columns]"
      ]
     },
     "execution_count": 57,
     "metadata": {},
     "output_type": "execute_result"
    }
   ],
   "source": [
    "data_fmp"
   ]
  },
  {
   "cell_type": "markdown",
   "metadata": {},
   "source": [
    "## Guardamos la Tabla"
   ]
  },
  {
   "cell_type": "code",
   "execution_count": 58,
   "metadata": {},
   "outputs": [],
   "source": [
    "data_fmp.to_sql(con=conn, name='fmp', if_exists='replace')"
   ]
  },
  {
   "cell_type": "markdown",
   "metadata": {},
   "source": [
    "## Levantamos la tabla"
   ]
  },
  {
   "cell_type": "code",
   "execution_count": 59,
   "metadata": {},
   "outputs": [
    {
     "data": {
      "text/html": [
       "<div>\n",
       "<style scoped>\n",
       "    .dataframe tbody tr th:only-of-type {\n",
       "        vertical-align: middle;\n",
       "    }\n",
       "\n",
       "    .dataframe tbody tr th {\n",
       "        vertical-align: top;\n",
       "    }\n",
       "\n",
       "    .dataframe thead th {\n",
       "        text-align: right;\n",
       "    }\n",
       "</style>\n",
       "<table border=\"1\" class=\"dataframe\">\n",
       "  <thead>\n",
       "    <tr style=\"text-align: right;\">\n",
       "      <th></th>\n",
       "      <th>symbol</th>\n",
       "      <th>name</th>\n",
       "      <th>price</th>\n",
       "      <th>...</th>\n",
       "      <th>sharesOutstanding</th>\n",
       "      <th>timestamp</th>\n",
       "      <th>panel</th>\n",
       "    </tr>\n",
       "  </thead>\n",
       "  <tbody>\n",
       "    <tr>\n",
       "      <th>0</th>\n",
       "      <td>EAOA</td>\n",
       "      <td>iShares ESG Aware Aggressive Allocation ETF</td>\n",
       "      <td>26.9300</td>\n",
       "      <td>...</td>\n",
       "      <td>NaN</td>\n",
       "      <td>2020-10-28 19:53:37</td>\n",
       "      <td>etf</td>\n",
       "    </tr>\n",
       "    <tr>\n",
       "      <th>1</th>\n",
       "      <td>WIL</td>\n",
       "      <td>Barclays Women in Leadership ETN</td>\n",
       "      <td>72.3813</td>\n",
       "      <td>...</td>\n",
       "      <td>NaN</td>\n",
       "      <td>2020-10-28 19:53:37</td>\n",
       "      <td>etf</td>\n",
       "    </tr>\n",
       "    <tr>\n",
       "      <th>2</th>\n",
       "      <td>NULC</td>\n",
       "      <td>Nuveen ESG Large-Cap ETF</td>\n",
       "      <td>32.0875</td>\n",
       "      <td>...</td>\n",
       "      <td>NaN</td>\n",
       "      <td>2020-10-28 19:53:37</td>\n",
       "      <td>etf</td>\n",
       "    </tr>\n",
       "    <tr>\n",
       "      <th>3</th>\n",
       "      <td>HYDB</td>\n",
       "      <td>iShares Edge High Yield Defensive Bond ETF</td>\n",
       "      <td>48.9644</td>\n",
       "      <td>...</td>\n",
       "      <td>NaN</td>\n",
       "      <td>2020-10-28 19:53:37</td>\n",
       "      <td>etf</td>\n",
       "    </tr>\n",
       "    <tr>\n",
       "      <th>4</th>\n",
       "      <td>GOVZ</td>\n",
       "      <td>iShares Trust - iShares 25+ Year Treasury Stri...</td>\n",
       "      <td>24.1900</td>\n",
       "      <td>...</td>\n",
       "      <td>NaN</td>\n",
       "      <td>2020-10-28 19:53:37</td>\n",
       "      <td>etf</td>\n",
       "    </tr>\n",
       "    <tr>\n",
       "      <th>...</th>\n",
       "      <td>...</td>\n",
       "      <td>...</td>\n",
       "      <td>...</td>\n",
       "      <td>...</td>\n",
       "      <td>...</td>\n",
       "      <td>...</td>\n",
       "      <td>...</td>\n",
       "    </tr>\n",
       "    <tr>\n",
       "      <th>14802</th>\n",
       "      <td>NCTWX</td>\n",
       "      <td>Nicholas II Fund Class I</td>\n",
       "      <td>29.0600</td>\n",
       "      <td>...</td>\n",
       "      <td>NaN</td>\n",
       "      <td>2020-10-28 19:53:46</td>\n",
       "      <td>mutual_fund</td>\n",
       "    </tr>\n",
       "    <tr>\n",
       "      <th>14803</th>\n",
       "      <td>FHCCX</td>\n",
       "      <td>Fidelity Advisor Health Care Fund Class C</td>\n",
       "      <td>49.5200</td>\n",
       "      <td>...</td>\n",
       "      <td>NaN</td>\n",
       "      <td>2020-10-28 19:53:46</td>\n",
       "      <td>mutual_fund</td>\n",
       "    </tr>\n",
       "    <tr>\n",
       "      <th>14804</th>\n",
       "      <td>FSIMX</td>\n",
       "      <td>Salient Select Income Advisor</td>\n",
       "      <td>23.5700</td>\n",
       "      <td>...</td>\n",
       "      <td>NaN</td>\n",
       "      <td>2020-10-28 19:53:46</td>\n",
       "      <td>mutual_fund</td>\n",
       "    </tr>\n",
       "    <tr>\n",
       "      <th>14805</th>\n",
       "      <td>RYHOX</td>\n",
       "      <td>Rydex NASDAQ-100 Fund Class H</td>\n",
       "      <td>53.6500</td>\n",
       "      <td>...</td>\n",
       "      <td>NaN</td>\n",
       "      <td>2020-10-28 19:53:46</td>\n",
       "      <td>mutual_fund</td>\n",
       "    </tr>\n",
       "    <tr>\n",
       "      <th>14806</th>\n",
       "      <td>GEQZX</td>\n",
       "      <td>GuideStone Funds Equity Index Fund Investor Class</td>\n",
       "      <td>37.3100</td>\n",
       "      <td>...</td>\n",
       "      <td>NaN</td>\n",
       "      <td>2020-10-28 19:53:46</td>\n",
       "      <td>mutual_fund</td>\n",
       "    </tr>\n",
       "  </tbody>\n",
       "</table>\n",
       "<p>14807 rows × 23 columns</p>\n",
       "</div>"
      ],
      "text/plain": [
       "      symbol                                               name    price  ...  \\\n",
       "0       EAOA        iShares ESG Aware Aggressive Allocation ETF  26.9300  ...   \n",
       "1        WIL                   Barclays Women in Leadership ETN  72.3813  ...   \n",
       "2       NULC                           Nuveen ESG Large-Cap ETF  32.0875  ...   \n",
       "3       HYDB         iShares Edge High Yield Defensive Bond ETF  48.9644  ...   \n",
       "4       GOVZ  iShares Trust - iShares 25+ Year Treasury Stri...  24.1900  ...   \n",
       "...      ...                                                ...      ...  ...   \n",
       "14802  NCTWX                           Nicholas II Fund Class I  29.0600  ...   \n",
       "14803  FHCCX          Fidelity Advisor Health Care Fund Class C  49.5200  ...   \n",
       "14804  FSIMX                      Salient Select Income Advisor  23.5700  ...   \n",
       "14805  RYHOX                      Rydex NASDAQ-100 Fund Class H  53.6500  ...   \n",
       "14806  GEQZX  GuideStone Funds Equity Index Fund Investor Class  37.3100  ...   \n",
       "\n",
       "       sharesOutstanding            timestamp        panel  \n",
       "0                    NaN  2020-10-28 19:53:37          etf  \n",
       "1                    NaN  2020-10-28 19:53:37          etf  \n",
       "2                    NaN  2020-10-28 19:53:37          etf  \n",
       "3                    NaN  2020-10-28 19:53:37          etf  \n",
       "4                    NaN  2020-10-28 19:53:37          etf  \n",
       "...                  ...                  ...          ...  \n",
       "14802                NaN  2020-10-28 19:53:46  mutual_fund  \n",
       "14803                NaN  2020-10-28 19:53:46  mutual_fund  \n",
       "14804                NaN  2020-10-28 19:53:46  mutual_fund  \n",
       "14805                NaN  2020-10-28 19:53:46  mutual_fund  \n",
       "14806                NaN  2020-10-28 19:53:46  mutual_fund  \n",
       "\n",
       "[14807 rows x 23 columns]"
      ]
     },
     "execution_count": 59,
     "metadata": {},
     "output_type": "execute_result"
    }
   ],
   "source": [
    "q = 'SELECT * FROM fmp'\n",
    "pd.read_sql(q, conn)"
   ]
  },
  {
   "cell_type": "code",
   "execution_count": null,
   "metadata": {},
   "outputs": [],
   "source": []
  },
  {
   "cell_type": "code",
   "execution_count": null,
   "metadata": {},
   "outputs": [],
   "source": []
  },
  {
   "cell_type": "markdown",
   "metadata": {},
   "source": [
    "# Alpaca"
   ]
  },
  {
   "cell_type": "markdown",
   "metadata": {},
   "source": [
    "## Ver que activos tenemos en otras tablas"
   ]
  },
  {
   "cell_type": "markdown",
   "metadata": {},
   "source": [
    "### Activos de finviz"
   ]
  },
  {
   "cell_type": "code",
   "execution_count": 60,
   "metadata": {},
   "outputs": [
    {
     "data": {
      "text/plain": [
       "(6633,)"
      ]
     },
     "execution_count": 60,
     "metadata": {},
     "output_type": "execute_result"
    }
   ],
   "source": [
    "q = 'SELECT COUNT(*) FROM finviz WHERE Country=\"USA\"'\n",
    "conn.execute(q).fetchone()"
   ]
  },
  {
   "cell_type": "code",
   "execution_count": 61,
   "metadata": {},
   "outputs": [
    {
     "data": {
      "text/plain": [
       "['A', 'AA', 'AAAU', 'AACQ', 'AADR', 'AAL', 'AAMC', 'AAME', 'AAN', 'AAOI']"
      ]
     },
     "execution_count": 61,
     "metadata": {},
     "output_type": "execute_result"
    }
   ],
   "source": [
    "q = 'SELECT symbol FROM finviz WHERE Country=\"USA\"'\n",
    "symbols_finviz = pd.read_sql(q,conn).Symbol.to_list()\n",
    "symbols_finviz[:10]"
   ]
  },
  {
   "cell_type": "markdown",
   "metadata": {},
   "source": [
    "### Activos de FMP"
   ]
  },
  {
   "cell_type": "code",
   "execution_count": 62,
   "metadata": {},
   "outputs": [
    {
     "data": {
      "text/plain": [
       "[('AMEX', 284),\n",
       " ('COMMODITY', 29),\n",
       " ('ETF', 487),\n",
       " ('EURONEXT', 1251),\n",
       " ('INDEX', 61),\n",
       " ('MUTUAL_FUND', 2471),\n",
       " ('NASDAQ', 4237),\n",
       " ('NYSE', 4565),\n",
       " ('TSX', 1422)]"
      ]
     },
     "execution_count": 62,
     "metadata": {},
     "output_type": "execute_result"
    }
   ],
   "source": [
    "q = 'SELECT exchange, COUNT(*) as q FROM fmp GROUP BY exchange'\n",
    "conn.execute(q).fetchall()"
   ]
  },
  {
   "cell_type": "code",
   "execution_count": 63,
   "metadata": {},
   "outputs": [
    {
     "data": {
      "text/plain": [
       "(9573,\n",
       " ['A', 'AA', 'AAA', 'AAAU', 'AABA', 'AAC', 'AACG', 'AACQ', 'AACQU', 'AACQW'])"
      ]
     },
     "execution_count": 63,
     "metadata": {},
     "output_type": "execute_result"
    }
   ],
   "source": [
    "q  = 'SELECT symbol FROM fmp WHERE exchange IN (\"ETF\",\"AMEX\",\"NYSE\",\"NASDAQ\") ORDER BY symbol ASC'\n",
    "symbols_fmp = pd.read_sql(q,conn).symbol.to_list()\n",
    "len(symbols_fmp), symbols_fmp[:10]"
   ]
  },
  {
   "cell_type": "markdown",
   "metadata": {},
   "source": [
    "## Traer Activos posibles"
   ]
  },
  {
   "cell_type": "code",
   "execution_count": 64,
   "metadata": {},
   "outputs": [],
   "source": [
    "api_key = \"PKPH8PLW39GAMTFTFCQQ\"\n",
    "secret_key = \"G3FxXZquKtcZhYSQNdsbhlMpJQYDks3R5LwYw7n0\""
   ]
  },
  {
   "cell_type": "code",
   "execution_count": 65,
   "metadata": {},
   "outputs": [],
   "source": [
    "def assets(only_shorteables=False):    \n",
    "    headers ={\"APCA-API-KEY-ID\" : api_key, \"APCA-API-SECRET-KEY\":secret_key}\n",
    "    r = requests.get(url = \"https://paper-api.alpaca.markets/v2/assets\", \n",
    "                      headers = headers)\n",
    "\n",
    "    js = r.json()\n",
    "    df = pd.DataFrame(js)\n",
    "    df = df.loc[df.status=='active'].drop(['status','class','easy_to_borrow',\n",
    "                                          'tradable','marginable'], axis=1)\n",
    "    \n",
    "    if only_shorteables:\n",
    "        df= df.loc[df.shortable==True]\n",
    "        \n",
    "    return df"
   ]
  },
  {
   "cell_type": "code",
   "execution_count": 66,
   "metadata": {},
   "outputs": [],
   "source": [
    "activos = assets(only_shorteables=False)\n",
    "tickers = activos.symbol.to_list()"
   ]
  },
  {
   "cell_type": "code",
   "execution_count": 67,
   "metadata": {},
   "outputs": [
    {
     "data": {
      "text/plain": [
       "8965"
      ]
     },
     "execution_count": 67,
     "metadata": {},
     "output_type": "execute_result"
    }
   ],
   "source": [
    "len(tickers)"
   ]
  },
  {
   "cell_type": "code",
   "execution_count": 68,
   "metadata": {},
   "outputs": [
    {
     "data": {
      "text/plain": [
       "6612"
      ]
     },
     "execution_count": 68,
     "metadata": {},
     "output_type": "execute_result"
    }
   ],
   "source": [
    "tickers_ok = [t for t in tickers if t in symbols_finviz]\n",
    "len(tickers_ok)"
   ]
  },
  {
   "cell_type": "code",
   "execution_count": 69,
   "metadata": {},
   "outputs": [
    {
     "name": "stdout",
     "output_type": "stream",
     "text": [
      "\n",
      " Ultima lista:\n",
      " ['AIT', 'XLG', 'XLK', 'XLP', 'ZS', 'ZSAN', 'ZSL', 'ZTR', 'ZTS', 'ZUMZ', 'ZUO', 'ZVO']\n",
      "\n",
      " Cantidad de Ultima lista: 12\n",
      "\n",
      " Cantidad de listas de 200: 33\n"
     ]
    }
   ],
   "source": [
    "def listasActivos():    \n",
    "    activos = assets(only_shorteables=False)\n",
    "    tickers = activos.symbol.to_list()\n",
    "    tickers_ok = [t for t in tickers if t in symbols_finviz]\n",
    "\n",
    "    listas = []\n",
    "    for i in range(len(tickers_ok)//200 + 1):\n",
    "        listas.append(tickers_ok[i*200 : (i+1)*200])\n",
    "\n",
    "    return listas\n",
    "\n",
    "listas = listasActivos()\n",
    "\n",
    "print('\\n Ultima lista:\\n',listas[len(listas)-1])\n",
    "print('\\n Cantidad de Ultima lista:',len(listas[len(listas)-1]))\n",
    "print('\\n Cantidad de listas de 200:',len(listas)-1)"
   ]
  },
  {
   "cell_type": "code",
   "execution_count": 70,
   "metadata": {},
   "outputs": [
    {
     "data": {
      "text/plain": [
       "'A,AACQ,AADR,AAMC,AAN,AAOI,AAT,AAXJ,AB,ABC,ABEO,ABM,ABR,AAME,AAON,AAP,AAWW,AAXN,ABBV,ABCB,ABEQ,ABG,ABIO,ABMD,ABT,ABUS,ABTX,AC,ACA,ASB,ACAD,ACAM,BIIB,ACBI,ACC,BLES,ACCD,ACCO,ACEL,ACER,ACES,BOX,CE,IDA,IUSV,JMP,JPM,LRGF,MATX,MGK,MSCI,NJR,ACET,ACEV,OMC,PD,PSQ,PVH,AE,SMM,AZZ,BDX,ACEVU,CLNC,DCRBU,FDTS,FLTB,ACHC,ACI,HPQ,IT,MRKR,MVO,ACLS,PCGU,ACNB,DHIL,GGG,TSN,GSIT,ACIA,ACIO,ACIW,MUR,NCR,ACM,ACMR,PKBK,ACOR,ACRE,QID,ACP,ACRS,ACRX,ACSI,ACSG,RES,ACT,ACTG,ACV,ACWF,ACWV,ADBE,U,ADI,ADIL,VER,VNCE,ADMP,ADMS,ADRE,ADSK,ADT,ADUS,ADX,ADXS,AEE,AEGN,AEIS,AEO,AES,AESE,AEY,AEZS,RNG,SBR,ACU,SM,ACWI,ADC,ADES,USL,ADM,ADMA,ADME,WEX,ADPT,ADS,ADSW,ADTN,ADTX,ADVM,AEHR,AEL,AEMD,AEP,AERI,AESR,AEYE,AFB,AFG,AFIB,AFI,AFIF,AFL,AGE,AGFS,AGG,AGGY,AGIO,AGLE,AGNC,AGR,AGRX,AGT,AGX,AGYS,AGZD,AHC,AHH,AHT,AFIN,AFK,AFLG,AFT,AGCO,AGD,AGEN,AGGP,AGM,AGQ,AGS,AGTC,AGZ,AHACU,AHCO,AHPI,AIF,AIA,AIEQ,AIG,AIIQ,AIMC,AINC,AIO,AIR,AIRI,AKUS,ALBO,ALCO'"
      ]
     },
     "execution_count": 70,
     "metadata": {},
     "output_type": "execute_result"
    }
   ],
   "source": [
    "def sublist_to_string(listas):\n",
    "    for i in range(len(listas)):\n",
    "        listas[i] = ','.join(listas[i])\n",
    "    return listas\n",
    "\n",
    "listas = sublist_to_string(listasActivos())\n",
    "listas[0]"
   ]
  },
  {
   "cell_type": "code",
   "execution_count": null,
   "metadata": {},
   "outputs": [],
   "source": []
  },
  {
   "cell_type": "code",
   "execution_count": null,
   "metadata": {},
   "outputs": [],
   "source": []
  },
  {
   "cell_type": "markdown",
   "metadata": {},
   "source": [
    "## Traer historicos con Batch Request"
   ]
  },
  {
   "cell_type": "code",
   "execution_count": 71,
   "metadata": {
    "scrolled": false
   },
   "outputs": [],
   "source": [
    "def getHistory(symbol, start, end, timeframe='1D'):    \n",
    "    start = dt.datetime.strftime(start, format='%Y-%m-%dT%T-04:00')\n",
    "    end = dt.datetime.strftime(end, format='%Y-%m-%dT%T-04:00')\n",
    "\n",
    "    headers ={\"APCA-API-KEY-ID\" : api_key, \"APCA-API-SECRET-KEY\":secret_key}\n",
    "    params =  {'symbols' : symbol, 'start':start, 'end':end}\n",
    "    endpoint = \"https://data.alpaca.markets/v1/bars/\"+timeframe\n",
    "    r = requests.get(url = endpoint, headers =headers, params=params)\n",
    "    js = r.json()\n",
    "    \n",
    "    tickers = symbol.split(\",\")\n",
    "    for ticker in tickers:\n",
    "        for i in range(len(js[ticker])):\n",
    "            js[ticker][i]['ticker']=ticker\n",
    "    return js"
   ]
  },
  {
   "cell_type": "markdown",
   "metadata": {},
   "source": [
    "## Pre-Proceso para armado eficiente de DF"
   ]
  },
  {
   "cell_type": "markdown",
   "metadata": {},
   "source": [
    "### Modelado del problema"
   ]
  },
  {
   "cell_type": "code",
   "execution_count": 72,
   "metadata": {},
   "outputs": [],
   "source": [
    "orig = {'cl1' : [{'scl1':1,'scl2':2}, {'scl1':3,'scl2':4}],\n",
    "        'cl2' : [{'scl1':5,'scl2':6}, {'scl1':7,'scl2':8}]}"
   ]
  },
  {
   "cell_type": "code",
   "execution_count": 73,
   "metadata": {},
   "outputs": [
    {
     "data": {
      "text/plain": [
       "dict_values([[{'scl1': 1, 'scl2': 2}, {'scl1': 3, 'scl2': 4}], [{'scl1': 5, 'scl2': 6}, {'scl1': 7, 'scl2': 8}]])"
      ]
     },
     "execution_count": 73,
     "metadata": {},
     "output_type": "execute_result"
    }
   ],
   "source": [
    "orig.values()"
   ]
  },
  {
   "cell_type": "code",
   "execution_count": 74,
   "metadata": {},
   "outputs": [
    {
     "data": {
      "text/plain": [
       "[{'scl1': 1, 'scl2': 2},\n",
       " {'scl1': 3, 'scl2': 4},\n",
       " {'scl1': 5, 'scl2': 6},\n",
       " {'scl1': 7, 'scl2': 8}]"
      ]
     },
     "execution_count": 74,
     "metadata": {},
     "output_type": "execute_result"
    }
   ],
   "source": [
    "[dicc for lista in orig.values() for dicc in lista]"
   ]
  },
  {
   "cell_type": "code",
   "execution_count": 75,
   "metadata": {},
   "outputs": [
    {
     "data": {
      "text/plain": [
       "[{'scl1': 1, 'scl2': 2},\n",
       " {'scl1': 3, 'scl2': 4},\n",
       " {'scl1': 5, 'scl2': 6},\n",
       " {'scl1': 7, 'scl2': 8}]"
      ]
     },
     "execution_count": 75,
     "metadata": {},
     "output_type": "execute_result"
    }
   ],
   "source": [
    "final = []\n",
    "for lista in orig.values():\n",
    "    for dicc in lista:\n",
    "        final.append(dicc)\n",
    "final"
   ]
  },
  {
   "cell_type": "markdown",
   "metadata": {},
   "source": [
    "### En el DataFrame Real"
   ]
  },
  {
   "cell_type": "code",
   "execution_count": 76,
   "metadata": {},
   "outputs": [
    {
     "name": "stdout",
     "output_type": "stream",
     "text": [
      "Wall time: 7.49 s\n"
     ]
    }
   ],
   "source": [
    "%%time\n",
    "end =  dt.date.today() + dt.timedelta(days=1)\n",
    "start = end - dt.timedelta(days=2000)\n",
    "\n",
    "data_js = getHistory(listas[0], start, end, timeframe='1D')"
   ]
  },
  {
   "cell_type": "code",
   "execution_count": 77,
   "metadata": {},
   "outputs": [],
   "source": [
    "data_js_stack = ([dicc for lista in data_js.values() for dicc in lista])"
   ]
  },
  {
   "cell_type": "code",
   "execution_count": 78,
   "metadata": {},
   "outputs": [
    {
     "data": {
      "text/html": [
       "<div>\n",
       "<style scoped>\n",
       "    .dataframe tbody tr th:only-of-type {\n",
       "        vertical-align: middle;\n",
       "    }\n",
       "\n",
       "    .dataframe tbody tr th {\n",
       "        vertical-align: top;\n",
       "    }\n",
       "\n",
       "    .dataframe thead th {\n",
       "        text-align: right;\n",
       "    }\n",
       "</style>\n",
       "<table border=\"1\" class=\"dataframe\">\n",
       "  <thead>\n",
       "    <tr style=\"text-align: right;\">\n",
       "      <th></th>\n",
       "      <th>t</th>\n",
       "      <th>o</th>\n",
       "      <th>h</th>\n",
       "      <th>...</th>\n",
       "      <th>c</th>\n",
       "      <th>v</th>\n",
       "      <th>ticker</th>\n",
       "    </tr>\n",
       "  </thead>\n",
       "  <tbody>\n",
       "    <tr>\n",
       "      <th>0</th>\n",
       "      <td>1431316800</td>\n",
       "      <td>42.39</td>\n",
       "      <td>42.8300</td>\n",
       "      <td>...</td>\n",
       "      <td>42.61</td>\n",
       "      <td>831230</td>\n",
       "      <td>A</td>\n",
       "    </tr>\n",
       "    <tr>\n",
       "      <th>1</th>\n",
       "      <td>1431403200</td>\n",
       "      <td>42.36</td>\n",
       "      <td>42.5000</td>\n",
       "      <td>...</td>\n",
       "      <td>41.92</td>\n",
       "      <td>1981361</td>\n",
       "      <td>A</td>\n",
       "    </tr>\n",
       "    <tr>\n",
       "      <th>2</th>\n",
       "      <td>1431489600</td>\n",
       "      <td>42.05</td>\n",
       "      <td>42.3900</td>\n",
       "      <td>...</td>\n",
       "      <td>41.80</td>\n",
       "      <td>1781827</td>\n",
       "      <td>A</td>\n",
       "    </tr>\n",
       "    <tr>\n",
       "      <th>3</th>\n",
       "      <td>1431576000</td>\n",
       "      <td>42.18</td>\n",
       "      <td>42.2251</td>\n",
       "      <td>...</td>\n",
       "      <td>42.04</td>\n",
       "      <td>2605877</td>\n",
       "      <td>A</td>\n",
       "    </tr>\n",
       "    <tr>\n",
       "      <th>4</th>\n",
       "      <td>1431662400</td>\n",
       "      <td>42.14</td>\n",
       "      <td>42.2600</td>\n",
       "      <td>...</td>\n",
       "      <td>42.05</td>\n",
       "      <td>1953869</td>\n",
       "      <td>A</td>\n",
       "    </tr>\n",
       "    <tr>\n",
       "      <th>...</th>\n",
       "      <td>...</td>\n",
       "      <td>...</td>\n",
       "      <td>...</td>\n",
       "      <td>...</td>\n",
       "      <td>...</td>\n",
       "      <td>...</td>\n",
       "      <td>...</td>\n",
       "    </tr>\n",
       "    <tr>\n",
       "      <th>230861</th>\n",
       "      <td>1603339200</td>\n",
       "      <td>144.81</td>\n",
       "      <td>148.9300</td>\n",
       "      <td>...</td>\n",
       "      <td>148.27</td>\n",
       "      <td>768700</td>\n",
       "      <td>WEX</td>\n",
       "    </tr>\n",
       "    <tr>\n",
       "      <th>230862</th>\n",
       "      <td>1603425600</td>\n",
       "      <td>149.99</td>\n",
       "      <td>150.0400</td>\n",
       "      <td>...</td>\n",
       "      <td>146.49</td>\n",
       "      <td>600985</td>\n",
       "      <td>WEX</td>\n",
       "    </tr>\n",
       "    <tr>\n",
       "      <th>230863</th>\n",
       "      <td>1603684800</td>\n",
       "      <td>144.48</td>\n",
       "      <td>144.4800</td>\n",
       "      <td>...</td>\n",
       "      <td>140.05</td>\n",
       "      <td>720440</td>\n",
       "      <td>WEX</td>\n",
       "    </tr>\n",
       "    <tr>\n",
       "      <th>230864</th>\n",
       "      <td>1603771200</td>\n",
       "      <td>140.39</td>\n",
       "      <td>142.2200</td>\n",
       "      <td>...</td>\n",
       "      <td>138.20</td>\n",
       "      <td>681794</td>\n",
       "      <td>WEX</td>\n",
       "    </tr>\n",
       "    <tr>\n",
       "      <th>230865</th>\n",
       "      <td>1603857600</td>\n",
       "      <td>135.00</td>\n",
       "      <td>136.3800</td>\n",
       "      <td>...</td>\n",
       "      <td>133.53</td>\n",
       "      <td>1137892</td>\n",
       "      <td>WEX</td>\n",
       "    </tr>\n",
       "  </tbody>\n",
       "</table>\n",
       "<p>230866 rows × 7 columns</p>\n",
       "</div>"
      ],
      "text/plain": [
       "                 t       o         h  ...       c        v  ticker\n",
       "0       1431316800   42.39   42.8300  ...   42.61   831230       A\n",
       "1       1431403200   42.36   42.5000  ...   41.92  1981361       A\n",
       "2       1431489600   42.05   42.3900  ...   41.80  1781827       A\n",
       "3       1431576000   42.18   42.2251  ...   42.04  2605877       A\n",
       "4       1431662400   42.14   42.2600  ...   42.05  1953869       A\n",
       "...            ...     ...       ...  ...     ...      ...     ...\n",
       "230861  1603339200  144.81  148.9300  ...  148.27   768700     WEX\n",
       "230862  1603425600  149.99  150.0400  ...  146.49   600985     WEX\n",
       "230863  1603684800  144.48  144.4800  ...  140.05   720440     WEX\n",
       "230864  1603771200  140.39  142.2200  ...  138.20   681794     WEX\n",
       "230865  1603857600  135.00  136.3800  ...  133.53  1137892     WEX\n",
       "\n",
       "[230866 rows x 7 columns]"
      ]
     },
     "execution_count": 78,
     "metadata": {},
     "output_type": "execute_result"
    }
   ],
   "source": [
    "pd.DataFrame(data_js_stack)"
   ]
  },
  {
   "cell_type": "markdown",
   "metadata": {},
   "source": [
    "## Guardamos todo en BBDD"
   ]
  },
  {
   "cell_type": "code",
   "execution_count": 79,
   "metadata": {},
   "outputs": [
    {
     "name": "stdout",
     "output_type": "stream",
     "text": [
      "100%|██████████████████████████████████████████████████████████████████████████████████| 34/34 [04:18<00:00,  7.61s/it]\n",
      "Wall time: 4min 18s\n"
     ]
    }
   ],
   "source": [
    "%%time\n",
    "with tqdm.tqdm(total=len(listas), file=sys.stdout) as pbar:\n",
    "    for i in range(len(listas)):\n",
    "        pbar.update()\n",
    "        end =  dt.date.today() + dt.timedelta(days=1)\n",
    "        start = end - dt.timedelta(days=1000)\n",
    "        data_js = getHistory(listas[i], start, end, timeframe='1D')\n",
    "        data_js_stack = ([dicc for lista in data_js.values() for dicc in lista])    \n",
    "        df = pd.DataFrame(data_js_stack) \n",
    "        df.t = pd.to_datetime(df.t, unit='s')\n",
    "        df.columns = ['Date','Open','High','Low','Close','Volume','Ticker']\n",
    "        df = df.loc[df.Close!=0]\n",
    "        df['pctChange'] = np.where(df.Ticker==df.Ticker.shift(),df.Close.pct_change().round(4)*100,np.nan)\n",
    "        df.dropna(inplace=True)\n",
    "        df.to_sql(con=conn, name='alpaca', if_exists='append')"
   ]
  },
  {
   "cell_type": "markdown",
   "metadata": {},
   "source": [
    "## Levantamos la tabla"
   ]
  },
  {
   "cell_type": "code",
   "execution_count": 80,
   "metadata": {},
   "outputs": [
    {
     "name": "stdout",
     "output_type": "stream",
     "text": [
      "Wall time: 13.1 s\n"
     ]
    },
    {
     "data": {
      "text/html": [
       "<div>\n",
       "<style scoped>\n",
       "    .dataframe tbody tr th:only-of-type {\n",
       "        vertical-align: middle;\n",
       "    }\n",
       "\n",
       "    .dataframe tbody tr th {\n",
       "        vertical-align: top;\n",
       "    }\n",
       "\n",
       "    .dataframe thead th {\n",
       "        text-align: right;\n",
       "    }\n",
       "</style>\n",
       "<table border=\"1\" class=\"dataframe\">\n",
       "  <thead>\n",
       "    <tr style=\"text-align: right;\">\n",
       "      <th></th>\n",
       "      <th>index</th>\n",
       "      <th>Open</th>\n",
       "      <th>High</th>\n",
       "      <th>...</th>\n",
       "      <th>Volume</th>\n",
       "      <th>Ticker</th>\n",
       "      <th>pctChange</th>\n",
       "    </tr>\n",
       "    <tr>\n",
       "      <th>Date</th>\n",
       "      <th></th>\n",
       "      <th></th>\n",
       "      <th></th>\n",
       "      <th></th>\n",
       "      <th></th>\n",
       "      <th></th>\n",
       "      <th></th>\n",
       "    </tr>\n",
       "  </thead>\n",
       "  <tbody>\n",
       "    <tr>\n",
       "      <th>2018-02-02 05:00:00</th>\n",
       "      <td>1</td>\n",
       "      <td>72.32</td>\n",
       "      <td>72.7600</td>\n",
       "      <td>...</td>\n",
       "      <td>1507746</td>\n",
       "      <td>A</td>\n",
       "      <td>-2.20</td>\n",
       "    </tr>\n",
       "    <tr>\n",
       "      <th>2018-02-05 05:00:00</th>\n",
       "      <td>2</td>\n",
       "      <td>70.86</td>\n",
       "      <td>71.4700</td>\n",
       "      <td>...</td>\n",
       "      <td>2147444</td>\n",
       "      <td>A</td>\n",
       "      <td>-4.25</td>\n",
       "    </tr>\n",
       "    <tr>\n",
       "      <th>2018-02-06 05:00:00</th>\n",
       "      <td>3</td>\n",
       "      <td>66.96</td>\n",
       "      <td>68.8300</td>\n",
       "      <td>...</td>\n",
       "      <td>3165907</td>\n",
       "      <td>A</td>\n",
       "      <td>0.37</td>\n",
       "    </tr>\n",
       "    <tr>\n",
       "      <th>2018-02-07 05:00:00</th>\n",
       "      <td>4</td>\n",
       "      <td>68.19</td>\n",
       "      <td>69.0850</td>\n",
       "      <td>...</td>\n",
       "      <td>1528645</td>\n",
       "      <td>A</td>\n",
       "      <td>-0.60</td>\n",
       "    </tr>\n",
       "    <tr>\n",
       "      <th>2018-02-08 05:00:00</th>\n",
       "      <td>5</td>\n",
       "      <td>68.09</td>\n",
       "      <td>68.1600</td>\n",
       "      <td>...</td>\n",
       "      <td>2626815</td>\n",
       "      <td>A</td>\n",
       "      <td>-4.42</td>\n",
       "    </tr>\n",
       "    <tr>\n",
       "      <th>...</th>\n",
       "      <td>...</td>\n",
       "      <td>...</td>\n",
       "      <td>...</td>\n",
       "      <td>...</td>\n",
       "      <td>...</td>\n",
       "      <td>...</td>\n",
       "      <td>...</td>\n",
       "    </tr>\n",
       "    <tr>\n",
       "      <th>2020-10-22 04:00:00</th>\n",
       "      <td>7889</td>\n",
       "      <td>4.15</td>\n",
       "      <td>4.2400</td>\n",
       "      <td>...</td>\n",
       "      <td>346624</td>\n",
       "      <td>ZVO</td>\n",
       "      <td>0.72</td>\n",
       "    </tr>\n",
       "    <tr>\n",
       "      <th>2020-10-23 04:00:00</th>\n",
       "      <td>7890</td>\n",
       "      <td>4.20</td>\n",
       "      <td>4.2400</td>\n",
       "      <td>...</td>\n",
       "      <td>250236</td>\n",
       "      <td>ZVO</td>\n",
       "      <td>0.24</td>\n",
       "    </tr>\n",
       "    <tr>\n",
       "      <th>2020-10-26 04:00:00</th>\n",
       "      <td>7891</td>\n",
       "      <td>4.25</td>\n",
       "      <td>4.3307</td>\n",
       "      <td>...</td>\n",
       "      <td>251276</td>\n",
       "      <td>ZVO</td>\n",
       "      <td>-0.72</td>\n",
       "    </tr>\n",
       "    <tr>\n",
       "      <th>2020-10-27 04:00:00</th>\n",
       "      <td>7892</td>\n",
       "      <td>4.21</td>\n",
       "      <td>4.4900</td>\n",
       "      <td>...</td>\n",
       "      <td>528293</td>\n",
       "      <td>ZVO</td>\n",
       "      <td>-3.12</td>\n",
       "    </tr>\n",
       "    <tr>\n",
       "      <th>2020-10-28 04:00:00</th>\n",
       "      <td>7893</td>\n",
       "      <td>3.96</td>\n",
       "      <td>3.9818</td>\n",
       "      <td>...</td>\n",
       "      <td>400017</td>\n",
       "      <td>ZVO</td>\n",
       "      <td>-3.97</td>\n",
       "    </tr>\n",
       "  </tbody>\n",
       "</table>\n",
       "<p>3974069 rows × 8 columns</p>\n",
       "</div>"
      ],
      "text/plain": [
       "                     index   Open     High  ...   Volume  Ticker  pctChange\n",
       "Date                                        ...                            \n",
       "2018-02-02 05:00:00      1  72.32  72.7600  ...  1507746       A      -2.20\n",
       "2018-02-05 05:00:00      2  70.86  71.4700  ...  2147444       A      -4.25\n",
       "2018-02-06 05:00:00      3  66.96  68.8300  ...  3165907       A       0.37\n",
       "2018-02-07 05:00:00      4  68.19  69.0850  ...  1528645       A      -0.60\n",
       "2018-02-08 05:00:00      5  68.09  68.1600  ...  2626815       A      -4.42\n",
       "...                    ...    ...      ...  ...      ...     ...        ...\n",
       "2020-10-22 04:00:00   7889   4.15   4.2400  ...   346624     ZVO       0.72\n",
       "2020-10-23 04:00:00   7890   4.20   4.2400  ...   250236     ZVO       0.24\n",
       "2020-10-26 04:00:00   7891   4.25   4.3307  ...   251276     ZVO      -0.72\n",
       "2020-10-27 04:00:00   7892   4.21   4.4900  ...   528293     ZVO      -3.12\n",
       "2020-10-28 04:00:00   7893   3.96   3.9818  ...   400017     ZVO      -3.97\n",
       "\n",
       "[3974069 rows x 8 columns]"
      ]
     },
     "execution_count": 80,
     "metadata": {},
     "output_type": "execute_result"
    }
   ],
   "source": [
    "%%time\n",
    "q = 'SELECT * FROM alpaca'\n",
    "df = pd.read_sql(q, conn).set_index('Date')\n",
    "df"
   ]
  },
  {
   "cell_type": "markdown",
   "metadata": {},
   "source": [
    "## Eliminamos datos sospechosos de error por splits etc"
   ]
  },
  {
   "cell_type": "code",
   "execution_count": 81,
   "metadata": {},
   "outputs": [
    {
     "name": "stdout",
     "output_type": "stream",
     "text": [
      "Wall time: 689 ms\n"
     ]
    },
    {
     "data": {
      "text/plain": [
       "(316,\n",
       " ['ABIO',\n",
       "  'ACER',\n",
       "  'ACET',\n",
       "  'ADXS',\n",
       "  'AEMD',\n",
       "  'AGRX',\n",
       "  'AHPI',\n",
       "  'AHT',\n",
       "  'AINV',\n",
       "  'ALIM'])"
      ]
     },
     "execution_count": 81,
     "metadata": {},
     "output_type": "execute_result"
    }
   ],
   "source": [
    "%%time\n",
    "q = 'SELECT DISTINCT Ticker FROM alpaca WHERE pctChange > 200 OR pctChange < -75'\n",
    "quitar = pd.read_sql(q, conn).Ticker.to_list()\n",
    "len(quitar), quitar[:10]"
   ]
  },
  {
   "cell_type": "code",
   "execution_count": 82,
   "metadata": {
    "scrolled": false
   },
   "outputs": [
    {
     "data": {
      "text/plain": [
       "'\"ABIO\",\"ACER\",\"ACET\",\"ADXS\",\"AEMD\",\"AGRX\",\"AHPI\",\"AHT\",\"AINV\",\"ALIM\",\"ALT\",\"ALTA\",\"ALTM\",\"AMLP\",\"AMRH\",\"AMZA\",\"APDN\",\"APEX\",\"APRE\",\"APRN\",\"APVO\",\"ARTL\",\"ATNM\",\"ATOS\",\"AVEO\",\"AVGR\",\"AXAS\",\"BAR\",\"BCDA\",\"BIOC\",\"BIOL\",\"BIS\",\"BIVI\",\"BLCM\",\"BLIN\",\"BLPH\",\"BMRA\",\"BNGO\",\"BNTC\",\"BOIL\",\"BPTH\",\"BRZU\",\"BW\",\"BZQ\",\"CAPR\",\"CARV\",\"CATB\",\"CBAY\",\"CBLI\",\"CCXI\",\"CEI\",\"CEM\",\"CEN\",\"CETX\",\"CFBK\",\"CFRX\",\"CGIX\",\"CHDN\",\"CHFS\",\"CIDM\",\"CLDX\",\"CLSK\",\"CPE\",\"CPST\",\"CPTA\",\"CRBP\",\"CREX\",\"CRIS\",\"CRMD\",\"CTIB\",\"CTR\",\"CUZ\",\"CYCC\",\"CYCN\",\"CZR\",\"DCTH\",\"DDM\",\"DFFN\",\"DIG\",\"DNB\",\"DOG\",\"DPST\",\"DPW\",\"DRAD\",\"DRIP\",\"DRV\",\"DSS\",\"DUOT\",\"DUST\",\"DX\",\"DXD\",\"EBIX\",\"EDZ\",\"EEV\",\"EFO\",\"EFOI\",\"EGLE\",\"EKSO\",\"EMO\",\"ERX\",\"EQ\",\"ERY\",\"EYEG\",\"EYES\",\"FAZ\",\"FCEL\",\"FLUX\",\"FMO\",\"FNGD\",\"FRAK\",\"FRAN\",\"FSK\",\"FTSI\",\"FVE\",\"GER\",\"GEVO\",\"GNCA\",\"GNPX\",\"GOVX\",\"GPMT\",\"GREK\",\"GRPN\",\"XBIO\",\"GUSH\",\"GXG\",\"HGBL\",\"HGEN\",\"HIBL\",\"HOV\",\"HSON\",\"HTZ\",\"HUSA\",\"ICD\",\"ICON\",\"IDXG\",\"IGC\",\"IJK\",\"IMAC\",\"IMBI\",\"INPX\",\"INUV\",\"IPI\",\"IPWR\",\"IRET\",\"IVW\",\"IWR\",\"JAGX\",\"JAKK\",\"JDST\",\"JJE\",\"JNK\",\"JNUG\",\"KDP\",\"KERN\",\"KLXE\",\"KOL\",\"KOR\",\"KRTX\",\"LABD\",\"LBJ\",\"LC\",\"LIFE\",\"AYTU\",\"LODE\",\"LPI\",\"LTBR\",\"LTRPB\",\"MARA\",\"MBOT\",\"MCC\",\"MCEP\",\"MCRB\",\"MDYG\",\"MEXX\",\"MFA\",\"MGNX\",\"MLPA\",\"MLPX\",\"MOSY\",\"MRNA\",\"MRNS\",\"MVV\",\"MYO\",\"NAVB\",\"NBY\",\"NDP\",\"NEPH\",\"NMRD\",\"NNVC\",\"NOG\",\"NRGU\",\"NTG\",\"NTN\",\"NTRP\",\"NUGT\",\"NURO\",\"NVAX\",\"NVFY\",\"NVIV\",\"NVUS\",\"NXTC\",\"OBLN\",\"OCN\",\"OCX\",\"ODP\",\"OIH\",\"OILK\",\"ONCS\",\"ONVO\",\"OPGN\",\"OPRX\",\"OPTT\",\"ORGO\",\"OTLK\",\"PAK\",\"PED\",\"PHIO\",\"PIXY\",\"PLAG\",\"PLTM\",\"POAI\",\"POLA\",\"PPSI\",\"PREF\",\"PRPO\",\"PRVB\",\"PSTV\",\"PTI\",\"PULM\",\"QUIK\",\"RAD\",\"RAND\",\"RCEL\",\"RDVT\",\"RETL\",\"REW\",\"RHE\",\"RKDA\",\"RLMD\",\"RMBL\",\"ROM\",\"SCYX\",\"SDOW\",\"SGBX\",\"SGLB\",\"SGOL\",\"SINO\",\"SINT\",\"SLS\",\"SLYG\",\"SMDD\",\"SMMT\",\"SNDE\",\"SNES\",\"SNOA\",\"SNSS\",\"SOXS\",\"SPB\",\"SQBG\",\"SQQQ\",\"SRC\",\"SRV\",\"SSG\",\"STAF\",\"STSA\",\"ASTC\",\"SUMR\",\"SUNW\",\"SVRA\",\"SVXY\",\"SZC\",\"TA\",\"TBLT\",\"TCCO\",\"TCON\",\"TECS\",\"TLGT\",\"TMV\",\"TNXP\",\"TOMZ\",\"TQQQ\",\"TRXC\",\"TSLA\",\"TTNP\",\"TTP\",\"TTT\",\"TYG\",\"TZA\",\"UAVS\",\"UBOT\",\"UCO\",\"UONE\",\"UPRO\",\"USAU\",\"USD\",\"USEG\",\"USO\",\"VHI\",\"VISL\",\"VIVE\",\"KODK\",\"VRME\",\"VTVT\",\"WEBS\",\"WISA\",\"WKHS\",\"WLL\",\"WORX\",\"AKER\",\"AMPE\",\"WWR\",\"XES\",\"XOP\",\"XSPA\",\"YGYI\",\"YTEN\"'"
      ]
     },
     "execution_count": 82,
     "metadata": {},
     "output_type": "execute_result"
    }
   ],
   "source": [
    "quitar_str='\"'+'\",\"'.join(quitar)+'\"'\n",
    "quitar_str"
   ]
  },
  {
   "cell_type": "code",
   "execution_count": 83,
   "metadata": {},
   "outputs": [
    {
     "data": {
      "text/plain": [
       "<sqlite3.Cursor at 0x1660e122500>"
      ]
     },
     "execution_count": 83,
     "metadata": {},
     "output_type": "execute_result"
    }
   ],
   "source": [
    "q = f'DELETE FROM alpaca WHERE ticker IN ({quitar_str})'\n",
    "conn.execute(q)"
   ]
  },
  {
   "cell_type": "code",
   "execution_count": 84,
   "metadata": {},
   "outputs": [],
   "source": [
    "conn.commit()"
   ]
  },
  {
   "cell_type": "markdown",
   "metadata": {},
   "source": [
    "# JOINS"
   ]
  },
  {
   "cell_type": "markdown",
   "metadata": {},
   "source": [
    "## Solo finviz"
   ]
  },
  {
   "cell_type": "code",
   "execution_count": 85,
   "metadata": {},
   "outputs": [
    {
     "data": {
      "text/html": [
       "<div>\n",
       "<style scoped>\n",
       "    .dataframe tbody tr th:only-of-type {\n",
       "        vertical-align: middle;\n",
       "    }\n",
       "\n",
       "    .dataframe tbody tr th {\n",
       "        vertical-align: top;\n",
       "    }\n",
       "\n",
       "    .dataframe thead th {\n",
       "        text-align: right;\n",
       "    }\n",
       "</style>\n",
       "<table border=\"1\" class=\"dataframe\">\n",
       "  <thead>\n",
       "    <tr style=\"text-align: right;\">\n",
       "      <th></th>\n",
       "      <th>Symbol</th>\n",
       "      <th>Company</th>\n",
       "      <th>Sector</th>\n",
       "      <th>...</th>\n",
       "      <th>Earnings</th>\n",
       "      <th>Target_Price</th>\n",
       "      <th>IPO_Date</th>\n",
       "    </tr>\n",
       "  </thead>\n",
       "  <tbody>\n",
       "    <tr>\n",
       "      <th>0</th>\n",
       "      <td>AAPL</td>\n",
       "      <td>Apple Inc.</td>\n",
       "      <td>Technology</td>\n",
       "      <td>...</td>\n",
       "      <td>Oct 29/a</td>\n",
       "      <td>121.43</td>\n",
       "      <td>1980-12-12 00:00:00</td>\n",
       "    </tr>\n",
       "  </tbody>\n",
       "</table>\n",
       "<p>1 rows × 70 columns</p>\n",
       "</div>"
      ],
      "text/plain": [
       "  Symbol     Company      Sector  ...  Earnings Target_Price  \\\n",
       "0   AAPL  Apple Inc.  Technology  ...  Oct 29/a       121.43   \n",
       "\n",
       "              IPO_Date  \n",
       "0  1980-12-12 00:00:00  \n",
       "\n",
       "[1 rows x 70 columns]"
      ]
     },
     "execution_count": 85,
     "metadata": {},
     "output_type": "execute_result"
    }
   ],
   "source": [
    "q = 'SELECT * FROM finviz WHERE finviz.symbol=\"AAPL\"'\n",
    "pd.read_sql(q, conn)"
   ]
  },
  {
   "cell_type": "markdown",
   "metadata": {},
   "source": [
    "## Solo FMP"
   ]
  },
  {
   "cell_type": "code",
   "execution_count": 86,
   "metadata": {},
   "outputs": [
    {
     "data": {
      "text/html": [
       "<div>\n",
       "<style scoped>\n",
       "    .dataframe tbody tr th:only-of-type {\n",
       "        vertical-align: middle;\n",
       "    }\n",
       "\n",
       "    .dataframe tbody tr th {\n",
       "        vertical-align: top;\n",
       "    }\n",
       "\n",
       "    .dataframe thead th {\n",
       "        text-align: right;\n",
       "    }\n",
       "</style>\n",
       "<table border=\"1\" class=\"dataframe\">\n",
       "  <thead>\n",
       "    <tr style=\"text-align: right;\">\n",
       "      <th></th>\n",
       "      <th>symbol</th>\n",
       "      <th>name</th>\n",
       "      <th>price</th>\n",
       "      <th>...</th>\n",
       "      <th>sharesOutstanding</th>\n",
       "      <th>timestamp</th>\n",
       "      <th>panel</th>\n",
       "    </tr>\n",
       "  </thead>\n",
       "  <tbody>\n",
       "    <tr>\n",
       "      <th>0</th>\n",
       "      <td>AAPL</td>\n",
       "      <td>Apple Inc.</td>\n",
       "      <td>112.09</td>\n",
       "      <td>...</td>\n",
       "      <td>1.710250e+10</td>\n",
       "      <td>2020-10-28 19:53:43</td>\n",
       "      <td>nasdaq</td>\n",
       "    </tr>\n",
       "  </tbody>\n",
       "</table>\n",
       "<p>1 rows × 23 columns</p>\n",
       "</div>"
      ],
      "text/plain": [
       "  symbol        name   price  ...  sharesOutstanding            timestamp  \\\n",
       "0   AAPL  Apple Inc.  112.09  ...       1.710250e+10  2020-10-28 19:53:43   \n",
       "\n",
       "    panel  \n",
       "0  nasdaq  \n",
       "\n",
       "[1 rows x 23 columns]"
      ]
     },
     "execution_count": 86,
     "metadata": {},
     "output_type": "execute_result"
    }
   ],
   "source": [
    "q = 'SELECT * FROM fmp WHERE fmp.symbol=\"AAPL\"'\n",
    "pd.read_sql(q, conn)"
   ]
  },
  {
   "cell_type": "markdown",
   "metadata": {},
   "source": [
    "## JOIN finviz + FMP"
   ]
  },
  {
   "cell_type": "code",
   "execution_count": 87,
   "metadata": {},
   "outputs": [
    {
     "data": {
      "text/html": [
       "<div>\n",
       "<style scoped>\n",
       "    .dataframe tbody tr th:only-of-type {\n",
       "        vertical-align: middle;\n",
       "    }\n",
       "\n",
       "    .dataframe tbody tr th {\n",
       "        vertical-align: top;\n",
       "    }\n",
       "\n",
       "    .dataframe thead th {\n",
       "        text-align: right;\n",
       "    }\n",
       "</style>\n",
       "<table border=\"1\" class=\"dataframe\">\n",
       "  <thead>\n",
       "    <tr style=\"text-align: right;\">\n",
       "      <th></th>\n",
       "      <th>Symbol</th>\n",
       "      <th>Company</th>\n",
       "      <th>Sector</th>\n",
       "      <th>...</th>\n",
       "      <th>sharesOutstanding</th>\n",
       "      <th>timestamp</th>\n",
       "      <th>panel</th>\n",
       "    </tr>\n",
       "  </thead>\n",
       "  <tbody>\n",
       "    <tr>\n",
       "      <th>0</th>\n",
       "      <td>AAPL</td>\n",
       "      <td>Apple Inc.</td>\n",
       "      <td>Technology</td>\n",
       "      <td>...</td>\n",
       "      <td>1.710250e+10</td>\n",
       "      <td>2020-10-28 19:53:43</td>\n",
       "      <td>nasdaq</td>\n",
       "    </tr>\n",
       "  </tbody>\n",
       "</table>\n",
       "<p>1 rows × 93 columns</p>\n",
       "</div>"
      ],
      "text/plain": [
       "  Symbol     Company      Sector  ... sharesOutstanding            timestamp  \\\n",
       "0   AAPL  Apple Inc.  Technology  ...      1.710250e+10  2020-10-28 19:53:43   \n",
       "\n",
       "    panel  \n",
       "0  nasdaq  \n",
       "\n",
       "[1 rows x 93 columns]"
      ]
     },
     "execution_count": 87,
     "metadata": {},
     "output_type": "execute_result"
    }
   ],
   "source": [
    "q = 'SELECT * FROM finviz JOIN fmp ON finviz.symbol=fmp.symbol WHERE finviz.symbol=\"AAPL\"'\n",
    "pd.read_sql(q, conn)"
   ]
  },
  {
   "cell_type": "markdown",
   "metadata": {},
   "source": [
    "### Con alias de tablas"
   ]
  },
  {
   "cell_type": "code",
   "execution_count": 88,
   "metadata": {},
   "outputs": [
    {
     "data": {
      "text/html": [
       "<div>\n",
       "<style scoped>\n",
       "    .dataframe tbody tr th:only-of-type {\n",
       "        vertical-align: middle;\n",
       "    }\n",
       "\n",
       "    .dataframe tbody tr th {\n",
       "        vertical-align: top;\n",
       "    }\n",
       "\n",
       "    .dataframe thead th {\n",
       "        text-align: right;\n",
       "    }\n",
       "</style>\n",
       "<table border=\"1\" class=\"dataframe\">\n",
       "  <thead>\n",
       "    <tr style=\"text-align: right;\">\n",
       "      <th></th>\n",
       "      <th>Symbol</th>\n",
       "      <th>Company</th>\n",
       "      <th>Sector</th>\n",
       "      <th>...</th>\n",
       "      <th>sharesOutstanding</th>\n",
       "      <th>timestamp</th>\n",
       "      <th>panel</th>\n",
       "    </tr>\n",
       "  </thead>\n",
       "  <tbody>\n",
       "    <tr>\n",
       "      <th>0</th>\n",
       "      <td>AAPL</td>\n",
       "      <td>Apple Inc.</td>\n",
       "      <td>Technology</td>\n",
       "      <td>...</td>\n",
       "      <td>1.710250e+10</td>\n",
       "      <td>2020-10-28 19:53:43</td>\n",
       "      <td>nasdaq</td>\n",
       "    </tr>\n",
       "  </tbody>\n",
       "</table>\n",
       "<p>1 rows × 93 columns</p>\n",
       "</div>"
      ],
      "text/plain": [
       "  Symbol     Company      Sector  ... sharesOutstanding            timestamp  \\\n",
       "0   AAPL  Apple Inc.  Technology  ...      1.710250e+10  2020-10-28 19:53:43   \n",
       "\n",
       "    panel  \n",
       "0  nasdaq  \n",
       "\n",
       "[1 rows x 93 columns]"
      ]
     },
     "execution_count": 88,
     "metadata": {},
     "output_type": "execute_result"
    }
   ],
   "source": [
    "q = 'SELECT * FROM finviz f JOIN fmp fm ON f.symbol=fm.symbol WHERE f.symbol=\"AAPL\"'\n",
    "pd.read_sql(q, conn)"
   ]
  },
  {
   "cell_type": "markdown",
   "metadata": {},
   "source": [
    "## JOIN Alpaca + Finviz"
   ]
  },
  {
   "cell_type": "code",
   "execution_count": 89,
   "metadata": {},
   "outputs": [
    {
     "data": {
      "text/html": [
       "<div>\n",
       "<style scoped>\n",
       "    .dataframe tbody tr th:only-of-type {\n",
       "        vertical-align: middle;\n",
       "    }\n",
       "\n",
       "    .dataframe tbody tr th {\n",
       "        vertical-align: top;\n",
       "    }\n",
       "\n",
       "    .dataframe thead th {\n",
       "        text-align: right;\n",
       "    }\n",
       "</style>\n",
       "<table border=\"1\" class=\"dataframe\">\n",
       "  <thead>\n",
       "    <tr style=\"text-align: right;\">\n",
       "      <th></th>\n",
       "      <th>Symbol</th>\n",
       "      <th>Company</th>\n",
       "      <th>Sector</th>\n",
       "      <th>...</th>\n",
       "      <th>Target_Price</th>\n",
       "      <th>IPO_Date</th>\n",
       "      <th>max_variacion</th>\n",
       "    </tr>\n",
       "  </thead>\n",
       "  <tbody>\n",
       "    <tr>\n",
       "      <th>0</th>\n",
       "      <td>AAPL</td>\n",
       "      <td>Apple Inc.</td>\n",
       "      <td>Technology</td>\n",
       "      <td>...</td>\n",
       "      <td>121.43</td>\n",
       "      <td>1980-12-12 00:00:00</td>\n",
       "      <td>12.12</td>\n",
       "    </tr>\n",
       "  </tbody>\n",
       "</table>\n",
       "<p>1 rows × 71 columns</p>\n",
       "</div>"
      ],
      "text/plain": [
       "  Symbol     Company      Sector  ... Target_Price             IPO_Date  \\\n",
       "0   AAPL  Apple Inc.  Technology  ...       121.43  1980-12-12 00:00:00   \n",
       "\n",
       "   max_variacion  \n",
       "0          12.12  \n",
       "\n",
       "[1 rows x 71 columns]"
      ]
     },
     "execution_count": 89,
     "metadata": {},
     "output_type": "execute_result"
    }
   ],
   "source": [
    "q = 'SELECT  finviz.* , MAX(alpaca.pctChange) AS max_variacion FROM alpaca \\\n",
    "        JOIN finviz ON finviz.symbol = alpaca.ticker \\\n",
    "        WHERE finviz.symbol=\"AAPL\"'\n",
    "pd.read_sql(q, conn)"
   ]
  },
  {
   "cell_type": "markdown",
   "metadata": {},
   "source": [
    "## Sub-Selects o Queries anidadas"
   ]
  },
  {
   "cell_type": "code",
   "execution_count": 90,
   "metadata": {},
   "outputs": [
    {
     "data": {
      "text/html": [
       "<div>\n",
       "<style scoped>\n",
       "    .dataframe tbody tr th:only-of-type {\n",
       "        vertical-align: middle;\n",
       "    }\n",
       "\n",
       "    .dataframe tbody tr th {\n",
       "        vertical-align: top;\n",
       "    }\n",
       "\n",
       "    .dataframe thead th {\n",
       "        text-align: right;\n",
       "    }\n",
       "</style>\n",
       "<table border=\"1\" class=\"dataframe\">\n",
       "  <thead>\n",
       "    <tr style=\"text-align: right;\">\n",
       "      <th></th>\n",
       "      <th>symbol</th>\n",
       "      <th>name</th>\n",
       "      <th>price</th>\n",
       "      <th>...</th>\n",
       "      <th>sharesOutstanding</th>\n",
       "      <th>timestamp</th>\n",
       "      <th>panel</th>\n",
       "    </tr>\n",
       "  </thead>\n",
       "  <tbody>\n",
       "    <tr>\n",
       "      <th>0</th>\n",
       "      <td>AAP</td>\n",
       "      <td>Advance Auto Parts, Inc.</td>\n",
       "      <td>147.050</td>\n",
       "      <td>...</td>\n",
       "      <td>6.913880e+07</td>\n",
       "      <td>2020-10-28 19:53:40</td>\n",
       "      <td>nyse</td>\n",
       "    </tr>\n",
       "    <tr>\n",
       "      <th>1</th>\n",
       "      <td>AB</td>\n",
       "      <td>AllianceBernstein Holding L.P.</td>\n",
       "      <td>29.720</td>\n",
       "      <td>...</td>\n",
       "      <td>9.617460e+07</td>\n",
       "      <td>2020-10-28 19:53:40</td>\n",
       "      <td>nyse</td>\n",
       "    </tr>\n",
       "    <tr>\n",
       "      <th>2</th>\n",
       "      <td>ABBV</td>\n",
       "      <td>AbbVie Inc.</td>\n",
       "      <td>80.870</td>\n",
       "      <td>...</td>\n",
       "      <td>1.764830e+09</td>\n",
       "      <td>2020-10-28 19:53:40</td>\n",
       "      <td>nyse</td>\n",
       "    </tr>\n",
       "    <tr>\n",
       "      <th>3</th>\n",
       "      <td>ABC</td>\n",
       "      <td>AmerisourceBergen Corporation</td>\n",
       "      <td>96.300</td>\n",
       "      <td>...</td>\n",
       "      <td>2.041420e+08</td>\n",
       "      <td>2020-10-28 19:53:40</td>\n",
       "      <td>nyse</td>\n",
       "    </tr>\n",
       "    <tr>\n",
       "      <th>4</th>\n",
       "      <td>ABEV</td>\n",
       "      <td>Ambev S.A.</td>\n",
       "      <td>2.345</td>\n",
       "      <td>...</td>\n",
       "      <td>1.563400e+10</td>\n",
       "      <td>2020-10-28 19:53:40</td>\n",
       "      <td>nyse</td>\n",
       "    </tr>\n",
       "    <tr>\n",
       "      <th>...</th>\n",
       "      <td>...</td>\n",
       "      <td>...</td>\n",
       "      <td>...</td>\n",
       "      <td>...</td>\n",
       "      <td>...</td>\n",
       "      <td>...</td>\n",
       "      <td>...</td>\n",
       "    </tr>\n",
       "    <tr>\n",
       "      <th>1034</th>\n",
       "      <td>XOM</td>\n",
       "      <td>Exxon Mobil Corporation</td>\n",
       "      <td>31.650</td>\n",
       "      <td>...</td>\n",
       "      <td>4.228230e+09</td>\n",
       "      <td>2020-10-28 19:53:40</td>\n",
       "      <td>nyse</td>\n",
       "    </tr>\n",
       "    <tr>\n",
       "      <th>1035</th>\n",
       "      <td>YUM</td>\n",
       "      <td>Yum! Brands, Inc.</td>\n",
       "      <td>95.430</td>\n",
       "      <td>...</td>\n",
       "      <td>3.014000e+08</td>\n",
       "      <td>2020-10-28 19:53:40</td>\n",
       "      <td>nyse</td>\n",
       "    </tr>\n",
       "    <tr>\n",
       "      <th>1036</th>\n",
       "      <td>ZEAL</td>\n",
       "      <td>Zealand Pharma A/S</td>\n",
       "      <td>33.610</td>\n",
       "      <td>...</td>\n",
       "      <td>3.984010e+07</td>\n",
       "      <td>2020-10-28 19:53:43</td>\n",
       "      <td>nasdaq</td>\n",
       "    </tr>\n",
       "    <tr>\n",
       "      <th>1037</th>\n",
       "      <td>ZION</td>\n",
       "      <td>Zions Bancorporation, National Association</td>\n",
       "      <td>30.640</td>\n",
       "      <td>...</td>\n",
       "      <td>1.640090e+08</td>\n",
       "      <td>2020-10-28 19:53:43</td>\n",
       "      <td>nasdaq</td>\n",
       "    </tr>\n",
       "    <tr>\n",
       "      <th>1038</th>\n",
       "      <td>ZUMZ</td>\n",
       "      <td>Zumiez Inc.</td>\n",
       "      <td>29.130</td>\n",
       "      <td>...</td>\n",
       "      <td>2.544500e+07</td>\n",
       "      <td>2020-10-28 19:53:43</td>\n",
       "      <td>nasdaq</td>\n",
       "    </tr>\n",
       "  </tbody>\n",
       "</table>\n",
       "<p>1039 rows × 23 columns</p>\n",
       "</div>"
      ],
      "text/plain": [
       "     symbol                                        name    price  ...  \\\n",
       "0       AAP                    Advance Auto Parts, Inc.  147.050  ...   \n",
       "1        AB              AllianceBernstein Holding L.P.   29.720  ...   \n",
       "2      ABBV                                 AbbVie Inc.   80.870  ...   \n",
       "3       ABC               AmerisourceBergen Corporation   96.300  ...   \n",
       "4      ABEV                                  Ambev S.A.    2.345  ...   \n",
       "...     ...                                         ...      ...  ...   \n",
       "1034    XOM                     Exxon Mobil Corporation   31.650  ...   \n",
       "1035    YUM                           Yum! Brands, Inc.   95.430  ...   \n",
       "1036   ZEAL                          Zealand Pharma A/S   33.610  ...   \n",
       "1037   ZION  Zions Bancorporation, National Association   30.640  ...   \n",
       "1038   ZUMZ                                 Zumiez Inc.   29.130  ...   \n",
       "\n",
       "      sharesOutstanding            timestamp   panel  \n",
       "0          6.913880e+07  2020-10-28 19:53:40    nyse  \n",
       "1          9.617460e+07  2020-10-28 19:53:40    nyse  \n",
       "2          1.764830e+09  2020-10-28 19:53:40    nyse  \n",
       "3          2.041420e+08  2020-10-28 19:53:40    nyse  \n",
       "4          1.563400e+10  2020-10-28 19:53:40    nyse  \n",
       "...                 ...                  ...     ...  \n",
       "1034       4.228230e+09  2020-10-28 19:53:40    nyse  \n",
       "1035       3.014000e+08  2020-10-28 19:53:40    nyse  \n",
       "1036       3.984010e+07  2020-10-28 19:53:43  nasdaq  \n",
       "1037       1.640090e+08  2020-10-28 19:53:43  nasdaq  \n",
       "1038       2.544500e+07  2020-10-28 19:53:43  nasdaq  \n",
       "\n",
       "[1039 rows x 23 columns]"
      ]
     },
     "execution_count": 90,
     "metadata": {},
     "output_type": "execute_result"
    }
   ],
   "source": [
    "q = '''SELECT * FROM fmp \n",
    "        WHERE fmp.pe < 30 AND fmp.pe > 10 AND fmp.symbol IN (\n",
    "        SELECT symbol FROM finviz WHERE finviz.P_E<30 AND finviz.P_E > 10\n",
    "        )\n",
    "        '''\n",
    "pd.read_sql(q, conn)"
   ]
  },
  {
   "cell_type": "markdown",
   "metadata": {},
   "source": [
    "# Vistas"
   ]
  },
  {
   "cell_type": "markdown",
   "metadata": {},
   "source": [
    "* Privacidad\n",
    "* Optimizacion\n",
    "* Practicidad"
   ]
  },
  {
   "cell_type": "code",
   "execution_count": 91,
   "metadata": {},
   "outputs": [
    {
     "name": "stdout",
     "output_type": "stream",
     "text": [
      "Wall time: 12 ms\n"
     ]
    },
    {
     "data": {
      "text/plain": [
       "<sqlite3.Cursor at 0x166103dfab0>"
      ]
     },
     "execution_count": 91,
     "metadata": {},
     "output_type": "execute_result"
    }
   ],
   "source": [
    "%%time\n",
    "q = '''CREATE VIEW alpaca_30d AS\n",
    "        SELECT * FROM alpaca WHERE Date > DateTime(\"Now\", \"LocalTime\", \"-30 Day\")\n",
    "    '''\n",
    "conn.execute(q)"
   ]
  },
  {
   "cell_type": "code",
   "execution_count": 92,
   "metadata": {},
   "outputs": [
    {
     "name": "stdout",
     "output_type": "stream",
     "text": [
      "Wall time: 1.05 s\n"
     ]
    },
    {
     "data": {
      "text/html": [
       "<div>\n",
       "<style scoped>\n",
       "    .dataframe tbody tr th:only-of-type {\n",
       "        vertical-align: middle;\n",
       "    }\n",
       "\n",
       "    .dataframe tbody tr th {\n",
       "        vertical-align: top;\n",
       "    }\n",
       "\n",
       "    .dataframe thead th {\n",
       "        text-align: right;\n",
       "    }\n",
       "</style>\n",
       "<table border=\"1\" class=\"dataframe\">\n",
       "  <thead>\n",
       "    <tr style=\"text-align: right;\">\n",
       "      <th></th>\n",
       "      <th>index</th>\n",
       "      <th>Date</th>\n",
       "      <th>Open</th>\n",
       "      <th>...</th>\n",
       "      <th>Volume</th>\n",
       "      <th>Ticker</th>\n",
       "      <th>pctChange</th>\n",
       "    </tr>\n",
       "  </thead>\n",
       "  <tbody>\n",
       "    <tr>\n",
       "      <th>0</th>\n",
       "      <td>668</td>\n",
       "      <td>2020-09-29 04:00:00</td>\n",
       "      <td>99.79</td>\n",
       "      <td>...</td>\n",
       "      <td>1060273</td>\n",
       "      <td>A</td>\n",
       "      <td>0.66</td>\n",
       "    </tr>\n",
       "    <tr>\n",
       "      <th>1</th>\n",
       "      <td>669</td>\n",
       "      <td>2020-09-30 04:00:00</td>\n",
       "      <td>100.54</td>\n",
       "      <td>...</td>\n",
       "      <td>1615853</td>\n",
       "      <td>A</td>\n",
       "      <td>0.68</td>\n",
       "    </tr>\n",
       "    <tr>\n",
       "      <th>2</th>\n",
       "      <td>670</td>\n",
       "      <td>2020-10-01 04:00:00</td>\n",
       "      <td>101.77</td>\n",
       "      <td>...</td>\n",
       "      <td>973165</td>\n",
       "      <td>A</td>\n",
       "      <td>0.33</td>\n",
       "    </tr>\n",
       "    <tr>\n",
       "      <th>3</th>\n",
       "      <td>671</td>\n",
       "      <td>2020-10-02 04:00:00</td>\n",
       "      <td>100.21</td>\n",
       "      <td>...</td>\n",
       "      <td>1020938</td>\n",
       "      <td>A</td>\n",
       "      <td>-1.20</td>\n",
       "    </tr>\n",
       "    <tr>\n",
       "      <th>4</th>\n",
       "      <td>672</td>\n",
       "      <td>2020-10-05 04:00:00</td>\n",
       "      <td>100.99</td>\n",
       "      <td>...</td>\n",
       "      <td>1240651</td>\n",
       "      <td>A</td>\n",
       "      <td>3.08</td>\n",
       "    </tr>\n",
       "    <tr>\n",
       "      <th>...</th>\n",
       "      <td>...</td>\n",
       "      <td>...</td>\n",
       "      <td>...</td>\n",
       "      <td>...</td>\n",
       "      <td>...</td>\n",
       "      <td>...</td>\n",
       "      <td>...</td>\n",
       "    </tr>\n",
       "    <tr>\n",
       "      <th>133799</th>\n",
       "      <td>7889</td>\n",
       "      <td>2020-10-22 04:00:00</td>\n",
       "      <td>4.15</td>\n",
       "      <td>...</td>\n",
       "      <td>346624</td>\n",
       "      <td>ZVO</td>\n",
       "      <td>0.72</td>\n",
       "    </tr>\n",
       "    <tr>\n",
       "      <th>133800</th>\n",
       "      <td>7890</td>\n",
       "      <td>2020-10-23 04:00:00</td>\n",
       "      <td>4.20</td>\n",
       "      <td>...</td>\n",
       "      <td>250236</td>\n",
       "      <td>ZVO</td>\n",
       "      <td>0.24</td>\n",
       "    </tr>\n",
       "    <tr>\n",
       "      <th>133801</th>\n",
       "      <td>7891</td>\n",
       "      <td>2020-10-26 04:00:00</td>\n",
       "      <td>4.25</td>\n",
       "      <td>...</td>\n",
       "      <td>251276</td>\n",
       "      <td>ZVO</td>\n",
       "      <td>-0.72</td>\n",
       "    </tr>\n",
       "    <tr>\n",
       "      <th>133802</th>\n",
       "      <td>7892</td>\n",
       "      <td>2020-10-27 04:00:00</td>\n",
       "      <td>4.21</td>\n",
       "      <td>...</td>\n",
       "      <td>528293</td>\n",
       "      <td>ZVO</td>\n",
       "      <td>-3.12</td>\n",
       "    </tr>\n",
       "    <tr>\n",
       "      <th>133803</th>\n",
       "      <td>7893</td>\n",
       "      <td>2020-10-28 04:00:00</td>\n",
       "      <td>3.96</td>\n",
       "      <td>...</td>\n",
       "      <td>400017</td>\n",
       "      <td>ZVO</td>\n",
       "      <td>-3.97</td>\n",
       "    </tr>\n",
       "  </tbody>\n",
       "</table>\n",
       "<p>133804 rows × 9 columns</p>\n",
       "</div>"
      ],
      "text/plain": [
       "        index                 Date    Open  ...   Volume  Ticker  pctChange\n",
       "0         668  2020-09-29 04:00:00   99.79  ...  1060273       A       0.66\n",
       "1         669  2020-09-30 04:00:00  100.54  ...  1615853       A       0.68\n",
       "2         670  2020-10-01 04:00:00  101.77  ...   973165       A       0.33\n",
       "3         671  2020-10-02 04:00:00  100.21  ...  1020938       A      -1.20\n",
       "4         672  2020-10-05 04:00:00  100.99  ...  1240651       A       3.08\n",
       "...       ...                  ...     ...  ...      ...     ...        ...\n",
       "133799   7889  2020-10-22 04:00:00    4.15  ...   346624     ZVO       0.72\n",
       "133800   7890  2020-10-23 04:00:00    4.20  ...   250236     ZVO       0.24\n",
       "133801   7891  2020-10-26 04:00:00    4.25  ...   251276     ZVO      -0.72\n",
       "133802   7892  2020-10-27 04:00:00    4.21  ...   528293     ZVO      -3.12\n",
       "133803   7893  2020-10-28 04:00:00    3.96  ...   400017     ZVO      -3.97\n",
       "\n",
       "[133804 rows x 9 columns]"
      ]
     },
     "execution_count": 92,
     "metadata": {},
     "output_type": "execute_result"
    }
   ],
   "source": [
    "%%time\n",
    "q = 'SELECT * FROM alpaca_30d'\n",
    "pd.read_sql(q, conn)"
   ]
  },
  {
   "cell_type": "markdown",
   "metadata": {},
   "source": [
    "## Anido select de tabla con vista"
   ]
  },
  {
   "cell_type": "markdown",
   "metadata": {},
   "source": [
    "* alpaca_30d es una vista con los ultimos 30 dias de los historicos\n",
    "* fmp es una tabla con una sola fila de cada ticker"
   ]
  },
  {
   "cell_type": "code",
   "execution_count": 93,
   "metadata": {},
   "outputs": [
    {
     "name": "stdout",
     "output_type": "stream",
     "text": [
      "Wall time: 768 ms\n"
     ]
    },
    {
     "data": {
      "text/html": [
       "<div>\n",
       "<style scoped>\n",
       "    .dataframe tbody tr th:only-of-type {\n",
       "        vertical-align: middle;\n",
       "    }\n",
       "\n",
       "    .dataframe tbody tr th {\n",
       "        vertical-align: top;\n",
       "    }\n",
       "\n",
       "    .dataframe thead th {\n",
       "        text-align: right;\n",
       "    }\n",
       "</style>\n",
       "<table border=\"1\" class=\"dataframe\">\n",
       "  <thead>\n",
       "    <tr style=\"text-align: right;\">\n",
       "      <th></th>\n",
       "      <th>index</th>\n",
       "      <th>Date</th>\n",
       "      <th>Open</th>\n",
       "      <th>...</th>\n",
       "      <th>Volume</th>\n",
       "      <th>Ticker</th>\n",
       "      <th>pctChange</th>\n",
       "    </tr>\n",
       "  </thead>\n",
       "  <tbody>\n",
       "    <tr>\n",
       "      <th>0</th>\n",
       "      <td>5432</td>\n",
       "      <td>2020-09-29 04:00:00</td>\n",
       "      <td>153.89</td>\n",
       "      <td>...</td>\n",
       "      <td>794986</td>\n",
       "      <td>AAP</td>\n",
       "      <td>-1.06</td>\n",
       "    </tr>\n",
       "    <tr>\n",
       "      <th>1</th>\n",
       "      <td>5433</td>\n",
       "      <td>2020-09-30 04:00:00</td>\n",
       "      <td>151.48</td>\n",
       "      <td>...</td>\n",
       "      <td>814183</td>\n",
       "      <td>AAP</td>\n",
       "      <td>1.13</td>\n",
       "    </tr>\n",
       "    <tr>\n",
       "      <th>2</th>\n",
       "      <td>5434</td>\n",
       "      <td>2020-10-01 04:00:00</td>\n",
       "      <td>153.56</td>\n",
       "      <td>...</td>\n",
       "      <td>938944</td>\n",
       "      <td>AAP</td>\n",
       "      <td>0.90</td>\n",
       "    </tr>\n",
       "    <tr>\n",
       "      <th>3</th>\n",
       "      <td>5435</td>\n",
       "      <td>2020-10-02 04:00:00</td>\n",
       "      <td>152.24</td>\n",
       "      <td>...</td>\n",
       "      <td>785520</td>\n",
       "      <td>AAP</td>\n",
       "      <td>0.47</td>\n",
       "    </tr>\n",
       "    <tr>\n",
       "      <th>4</th>\n",
       "      <td>5436</td>\n",
       "      <td>2020-10-05 04:00:00</td>\n",
       "      <td>155.74</td>\n",
       "      <td>...</td>\n",
       "      <td>951671</td>\n",
       "      <td>AAP</td>\n",
       "      <td>0.15</td>\n",
       "    </tr>\n",
       "    <tr>\n",
       "      <th>...</th>\n",
       "      <td>...</td>\n",
       "      <td>...</td>\n",
       "      <td>...</td>\n",
       "      <td>...</td>\n",
       "      <td>...</td>\n",
       "      <td>...</td>\n",
       "      <td>...</td>\n",
       "    </tr>\n",
       "    <tr>\n",
       "      <th>21446</th>\n",
       "      <td>6860</td>\n",
       "      <td>2020-10-22 04:00:00</td>\n",
       "      <td>30.11</td>\n",
       "      <td>...</td>\n",
       "      <td>159568</td>\n",
       "      <td>ZUMZ</td>\n",
       "      <td>3.00</td>\n",
       "    </tr>\n",
       "    <tr>\n",
       "      <th>21447</th>\n",
       "      <td>6861</td>\n",
       "      <td>2020-10-23 04:00:00</td>\n",
       "      <td>31.24</td>\n",
       "      <td>...</td>\n",
       "      <td>147693</td>\n",
       "      <td>ZUMZ</td>\n",
       "      <td>0.61</td>\n",
       "    </tr>\n",
       "    <tr>\n",
       "      <th>21448</th>\n",
       "      <td>6862</td>\n",
       "      <td>2020-10-26 04:00:00</td>\n",
       "      <td>30.86</td>\n",
       "      <td>...</td>\n",
       "      <td>141009</td>\n",
       "      <td>ZUMZ</td>\n",
       "      <td>-1.32</td>\n",
       "    </tr>\n",
       "    <tr>\n",
       "      <th>21449</th>\n",
       "      <td>6863</td>\n",
       "      <td>2020-10-27 04:00:00</td>\n",
       "      <td>30.51</td>\n",
       "      <td>...</td>\n",
       "      <td>95465</td>\n",
       "      <td>ZUMZ</td>\n",
       "      <td>-2.15</td>\n",
       "    </tr>\n",
       "    <tr>\n",
       "      <th>21450</th>\n",
       "      <td>6864</td>\n",
       "      <td>2020-10-28 04:00:00</td>\n",
       "      <td>29.26</td>\n",
       "      <td>...</td>\n",
       "      <td>113380</td>\n",
       "      <td>ZUMZ</td>\n",
       "      <td>-3.53</td>\n",
       "    </tr>\n",
       "  </tbody>\n",
       "</table>\n",
       "<p>21451 rows × 9 columns</p>\n",
       "</div>"
      ],
      "text/plain": [
       "       index                 Date    Open  ...  Volume  Ticker  pctChange\n",
       "0       5432  2020-09-29 04:00:00  153.89  ...  794986     AAP      -1.06\n",
       "1       5433  2020-09-30 04:00:00  151.48  ...  814183     AAP       1.13\n",
       "2       5434  2020-10-01 04:00:00  153.56  ...  938944     AAP       0.90\n",
       "3       5435  2020-10-02 04:00:00  152.24  ...  785520     AAP       0.47\n",
       "4       5436  2020-10-05 04:00:00  155.74  ...  951671     AAP       0.15\n",
       "...      ...                  ...     ...  ...     ...     ...        ...\n",
       "21446   6860  2020-10-22 04:00:00   30.11  ...  159568    ZUMZ       3.00\n",
       "21447   6861  2020-10-23 04:00:00   31.24  ...  147693    ZUMZ       0.61\n",
       "21448   6862  2020-10-26 04:00:00   30.86  ...  141009    ZUMZ      -1.32\n",
       "21449   6863  2020-10-27 04:00:00   30.51  ...   95465    ZUMZ      -2.15\n",
       "21450   6864  2020-10-28 04:00:00   29.26  ...  113380    ZUMZ      -3.53\n",
       "\n",
       "[21451 rows x 9 columns]"
      ]
     },
     "execution_count": 93,
     "metadata": {},
     "output_type": "execute_result"
    }
   ],
   "source": [
    "%%time\n",
    "q = 'SELECT * FROM alpaca_30d WHERE Ticker IN (SELECT symbol FROM fmp WHERE pe < 30 AND pe >10)'\n",
    "pd.read_sql(q, conn)"
   ]
  },
  {
   "cell_type": "markdown",
   "metadata": {
    "tags": [
     "tarea"
    ]
   },
   "source": [
    "# Para ir trabajando"
   ]
  },
  {
   "cell_type": "markdown",
   "metadata": {},
   "source": [
    "* Finviz: wrapper de datos basicos \n",
    "\n",
    "\n",
    "* Otros paneles\n",
    "    * Precios en vivo paneles de FMP\n",
    "\n",
    "\n",
    "* Historicos\n",
    "    * Equity historico con batch requests ALPACA\n",
    "    * Equity con yahoo\n",
    "    * Buscar alternativas como investing\n",
    "\n",
    "\n",
    "* Intradiarios    \n",
    "    * Intradiario IEX / Alpaca\n",
    "\n",
    "\n",
    "* Cadenas de Opciones\n",
    "    * Ameritrade precios/puntas/Griegas\n",
    "    * Yahoo"
   ]
  },
  {
   "cell_type": "code",
   "execution_count": null,
   "metadata": {},
   "outputs": [],
   "source": []
  },
  {
   "cell_type": "code",
   "execution_count": null,
   "metadata": {},
   "outputs": [],
   "source": []
  }
 ],
 "metadata": {
  "kernelspec": {
   "display_name": "Python 3",
   "language": "python",
   "name": "python3"
  },
  "language_info": {
   "codemirror_mode": {
    "name": "ipython",
    "version": 3
   },
   "file_extension": ".py",
   "mimetype": "text/x-python",
   "name": "python",
   "nbconvert_exporter": "python",
   "pygments_lexer": "ipython3",
   "version": "3.8.5"
  },
  "toc": {
   "base_numbering": 1,
   "nav_menu": {},
   "number_sections": true,
   "sideBar": true,
   "skip_h1_title": false,
   "title_cell": "Table of Contents",
   "title_sidebar": "Contents",
   "toc_cell": false,
   "toc_position": {},
   "toc_section_display": true,
   "toc_window_display": true
  },
  "toc-autonumbering": true,
  "toc-showcode": false,
  "toc-showmarkdowntxt": true,
  "toc-showtags": true
 },
 "nbformat": 4,
 "nbformat_minor": 4
}
